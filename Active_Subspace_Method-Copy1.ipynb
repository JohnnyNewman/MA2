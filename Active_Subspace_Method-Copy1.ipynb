{
 "cells": [
  {
   "cell_type": "code",
   "execution_count": 1,
   "metadata": {},
   "outputs": [],
   "source": [
    "import os"
   ]
  },
  {
   "cell_type": "code",
   "execution_count": 2,
   "metadata": {},
   "outputs": [
    {
     "name": "stdout",
     "output_type": "stream",
     "text": [
      "('C:\\\\Users\\\\Nils\\\\Workspace\\\\MA_git', 'MA')\n"
     ]
    }
   ],
   "source": [
    "# check if already in right local directory\n",
    "# otherwise clone the repo from github and change directory\n",
    "\n",
    "cwd = os.getcwd()\n",
    "print(os.path.split(cwd))\n",
    "\n",
    "if not os.path.split(cwd)[1] == \"MA\":\n",
    "    !git clone https://www.github.com/JohnnyNewman/MA.git\n",
    "    os.chdir('MA')"
   ]
  },
  {
   "cell_type": "code",
   "execution_count": 2,
   "metadata": {},
   "outputs": [],
   "source": [
    "import numpy as np\n",
    "import pandas as pd\n",
    "import matplotlib.pyplot as plt\n",
    "from scipy import linalg\n",
    "from sklearn.decomposition import PCA\n",
    "import pickle"
   ]
  },
  {
   "cell_type": "code",
   "execution_count": null,
   "metadata": {},
   "outputs": [],
   "source": []
  },
  {
   "cell_type": "code",
   "execution_count": null,
   "metadata": {},
   "outputs": [],
   "source": []
  },
  {
   "cell_type": "markdown",
   "metadata": {},
   "source": [
    "### First, load the data:"
   ]
  },
  {
   "cell_type": "code",
   "execution_count": 4,
   "metadata": {},
   "outputs": [],
   "source": [
    "dv_list = pickle.load(open(\"save/T006/dv_list.p\", \"rb\"))\n",
    "df_result = pd.read_excel(\"save/T006/df_result.xlsx\")\n",
    "df_cd_grad = pd.read_excel(\"save/T006/df_cd_grad.xlsx\")\n"
   ]
  },
  {
   "cell_type": "code",
   "execution_count": null,
   "metadata": {},
   "outputs": [],
   "source": [
    "dv_list = pickle.load(open(\"save/T006/dv_list.p\", \"rb\"))\n",
    "df_result = pd.read_excel(\"save/T006/df_result.xlsx\")\n",
    "df_cd_grad = pd.read_excel(\"save/T006/df_cd_grad.xlsx\") "
   ]
  },
  {
   "cell_type": "code",
   "execution_count": 5,
   "metadata": {},
   "outputs": [
    {
     "data": {
      "text/html": [
       "<div>\n",
       "<style scoped>\n",
       "    .dataframe tbody tr th:only-of-type {\n",
       "        vertical-align: middle;\n",
       "    }\n",
       "\n",
       "    .dataframe tbody tr th {\n",
       "        vertical-align: top;\n",
       "    }\n",
       "\n",
       "    .dataframe thead th {\n",
       "        text-align: right;\n",
       "    }\n",
       "</style>\n",
       "<table border=\"1\" class=\"dataframe\">\n",
       "  <thead>\n",
       "    <tr style=\"text-align: right;\">\n",
       "      <th></th>\n",
       "      <th>Unnamed: 0</th>\n",
       "      <th>DIR</th>\n",
       "      <th>c_L</th>\n",
       "      <th>c_D</th>\n",
       "      <th>rms_rho</th>\n",
       "      <th>rms_nu</th>\n",
       "      <th>AOA</th>\n",
       "    </tr>\n",
       "  </thead>\n",
       "  <tbody>\n",
       "    <tr>\n",
       "      <th>0</th>\n",
       "      <td>0</td>\n",
       "      <td>T006 DSN_000</td>\n",
       "      <td>0.712967</td>\n",
       "      <td>0.060632</td>\n",
       "      <td>-4.977940</td>\n",
       "      <td>-5.366283</td>\n",
       "      <td>5.622905</td>\n",
       "    </tr>\n",
       "    <tr>\n",
       "      <th>1</th>\n",
       "      <td>1</td>\n",
       "      <td>T006 DSN_001</td>\n",
       "      <td>0.724184</td>\n",
       "      <td>0.018179</td>\n",
       "      <td>-6.424451</td>\n",
       "      <td>-8.215098</td>\n",
       "      <td>3.673885</td>\n",
       "    </tr>\n",
       "    <tr>\n",
       "      <th>2</th>\n",
       "      <td>2</td>\n",
       "      <td>T006 DSN_002</td>\n",
       "      <td>0.724241</td>\n",
       "      <td>0.012951</td>\n",
       "      <td>-6.452422</td>\n",
       "      <td>-8.123596</td>\n",
       "      <td>1.245573</td>\n",
       "    </tr>\n",
       "    <tr>\n",
       "      <th>3</th>\n",
       "      <td>3</td>\n",
       "      <td>T006 DSN_003</td>\n",
       "      <td>0.724184</td>\n",
       "      <td>0.018523</td>\n",
       "      <td>-6.395492</td>\n",
       "      <td>-8.374623</td>\n",
       "      <td>2.102441</td>\n",
       "    </tr>\n",
       "    <tr>\n",
       "      <th>4</th>\n",
       "      <td>4</td>\n",
       "      <td>T006 DSN_004</td>\n",
       "      <td>0.724207</td>\n",
       "      <td>0.013087</td>\n",
       "      <td>-6.535674</td>\n",
       "      <td>-8.658059</td>\n",
       "      <td>2.780464</td>\n",
       "    </tr>\n",
       "    <tr>\n",
       "      <th>...</th>\n",
       "      <td>...</td>\n",
       "      <td>...</td>\n",
       "      <td>...</td>\n",
       "      <td>...</td>\n",
       "      <td>...</td>\n",
       "      <td>...</td>\n",
       "      <td>...</td>\n",
       "    </tr>\n",
       "    <tr>\n",
       "      <th>995</th>\n",
       "      <td>995</td>\n",
       "      <td>T006 DSN_995</td>\n",
       "      <td>0.723134</td>\n",
       "      <td>0.030137</td>\n",
       "      <td>-6.175512</td>\n",
       "      <td>-6.857003</td>\n",
       "      <td>2.950256</td>\n",
       "    </tr>\n",
       "    <tr>\n",
       "      <th>996</th>\n",
       "      <td>996</td>\n",
       "      <td>T006 DSN_996</td>\n",
       "      <td>0.724201</td>\n",
       "      <td>0.018668</td>\n",
       "      <td>-6.426329</td>\n",
       "      <td>-8.284552</td>\n",
       "      <td>2.422116</td>\n",
       "    </tr>\n",
       "    <tr>\n",
       "      <th>997</th>\n",
       "      <td>997</td>\n",
       "      <td>T006 DSN_997</td>\n",
       "      <td>0.724063</td>\n",
       "      <td>0.027954</td>\n",
       "      <td>-6.543067</td>\n",
       "      <td>-7.889432</td>\n",
       "      <td>2.725608</td>\n",
       "    </tr>\n",
       "    <tr>\n",
       "      <th>998</th>\n",
       "      <td>998</td>\n",
       "      <td>T006 DSN_998</td>\n",
       "      <td>0.724212</td>\n",
       "      <td>0.022010</td>\n",
       "      <td>-6.407270</td>\n",
       "      <td>-8.054449</td>\n",
       "      <td>2.908295</td>\n",
       "    </tr>\n",
       "    <tr>\n",
       "      <th>999</th>\n",
       "      <td>999</td>\n",
       "      <td>T006 DSN_999</td>\n",
       "      <td>0.724164</td>\n",
       "      <td>0.014425</td>\n",
       "      <td>-6.388792</td>\n",
       "      <td>-8.610080</td>\n",
       "      <td>1.884998</td>\n",
       "    </tr>\n",
       "  </tbody>\n",
       "</table>\n",
       "<p>1000 rows × 7 columns</p>\n",
       "</div>"
      ],
      "text/plain": [
       "     Unnamed: 0           DIR       c_L       c_D   rms_rho    rms_nu  \\\n",
       "0             0  T006 DSN_000  0.712967  0.060632 -4.977940 -5.366283   \n",
       "1             1  T006 DSN_001  0.724184  0.018179 -6.424451 -8.215098   \n",
       "2             2  T006 DSN_002  0.724241  0.012951 -6.452422 -8.123596   \n",
       "3             3  T006 DSN_003  0.724184  0.018523 -6.395492 -8.374623   \n",
       "4             4  T006 DSN_004  0.724207  0.013087 -6.535674 -8.658059   \n",
       "..          ...           ...       ...       ...       ...       ...   \n",
       "995         995  T006 DSN_995  0.723134  0.030137 -6.175512 -6.857003   \n",
       "996         996  T006 DSN_996  0.724201  0.018668 -6.426329 -8.284552   \n",
       "997         997  T006 DSN_997  0.724063  0.027954 -6.543067 -7.889432   \n",
       "998         998  T006 DSN_998  0.724212  0.022010 -6.407270 -8.054449   \n",
       "999         999  T006 DSN_999  0.724164  0.014425 -6.388792 -8.610080   \n",
       "\n",
       "          AOA  \n",
       "0    5.622905  \n",
       "1    3.673885  \n",
       "2    1.245573  \n",
       "3    2.102441  \n",
       "4    2.780464  \n",
       "..        ...  \n",
       "995  2.950256  \n",
       "996  2.422116  \n",
       "997  2.725608  \n",
       "998  2.908295  \n",
       "999  1.884998  \n",
       "\n",
       "[1000 rows x 7 columns]"
      ]
     },
     "execution_count": 5,
     "metadata": {},
     "output_type": "execute_result"
    }
   ],
   "source": [
    "df_result #, df_result.shape"
   ]
  },
  {
   "cell_type": "code",
   "execution_count": 6,
   "metadata": {},
   "outputs": [],
   "source": [
    "aoa = df_result[\"AOA\"]"
   ]
  },
  {
   "cell_type": "code",
   "execution_count": 10,
   "metadata": {},
   "outputs": [],
   "source": [
    "N = df_result.shape[0]"
   ]
  },
  {
   "cell_type": "code",
   "execution_count": 7,
   "metadata": {},
   "outputs": [
    {
     "data": {
      "text/html": [
       "<div>\n",
       "<style scoped>\n",
       "    .dataframe tbody tr th:only-of-type {\n",
       "        vertical-align: middle;\n",
       "    }\n",
       "\n",
       "    .dataframe tbody tr th {\n",
       "        vertical-align: top;\n",
       "    }\n",
       "\n",
       "    .dataframe thead th {\n",
       "        text-align: right;\n",
       "    }\n",
       "</style>\n",
       "<table border=\"1\" class=\"dataframe\">\n",
       "  <thead>\n",
       "    <tr style=\"text-align: right;\">\n",
       "      <th></th>\n",
       "      <th>Unnamed: 0</th>\n",
       "      <th>VAR</th>\n",
       "      <th>CD_GRAD</th>\n",
       "      <th>STEP</th>\n",
       "      <th>DIR</th>\n",
       "    </tr>\n",
       "  </thead>\n",
       "  <tbody>\n",
       "    <tr>\n",
       "      <th>0</th>\n",
       "      <td>0</td>\n",
       "      <td>0</td>\n",
       "      <td>0.761449</td>\n",
       "      <td>0.001</td>\n",
       "      <td>T006 DSN_000</td>\n",
       "    </tr>\n",
       "    <tr>\n",
       "      <th>1</th>\n",
       "      <td>1</td>\n",
       "      <td>1</td>\n",
       "      <td>0.753202</td>\n",
       "      <td>0.001</td>\n",
       "      <td>T006 DSN_000</td>\n",
       "    </tr>\n",
       "    <tr>\n",
       "      <th>2</th>\n",
       "      <td>2</td>\n",
       "      <td>2</td>\n",
       "      <td>0.645545</td>\n",
       "      <td>0.001</td>\n",
       "      <td>T006 DSN_000</td>\n",
       "    </tr>\n",
       "    <tr>\n",
       "      <th>3</th>\n",
       "      <td>3</td>\n",
       "      <td>3</td>\n",
       "      <td>0.502804</td>\n",
       "      <td>0.001</td>\n",
       "      <td>T006 DSN_000</td>\n",
       "    </tr>\n",
       "    <tr>\n",
       "      <th>4</th>\n",
       "      <td>4</td>\n",
       "      <td>4</td>\n",
       "      <td>0.356495</td>\n",
       "      <td>0.001</td>\n",
       "      <td>T006 DSN_000</td>\n",
       "    </tr>\n",
       "    <tr>\n",
       "      <th>...</th>\n",
       "      <td>...</td>\n",
       "      <td>...</td>\n",
       "      <td>...</td>\n",
       "      <td>...</td>\n",
       "      <td>...</td>\n",
       "    </tr>\n",
       "    <tr>\n",
       "      <th>37995</th>\n",
       "      <td>33</td>\n",
       "      <td>33</td>\n",
       "      <td>-0.448886</td>\n",
       "      <td>0.001</td>\n",
       "      <td>T006 DSN_999</td>\n",
       "    </tr>\n",
       "    <tr>\n",
       "      <th>37996</th>\n",
       "      <td>34</td>\n",
       "      <td>34</td>\n",
       "      <td>-0.264682</td>\n",
       "      <td>0.001</td>\n",
       "      <td>T006 DSN_999</td>\n",
       "    </tr>\n",
       "    <tr>\n",
       "      <th>37997</th>\n",
       "      <td>35</td>\n",
       "      <td>35</td>\n",
       "      <td>-0.084116</td>\n",
       "      <td>0.001</td>\n",
       "      <td>T006 DSN_999</td>\n",
       "    </tr>\n",
       "    <tr>\n",
       "      <th>37998</th>\n",
       "      <td>36</td>\n",
       "      <td>36</td>\n",
       "      <td>0.204847</td>\n",
       "      <td>0.001</td>\n",
       "      <td>T006 DSN_999</td>\n",
       "    </tr>\n",
       "    <tr>\n",
       "      <th>37999</th>\n",
       "      <td>37</td>\n",
       "      <td>37</td>\n",
       "      <td>0.806494</td>\n",
       "      <td>0.001</td>\n",
       "      <td>T006 DSN_999</td>\n",
       "    </tr>\n",
       "  </tbody>\n",
       "</table>\n",
       "<p>38000 rows × 5 columns</p>\n",
       "</div>"
      ],
      "text/plain": [
       "       Unnamed: 0  VAR   CD_GRAD   STEP           DIR\n",
       "0               0    0  0.761449  0.001  T006 DSN_000\n",
       "1               1    1  0.753202  0.001  T006 DSN_000\n",
       "2               2    2  0.645545  0.001  T006 DSN_000\n",
       "3               3    3  0.502804  0.001  T006 DSN_000\n",
       "4               4    4  0.356495  0.001  T006 DSN_000\n",
       "...           ...  ...       ...    ...           ...\n",
       "37995          33   33 -0.448886  0.001  T006 DSN_999\n",
       "37996          34   34 -0.264682  0.001  T006 DSN_999\n",
       "37997          35   35 -0.084116  0.001  T006 DSN_999\n",
       "37998          36   36  0.204847  0.001  T006 DSN_999\n",
       "37999          37   37  0.806494  0.001  T006 DSN_999\n",
       "\n",
       "[38000 rows x 5 columns]"
      ]
     },
     "execution_count": 7,
     "metadata": {},
     "output_type": "execute_result"
    }
   ],
   "source": [
    "df_cd_grad"
   ]
  },
  {
   "cell_type": "code",
   "execution_count": null,
   "metadata": {},
   "outputs": [],
   "source": []
  },
  {
   "cell_type": "markdown",
   "metadata": {},
   "source": [
    "### Then the non-converged results (rms_rho < -6) are removed from the dataset:"
   ]
  },
  {
   "cell_type": "code",
   "execution_count": 8,
   "metadata": {},
   "outputs": [
    {
     "data": {
      "text/plain": [
       "<matplotlib.collections.LineCollection at 0x257e01999a0>"
      ]
     },
     "execution_count": 8,
     "metadata": {},
     "output_type": "execute_result"
    },
    {
     "data": {
      "image/png": "[encoded data removed]",
      "text/plain": [
       "<Figure size 432x288 with 1 Axes>"
      ]
     },
     "metadata": {
      "needs_background": "light"
     },
     "output_type": "display_data"
    }
   ],
   "source": [
    "plt.plot(df_result[\"rms_nu\"], df_result[\"c_D\"], \"o\", label=\"nu\")\n",
    "plt.plot(df_result[\"rms_rho\"], df_result[\"c_D\"], \"o\")\n",
    "plt.vlines([-6], 0.01, 0.1, ls=\"--\")"
   ]
  },
  {
   "cell_type": "code",
   "execution_count": 40,
   "metadata": {},
   "outputs": [],
   "source": [
    "sim_converged = df_result[\"rms_rho\"] < -6\n",
    "\n",
    "dv_mat = np.asarray(dv_list)[sim_converged]\n",
    "c_D = df_result[\"c_D\"].values[sim_converged]\n",
    "d_CD = np.resize(df_cd_grad[\"CD_GRAD\"].values, ((N, 38)))[sim_converged]\n",
    "aoa = aoa[sim_converged]"
   ]
  },
  {
   "cell_type": "code",
   "execution_count": 12,
   "metadata": {},
   "outputs": [
    {
     "data": {
      "text/plain": [
       "array([[ 0.621198 ,  0.638195 ,  0.582739 , ..., -0.0946435,  0.303852 ,\n",
       "        -0.0358609],\n",
       "       [ 1.02982  ,  0.972347 ,  0.787893 , ..., -0.0362501, -0.0067322,\n",
       "        -0.0577502],\n",
       "       [ 1.17377  ,  1.13068  ,  0.952909 , ..., -0.0334564,  0.157533 ,\n",
       "         0.0435074],\n",
       "       ...,\n",
       "       [ 1.18327  ,  1.17908  ,  1.03277  , ..., -0.210642 ,  0.105212 ,\n",
       "         0.834902 ],\n",
       "       [ 0.951534 ,  0.914583 ,  0.754744 , ..., -0.293871 , -0.182783 ,\n",
       "        -0.0751327],\n",
       "       [ 1.1175   ,  1.07552  ,  0.900379 , ..., -0.0841159,  0.204847 ,\n",
       "         0.806494 ]])"
      ]
     },
     "execution_count": 12,
     "metadata": {},
     "output_type": "execute_result"
    }
   ],
   "source": [
    "d_CD"
   ]
  },
  {
   "cell_type": "code",
   "execution_count": 11,
   "metadata": {},
   "outputs": [
    {
     "data": {
      "text/plain": [
       "924"
      ]
     },
     "execution_count": 11,
     "metadata": {},
     "output_type": "execute_result"
    }
   ],
   "source": [
    "d_CD.shape[0]"
   ]
  },
  {
   "cell_type": "markdown",
   "metadata": {},
   "source": [
    "### Calculation of the covariance matrix and eigenvalue decomposition:"
   ]
  },
  {
   "cell_type": "code",
   "execution_count": 13,
   "metadata": {},
   "outputs": [],
   "source": [
    "C = np.zeros((38,38))\n",
    "for i in range(d_CD.shape[0]):\n",
    "    C += np.outer(d_CD[i], d_CD[i])\n",
    "C = C / d_CD.shape[0]"
   ]
  },
  {
   "cell_type": "code",
   "execution_count": 14,
   "metadata": {},
   "outputs": [
    {
     "data": {
      "text/plain": [
       "(array([[ 0.38588696,  0.39644546,  0.3619963 , ..., -0.05879235,\n",
       "          0.18875225, -0.02227672],\n",
       "        [ 0.39644546,  0.40729286,  0.37190112, ..., -0.06040101,\n",
       "          0.19391683, -0.02288625],\n",
       "        [ 0.3619963 ,  0.37190112,  0.33958474, ..., -0.05515246,\n",
       "          0.17706641, -0.02089755],\n",
       "        ...,\n",
       "        [-0.05879235, -0.06040101, -0.05515246, ...,  0.00895739,\n",
       "         -0.02875762,  0.003394  ],\n",
       "        [ 0.18875225,  0.19391683,  0.17706641, ..., -0.02875762,\n",
       "          0.09232604, -0.01089641],\n",
       "        [-0.02227672, -0.02288625, -0.02089755, ...,  0.003394  ,\n",
       "         -0.01089641,  0.001286  ]]),\n",
       " array([ 0.38588696,  0.39644546,  0.3619963 ,  0.31247129,  0.26217227,\n",
       "         0.2192568 ,  0.18811925,  0.17037225,  0.16553125,  0.17172398,\n",
       "         0.18643208,  0.20713909,  0.23156522,  0.25692687,  0.27682074,\n",
       "         0.27162628,  0.17839937, -0.20597994, -1.41561706,  4.11382785,\n",
       "         3.66693801,  2.87701642,  2.01840897,  1.20559002,  0.49782497,\n",
       "        -0.074586  , -0.50012154, -0.78073407, -0.92890222, -0.96641015,\n",
       "        -0.92346052, -0.83452361, -0.72550336, -0.59130036, -0.38224487,\n",
       "        -0.05879235,  0.18875225, -0.02227672]))"
      ]
     },
     "execution_count": 14,
     "metadata": {},
     "output_type": "execute_result"
    }
   ],
   "source": [
    "i = 0\n",
    "np.outer(d_CD[i], d_CD[i]), d_CD[i]*d_CD[0,i]"
   ]
  },
  {
   "cell_type": "code",
   "execution_count": 15,
   "metadata": {},
   "outputs": [
    {
     "data": {
      "text/plain": [
       "(array([[0.97315565, 0.9517748 , 0.8087411 ],\n",
       "        [0.9517748 , 0.93086371, 0.79097255]]),\n",
       " 0.9731556467110306,\n",
       " 0.9517748023024036,\n",
       " 0.7909725452580179)"
      ]
     },
     "execution_count": 15,
     "metadata": {},
     "output_type": "execute_result"
    }
   ],
   "source": [
    "### Bishop 2006 PRML p. 83\n",
    "d_CD_mean = d_CD.mean(axis=0)\n",
    "np.outer(d_CD_mean, d_CD_mean)[:2,:3], d_CD_mean[0]*d_CD_mean[0], d_CD_mean[0]*d_CD_mean[1], d_CD_mean[1]*d_CD_mean[2]"
   ]
  },
  {
   "cell_type": "code",
   "execution_count": 16,
   "metadata": {},
   "outputs": [
    {
     "data": {
      "text/plain": [
       "array([ 9.86486516e-01,  9.64812784e-01,  8.19819719e-01,  6.34639355e-01,\n",
       "        4.49469746e-01,  2.87190260e-01,  1.59836398e-01,  7.13345754e-02,\n",
       "        1.95017368e-02, -1.90527935e-03, -1.04513224e-03,  1.39191743e-02,\n",
       "        3.59689089e-02,  5.89989018e-02,  7.53746153e-02,  6.92051951e-02,\n",
       "       -1.97764085e-03, -2.64318326e-01, -1.12017764e+00,  3.53801868e+00,\n",
       "        3.30605245e+00,  2.76209467e+00,  2.13110599e+00,  1.50945220e+00,\n",
       "        9.47519637e-01,  4.70238986e-01,  8.60121402e-02, -2.06886347e-01,\n",
       "       -4.14592598e-01, -5.43134137e-01, -5.96537147e-01, -5.78759945e-01,\n",
       "       -4.98787211e-01, -3.74542431e-01, -2.27646371e-01, -6.51526715e-02,\n",
       "        1.32341719e-01,  3.76482275e-01])"
      ]
     },
     "execution_count": 16,
     "metadata": {},
     "output_type": "execute_result"
    }
   ],
   "source": [
    "d_CD_mean"
   ]
  },
  {
   "cell_type": "code",
   "execution_count": 17,
   "metadata": {},
   "outputs": [],
   "source": [
    "#C = C - d_CD_mean"
   ]
  },
  {
   "cell_type": "code",
   "execution_count": 18,
   "metadata": {},
   "outputs": [
    {
     "data": {
      "text/plain": [
       "array([[0., 0., 0., ..., 0., 0., 0.],\n",
       "       [0., 0., 0., ..., 0., 0., 0.],\n",
       "       [0., 0., 0., ..., 0., 0., 0.],\n",
       "       ...,\n",
       "       [0., 0., 0., ..., 0., 0., 0.],\n",
       "       [0., 0., 0., ..., 0., 0., 0.],\n",
       "       [0., 0., 0., ..., 0., 0., 0.]])"
      ]
     },
     "execution_count": 18,
     "metadata": {},
     "output_type": "execute_result"
    }
   ],
   "source": [
    "d_CD[i].reshape(1, -1).T @ d_CD[i].reshape(1, -1) - np.outer(d_CD[i], d_CD[i])"
   ]
  },
  {
   "cell_type": "code",
   "execution_count": 19,
   "metadata": {},
   "outputs": [],
   "source": [
    "C = np.dot(d_CD.T, d_CD) / d_CD.shape[0]"
   ]
  },
  {
   "cell_type": "code",
   "execution_count": 20,
   "metadata": {},
   "outputs": [],
   "source": [
    "n_samples = d_CD.shape[0]"
   ]
  },
  {
   "cell_type": "code",
   "execution_count": 21,
   "metadata": {},
   "outputs": [
    {
     "data": {
      "text/plain": [
       "(38, 38)"
      ]
     },
     "execution_count": 21,
     "metadata": {},
     "output_type": "execute_result"
    }
   ],
   "source": [
    "C.shape"
   ]
  },
  {
   "cell_type": "code",
   "execution_count": 22,
   "metadata": {},
   "outputs": [],
   "source": [
    "#covariance.shape"
   ]
  },
  {
   "cell_type": "code",
   "execution_count": 23,
   "metadata": {},
   "outputs": [],
   "source": [
    "from scipy.linalg import svd"
   ]
  },
  {
   "cell_type": "code",
   "execution_count": 24,
   "metadata": {},
   "outputs": [],
   "source": [
    "U, S, Vt = linalg.svd(C)"
   ]
  },
  {
   "cell_type": "code",
   "execution_count": 25,
   "metadata": {},
   "outputs": [
    {
     "data": {
      "text/plain": [
       "array([-0.09546604, -0.09707783, -0.0865084 , -0.07157038, -0.05614313,\n",
       "       -0.04251905, -0.03197743, -0.0250159 , -0.02152232, -0.02096126,\n",
       "       -0.02257665, -0.02556765, -0.02916024, -0.03245446, -0.03381973,\n",
       "       -0.02921547, -0.00732753,  0.06633861,  0.30929228, -0.50750414,\n",
       "       -0.48139942, -0.40695831, -0.31799235, -0.22926729, -0.14861798,\n",
       "       -0.08006787, -0.0252182 ,  0.01581324,  0.04366366,  0.05927555,\n",
       "        0.06385514,  0.05924511,  0.0483919 ,  0.03515412,  0.02261125,\n",
       "        0.01031481, -0.00629644, -0.03056968])"
      ]
     },
     "execution_count": 25,
     "metadata": {},
     "output_type": "execute_result"
    }
   ],
   "source": [
    "U[:,0]"
   ]
  },
  {
   "cell_type": "code",
   "execution_count": 26,
   "metadata": {},
   "outputs": [
    {
     "data": {
      "text/plain": [
       "(38, 38)"
      ]
     },
     "execution_count": 26,
     "metadata": {},
     "output_type": "execute_result"
    }
   ],
   "source": [
    "U.shape"
   ]
  },
  {
   "cell_type": "code",
   "execution_count": 27,
   "metadata": {},
   "outputs": [
    {
     "data": {
      "text/plain": [
       "array([1., 1., 1.])"
      ]
     },
     "execution_count": 27,
     "metadata": {},
     "output_type": "execute_result"
    }
   ],
   "source": [
    "np.ones(3)"
   ]
  },
  {
   "cell_type": "code",
   "execution_count": 28,
   "metadata": {},
   "outputs": [
    {
     "ename": "NameError",
     "evalue": "name 'W' is not defined",
     "output_type": "error",
     "traceback": [
      "\u001b[1;31m---------------------------------------------------------------------------\u001b[0m",
      "\u001b[1;31mNameError\u001b[0m                                 Traceback (most recent call last)",
      "\u001b[1;32m<ipython-input-28-dadca1fd9b49>\u001b[0m in \u001b[0;36m<module>\u001b[1;34m\u001b[0m\n\u001b[1;32m----> 1\u001b[1;33m \u001b[0mW\u001b[0m\u001b[1;33m[\u001b[0m\u001b[1;33m:\u001b[0m\u001b[1;33m,\u001b[0m\u001b[1;36m0\u001b[0m\u001b[1;33m]\u001b[0m\u001b[1;33m\u001b[0m\u001b[1;33m\u001b[0m\u001b[0m\n\u001b[0m",
      "\u001b[1;31mNameError\u001b[0m: name 'W' is not defined"
     ]
    }
   ],
   "source": [
    "W[:,0]"
   ]
  },
  {
   "cell_type": "code",
   "execution_count": null,
   "metadata": {},
   "outputs": [],
   "source": [
    "### from sklearn PCA:\n",
    "### # Center data\n",
    "### self.mean_ = np.mean(X, axis=0)\n",
    "### X -= self.mean_"
   ]
  },
  {
   "cell_type": "code",
   "execution_count": 29,
   "metadata": {},
   "outputs": [],
   "source": [
    "        \n",
    "explained_variance_ = (S ** 2) / (n_samples - 1)\n",
    "total_var = explained_variance_.sum()\n",
    "explained_variance_ratio_ = explained_variance_ / total_var\n",
    "singular_values_ = S.copy()  # Store the singular values."
   ]
  },
  {
   "cell_type": "code",
   "execution_count": 30,
   "metadata": {},
   "outputs": [
    {
     "data": {
      "text/plain": [
       "array([0.99086127, 0.99711461, 0.99973701, 0.99990894, 0.99997262,\n",
       "       0.99999132, 0.99999721, 0.99999915, 0.99999982, 0.99999998,\n",
       "       0.99999999, 1.        , 1.        , 1.        , 1.        ,\n",
       "       1.        , 1.        , 1.        , 1.        , 1.        ,\n",
       "       1.        , 1.        , 1.        , 1.        , 1.        ,\n",
       "       1.        , 1.        , 1.        , 1.        , 1.        ,\n",
       "       1.        , 1.        , 1.        , 1.        , 1.        ,\n",
       "       1.        , 1.        , 1.        ])"
      ]
     },
     "execution_count": 30,
     "metadata": {},
     "output_type": "execute_result"
    }
   ],
   "source": [
    "explained_variance_ratio_.cumsum()"
   ]
  },
  {
   "cell_type": "code",
   "execution_count": 31,
   "metadata": {},
   "outputs": [
    {
     "ename": "NameError",
     "evalue": "name 'l' is not defined",
     "output_type": "error",
     "traceback": [
      "\u001b[1;31m---------------------------------------------------------------------------\u001b[0m",
      "\u001b[1;31mNameError\u001b[0m                                 Traceback (most recent call last)",
      "\u001b[1;32m<ipython-input-31-9c01a8a8db73>\u001b[0m in \u001b[0;36m<module>\u001b[1;34m\u001b[0m\n\u001b[1;32m----> 1\u001b[1;33m \u001b[0mS\u001b[0m\u001b[1;33m,\u001b[0m \u001b[0ml\u001b[0m\u001b[1;33m\u001b[0m\u001b[1;33m\u001b[0m\u001b[0m\n\u001b[0m",
      "\u001b[1;31mNameError\u001b[0m: name 'l' is not defined"
     ]
    }
   ],
   "source": [
    "S, l"
   ]
  },
  {
   "cell_type": "code",
   "execution_count": null,
   "metadata": {},
   "outputs": [],
   "source": []
  },
  {
   "cell_type": "code",
   "execution_count": 32,
   "metadata": {},
   "outputs": [
    {
     "name": "stdout",
     "output_type": "stream",
     "text": [
      "[0.00107236 0.00107913 0.00108197 0.00108215 0.00108222 0.00108224\n",
      " 0.00108225 0.00108225 0.00108225 0.00108225 0.00108225 0.00108225\n",
      " 0.00108225 0.00108225 0.00108225 0.00108225 0.00108225 0.00108225\n",
      " 0.00108225 0.00108225 0.00108225 0.00108225 0.00108225 0.00108225\n",
      " 0.00108225 0.00108225 0.00108225 0.00108225 0.00108225 0.00108225\n",
      " 0.00108225 0.00108225 0.00108225 0.00108225 0.00108225 0.00108225\n",
      " 0.00108225 0.00108225]\n",
      "[1.07236068e-03 6.76769077e-06 2.83808617e-06 1.86079429e-07\n",
      " 6.89190396e-08 2.02343268e-08 6.37699219e-09 2.09559653e-09\n",
      " 7.28655055e-10 1.75127045e-10 1.09348670e-11 5.39756496e-12\n",
      " 3.19824316e-13 2.04754187e-13 2.86302690e-14 1.10189239e-14\n",
      " 1.46124742e-15 2.21495617e-16 5.29919949e-17 2.21237663e-18\n",
      " 1.43134545e-18 1.50548775e-20 9.70185811e-21 5.17106873e-23\n",
      " 3.21829916e-23 2.29820097e-25 7.41068073e-26 7.37037423e-28\n",
      " 9.75468779e-29 3.27448081e-30 1.30915859e-30 6.54592352e-31\n",
      " 3.49125181e-31 3.25562811e-32 4.79190942e-33 3.61354701e-34\n",
      " 5.34448154e-34 1.74852843e-33]\n"
     ]
    },
    {
     "name": "stderr",
     "output_type": "stream",
     "text": [
      "<ipython-input-32-79140abbbc24>:2: ComplexWarning: Casting complex values to real discards the imaginary part\n",
      "  l = l.astype(\"double\")\n"
     ]
    },
    {
     "data": {
      "text/plain": [
       "Text(0, 0.5, 'Cum. Fraction of Total EV')"
      ]
     },
     "execution_count": 32,
     "metadata": {},
     "output_type": "execute_result"
    },
    {
     "data": {
      "image/png": "[encoded data removed]",
      "text/plain": [
       "<Figure size 432x288 with 1 Axes>"
      ]
     },
     "metadata": {
      "needs_background": "light"
     },
     "output_type": "display_data"
    }
   ],
   "source": [
    "l, W = linalg.eig(C)\n",
    "l = l.astype(\"double\")\n",
    "\n",
    "#explained_variance_ = (S ** 2) / (n_samples - 1)\n",
    "#total_var = explained_variance_.sum()\n",
    "#explained_variance_ratio_ = explained_variance_ / total_var\n",
    "\n",
    "#print(l.cumsum() / l.sum())\n",
    "print(np.cumsum(l**2) / np.sum(l**2) / n_samples)\n",
    "print((l**2) / np.sum(l**2) / n_samples)\n",
    "\n",
    "plt.plot(range(1,39), l.cumsum() / l.sum(), \"-s\")\n",
    "plt.hlines([0.99], 0, 38, ls=\"--\")\n",
    "plt.gca().set_xlabel(\"Eigenmodes\")\n",
    "plt.gca().set_ylabel(\"Cum. Fraction of Total EV\")"
   ]
  },
  {
   "cell_type": "code",
   "execution_count": null,
   "metadata": {},
   "outputs": [],
   "source": [
    "l"
   ]
  },
  {
   "cell_type": "code",
   "execution_count": null,
   "metadata": {},
   "outputs": [],
   "source": [
    "W == W.T"
   ]
  },
  {
   "cell_type": "code",
   "execution_count": 61,
   "metadata": {},
   "outputs": [],
   "source": [
    "r = 5"
   ]
  },
  {
   "cell_type": "markdown",
   "metadata": {},
   "source": [
    "### Transformation of the design variables into the active subspace (dv_mat --> Y):"
   ]
  },
  {
   "cell_type": "code",
   "execution_count": 62,
   "metadata": {},
   "outputs": [
    {
     "data": {
      "text/plain": [
       "((924, 5), (924, 38))"
      ]
     },
     "execution_count": 62,
     "metadata": {},
     "output_type": "execute_result"
    }
   ],
   "source": [
    "Y = np.dot(W[:r,:], dv_mat.T).T\n",
    "Y.shape, dv_mat.shape"
   ]
  },
  {
   "cell_type": "code",
   "execution_count": 36,
   "metadata": {},
   "outputs": [
    {
     "ename": "ValueError",
     "evalue": "shapes (38,4) and (38,924) not aligned: 4 (dim 1) != 38 (dim 0)",
     "output_type": "error",
     "traceback": [
      "\u001b[1;31m---------------------------------------------------------------------------\u001b[0m",
      "\u001b[1;31mValueError\u001b[0m                                Traceback (most recent call last)",
      "\u001b[1;32m<ipython-input-36-3a5a960ef18f>\u001b[0m in \u001b[0;36m<module>\u001b[1;34m\u001b[0m\n\u001b[1;32m----> 1\u001b[1;33m \u001b[0mY\u001b[0m \u001b[1;33m=\u001b[0m \u001b[0mnp\u001b[0m\u001b[1;33m.\u001b[0m\u001b[0mdot\u001b[0m\u001b[1;33m(\u001b[0m\u001b[0mW\u001b[0m\u001b[1;33m[\u001b[0m\u001b[1;33m:\u001b[0m\u001b[1;33m,\u001b[0m\u001b[1;33m:\u001b[0m\u001b[0mr\u001b[0m\u001b[1;33m]\u001b[0m\u001b[1;33m,\u001b[0m \u001b[0mdv_mat\u001b[0m\u001b[1;33m.\u001b[0m\u001b[0mT\u001b[0m\u001b[1;33m)\u001b[0m\u001b[1;33m.\u001b[0m\u001b[0mT\u001b[0m\u001b[1;33m\u001b[0m\u001b[1;33m\u001b[0m\u001b[0m\n\u001b[0m\u001b[0;32m      2\u001b[0m \u001b[0mY\u001b[0m\u001b[1;33m.\u001b[0m\u001b[0mshape\u001b[0m\u001b[1;33m,\u001b[0m \u001b[0mdv_mat\u001b[0m\u001b[1;33m.\u001b[0m\u001b[0mshape\u001b[0m\u001b[1;33m\u001b[0m\u001b[1;33m\u001b[0m\u001b[0m\n",
      "\u001b[1;32m<__array_function__ internals>\u001b[0m in \u001b[0;36mdot\u001b[1;34m(*args, **kwargs)\u001b[0m\n",
      "\u001b[1;31mValueError\u001b[0m: shapes (38,4) and (38,924) not aligned: 4 (dim 1) != 38 (dim 0)"
     ]
    }
   ],
   "source": [
    "Y = np.dot(W[:,:r], dv_mat.T).T\n",
    "Y.shape, dv_mat.shape"
   ]
  },
  {
   "cell_type": "code",
   "execution_count": 71,
   "metadata": {},
   "outputs": [
    {
     "data": {
      "text/plain": [
       "((924, 5), (924, 38))"
      ]
     },
     "execution_count": 71,
     "metadata": {},
     "output_type": "execute_result"
    }
   ],
   "source": [
    "Y = dv_mat @ W[:,:r]\n",
    "Y.shape, dv_mat.shape"
   ]
  },
  {
   "cell_type": "code",
   "execution_count": null,
   "metadata": {},
   "outputs": [],
   "source": [
    "#Y = dv_mat @ pca.components_.T"
   ]
  },
  {
   "cell_type": "code",
   "execution_count": null,
   "metadata": {},
   "outputs": [],
   "source": [
    "np.dot(W[0,:], dv_mat.T).T"
   ]
  },
  {
   "cell_type": "code",
   "execution_count": null,
   "metadata": {},
   "outputs": [],
   "source": [
    "np.dot(dv_mat, W[0:10].T)"
   ]
  },
  {
   "cell_type": "code",
   "execution_count": null,
   "metadata": {},
   "outputs": [],
   "source": []
  },
  {
   "cell_type": "code",
   "execution_count": null,
   "metadata": {},
   "outputs": [],
   "source": []
  },
  {
   "cell_type": "code",
   "execution_count": 63,
   "metadata": {},
   "outputs": [
    {
     "data": {
      "image/png": "[encoded data removed]",
      "text/plain": [
       "<Figure size 1152x864 with 6 Axes>"
      ]
     },
     "metadata": {
      "needs_background": "light"
     },
     "output_type": "display_data"
    }
   ],
   "source": [
    "dimx = 2\n",
    "dimy = int(np.ceil(r / dimx))\n",
    "\n",
    "\n",
    "fig, axes = plt.subplots(dimy, dimx, figsize=(16, dimy*4))\n",
    "\n",
    "#plt.gca().invert_yaxis()\n",
    "\n",
    "for k, ax in enumerate(axes.flat):\n",
    "    if k < r:\n",
    "        ax.hist(Y[:,k])"
   ]
  },
  {
   "cell_type": "code",
   "execution_count": null,
   "metadata": {},
   "outputs": [],
   "source": [
    "#plt.hist(Y2[:,1])"
   ]
  },
  {
   "cell_type": "code",
   "execution_count": null,
   "metadata": {},
   "outputs": [],
   "source": [
    "#pca.singular_values_"
   ]
  },
  {
   "cell_type": "code",
   "execution_count": 41,
   "metadata": {},
   "outputs": [
    {
     "data": {
      "text/plain": [
       "(924,)"
      ]
     },
     "execution_count": 41,
     "metadata": {},
     "output_type": "execute_result"
    }
   ],
   "source": [
    "aoa.shape"
   ]
  },
  {
   "cell_type": "code",
   "execution_count": 72,
   "metadata": {},
   "outputs": [],
   "source": [
    "Y2 = np.hstack((Y, aoa.to_numpy().reshape(-1,1))) "
   ]
  },
  {
   "cell_type": "code",
   "execution_count": null,
   "metadata": {},
   "outputs": [],
   "source": []
  },
  {
   "cell_type": "markdown",
   "metadata": {},
   "source": [
    "### Split data into train and test sets:\n",
    " (Arguably, this should be done before the unsupervised learning part/PCA)"
   ]
  },
  {
   "cell_type": "code",
   "execution_count": 73,
   "metadata": {},
   "outputs": [],
   "source": [
    "from sklearn.model_selection import train_test_split"
   ]
  },
  {
   "cell_type": "code",
   "execution_count": 74,
   "metadata": {},
   "outputs": [],
   "source": [
    "x_train, x_test, y_train, y_test = train_test_split(Y2, c_D, test_size=0.2, random_state=3)\n"
   ]
  },
  {
   "cell_type": "code",
   "execution_count": null,
   "metadata": {},
   "outputs": [],
   "source": []
  },
  {
   "cell_type": "markdown",
   "metadata": {},
   "source": [
    "### Fit a GaussianProcessRegressor to the training data and evaluate for train and test data:"
   ]
  },
  {
   "cell_type": "code",
   "execution_count": 75,
   "metadata": {},
   "outputs": [],
   "source": [
    "from sklearn.gaussian_process import GaussianProcessRegressor\n",
    "from sklearn.gaussian_process.kernels import (RBF, Matern, RationalQuadratic,\n",
    "                                              ExpSineSquared, DotProduct,\n",
    "                                              ConstantKernel, WhiteKernel)\n"
   ]
  },
  {
   "cell_type": "code",
   "execution_count": null,
   "metadata": {},
   "outputs": [],
   "source": [
    "ls = length_scale = [1.e-05]*r\n",
    "ls"
   ]
  },
  {
   "cell_type": "code",
   "execution_count": 76,
   "metadata": {},
   "outputs": [
    {
     "data": {
      "text/plain": [
       "array([0.00951256, 0.1197423 , 0.18490773, 0.72213545, 1.18658332,\n",
       "       1.        ])"
      ]
     },
     "execution_count": 76,
     "metadata": {},
     "output_type": "execute_result"
    }
   ],
   "source": [
    "ls = 1. / l\n",
    "ls = ls[:r]\n",
    "ls = np.hstack((ls, 1.))\n",
    "ls"
   ]
  },
  {
   "cell_type": "markdown",
   "metadata": {},
   "source": [
    "#### Unfortunately, the GPR is very sensitive to the choice of kernel"
   ]
  },
  {
   "cell_type": "code",
   "execution_count": null,
   "metadata": {},
   "outputs": [],
   "source": [
    "kernel = Matern(length_scale=ls, nu=1.5) +  WhiteKernel(noise_level=1e-05, noise_level_bounds=(1e-09, 1e-04))"
   ]
  },
  {
   "cell_type": "code",
   "execution_count": null,
   "metadata": {},
   "outputs": [],
   "source": [
    "#kernel = RBF(length_scale=ls) + Matern(length_scale=ls, nu=1.5) #+ WhiteKernel() #+ RBF()"
   ]
  },
  {
   "cell_type": "code",
   "execution_count": null,
   "metadata": {},
   "outputs": [],
   "source": [
    "kernel = RBF() + WhiteKernel(noise_level=1e-05, noise_level_bounds=(1e-09, 1e-04))# + ConstantKernel()"
   ]
  },
  {
   "cell_type": "code",
   "execution_count": 77,
   "metadata": {},
   "outputs": [],
   "source": [
    "kernel = RBF(length_scale=ls, length_scale_bounds=(1e-09, 1e04)) + WhiteKernel(noise_level=1e-05, noise_level_bounds=(1e-09, 1e-01))# + ConstantKernel()"
   ]
  },
  {
   "cell_type": "code",
   "execution_count": 82,
   "metadata": {},
   "outputs": [
    {
     "name": "stdout",
     "output_type": "stream",
     "text": [
      "RBF(length_scale=[0.000616, 0.000386, 0.00065, 0.000585, 0.000571, 13.4]) + WhiteKernel(noise_level=2.33e-06)\n",
      "0.9470467589534564\n",
      "0.9109048454942066\n",
      "3582.126626934566\n"
     ]
    }
   ],
   "source": [
    "gp = GaussianProcessRegressor(kernel=kernel, n_restarts_optimizer=15, normalize_y=False)\n",
    "gp.fit(x_train, y_train)\n",
    "print(gp.kernel_)\n",
    "print(gp.score(x_train, y_train))\n",
    "print(gp.score(x_test, y_test))\n",
    "\n",
    "print(gp.log_marginal_likelihood())"
   ]
  },
  {
   "cell_type": "code",
   "execution_count": null,
   "metadata": {},
   "outputs": [],
   "source": []
  },
  {
   "cell_type": "markdown",
   "metadata": {},
   "source": [
    "### Plot the prediction result of the GPR for training and test data:"
   ]
  },
  {
   "cell_type": "code",
   "execution_count": 83,
   "metadata": {},
   "outputs": [
    {
     "data": {
      "text/plain": [
       "Text(0.5, 1.0, 'Validation Data')"
      ]
     },
     "execution_count": 83,
     "metadata": {},
     "output_type": "execute_result"
    },
    {
     "data": {
      "image/png": "[encoded data removed]",
      "text/plain": [
       "<Figure size 864x360 with 2 Axes>"
      ]
     },
     "metadata": {
      "needs_background": "light"
     },
     "output_type": "display_data"
    }
   ],
   "source": [
    "plt.figure(figsize=(12,5))\n",
    "\n",
    "plt.subplot(1, 2, 1)\n",
    "\n",
    "y_pred = gp.predict(x_train)\n",
    "#plt.plot(y_pred)\n",
    "plt.plot(y_train, y_pred, '+')\n",
    "plt.plot([0.01, 0.05], [0.01, 0.05], \"--\")\n",
    "\n",
    "#plt.gca().set_xlim([0.008, 0.042])\n",
    "#plt.gca().set_ylim([0.008, 0.042])\n",
    "ax1 = plt.gca()\n",
    "ax1.set_ylabel(\"Predicted $C_D$\")\n",
    "ax1.set_xlabel(\"True $C_D$\")\n",
    "ax1.set_title(\"Training Data\")\n",
    "\n",
    "plt.subplot(1, 2, 2)\n",
    "\n",
    "y_pred = gp.predict(x_test)\n",
    "#plt.plot(y_pred)\n",
    "plt.plot(y_test, y_pred, '+', label=\"asd\")\n",
    "plt.plot([0.01, 0.05], [0.01, 0.05], \"--\")\n",
    "#plt.plot(y_pred, 'o', c=\"r\")\n",
    "ax1.set_xlim(plt.gca().get_xlim())\n",
    "ax1.set_ylim(plt.gca().get_ylim())\n",
    "ax2 = plt.gca()\n",
    "ax2.set_ylabel(\"Predicted $C_D$\")\n",
    "ax2.set_xlabel(\"True $C_D$\")\n",
    "ax2.set_title(\"Validation Data\")"
   ]
  },
  {
   "cell_type": "code",
   "execution_count": null,
   "metadata": {},
   "outputs": [],
   "source": []
  }
 ],
 "metadata": {
  "kernelspec": {
   "display_name": "Python 3",
   "language": "python",
   "name": "python3"
  },
  "language_info": {
   "codemirror_mode": {
    "name": "ipython",
    "version": 3
   },
   "file_extension": ".py",
   "mimetype": "text/x-python",
   "name": "python",
   "nbconvert_exporter": "python",
   "pygments_lexer": "ipython3",
   "version": "3.8.5"
  }
 },
 "nbformat": 4,
 "nbformat_minor": 4
}
