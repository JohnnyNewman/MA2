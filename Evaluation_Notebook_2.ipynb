{
 "cells": [
  {
   "cell_type": "markdown",
   "metadata": {
    "colab_type": "text",
    "id": "view-in-github"
   },
   "source": [
    "<a href=\"https://colab.research.google.com/github/JohnnyNewman/MA/blob/main/Evaluation_Notebook_1.ipynb\" target=\"_parent\"><img src=\"https://colab.research.google.com/assets/colab-badge.svg\" alt=\"Open In Colab\"/></a>"
   ]
  },
  {
   "cell_type": "code",
   "execution_count": null,
   "metadata": {
    "id": "X07yasp6vOGB"
   },
   "outputs": [],
   "source": [
    "import os"
   ]
  },
  {
   "cell_type": "code",
   "execution_count": null,
   "metadata": {
    "id": "jWALeLtEvWGe"
   },
   "outputs": [],
   "source": [
    "# check if already in right local directory\n",
    "# otherwise clone the repo from github and change directory\n",
    "\n",
    "cwd = os.getcwd()\n",
    "print(os.path.split(cwd))\n",
    "\n",
    "if not os.path.split(cwd)[1] == \"MA\":\n",
    "    !git clone https://www.github.com/JohnnyNewman/MA.git\n",
    "    os.chdir('MA')"
   ]
  },
  {
   "cell_type": "code",
   "execution_count": null,
   "metadata": {
    "id": "_E8ji2XGvCZx"
   },
   "outputs": [],
   "source": []
  },
  {
   "cell_type": "code",
   "execution_count": 1,
   "metadata": {
    "id": "5G2oE1HftiG_"
   },
   "outputs": [],
   "source": [
    "import pickle"
   ]
  },
  {
   "cell_type": "code",
   "execution_count": 2,
   "metadata": {
    "id": "7K-0JwqktiHP"
   },
   "outputs": [],
   "source": [
    "import torch"
   ]
  },
  {
   "cell_type": "code",
   "execution_count": 3,
   "metadata": {
    "id": "pQSX0hIXtiHX"
   },
   "outputs": [],
   "source": [
    "from base import *"
   ]
  },
  {
   "cell_type": "code",
   "execution_count": null,
   "metadata": {
    "id": "RQ8AIv33tiHY"
   },
   "outputs": [],
   "source": []
  },
  {
   "cell_type": "code",
   "execution_count": null,
   "metadata": {
    "id": "tG9JD9B_vBAR"
   },
   "outputs": [],
   "source": []
  },
  {
   "cell_type": "code",
   "execution_count": 4,
   "metadata": {
    "id": "6rpzZTYatiHd"
   },
   "outputs": [],
   "source": [
    "# load data\n",
    "\n",
    "dataset = pickle.load(open(\"save/T007/full_dataset.p\", \"rb\"))\n",
    "train_dataset = pickle.load(open(\"save/T007/train_dataset.p\", \"rb\"))\n",
    "test_dataset = pickle.load(open(\"save/T007/test_dataset.p\", \"rb\"))"
   ]
  },
  {
   "cell_type": "code",
   "execution_count": null,
   "metadata": {
    "id": "5f2PxVHAtiHr"
   },
   "outputs": [],
   "source": []
  },
  {
   "cell_type": "code",
   "execution_count": null,
   "metadata": {},
   "outputs": [],
   "source": [
    "# load neural network models"
   ]
  },
  {
   "cell_type": "code",
   "execution_count": null,
   "metadata": {
    "id": "bqsSrmcZtiHw"
   },
   "outputs": [],
   "source": [
    "#net = torch.load(\"net6.pt\", map_location=torch.device('cpu')).eval()"
   ]
  },
  {
   "cell_type": "code",
   "execution_count": null,
   "metadata": {
    "id": "SyQdFGXGtiHx"
   },
   "outputs": [],
   "source": [
    "#tm2 = torch.load(\"net6_tm2.pt\", map_location=torch.device('cpu')).eval()"
   ]
  },
  {
   "cell_type": "code",
   "execution_count": 5,
   "metadata": {},
   "outputs": [],
   "source": [
    "PATH = \"lightning_logs/version_84/checkpoints/epoch=2447.ckpt\"\n",
    "model = AirfoilModel.load_from_checkpoint(PATH)"
   ]
  },
  {
   "cell_type": "code",
   "execution_count": null,
   "metadata": {
    "id": "jhsHub3XtiH3"
   },
   "outputs": [],
   "source": []
  },
  {
   "cell_type": "code",
   "execution_count": null,
   "metadata": {
    "colab": {
     "base_uri": "https://localhost:8080/"
    },
    "id": "6U5BLFxetiH3",
    "outputId": "c8e04cc2-5118-49b7-9447-00d8dc10e89b"
   },
   "outputs": [],
   "source": [
    "# display network architecture\n",
    "\n",
    "model"
   ]
  },
  {
   "cell_type": "code",
   "execution_count": 6,
   "metadata": {},
   "outputs": [],
   "source": [
    "ma_train, aoa_train, dv_train, x_train, y_train, c_l_train, c_d_train, E_train = train_dataset[:]\n",
    "ma_test, aoa_test, dv_test, x_test, y_test, c_l_test, c_d_test, E_test = test_dataset[:]\n",
    "\n"
   ]
  },
  {
   "cell_type": "code",
   "execution_count": 58,
   "metadata": {},
   "outputs": [
    {
     "data": {
      "text/plain": [
       "(tensor(24.9536), tensor(-9.9666))"
      ]
     },
     "execution_count": 58,
     "metadata": {},
     "output_type": "execute_result"
    }
   ],
   "source": [
    "aoa_train.max(), aoa_train.min()"
   ]
  },
  {
   "cell_type": "code",
   "execution_count": null,
   "metadata": {},
   "outputs": [],
   "source": [
    "model.device"
   ]
  },
  {
   "cell_type": "code",
   "execution_count": 8,
   "metadata": {
    "scrolled": true
   },
   "outputs": [
    {
     "data": {
      "text/plain": [
       "AirfoilModel(\n",
       "  (layer_0): Conv1d(2, 16, kernel_size=(3,), stride=(1,), padding=(1,))\n",
       "  (layer_11): Conv1d(16, 8, kernel_size=(3,), stride=(1,), padding=(1,))\n",
       "  (layer_12): Conv1d(16, 8, kernel_size=(3,), stride=(1,), padding=(1,))\n",
       "  (layer_13): Conv1d(16, 8, kernel_size=(3,), stride=(1,), padding=(1,))\n",
       "  (layer_14): Conv1d(16, 8, kernel_size=(3,), stride=(1,), padding=(1,))\n",
       "  (relu_11): ReLU()\n",
       "  (relu_12): ReLU()\n",
       "  (relu_13): ReLU()\n",
       "  (relu_14): ReLU()\n",
       "  (layer_2): Conv1d(32, 8, kernel_size=(5,), stride=(2,), padding=(1,))\n",
       "  (relu_2): ReLU()\n",
       "  (layer_3): Linear(in_features=287, out_features=8, bias=True)\n",
       "  (layer_5): Linear(in_features=66, out_features=32, bias=True)\n",
       "  (layer_6): Linear(in_features=32, out_features=32, bias=True)\n",
       "  (relu_6): ReLU()\n",
       "  (layer_7): Linear(in_features=32, out_features=32, bias=True)\n",
       "  (relu_7): ReLU()\n",
       "  (layer_8): Linear(in_features=32, out_features=32, bias=True)\n",
       "  (relu_8): ReLU()\n",
       "  (layer_9): Linear(in_features=32, out_features=32, bias=True)\n",
       "  (relu_9): ReLU()\n",
       "  (layer_10): Linear(in_features=32, out_features=32, bias=True)\n",
       "  (relu_10): ReLU()\n",
       "  (fc_mu): Linear(in_features=32, out_features=32, bias=True)\n",
       "  (fc_sigma): Linear(in_features=32, out_features=32, bias=True)\n",
       "  (layer_25): Linear(in_features=32, out_features=32, bias=True)\n",
       "  (layer_26): Linear(in_features=32, out_features=32, bias=True)\n",
       "  (relu_26): ReLU()\n",
       "  (layer_27): Linear(in_features=32, out_features=32, bias=True)\n",
       "  (relu_27): ReLU()\n",
       "  (layer_28): Linear(in_features=32, out_features=32, bias=True)\n",
       "  (relu_28): ReLU()\n",
       "  (layer_29): Linear(in_features=32, out_features=32, bias=True)\n",
       "  (relu_29): ReLU()\n",
       "  (layer_30): Linear(in_features=32, out_features=64, bias=True)\n",
       "  (relu_30): ReLU()\n",
       "  (deconv_11): ConvTranspose1d(64, 64, kernel_size=(7,), stride=(3,), dilation=(3,))\n",
       "  (deconv_12): ConvTranspose1d(64, 32, kernel_size=(7,), stride=(3,), dilation=(3,))\n",
       "  (deconv_13): ConvTranspose1d(32, 16, kernel_size=(7,), stride=(3,), dilation=(3,))\n",
       "  (deconv_14): ConvTranspose1d(16, 3, kernel_size=(7,), stride=(1,))\n",
       "  (lin_coeff_1): Linear(in_features=64, out_features=64, bias=True)\n",
       "  (relu_coeff): ReLU()\n",
       "  (lin_coeff_2): Linear(in_features=64, out_features=3, bias=True)\n",
       "  (loss_crit): MSELoss()\n",
       "  (loss_crit_coeff1): MSELoss()\n",
       "  (loss_crit_coeff2): MSELoss()\n",
       ")"
      ]
     },
     "execution_count": 8,
     "metadata": {},
     "output_type": "execute_result"
    }
   ],
   "source": [
    "model.double()"
   ]
  },
  {
   "cell_type": "code",
   "execution_count": 9,
   "metadata": {
    "id": "iS9HGvYttiH4"
   },
   "outputs": [],
   "source": [
    "# produce latent vectors from input\n",
    "\n",
    "x_3_train = model.airfoil_encoder(x_train)\n",
    "\n",
    "z_mu_train, z_var_train = model.latent_encoder(x_3_train, ma_train, aoa_train)\n",
    "#Z_test, var_test = net.encoder(x_test).detach().view(-1, 64)"
   ]
  },
  {
   "cell_type": "code",
   "execution_count": 10,
   "metadata": {},
   "outputs": [],
   "source": [
    "\n",
    "\n",
    "x_3_test = model.airfoil_encoder(x_test)\n",
    "\n",
    "z_mu_test, z_var_test = model.latent_encoder(x_3_test, ma_test, aoa_test)"
   ]
  },
  {
   "cell_type": "code",
   "execution_count": null,
   "metadata": {},
   "outputs": [],
   "source": [
    "z_std_test = torch.exp(z_var_test / 2)\n",
    "q = torch.distributions.Normal(z_mu_test, z_std_test)\n",
    "z = q.rsample()"
   ]
  },
  {
   "cell_type": "code",
   "execution_count": 53,
   "metadata": {},
   "outputs": [],
   "source": [
    "z2_test = model.process_latent(z_mu_test)"
   ]
  },
  {
   "cell_type": "code",
   "execution_count": 45,
   "metadata": {},
   "outputs": [],
   "source": [
    "z2_train = model.process_latent(z_mu_train)"
   ]
  },
  {
   "cell_type": "code",
   "execution_count": null,
   "metadata": {},
   "outputs": [],
   "source": [
    "n_samples = 1000\n",
    "z = q.rsample((n_samples,))"
   ]
  },
  {
   "cell_type": "code",
   "execution_count": null,
   "metadata": {},
   "outputs": [],
   "source": [
    "z2.shape"
   ]
  },
  {
   "cell_type": "code",
   "execution_count": null,
   "metadata": {},
   "outputs": [],
   "source": [
    "z2 = model.process_latent(z)"
   ]
  },
  {
   "cell_type": "code",
   "execution_count": null,
   "metadata": {},
   "outputs": [],
   "source": [
    "c_d_pred_samples = torch.zeros([n_samples, 276])\n",
    "c_l_pred_samples = torch.zeros([n_samples, 276])\n",
    "for i in range(z2.shape[0]):\n",
    "    c_l_pred, c_d_pred, _ = model.predict_coefficients(z2[i])\n",
    "    #print(c_l_pred, c_d_pred)\n",
    "    #c_d_list.append(c_d_pred)\n",
    "    c_d_pred_samples[i] = c_d_pred\n",
    "    c_l_pred_samples[i] = c_l_pred"
   ]
  },
  {
   "cell_type": "code",
   "execution_count": null,
   "metadata": {},
   "outputs": [],
   "source": [
    "c_d_pred_samples.mean(axis=0)[:10], c_d_pred_samples.var(axis=0)[:10], model.predict_coefficients(model.process_latent(z_mu_test))[1][:10]"
   ]
  },
  {
   "cell_type": "code",
   "execution_count": null,
   "metadata": {},
   "outputs": [],
   "source": [
    "torch.mean(torch.Tensor(c_d_list))"
   ]
  },
  {
   "cell_type": "code",
   "execution_count": 11,
   "metadata": {},
   "outputs": [],
   "source": [
    "c_l_train_pred, c_d_train_pred, _ = model.predict_coefficients(model.process_latent(z_mu_train))\n",
    "c_l_test_pred, c_d_test_pred, _ = model.predict_coefficients(model.process_latent(z_mu_test))"
   ]
  },
  {
   "cell_type": "code",
   "execution_count": 13,
   "metadata": {},
   "outputs": [
    {
     "data": {
      "text/plain": [
       "tensor([0.0096, 0.0507, 0.0179,  ..., 0.1868, 0.3037, 0.2309],\n",
       "       dtype=torch.float64, grad_fn=<SelectBackward>)"
      ]
     },
     "execution_count": 13,
     "metadata": {},
     "output_type": "execute_result"
    }
   ],
   "source": [
    "c_d_train_pred"
   ]
  },
  {
   "cell_type": "code",
   "execution_count": null,
   "metadata": {
    "id": "soYNPeYCtiH4"
   },
   "outputs": [],
   "source": []
  },
  {
   "cell_type": "code",
   "execution_count": 29,
   "metadata": {
    "id": "0EcB666YtiH5"
   },
   "outputs": [],
   "source": [
    "from sklearn.manifold import TSNE"
   ]
  },
  {
   "cell_type": "code",
   "execution_count": 46,
   "metadata": {
    "colab": {
     "base_uri": "https://localhost:8080/",
     "height": 283
    },
    "id": "OV8Auv9ttiH7",
    "outputId": "e3e879ce-fe56-49e9-fd71-865dab8aedfd"
   },
   "outputs": [
    {
     "name": "stdout",
     "output_type": "stream",
     "text": [
      "(1560, 2)\n"
     ]
    },
    {
     "data": {
      "text/plain": [
       "<matplotlib.collections.PathCollection at 0x27aa88e8ca0>"
      ]
     },
     "execution_count": 46,
     "metadata": {},
     "output_type": "execute_result"
    },
    {
     "data": {
      "image/png": "[encoded data removed]",
      "text/plain": [
       "<Figure size 432x288 with 1 Axes>"
      ]
     },
     "metadata": {
      "needs_background": "light"
     },
     "output_type": "display_data"
    }
   ],
   "source": [
    "# create 2-dimensional representation of the latent vectors for vizualisation\n",
    "# using t-distributed stochastic neighbor embedding (t-SNE)\n",
    "\n",
    "tsne = TSNE(metric=\"cosine\")\n",
    "#emb = tsne.fit_transform(x_3.view(276, 64).detach().numpy())\n",
    "emb = tsne.fit_transform(z2_train.view(-1, 64).detach().numpy())\n",
    "print(emb.shape)\n",
    "\n",
    "plt.scatter(emb[:,0], emb[:,1], c=E_train)"
   ]
  },
  {
   "cell_type": "code",
   "execution_count": null,
   "metadata": {},
   "outputs": [],
   "source": []
  },
  {
   "cell_type": "code",
   "execution_count": null,
   "metadata": {},
   "outputs": [],
   "source": [
    "# Try to fit a Gaussian Process Regressor to the latent vectors (input) and c_D values (output)"
   ]
  },
  {
   "cell_type": "code",
   "execution_count": 14,
   "metadata": {
    "id": "hUlHBfhTtiH8"
   },
   "outputs": [],
   "source": [
    "from sklearn.gaussian_process.kernels import PairwiseKernel, Product\n",
    "from sklearn.gaussian_process import GaussianProcessRegressor\n",
    "from sklearn.gaussian_process.kernels import (RBF, Matern, RationalQuadratic,\n",
    "                                              ExpSineSquared, DotProduct,\n",
    "                                              ConstantKernel, WhiteKernel)\n"
   ]
  },
  {
   "cell_type": "code",
   "execution_count": 15,
   "metadata": {
    "id": "8q6Fk2FutiH8"
   },
   "outputs": [],
   "source": [
    "pk = PairwiseKernel(metric=\"cosine\")\n",
    "kernel = Product(pk, pk)\n",
    "kernel = ConstantKernel()*pk*pk + WhiteKernel(noise_level=1e-05, noise_level_bounds=(1e-12, 1e-03))"
   ]
  },
  {
   "cell_type": "code",
   "execution_count": 47,
   "metadata": {},
   "outputs": [],
   "source": [
    "kernel = PairwiseKernel(metric=\"cosine\") + WhiteKernel(noise_level=1e-05, noise_level_bounds=(1e-12, 1e-03))"
   ]
  },
  {
   "cell_type": "code",
   "execution_count": 40,
   "metadata": {},
   "outputs": [],
   "source": [
    "kernel = RBF() + WhiteKernel(noise_level=1e-05, noise_level_bounds=(1e-12, 1e-03))"
   ]
  },
  {
   "cell_type": "code",
   "execution_count": null,
   "metadata": {
    "colab": {
     "base_uri": "https://localhost:8080/"
    },
    "id": "hIiOkPvgtiH9",
    "outputId": "b7e27c4a-6cbc-40b4-9279-e29e8032e2a8"
   },
   "outputs": [],
   "source": [
    "gp = GaussianProcessRegressor(kernel=kernel, random_state=0, alpha=0.000001,n_restarts_optimizer=3).fit(Z_train, c_D_train)\n",
    "print(gp.kernel_)\n",
    "print(gp.score(Z_train, c_D_train))\n",
    "print(gp.score(Z_test, c_D_test))\n",
    "print(gp.log_marginal_likelihood())"
   ]
  },
  {
   "cell_type": "code",
   "execution_count": 48,
   "metadata": {},
   "outputs": [
    {
     "name": "stdout",
     "output_type": "stream",
     "text": [
      "PairwiseKernel(gamma=1.0, metric=cosine) + WhiteKernel(noise_level=0.001)\n",
      "0.9121660812751384\n",
      "0.9017465117347058\n",
      "1626.844448358713\n"
     ]
    }
   ],
   "source": [
    "gp = GaussianProcessRegressor(kernel=kernel, random_state=0, alpha=0.000001,n_restarts_optimizer=1).fit(z_mu_train.view(-1, 32).detach().numpy(), c_d_train)\n",
    "print(gp.kernel_)\n",
    "print(gp.score(z_mu_train.view(-1, 32).detach().numpy(), c_d_train))\n",
    "print(gp.score(z_mu_test.view(-1, 32).detach().numpy(), c_d_test))\n",
    "print(gp.log_marginal_likelihood())"
   ]
  },
  {
   "cell_type": "code",
   "execution_count": 54,
   "metadata": {},
   "outputs": [
    {
     "name": "stdout",
     "output_type": "stream",
     "text": [
      "PairwiseKernel(gamma=3.0770534432116476, metric=cosine) + WhiteKernel(noise_level=0.00079)\n",
      "0.973935246265447\n",
      "0.9739189949617298\n",
      "3249.455860125102\n"
     ]
    }
   ],
   "source": [
    "gp = GaussianProcessRegressor(kernel=kernel, random_state=0, alpha=0.000001,n_restarts_optimizer=1).fit(z2_train.view(-1, 64).detach().numpy(), c_d_train)\n",
    "print(gp.kernel_)\n",
    "print(gp.score(z2_train.view(-1, 64).detach().numpy(), c_d_train))\n",
    "print(gp.score(z2_test.view(-1, 64).detach().numpy(), c_d_test))\n",
    "print(gp.log_marginal_likelihood())"
   ]
  },
  {
   "cell_type": "code",
   "execution_count": null,
   "metadata": {},
   "outputs": [],
   "source": [
    "print(gp.score(z_mu.view(-1, 32).detach().numpy(), c_d))\n"
   ]
  },
  {
   "cell_type": "code",
   "execution_count": null,
   "metadata": {
    "colab": {
     "base_uri": "https://localhost:8080/"
    },
    "id": "P91Z0jgbtiH-",
    "outputId": "cffb08eb-9541-4327-cbc8-ddec39deb841"
   },
   "outputs": [],
   "source": [
    "Z_train.shape, y_train.shape"
   ]
  },
  {
   "cell_type": "code",
   "execution_count": null,
   "metadata": {
    "id": "HLtRNnfotiH_"
   },
   "outputs": [],
   "source": [
    "c_D_train_predicted = gp.predict(Z_train)\n",
    "c_D_test_predicted = gp.predict(Z_test)"
   ]
  },
  {
   "cell_type": "code",
   "execution_count": 49,
   "metadata": {},
   "outputs": [],
   "source": [
    "c_D_train_predicted = gp.predict(z_mu_train.view(-1, 32).detach().numpy())\n",
    "c_D_test_predicted = gp.predict(z_mu_test.view(-1, 32).detach().numpy())"
   ]
  },
  {
   "cell_type": "code",
   "execution_count": 55,
   "metadata": {},
   "outputs": [],
   "source": [
    "c_D_train_predicted = gp.predict(z2_train.view(-1, 64).detach().numpy())\n",
    "c_D_test_predicted = gp.predict(z2_test.view(-1, 64).detach().numpy())"
   ]
  },
  {
   "cell_type": "code",
   "execution_count": 18,
   "metadata": {},
   "outputs": [],
   "source": [
    "c_D_train = c_d_train\n",
    "c_D_test = c_d_test"
   ]
  },
  {
   "cell_type": "code",
   "execution_count": null,
   "metadata": {
    "id": "oOEaiZLptiIB"
   },
   "outputs": [],
   "source": []
  },
  {
   "cell_type": "code",
   "execution_count": 56,
   "metadata": {
    "colab": {
     "base_uri": "https://localhost:8080/",
     "height": 353
    },
    "id": "PLBpegTutiIB",
    "outputId": "c8edf886-a15a-49a3-8ab3-6c5415106b3a"
   },
   "outputs": [
    {
     "data": {
      "image/png": "[encoded data removed]",
      "text/plain": [
       "<Figure size 864x360 with 2 Axes>"
      ]
     },
     "metadata": {
      "needs_background": "light"
     },
     "output_type": "display_data"
    }
   ],
   "source": [
    "plt.figure(figsize=(12,5))\n",
    "\n",
    "plt.subplot(1, 2, 1)\n",
    "\n",
    "#plt.plot(y_pred)\n",
    "plt.plot(c_D_train, c_D_train_predicted, '+')\n",
    "plt.plot([0.01, 0.5], [0.01, 0.5], \"--\")\n",
    "\n",
    "plt.gca().set_xlim([0.008, 0.042])\n",
    "plt.gca().set_ylim([0.008, 0.042])\n",
    "ax1 = plt.gca()\n",
    "ax1.set_ylabel(\"Predicted $C_D$\")\n",
    "ax1.set_xlabel(\"True $C_D$\")\n",
    "ax1.set_title(\"Training Data\")\n",
    "\n",
    "plt.subplot(1, 2, 2)\n",
    "\n",
    "#plt.plot(y_pred)\n",
    "plt.plot(c_D_test, c_D_test_predicted, '+', label=\"asd\")\n",
    "plt.plot([0.01, 0.5], [0.01, 0.5], \"--\")\n",
    "#plt.plot(y_pred, 'o', c=\"r\")\n",
    "ax1.set_xlim(plt.gca().get_xlim())\n",
    "ax1.set_ylim(plt.gca().get_ylim())\n",
    "ax2 = plt.gca()\n",
    "ax2.set_ylabel(\"Predicted $C_D$\")\n",
    "ax2.set_xlabel(\"True $C_D$\")\n",
    "ax2.set_title(\"Validation Data\")\n",
    "\n",
    "#plt.gca().set_xlim([0.005, 0.08])\n",
    "#plt.gca().set_ylim([0.005, 0.08])\n",
    "pass"
   ]
  },
  {
   "cell_type": "code",
   "execution_count": null,
   "metadata": {
    "id": "VdW41v84tiIC"
   },
   "outputs": [],
   "source": [
    "c_D_train_predicted2 = tm2(Z_train).detach()\n",
    "c_D_test_predicted2 = tm2(Z_test).detach()"
   ]
  },
  {
   "cell_type": "code",
   "execution_count": 20,
   "metadata": {},
   "outputs": [],
   "source": [
    "c_D_train_predicted2 = c_d_train_pred.detach().numpy()\n",
    "c_D_test_predicted2 = c_d_test_pred.detach().numpy()"
   ]
  },
  {
   "cell_type": "code",
   "execution_count": 37,
   "metadata": {
    "colab": {
     "base_uri": "https://localhost:8080/",
     "height": 371
    },
    "id": "Mvd8TCMctiID",
    "outputId": "7849ff3e-e521-4095-c606-3691b16492a8"
   },
   "outputs": [
    {
     "data": {
      "text/plain": [
       "Text(0.5, 1.0, 'Validation Data')"
      ]
     },
     "execution_count": 37,
     "metadata": {},
     "output_type": "execute_result"
    },
    {
     "data": {
      "image/png": "[encoded data removed]",
      "text/plain": [
       "<Figure size 864x360 with 2 Axes>"
      ]
     },
     "metadata": {
      "needs_background": "light"
     },
     "output_type": "display_data"
    }
   ],
   "source": [
    "plt.figure(figsize=(12,5))\n",
    "\n",
    "plt.subplot(1, 2, 1)\n",
    "\n",
    "#plt.plot(y_pred)\n",
    "plt.plot(c_D_train, c_D_train_predicted2, '+')\n",
    "plt.plot([0.01, 0.08], [0.01, 0.08], \"--\")\n",
    "\n",
    "#plt.gca().set_xlim([0.008, 0.042])\n",
    "#plt.gca().set_ylim([0.008, 0.042])\n",
    "ax1 = plt.gca()\n",
    "ax1.set_ylabel(\"Predicted $C_D$\")\n",
    "ax1.set_xlabel(\"True $C_D$\")\n",
    "ax1.set_title(\"Training Data\")\n",
    "#ax1.set_xlim([0.005, 0.042])\n",
    "#ax1.set_ylim([0.005, 0.042])\n",
    "\n",
    "plt.subplot(1, 2, 2)\n",
    "\n",
    "#plt.plot(y_pred)\n",
    "plt.plot(c_D_test, c_D_test_predicted2, '+', label=\"asd\")\n",
    "plt.plot([0.01, 0.08], [0.01, 0.08], \"--\")\n",
    "#plt.plot(y_pred, 'o', c=\"r\")\n",
    "ax1.set_xlim(plt.gca().get_xlim())\n",
    "ax1.set_ylim(plt.gca().get_ylim())\n",
    "ax2 = plt.gca()\n",
    "ax2.set_ylabel(\"Predicted $C_D$\")\n",
    "ax2.set_xlabel(\"True $C_D$\")\n",
    "ax2.set_title(\"Validation Data\")\n",
    "#ax2.set_xlim([0.005, 0.042])\n",
    "#ax2.set_ylim([0.005, 0.042])"
   ]
  },
  {
   "cell_type": "code",
   "execution_count": null,
   "metadata": {
    "id": "3jMKdHyztiIF"
   },
   "outputs": [],
   "source": []
  },
  {
   "cell_type": "code",
   "execution_count": null,
   "metadata": {
    "id": "NsG3ACvJtiIG"
   },
   "outputs": [],
   "source": [
    "# do a PCA decompositon of the latent vectors and fit GPR to this representation"
   ]
  },
  {
   "cell_type": "code",
   "execution_count": null,
   "metadata": {
    "id": "oHLbHVOEtiIH"
   },
   "outputs": [],
   "source": [
    "from sklearn.decomposition import PCA"
   ]
  },
  {
   "cell_type": "code",
   "execution_count": null,
   "metadata": {
    "colab": {
     "base_uri": "https://localhost:8080/"
    },
    "id": "_w6CU6RdtiII",
    "outputId": "8af9af38-bc17-4586-b761-d1d7475e3888"
   },
   "outputs": [],
   "source": [
    "pca = PCA(n_components=10, svd_solver=\"full\")\n",
    "pca.fit(Z_train)"
   ]
  },
  {
   "cell_type": "code",
   "execution_count": null,
   "metadata": {
    "colab": {
     "base_uri": "https://localhost:8080/"
    },
    "id": "l770aMrLtiIJ",
    "outputId": "0c8df34a-1af3-4836-ca97-5c49ca5b4744"
   },
   "outputs": [],
   "source": [
    "pca.explained_variance_"
   ]
  },
  {
   "cell_type": "code",
   "execution_count": null,
   "metadata": {
    "colab": {
     "base_uri": "https://localhost:8080/"
    },
    "id": "t_WpEf8QtiIK",
    "outputId": "24ed0e39-7e48-4536-a7b6-b02ee6716369"
   },
   "outputs": [],
   "source": [
    "pca.explained_variance_ratio_.cumsum()"
   ]
  },
  {
   "cell_type": "code",
   "execution_count": null,
   "metadata": {
    "colab": {
     "base_uri": "https://localhost:8080/",
     "height": 283
    },
    "id": "7t-HU_wKtiIb",
    "outputId": "b12297c9-6f00-432b-d912-1946035bf922"
   },
   "outputs": [],
   "source": [
    "plt.plot(pca.explained_variance_ratio_.cumsum())"
   ]
  },
  {
   "cell_type": "code",
   "execution_count": null,
   "metadata": {
    "id": "1Ii8r22GtiIb"
   },
   "outputs": [],
   "source": [
    "ls = 1 / pca.singular_values_ ** 2"
   ]
  },
  {
   "cell_type": "code",
   "execution_count": null,
   "metadata": {},
   "outputs": [],
   "source": [
    "ls"
   ]
  },
  {
   "cell_type": "code",
   "execution_count": null,
   "metadata": {
    "id": "4mQfUIsdtiIc"
   },
   "outputs": [],
   "source": [
    "kernel = 1.0 * RBF(length_scale=ls, length_scale_bounds=(1e-7, 10.0)) #+ WhiteKernel(noise_level=1e-05, noise_level_bounds=(1e-09, 1e-04))# + ConstantKernel()"
   ]
  },
  {
   "cell_type": "code",
   "execution_count": null,
   "metadata": {
    "colab": {
     "base_uri": "https://localhost:8080/"
    },
    "id": "ogylaSpUtiId",
    "outputId": "50b904de-1b41-4373-c5ca-e4cff8dcbfff"
   },
   "outputs": [],
   "source": [
    "gp = GaussianProcessRegressor(kernel=kernel, random_state=0, alpha=0.000001,n_restarts_optimizer=1).fit(pca.transform(Z_train), c_D_train)\n",
    "print(gp.kernel_)\n",
    "print(gp.score(pca.transform(Z_train), c_D_train))\n",
    "print(gp.score(pca.transform(Z_test), c_D_test))\n",
    "print(gp.log_marginal_likelihood())"
   ]
  },
  {
   "cell_type": "code",
   "execution_count": null,
   "metadata": {
    "id": "C2zCYQa3tiId"
   },
   "outputs": [],
   "source": []
  },
  {
   "cell_type": "code",
   "execution_count": null,
   "metadata": {},
   "outputs": [],
   "source": [
    "# alternatively to the TSNE embedding, I tried umap embedding\n",
    "# https://umap-learn.readthedocs.io/"
   ]
  },
  {
   "cell_type": "code",
   "execution_count": null,
   "metadata": {},
   "outputs": [],
   "source": [
    "#!pip install umap-learn"
   ]
  },
  {
   "cell_type": "code",
   "execution_count": null,
   "metadata": {
    "id": "q6PCClkQtiIe"
   },
   "outputs": [],
   "source": [
    "#import umap"
   ]
  },
  {
   "cell_type": "code",
   "execution_count": null,
   "metadata": {
    "id": "08PHuFVntiIe"
   },
   "outputs": [],
   "source": [
    "#reducer = umap.UMAP()"
   ]
  },
  {
   "cell_type": "code",
   "execution_count": null,
   "metadata": {
    "id": "5b9lw7L-tiIf"
   },
   "outputs": [],
   "source": [
    "#embedding_umap = reducer.fit_transform(Z)"
   ]
  },
  {
   "cell_type": "code",
   "execution_count": null,
   "metadata": {
    "colab": {
     "base_uri": "https://localhost:8080/",
     "height": 283
    },
    "id": "BHTYrcsOtiIf",
    "outputId": "9ebcf348-dbfd-4c83-ddc5-fcbd1600dbfb"
   },
   "outputs": [],
   "source": [
    "#plt.scatter(embedding_umap[:,0], embedding_umap[:,1], c=np.clip(c_D, a_max=0.0275, a_min=0))"
   ]
  },
  {
   "cell_type": "code",
   "execution_count": null,
   "metadata": {
    "id": "Ribwe8-PtiIf"
   },
   "outputs": [],
   "source": []
  },
  {
   "cell_type": "code",
   "execution_count": null,
   "metadata": {},
   "outputs": [],
   "source": [
    "# you will need the library 'bokeh' to display the plots\n",
    "# it will be automatically installed by the following command\n",
    "\n",
    "!pip install bokeh"
   ]
  },
  {
   "cell_type": "code",
   "execution_count": null,
   "metadata": {
    "id": "WLIYHQTctiIg"
   },
   "outputs": [],
   "source": [
    "import bokeh"
   ]
  },
  {
   "cell_type": "code",
   "execution_count": null,
   "metadata": {
    "id": "3MtHNGJXtiIg"
   },
   "outputs": [],
   "source": [
    "\n",
    "from bokeh.layouts import gridplot\n",
    "from bokeh.plotting import figure, output_file, show\n",
    "from bokeh.io import output_notebook\n",
    "from bokeh.models import ColumnDataSource\n",
    "from bokeh.models.tools import TapTool, LassoSelectTool, HoverTool\n",
    "from bokeh.themes import Theme\n",
    "import yaml"
   ]
  },
  {
   "cell_type": "code",
   "execution_count": null,
   "metadata": {
    "id": "opUWmi1mtiIh"
   },
   "outputs": [],
   "source": []
  },
  {
   "cell_type": "code",
   "execution_count": null,
   "metadata": {
    "colab": {
     "base_uri": "https://localhost:8080/"
    },
    "id": "VeVimQf1tiIv",
    "outputId": "e50ce16e-0d46-4003-9305-325fe9ed7302",
    "scrolled": false
   },
   "outputs": [],
   "source": [
    "# this will create an interactive vizualisation of the airfoils and their embedded latent vectors \n",
    "# unfortunately google colab does not allow this\n",
    "# but should work locally\n",
    "\n",
    "output_notebook()\n",
    "\n",
    "def bkapp(doc):\n",
    "    \n",
    "    data = ColumnDataSource({\n",
    "    \"x\": emb[:,0],\n",
    "    \"y\": emb[:,1],\n",
    "    \"c\": c_D_train.numpy(),\n",
    "    \"is_train\": [1]*x_train.shape[0] + [0] * x_test.shape[0],\n",
    "    })\n",
    "    \n",
    "    s1 = figure(width=50, plot_height=200, title=None, name=\"asd\")\n",
    "    s1.scatter(\"x\", \"y\", source=data, size=10, fill_color=bokeh.transform.linear_cmap(\"c\", bokeh.palettes.Plasma256, 0.0, 0.03))\n",
    "    \n",
    "    i = 0\n",
    "    airfoil_data = ColumnDataSource({\n",
    "    \"x\": x_train[i, 0, :].numpy(),\n",
    "    \"y\": 10*x_train[i, 1, :].numpy(),\n",
    "    \"cp\": y_train[i, 0, :].numpy(),    \n",
    "    \"cd\": np.ones(192)*c_D_train[i].numpy(),\n",
    "    })\n",
    "    \n",
    "    s2 = figure(width=50, plot_height=100)    \n",
    "    #s2.circle(, x_train[i, 1, :].numpy())\n",
    "    s2.scatter(\"x\", \"y\", source=airfoil_data, fill_color=bokeh.transform.linear_cmap(\"cd\", \"Plasma256\", 0.0, 0.05))\n",
    "    \n",
    "    #s3 = figure(width=50, plot_height=100)    \n",
    "    s2.square(\"x\", \"cp\", source=airfoil_data, fill_color=bokeh.transform.linear_cmap(\"cd\", \"Plasma256\", 0.0, 0.05))\n",
    "    \n",
    "    hover = HoverTool(tooltips=[(\"c_D\", \"@c\")])\n",
    "    s1.add_tools(TapTool(), LassoSelectTool(), hover)\n",
    "\n",
    "    p = gridplot([[s1],[s2]])\n",
    "\n",
    "    def selection_change(attrname, old, new):\n",
    "        print(attrname, old, new)\n",
    "        if len(new) >= 1:\n",
    "            airfoil_data.data = {k: [] for k in airfoil_data.data}\n",
    "            #i = new[0]\n",
    "            for i in new:\n",
    "                airfoil_data.data[\"x\"] = np.hstack((airfoil_data.data[\"x\"], x_train[i, 0, :].numpy()))\n",
    "                airfoil_data.data[\"y\"] = np.hstack((airfoil_data.data[\"y\"], 10*x_train[i, 1, :].numpy()))\n",
    "                airfoil_data.data[\"cp\"] = np.hstack((airfoil_data.data[\"cp\"], y_train[i, 0, :].numpy()))\n",
    "                airfoil_data.data[\"cd\"] = np.hstack((airfoil_data.data[\"cd\"], np.ones(192)*c_D_train[i].numpy()))\n",
    "            #airfoil_data.data = {\"x\": x_train[i, 0, :].numpy(), \"y\": 10*x_train[i, 1, :].numpy(), \"cp\": y_train[i, 0, :].numpy() for i in new}\n",
    "            #s2.circle(x_train[i, 0, :].numpy(), x_train[i, 1, :].numpy())\n",
    "        pass\n",
    "\n",
    "    data.selected.on_change('indices', selection_change)\n",
    "    #hover.on_change(\"data\", selection_change)\n",
    "    \n",
    "    doc.add_root(p)\n",
    "    doc.theme = Theme(json=yaml.load(\"\"\"\n",
    "        attrs:\n",
    "            Figure:\n",
    "                toolbar_location: above\n",
    "                height: 500\n",
    "                width: 800\n",
    "            Grid:\n",
    "                grid_line_dash: [6, 4]\n",
    "                grid_line_color: white\n",
    "    \"\"\", Loader=yaml.FullLoader))\n",
    "\n",
    "show(bkapp)"
   ]
  },
  {
   "cell_type": "code",
   "execution_count": null,
   "metadata": {
    "id": "2daNVlGMtiIx"
   },
   "outputs": [],
   "source": []
  },
  {
   "cell_type": "code",
   "execution_count": null,
   "metadata": {
    "id": "6uA5SJwJtiIz"
   },
   "outputs": [],
   "source": []
  }
 ],
 "metadata": {
  "colab": {
   "include_colab_link": true,
   "name": "Untitled.ipynb",
   "provenance": []
  },
  "kernelspec": {
   "display_name": "Python 3",
   "language": "python",
   "name": "python3"
  },
  "language_info": {
   "codemirror_mode": {
    "name": "ipython",
    "version": 3
   },
   "file_extension": ".py",
   "mimetype": "text/x-python",
   "name": "python",
   "nbconvert_exporter": "python",
   "pygments_lexer": "ipython3",
   "version": "3.8.5"
  }
 },
 "nbformat": 4,
 "nbformat_minor": 1
}
