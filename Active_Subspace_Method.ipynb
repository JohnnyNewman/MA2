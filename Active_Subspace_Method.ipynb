{
 "cells": [
  {
   "cell_type": "code",
   "execution_count": 1,
   "metadata": {},
   "outputs": [],
   "source": [
    "import os"
   ]
  },
  {
   "cell_type": "code",
   "execution_count": 2,
   "metadata": {},
   "outputs": [
    {
     "name": "stdout",
     "output_type": "stream",
     "text": [
      "('C:\\\\Users\\\\Nils\\\\Workspace\\\\MA_git', 'MA')\n"
     ]
    }
   ],
   "source": [
    "# check if already in right local directory\n",
    "# otherwise clone the repo from github and change directory\n",
    "\n",
    "cwd = os.getcwd()\n",
    "print(os.path.split(cwd))\n",
    "\n",
    "if not os.path.split(cwd)[1] == \"MA\":\n",
    "    !git clone https://www.github.com/JohnnyNewman/MA.git\n",
    "    os.chdir('MA')"
   ]
  },
  {
   "cell_type": "code",
   "execution_count": 3,
   "metadata": {},
   "outputs": [],
   "source": [
    "import numpy as np\n",
    "import pandas as pd\n",
    "import matplotlib.pyplot as plt\n",
    "from scipy import linalg\n",
    "from sklearn.decomposition import PCA\n",
    "import pickle"
   ]
  },
  {
   "cell_type": "code",
   "execution_count": null,
   "metadata": {},
   "outputs": [],
   "source": []
  },
  {
   "cell_type": "code",
   "execution_count": null,
   "metadata": {},
   "outputs": [],
   "source": []
  },
  {
   "cell_type": "markdown",
   "metadata": {},
   "source": [
    "### First, load the data:"
   ]
  },
  {
   "cell_type": "code",
   "execution_count": 4,
   "metadata": {},
   "outputs": [],
   "source": [
    "dv_list = pickle.load(open(\"save/T006/dv_list.p\", \"rb\"))\n",
    "df_result = pd.read_excel(\"save/T006/df_result.xlsx\")\n",
    "df_cd_grad = pd.read_excel(\"save/T006/df_cd_grad.xlsx\")\n"
   ]
  },
  {
   "cell_type": "code",
   "execution_count": 5,
   "metadata": {},
   "outputs": [
    {
     "data": {
      "text/html": [
       "<div>\n",
       "<style scoped>\n",
       "    .dataframe tbody tr th:only-of-type {\n",
       "        vertical-align: middle;\n",
       "    }\n",
       "\n",
       "    .dataframe tbody tr th {\n",
       "        vertical-align: top;\n",
       "    }\n",
       "\n",
       "    .dataframe thead th {\n",
       "        text-align: right;\n",
       "    }\n",
       "</style>\n",
       "<table border=\"1\" class=\"dataframe\">\n",
       "  <thead>\n",
       "    <tr style=\"text-align: right;\">\n",
       "      <th></th>\n",
       "      <th>Unnamed: 0</th>\n",
       "      <th>DIR</th>\n",
       "      <th>c_L</th>\n",
       "      <th>c_D</th>\n",
       "      <th>rms_rho</th>\n",
       "      <th>rms_nu</th>\n",
       "      <th>AOA</th>\n",
       "    </tr>\n",
       "  </thead>\n",
       "  <tbody>\n",
       "    <tr>\n",
       "      <th>0</th>\n",
       "      <td>0</td>\n",
       "      <td>T006 DSN_000</td>\n",
       "      <td>0.712967</td>\n",
       "      <td>0.060632</td>\n",
       "      <td>-4.977940</td>\n",
       "      <td>-5.366283</td>\n",
       "      <td>5.622905</td>\n",
       "    </tr>\n",
       "    <tr>\n",
       "      <th>1</th>\n",
       "      <td>1</td>\n",
       "      <td>T006 DSN_001</td>\n",
       "      <td>0.724184</td>\n",
       "      <td>0.018179</td>\n",
       "      <td>-6.424451</td>\n",
       "      <td>-8.215098</td>\n",
       "      <td>3.673885</td>\n",
       "    </tr>\n",
       "    <tr>\n",
       "      <th>2</th>\n",
       "      <td>2</td>\n",
       "      <td>T006 DSN_002</td>\n",
       "      <td>0.724241</td>\n",
       "      <td>0.012951</td>\n",
       "      <td>-6.452422</td>\n",
       "      <td>-8.123596</td>\n",
       "      <td>1.245573</td>\n",
       "    </tr>\n",
       "    <tr>\n",
       "      <th>3</th>\n",
       "      <td>3</td>\n",
       "      <td>T006 DSN_003</td>\n",
       "      <td>0.724184</td>\n",
       "      <td>0.018523</td>\n",
       "      <td>-6.395492</td>\n",
       "      <td>-8.374623</td>\n",
       "      <td>2.102441</td>\n",
       "    </tr>\n",
       "    <tr>\n",
       "      <th>4</th>\n",
       "      <td>4</td>\n",
       "      <td>T006 DSN_004</td>\n",
       "      <td>0.724207</td>\n",
       "      <td>0.013087</td>\n",
       "      <td>-6.535674</td>\n",
       "      <td>-8.658059</td>\n",
       "      <td>2.780464</td>\n",
       "    </tr>\n",
       "    <tr>\n",
       "      <th>...</th>\n",
       "      <td>...</td>\n",
       "      <td>...</td>\n",
       "      <td>...</td>\n",
       "      <td>...</td>\n",
       "      <td>...</td>\n",
       "      <td>...</td>\n",
       "      <td>...</td>\n",
       "    </tr>\n",
       "    <tr>\n",
       "      <th>995</th>\n",
       "      <td>995</td>\n",
       "      <td>T006 DSN_995</td>\n",
       "      <td>0.723134</td>\n",
       "      <td>0.030137</td>\n",
       "      <td>-6.175512</td>\n",
       "      <td>-6.857003</td>\n",
       "      <td>2.950256</td>\n",
       "    </tr>\n",
       "    <tr>\n",
       "      <th>996</th>\n",
       "      <td>996</td>\n",
       "      <td>T006 DSN_996</td>\n",
       "      <td>0.724201</td>\n",
       "      <td>0.018668</td>\n",
       "      <td>-6.426329</td>\n",
       "      <td>-8.284552</td>\n",
       "      <td>2.422116</td>\n",
       "    </tr>\n",
       "    <tr>\n",
       "      <th>997</th>\n",
       "      <td>997</td>\n",
       "      <td>T006 DSN_997</td>\n",
       "      <td>0.724063</td>\n",
       "      <td>0.027954</td>\n",
       "      <td>-6.543067</td>\n",
       "      <td>-7.889432</td>\n",
       "      <td>2.725608</td>\n",
       "    </tr>\n",
       "    <tr>\n",
       "      <th>998</th>\n",
       "      <td>998</td>\n",
       "      <td>T006 DSN_998</td>\n",
       "      <td>0.724212</td>\n",
       "      <td>0.022010</td>\n",
       "      <td>-6.407270</td>\n",
       "      <td>-8.054449</td>\n",
       "      <td>2.908295</td>\n",
       "    </tr>\n",
       "    <tr>\n",
       "      <th>999</th>\n",
       "      <td>999</td>\n",
       "      <td>T006 DSN_999</td>\n",
       "      <td>0.724164</td>\n",
       "      <td>0.014425</td>\n",
       "      <td>-6.388792</td>\n",
       "      <td>-8.610080</td>\n",
       "      <td>1.884998</td>\n",
       "    </tr>\n",
       "  </tbody>\n",
       "</table>\n",
       "<p>1000 rows × 7 columns</p>\n",
       "</div>"
      ],
      "text/plain": [
       "     Unnamed: 0           DIR       c_L       c_D   rms_rho    rms_nu  \\\n",
       "0             0  T006 DSN_000  0.712967  0.060632 -4.977940 -5.366283   \n",
       "1             1  T006 DSN_001  0.724184  0.018179 -6.424451 -8.215098   \n",
       "2             2  T006 DSN_002  0.724241  0.012951 -6.452422 -8.123596   \n",
       "3             3  T006 DSN_003  0.724184  0.018523 -6.395492 -8.374623   \n",
       "4             4  T006 DSN_004  0.724207  0.013087 -6.535674 -8.658059   \n",
       "..          ...           ...       ...       ...       ...       ...   \n",
       "995         995  T006 DSN_995  0.723134  0.030137 -6.175512 -6.857003   \n",
       "996         996  T006 DSN_996  0.724201  0.018668 -6.426329 -8.284552   \n",
       "997         997  T006 DSN_997  0.724063  0.027954 -6.543067 -7.889432   \n",
       "998         998  T006 DSN_998  0.724212  0.022010 -6.407270 -8.054449   \n",
       "999         999  T006 DSN_999  0.724164  0.014425 -6.388792 -8.610080   \n",
       "\n",
       "          AOA  \n",
       "0    5.622905  \n",
       "1    3.673885  \n",
       "2    1.245573  \n",
       "3    2.102441  \n",
       "4    2.780464  \n",
       "..        ...  \n",
       "995  2.950256  \n",
       "996  2.422116  \n",
       "997  2.725608  \n",
       "998  2.908295  \n",
       "999  1.884998  \n",
       "\n",
       "[1000 rows x 7 columns]"
      ]
     },
     "execution_count": 5,
     "metadata": {},
     "output_type": "execute_result"
    }
   ],
   "source": [
    "df_result #, df_result.shape"
   ]
  },
  {
   "cell_type": "code",
   "execution_count": 6,
   "metadata": {},
   "outputs": [],
   "source": [
    "N = df_result.shape[0]"
   ]
  },
  {
   "cell_type": "code",
   "execution_count": 7,
   "metadata": {},
   "outputs": [
    {
     "data": {
      "text/html": [
       "<div>\n",
       "<style scoped>\n",
       "    .dataframe tbody tr th:only-of-type {\n",
       "        vertical-align: middle;\n",
       "    }\n",
       "\n",
       "    .dataframe tbody tr th {\n",
       "        vertical-align: top;\n",
       "    }\n",
       "\n",
       "    .dataframe thead th {\n",
       "        text-align: right;\n",
       "    }\n",
       "</style>\n",
       "<table border=\"1\" class=\"dataframe\">\n",
       "  <thead>\n",
       "    <tr style=\"text-align: right;\">\n",
       "      <th></th>\n",
       "      <th>Unnamed: 0</th>\n",
       "      <th>VAR</th>\n",
       "      <th>CD_GRAD</th>\n",
       "      <th>STEP</th>\n",
       "      <th>DIR</th>\n",
       "    </tr>\n",
       "  </thead>\n",
       "  <tbody>\n",
       "    <tr>\n",
       "      <th>0</th>\n",
       "      <td>0</td>\n",
       "      <td>0</td>\n",
       "      <td>0.761449</td>\n",
       "      <td>0.001</td>\n",
       "      <td>T006 DSN_000</td>\n",
       "    </tr>\n",
       "    <tr>\n",
       "      <th>1</th>\n",
       "      <td>1</td>\n",
       "      <td>1</td>\n",
       "      <td>0.753202</td>\n",
       "      <td>0.001</td>\n",
       "      <td>T006 DSN_000</td>\n",
       "    </tr>\n",
       "    <tr>\n",
       "      <th>2</th>\n",
       "      <td>2</td>\n",
       "      <td>2</td>\n",
       "      <td>0.645545</td>\n",
       "      <td>0.001</td>\n",
       "      <td>T006 DSN_000</td>\n",
       "    </tr>\n",
       "    <tr>\n",
       "      <th>3</th>\n",
       "      <td>3</td>\n",
       "      <td>3</td>\n",
       "      <td>0.502804</td>\n",
       "      <td>0.001</td>\n",
       "      <td>T006 DSN_000</td>\n",
       "    </tr>\n",
       "    <tr>\n",
       "      <th>4</th>\n",
       "      <td>4</td>\n",
       "      <td>4</td>\n",
       "      <td>0.356495</td>\n",
       "      <td>0.001</td>\n",
       "      <td>T006 DSN_000</td>\n",
       "    </tr>\n",
       "    <tr>\n",
       "      <th>...</th>\n",
       "      <td>...</td>\n",
       "      <td>...</td>\n",
       "      <td>...</td>\n",
       "      <td>...</td>\n",
       "      <td>...</td>\n",
       "    </tr>\n",
       "    <tr>\n",
       "      <th>37995</th>\n",
       "      <td>33</td>\n",
       "      <td>33</td>\n",
       "      <td>-0.448886</td>\n",
       "      <td>0.001</td>\n",
       "      <td>T006 DSN_999</td>\n",
       "    </tr>\n",
       "    <tr>\n",
       "      <th>37996</th>\n",
       "      <td>34</td>\n",
       "      <td>34</td>\n",
       "      <td>-0.264682</td>\n",
       "      <td>0.001</td>\n",
       "      <td>T006 DSN_999</td>\n",
       "    </tr>\n",
       "    <tr>\n",
       "      <th>37997</th>\n",
       "      <td>35</td>\n",
       "      <td>35</td>\n",
       "      <td>-0.084116</td>\n",
       "      <td>0.001</td>\n",
       "      <td>T006 DSN_999</td>\n",
       "    </tr>\n",
       "    <tr>\n",
       "      <th>37998</th>\n",
       "      <td>36</td>\n",
       "      <td>36</td>\n",
       "      <td>0.204847</td>\n",
       "      <td>0.001</td>\n",
       "      <td>T006 DSN_999</td>\n",
       "    </tr>\n",
       "    <tr>\n",
       "      <th>37999</th>\n",
       "      <td>37</td>\n",
       "      <td>37</td>\n",
       "      <td>0.806494</td>\n",
       "      <td>0.001</td>\n",
       "      <td>T006 DSN_999</td>\n",
       "    </tr>\n",
       "  </tbody>\n",
       "</table>\n",
       "<p>38000 rows × 5 columns</p>\n",
       "</div>"
      ],
      "text/plain": [
       "       Unnamed: 0  VAR   CD_GRAD   STEP           DIR\n",
       "0               0    0  0.761449  0.001  T006 DSN_000\n",
       "1               1    1  0.753202  0.001  T006 DSN_000\n",
       "2               2    2  0.645545  0.001  T006 DSN_000\n",
       "3               3    3  0.502804  0.001  T006 DSN_000\n",
       "4               4    4  0.356495  0.001  T006 DSN_000\n",
       "...           ...  ...       ...    ...           ...\n",
       "37995          33   33 -0.448886  0.001  T006 DSN_999\n",
       "37996          34   34 -0.264682  0.001  T006 DSN_999\n",
       "37997          35   35 -0.084116  0.001  T006 DSN_999\n",
       "37998          36   36  0.204847  0.001  T006 DSN_999\n",
       "37999          37   37  0.806494  0.001  T006 DSN_999\n",
       "\n",
       "[38000 rows x 5 columns]"
      ]
     },
     "execution_count": 7,
     "metadata": {},
     "output_type": "execute_result"
    }
   ],
   "source": [
    "df_cd_grad"
   ]
  },
  {
   "cell_type": "code",
   "execution_count": null,
   "metadata": {},
   "outputs": [],
   "source": []
  },
  {
   "cell_type": "markdown",
   "metadata": {},
   "source": [
    "### Then the non-converged results (rms_rho < -6) are removed from the dataset:"
   ]
  },
  {
   "cell_type": "code",
   "execution_count": 8,
   "metadata": {},
   "outputs": [
    {
     "data": {
      "text/plain": [
       "<matplotlib.collections.LineCollection at 0x1f4150b7370>"
      ]
     },
     "execution_count": 8,
     "metadata": {},
     "output_type": "execute_result"
    },
    {
     "data": {
      "image/png": "[encoded data removed]",
      "text/plain": [
       "<Figure size 432x288 with 1 Axes>"
      ]
     },
     "metadata": {
      "needs_background": "light"
     },
     "output_type": "display_data"
    }
   ],
   "source": [
    "plt.plot(df_result[\"rms_nu\"], df_result[\"c_D\"], \"o\", label=\"nu\")\n",
    "plt.plot(df_result[\"rms_rho\"], df_result[\"c_D\"], \"o\")\n",
    "plt.vlines([-6], 0.01, 0.1, ls=\"--\")"
   ]
  },
  {
   "cell_type": "code",
   "execution_count": 9,
   "metadata": {},
   "outputs": [],
   "source": [
    "sim_converged = df_result[\"rms_rho\"] < -6\n",
    "\n",
    "dv_mat = np.asarray(dv_list)[sim_converged]\n",
    "c_D = df_result[\"c_D\"].values[sim_converged]\n",
    "d_CD = np.resize(df_cd_grad[\"CD_GRAD\"].values, ((N, 38)))[sim_converged]"
   ]
  },
  {
   "cell_type": "code",
   "execution_count": 10,
   "metadata": {},
   "outputs": [
    {
     "data": {
      "text/plain": [
       "array([[ 0.621198 ,  0.638195 ,  0.582739 , ..., -0.0946435,  0.303852 ,\n",
       "        -0.0358609],\n",
       "       [ 1.02982  ,  0.972347 ,  0.787893 , ..., -0.0362501, -0.0067322,\n",
       "        -0.0577502],\n",
       "       [ 1.17377  ,  1.13068  ,  0.952909 , ..., -0.0334564,  0.157533 ,\n",
       "         0.0435074],\n",
       "       ...,\n",
       "       [ 1.18327  ,  1.17908  ,  1.03277  , ..., -0.210642 ,  0.105212 ,\n",
       "         0.834902 ],\n",
       "       [ 0.951534 ,  0.914583 ,  0.754744 , ..., -0.293871 , -0.182783 ,\n",
       "        -0.0751327],\n",
       "       [ 1.1175   ,  1.07552  ,  0.900379 , ..., -0.0841159,  0.204847 ,\n",
       "         0.806494 ]])"
      ]
     },
     "execution_count": 10,
     "metadata": {},
     "output_type": "execute_result"
    }
   ],
   "source": [
    "d_CD"
   ]
  },
  {
   "cell_type": "code",
   "execution_count": 11,
   "metadata": {},
   "outputs": [
    {
     "data": {
      "text/plain": [
       "924"
      ]
     },
     "execution_count": 11,
     "metadata": {},
     "output_type": "execute_result"
    }
   ],
   "source": [
    "d_CD.shape[0]"
   ]
  },
  {
   "cell_type": "markdown",
   "metadata": {},
   "source": [
    "### Calculation of the covariance matrix and eigenvalue decomposition:"
   ]
  },
  {
   "cell_type": "code",
   "execution_count": 80,
   "metadata": {},
   "outputs": [],
   "source": [
    "C = np.zeros((38,38))\n",
    "for i in range(d_CD.shape[0]):\n",
    "    C += np.outer(d_CD[i], d_CD[i])\n",
    "C = C / d_CD.shape[0]"
   ]
  },
  {
   "cell_type": "code",
   "execution_count": 81,
   "metadata": {},
   "outputs": [
    {
     "data": {
      "text/plain": [
       "(array([[ 0.38588696,  0.39644546,  0.3619963 , ..., -0.05879235,\n",
       "          0.18875225, -0.02227672],\n",
       "        [ 0.39644546,  0.40729286,  0.37190112, ..., -0.06040101,\n",
       "          0.19391683, -0.02288625],\n",
       "        [ 0.3619963 ,  0.37190112,  0.33958474, ..., -0.05515246,\n",
       "          0.17706641, -0.02089755],\n",
       "        ...,\n",
       "        [-0.05879235, -0.06040101, -0.05515246, ...,  0.00895739,\n",
       "         -0.02875762,  0.003394  ],\n",
       "        [ 0.18875225,  0.19391683,  0.17706641, ..., -0.02875762,\n",
       "          0.09232604, -0.01089641],\n",
       "        [-0.02227672, -0.02288625, -0.02089755, ...,  0.003394  ,\n",
       "         -0.01089641,  0.001286  ]]),\n",
       " array([ 0.38588696,  0.39644546,  0.3619963 ,  0.31247129,  0.26217227,\n",
       "         0.2192568 ,  0.18811925,  0.17037225,  0.16553125,  0.17172398,\n",
       "         0.18643208,  0.20713909,  0.23156522,  0.25692687,  0.27682074,\n",
       "         0.27162628,  0.17839937, -0.20597994, -1.41561706,  4.11382785,\n",
       "         3.66693801,  2.87701642,  2.01840897,  1.20559002,  0.49782497,\n",
       "        -0.074586  , -0.50012154, -0.78073407, -0.92890222, -0.96641015,\n",
       "        -0.92346052, -0.83452361, -0.72550336, -0.59130036, -0.38224487,\n",
       "        -0.05879235,  0.18875225, -0.02227672]))"
      ]
     },
     "execution_count": 81,
     "metadata": {},
     "output_type": "execute_result"
    }
   ],
   "source": [
    "i = 0\n",
    "np.outer(d_CD[i], d_CD[i]), d_CD[i]*d_CD[0,i]"
   ]
  },
  {
   "cell_type": "code",
   "execution_count": 14,
   "metadata": {},
   "outputs": [
    {
     "data": {
      "text/plain": [
       "(array([[0.97315565, 0.9517748 , 0.8087411 ],\n",
       "        [0.9517748 , 0.93086371, 0.79097255]]),\n",
       " 0.9731556467110306,\n",
       " 0.9517748023024036,\n",
       " 0.7909725452580179)"
      ]
     },
     "execution_count": 14,
     "metadata": {},
     "output_type": "execute_result"
    }
   ],
   "source": [
    "### Bishop 2006 PRML p. 83\n",
    "d_CD_mean = d_CD.mean(axis=0)\n",
    "np.outer(d_CD_mean, d_CD_mean)[:2,:3], d_CD_mean[0]*d_CD_mean[0], d_CD_mean[0]*d_CD_mean[1], d_CD_mean[1]*d_CD_mean[2]"
   ]
  },
  {
   "cell_type": "code",
   "execution_count": 89,
   "metadata": {},
   "outputs": [
    {
     "data": {
      "text/plain": [
       "array([ 9.86486516e-01,  9.64812784e-01,  8.19819719e-01,  6.34639355e-01,\n",
       "        4.49469746e-01,  2.87190260e-01,  1.59836398e-01,  7.13345754e-02,\n",
       "        1.95017368e-02, -1.90527935e-03, -1.04513224e-03,  1.39191743e-02,\n",
       "        3.59689089e-02,  5.89989018e-02,  7.53746153e-02,  6.92051951e-02,\n",
       "       -1.97764085e-03, -2.64318326e-01, -1.12017764e+00,  3.53801868e+00,\n",
       "        3.30605245e+00,  2.76209467e+00,  2.13110599e+00,  1.50945220e+00,\n",
       "        9.47519637e-01,  4.70238986e-01,  8.60121402e-02, -2.06886347e-01,\n",
       "       -4.14592598e-01, -5.43134137e-01, -5.96537147e-01, -5.78759945e-01,\n",
       "       -4.98787211e-01, -3.74542431e-01, -2.27646371e-01, -6.51526715e-02,\n",
       "        1.32341719e-01,  3.76482275e-01])"
      ]
     },
     "execution_count": 89,
     "metadata": {},
     "output_type": "execute_result"
    }
   ],
   "source": [
    "d_CD_mean"
   ]
  },
  {
   "cell_type": "code",
   "execution_count": 15,
   "metadata": {},
   "outputs": [],
   "source": [
    "#C = C - d_CD_mean"
   ]
  },
  {
   "cell_type": "code",
   "execution_count": 16,
   "metadata": {},
   "outputs": [
    {
     "data": {
      "text/plain": [
       "array([[0., 0., 0., ..., 0., 0., 0.],\n",
       "       [0., 0., 0., ..., 0., 0., 0.],\n",
       "       [0., 0., 0., ..., 0., 0., 0.],\n",
       "       ...,\n",
       "       [0., 0., 0., ..., 0., 0., 0.],\n",
       "       [0., 0., 0., ..., 0., 0., 0.],\n",
       "       [0., 0., 0., ..., 0., 0., 0.]])"
      ]
     },
     "execution_count": 16,
     "metadata": {},
     "output_type": "execute_result"
    }
   ],
   "source": [
    "d_CD[i].reshape(1, -1).T @ d_CD[i].reshape(1, -1) - np.outer(d_CD[i], d_CD[i])"
   ]
  },
  {
   "cell_type": "code",
   "execution_count": 82,
   "metadata": {},
   "outputs": [],
   "source": [
    "C = np.dot(d_CD.T, d_CD) / d_CD.shape[0]"
   ]
  },
  {
   "cell_type": "code",
   "execution_count": 83,
   "metadata": {},
   "outputs": [],
   "source": [
    "n_samples = d_CD.shape[0]"
   ]
  },
  {
   "cell_type": "code",
   "execution_count": 19,
   "metadata": {},
   "outputs": [
    {
     "data": {
      "text/plain": [
       "(38, 38)"
      ]
     },
     "execution_count": 19,
     "metadata": {},
     "output_type": "execute_result"
    }
   ],
   "source": [
    "C.shape"
   ]
  },
  {
   "cell_type": "code",
   "execution_count": 20,
   "metadata": {},
   "outputs": [
    {
     "ename": "NameError",
     "evalue": "name 'covariance' is not defined",
     "output_type": "error",
     "traceback": [
      "\u001b[1;31m---------------------------------------------------------------------------\u001b[0m",
      "\u001b[1;31mNameError\u001b[0m                                 Traceback (most recent call last)",
      "\u001b[1;32m<ipython-input-20-438478498ac3>\u001b[0m in \u001b[0;36m<module>\u001b[1;34m\u001b[0m\n\u001b[1;32m----> 1\u001b[1;33m \u001b[0mcovariance\u001b[0m\u001b[1;33m.\u001b[0m\u001b[0mshape\u001b[0m\u001b[1;33m\u001b[0m\u001b[1;33m\u001b[0m\u001b[0m\n\u001b[0m",
      "\u001b[1;31mNameError\u001b[0m: name 'covariance' is not defined"
     ]
    }
   ],
   "source": [
    "#covariance.shape"
   ]
  },
  {
   "cell_type": "code",
   "execution_count": 27,
   "metadata": {},
   "outputs": [],
   "source": [
    "from scipy.linalg import svd"
   ]
  },
  {
   "cell_type": "code",
   "execution_count": 28,
   "metadata": {},
   "outputs": [],
   "source": [
    "U, S, Vt = linalg.svd(C)"
   ]
  },
  {
   "cell_type": "code",
   "execution_count": 88,
   "metadata": {},
   "outputs": [
    {
     "data": {
      "text/plain": [
       "array([-0.09546604, -0.09707783, -0.0865084 , -0.07157038, -0.05614313,\n",
       "       -0.04251905, -0.03197743, -0.0250159 , -0.02152232, -0.02096126,\n",
       "       -0.02257665, -0.02556765, -0.02916024, -0.03245446, -0.03381973,\n",
       "       -0.02921547, -0.00732753,  0.06633861,  0.30929228, -0.50750414,\n",
       "       -0.48139942, -0.40695831, -0.31799235, -0.22926729, -0.14861798,\n",
       "       -0.08006787, -0.0252182 ,  0.01581324,  0.04366366,  0.05927555,\n",
       "        0.06385514,  0.05924511,  0.0483919 ,  0.03515412,  0.02261125,\n",
       "        0.01031481, -0.00629644, -0.03056968])"
      ]
     },
     "execution_count": 88,
     "metadata": {},
     "output_type": "execute_result"
    }
   ],
   "source": [
    "U[:,0]"
   ]
  },
  {
   "cell_type": "code",
   "execution_count": 90,
   "metadata": {},
   "outputs": [
    {
     "data": {
      "text/plain": [
       "(38, 38)"
      ]
     },
     "execution_count": 90,
     "metadata": {},
     "output_type": "execute_result"
    }
   ],
   "source": [
    "U.shape"
   ]
  },
  {
   "cell_type": "code",
   "execution_count": 91,
   "metadata": {},
   "outputs": [
    {
     "data": {
      "text/plain": [
       "array([1., 1., 1.])"
      ]
     },
     "execution_count": 91,
     "metadata": {},
     "output_type": "execute_result"
    }
   ],
   "source": [
    "np.ones(3)"
   ]
  },
  {
   "cell_type": "code",
   "execution_count": 87,
   "metadata": {},
   "outputs": [
    {
     "data": {
      "text/plain": [
       "array([-0.09546604, -0.09707783, -0.0865084 , -0.07157038, -0.05614313,\n",
       "       -0.04251905, -0.03197743, -0.0250159 , -0.02152232, -0.02096126,\n",
       "       -0.02257665, -0.02556765, -0.02916024, -0.03245446, -0.03381973,\n",
       "       -0.02921547, -0.00732753,  0.06633861,  0.30929228, -0.50750414,\n",
       "       -0.48139942, -0.40695831, -0.31799235, -0.22926729, -0.14861798,\n",
       "       -0.08006787, -0.0252182 ,  0.01581324,  0.04366366,  0.05927555,\n",
       "        0.06385514,  0.05924511,  0.0483919 ,  0.03515412,  0.02261125,\n",
       "        0.01031481, -0.00629644, -0.03056968])"
      ]
     },
     "execution_count": 87,
     "metadata": {},
     "output_type": "execute_result"
    }
   ],
   "source": [
    "W[:,0]"
   ]
  },
  {
   "cell_type": "code",
   "execution_count": null,
   "metadata": {},
   "outputs": [],
   "source": [
    "### from sklearn PCA:\n",
    "### # Center data\n",
    "### self.mean_ = np.mean(X, axis=0)\n",
    "### X -= self.mean_"
   ]
  },
  {
   "cell_type": "code",
   "execution_count": 32,
   "metadata": {},
   "outputs": [],
   "source": [
    "        \n",
    "explained_variance_ = (S ** 2) / (n_samples - 1)\n",
    "total_var = explained_variance_.sum()\n",
    "explained_variance_ratio_ = explained_variance_ / total_var\n",
    "singular_values_ = S.copy()  # Store the singular values."
   ]
  },
  {
   "cell_type": "code",
   "execution_count": 33,
   "metadata": {},
   "outputs": [
    {
     "data": {
      "text/plain": [
       "array([0.99086127, 0.99711461, 0.99973701, 0.99990894, 0.99997262,\n",
       "       0.99999132, 0.99999721, 0.99999915, 0.99999982, 0.99999998,\n",
       "       0.99999999, 1.        , 1.        , 1.        , 1.        ,\n",
       "       1.        , 1.        , 1.        , 1.        , 1.        ,\n",
       "       1.        , 1.        , 1.        , 1.        , 1.        ,\n",
       "       1.        , 1.        , 1.        , 1.        , 1.        ,\n",
       "       1.        , 1.        , 1.        , 1.        , 1.        ,\n",
       "       1.        , 1.        , 1.        ])"
      ]
     },
     "execution_count": 33,
     "metadata": {},
     "output_type": "execute_result"
    }
   ],
   "source": [
    "explained_variance_ratio_.cumsum()"
   ]
  },
  {
   "cell_type": "code",
   "execution_count": 85,
   "metadata": {},
   "outputs": [
    {
     "data": {
      "text/plain": [
       "(array([1.05124173e+02, 8.35126770e+00, 5.40810283e+00, 1.38478176e+00,\n",
       "        8.42755820e-01, 4.56642713e-01, 2.56353998e-01, 1.46955548e-01,\n",
       "        8.66549036e-02, 4.24823724e-02, 1.06154621e-02, 7.45814961e-03,\n",
       "        1.81546505e-03, 1.45260839e-03, 5.43181370e-04, 3.36978152e-04,\n",
       "        1.22713977e-04, 4.77765428e-05, 2.33688471e-05, 4.77487144e-06,\n",
       "        3.84064691e-06, 3.93886201e-07, 3.16198360e-07, 2.30845998e-08,\n",
       "        1.82114847e-08, 1.53895990e-09, 8.73897942e-10, 8.71533727e-11,\n",
       "        3.17045675e-11, 5.80831623e-12, 3.67315436e-12, 2.59764101e-12,\n",
       "        1.89677177e-12, 5.78722316e-13, 2.24348808e-13, 1.35064087e-13,\n",
       "        7.39979487e-14, 6.12947202e-14]),\n",
       " array([1.05124173e+02, 8.35126770e+00, 5.40810283e+00, 1.38478176e+00,\n",
       "        8.42755820e-01, 4.56642713e-01, 2.56353998e-01, 1.46955548e-01,\n",
       "        8.66549036e-02, 4.24823724e-02, 1.06154621e-02, 7.45814961e-03,\n",
       "        1.81546505e-03, 1.45260839e-03, 5.43181370e-04, 3.36978152e-04,\n",
       "        1.22713977e-04, 4.77765428e-05, 2.33688471e-05, 4.77487144e-06,\n",
       "        3.84064691e-06, 3.93886200e-07, 3.16198359e-07, 2.30845975e-08,\n",
       "        1.82114849e-08, 1.53895582e-09, 8.73898922e-10, 8.71519125e-11,\n",
       "        3.17058090e-11, 5.80902676e-12, 3.67306220e-12, 2.59727309e-12,\n",
       "        1.89680523e-12, 5.79227999e-13, 2.22221693e-13, 6.10237661e-14,\n",
       "        7.42138467e-14, 1.34235845e-13]))"
      ]
     },
     "execution_count": 85,
     "metadata": {},
     "output_type": "execute_result"
    }
   ],
   "source": [
    "S, l"
   ]
  },
  {
   "cell_type": "code",
   "execution_count": null,
   "metadata": {},
   "outputs": [],
   "source": []
  },
  {
   "cell_type": "code",
   "execution_count": 36,
   "metadata": {},
   "outputs": [
    {
     "name": "stdout",
     "output_type": "stream",
     "text": [
      "[0.00107236 0.00107913 0.00108197 0.00108215 0.00108222 0.00108224\n",
      " 0.00108225 0.00108225 0.00108225 0.00108225 0.00108225 0.00108225\n",
      " 0.00108225 0.00108225 0.00108225 0.00108225 0.00108225 0.00108225\n",
      " 0.00108225 0.00108225 0.00108225 0.00108225 0.00108225 0.00108225\n",
      " 0.00108225 0.00108225 0.00108225 0.00108225 0.00108225 0.00108225\n",
      " 0.00108225 0.00108225 0.00108225 0.00108225 0.00108225 0.00108225\n",
      " 0.00108225 0.00108225]\n",
      "[1.07236068e-03 6.76769077e-06 2.83808617e-06 1.86079429e-07\n",
      " 6.89190396e-08 2.02343268e-08 6.37699219e-09 2.09559653e-09\n",
      " 7.28655055e-10 1.75127045e-10 1.09348670e-11 5.39756496e-12\n",
      " 3.19824316e-13 2.04754187e-13 2.86302690e-14 1.10189239e-14\n",
      " 1.46124742e-15 2.21495617e-16 5.29919949e-17 2.21237663e-18\n",
      " 1.43134545e-18 1.50548775e-20 9.70185811e-21 5.17106873e-23\n",
      " 3.21829916e-23 2.29820097e-25 7.41068073e-26 7.37037423e-28\n",
      " 9.75468779e-29 3.27448081e-30 1.30915859e-30 6.54592352e-31\n",
      " 3.49125181e-31 3.25562811e-32 4.79190942e-33 3.61354701e-34\n",
      " 5.34448154e-34 1.74852843e-33]\n"
     ]
    },
    {
     "name": "stderr",
     "output_type": "stream",
     "text": [
      "<ipython-input-36-8b8e67861826>:2: ComplexWarning: Casting complex values to real discards the imaginary part\n",
      "  l = l.astype(\"double\")\n"
     ]
    },
    {
     "data": {
      "text/plain": [
       "Text(0, 0.5, 'Cum. Fraction of Total EV')"
      ]
     },
     "execution_count": 36,
     "metadata": {},
     "output_type": "execute_result"
    },
    {
     "data": {
      "image/png": "[encoded data removed]",
      "text/plain": [
       "<Figure size 432x288 with 1 Axes>"
      ]
     },
     "metadata": {
      "needs_background": "light"
     },
     "output_type": "display_data"
    }
   ],
   "source": [
    "l, W = linalg.eig(C)\n",
    "l = l.astype(\"double\")\n",
    "\n",
    "#explained_variance_ = (S ** 2) / (n_samples - 1)\n",
    "#total_var = explained_variance_.sum()\n",
    "#explained_variance_ratio_ = explained_variance_ / total_var\n",
    "\n",
    "#print(l.cumsum() / l.sum())\n",
    "print(np.cumsum(l**2) / np.sum(l**2) / n_samples)\n",
    "print((l**2) / np.sum(l**2) / n_samples)\n",
    "\n",
    "plt.plot(range(1,39), l.cumsum() / l.sum(), \"-s\")\n",
    "plt.hlines([0.99], 0, 38, ls=\"--\")\n",
    "plt.gca().set_xlabel(\"Eigenmodes\")\n",
    "plt.gca().set_ylabel(\"Cum. Fraction of Total EV\")"
   ]
  },
  {
   "cell_type": "code",
   "execution_count": 79,
   "metadata": {},
   "outputs": [
    {
     "data": {
      "text/plain": [
       "array([1.05124173e+02, 8.35126770e+00, 5.40810283e+00, 1.38478176e+00,\n",
       "       8.42755820e-01, 4.56642713e-01, 2.56353998e-01, 1.46955548e-01,\n",
       "       8.66549036e-02, 4.24823724e-02, 1.06154621e-02, 7.45814961e-03,\n",
       "       1.81546505e-03, 1.45260839e-03, 5.43181370e-04, 3.36978152e-04,\n",
       "       1.22713977e-04, 4.77765428e-05, 2.33688471e-05, 4.77487144e-06,\n",
       "       3.84064691e-06, 3.93886200e-07, 3.16198359e-07, 2.30845975e-08,\n",
       "       1.82114849e-08, 1.53895582e-09, 8.73898922e-10, 8.71519125e-11,\n",
       "       3.17058090e-11, 5.80902676e-12, 3.67306220e-12, 2.59727309e-12,\n",
       "       1.89680523e-12, 5.79227999e-13, 2.22221693e-13, 6.10237661e-14,\n",
       "       7.42138467e-14, 1.34235845e-13])"
      ]
     },
     "execution_count": 79,
     "metadata": {},
     "output_type": "execute_result"
    }
   ],
   "source": [
    "l"
   ]
  },
  {
   "cell_type": "code",
   "execution_count": 92,
   "metadata": {},
   "outputs": [
    {
     "data": {
      "text/plain": [
       "array([[ True, False, False, ..., False, False, False],\n",
       "       [False,  True, False, ..., False, False, False],\n",
       "       [False, False,  True, ..., False, False, False],\n",
       "       ...,\n",
       "       [False, False, False, ...,  True, False, False],\n",
       "       [False, False, False, ..., False,  True, False],\n",
       "       [False, False, False, ..., False, False,  True]])"
      ]
     },
     "execution_count": 92,
     "metadata": {},
     "output_type": "execute_result"
    }
   ],
   "source": [
    "W == W.T"
   ]
  },
  {
   "cell_type": "code",
   "execution_count": null,
   "metadata": {},
   "outputs": [],
   "source": []
  },
  {
   "cell_type": "markdown",
   "metadata": {},
   "source": [
    "### Transformation of the design variables into the active subspace (dv_mat --> Y):"
   ]
  },
  {
   "cell_type": "code",
   "execution_count": 57,
   "metadata": {},
   "outputs": [
    {
     "data": {
      "text/plain": [
       "((924, 5), (924, 38))"
      ]
     },
     "execution_count": 57,
     "metadata": {},
     "output_type": "execute_result"
    }
   ],
   "source": [
    "Y = np.dot(W[:r,:], dv_mat.T).T\n",
    "Y.shape, dv_mat.shape"
   ]
  },
  {
   "cell_type": "code",
   "execution_count": null,
   "metadata": {},
   "outputs": [],
   "source": [
    "Y = np.dot(W[:,:r], dv_mat.T).T\n",
    "Y.shape, dv_mat.shape"
   ]
  },
  {
   "cell_type": "code",
   "execution_count": 70,
   "metadata": {},
   "outputs": [
    {
     "data": {
      "text/plain": [
       "((924, 5), (924, 38))"
      ]
     },
     "execution_count": 70,
     "metadata": {},
     "output_type": "execute_result"
    }
   ],
   "source": [
    "Y = dv_mat @ W[:,:r]\n",
    "Y.shape, dv_mat.shape"
   ]
  },
  {
   "cell_type": "code",
   "execution_count": 40,
   "metadata": {},
   "outputs": [],
   "source": [
    "#Y = dv_mat @ pca.components_.T"
   ]
  },
  {
   "cell_type": "code",
   "execution_count": 42,
   "metadata": {},
   "outputs": [
    {
     "data": {
      "text/plain": [
       "array([-3.57798849e-05,  7.55386255e-06, -1.58522348e-05,  2.29641919e-05,\n",
       "        2.83399202e-06,  6.29546024e-06,  1.15889584e-05, -1.89357615e-05,\n",
       "       -7.97946180e-07,  6.20493204e-06,  3.67646024e-05,  9.29272697e-06,\n",
       "       -4.12038512e-05, -1.07899635e-05,  6.33212858e-06, -4.44794855e-05,\n",
       "       -1.59340947e-05, -2.02008215e-05,  1.63239444e-05, -2.80301867e-07,\n",
       "       -3.19482004e-05,  6.04267116e-06,  2.94674244e-05,  2.98058913e-05,\n",
       "       -6.63341163e-05,  7.94809159e-05, -4.39730945e-05,  3.53174802e-05,\n",
       "       -4.00718685e-06,  2.55784420e-05, -6.36898312e-05,  1.12183533e-05,\n",
       "       -1.13587346e-05, -7.92783774e-06, -1.06950540e-05,  3.60656078e-05,\n",
       "       -1.02340995e-05, -1.53518144e-05, -1.64628212e-05,  4.40428427e-05,\n",
       "       -3.43215098e-06, -2.92822235e-05, -1.82224024e-05, -3.84845358e-06,\n",
       "        3.41462062e-05, -1.30759495e-05,  6.38603645e-08, -4.91691771e-06,\n",
       "       -3.43622650e-05,  9.47525755e-06, -1.99033103e-05, -1.33827764e-07,\n",
       "       -1.12128290e-05,  6.69851010e-06, -1.13284878e-05,  2.00955247e-05,\n",
       "       -2.23755353e-05,  1.94752560e-06, -8.16955534e-06,  4.50981993e-05,\n",
       "       -2.36277589e-05,  2.91279583e-05,  8.51915561e-06, -1.54782617e-05,\n",
       "       -2.10069416e-05,  1.92432981e-06, -6.02724786e-06,  1.07332335e-05,\n",
       "       -4.41513639e-05,  8.27402538e-05, -4.07549400e-05, -1.00811298e-05,\n",
       "        8.80994464e-06,  1.25125368e-05, -1.32971549e-05,  1.74536991e-06,\n",
       "        4.81789661e-05, -3.90596388e-05, -4.37839783e-05,  3.70877709e-05,\n",
       "       -3.24416370e-05,  4.22263634e-05, -8.32326885e-07,  2.89557286e-05,\n",
       "       -5.47420138e-05,  1.88139792e-05,  5.66148103e-06, -1.60167477e-05,\n",
       "        1.19294739e-05,  5.86133728e-06,  4.00033789e-05, -9.99966813e-06,\n",
       "       -2.56496550e-06, -8.85262609e-06, -6.67999509e-07,  4.43540964e-06,\n",
       "        3.56314479e-05, -5.60149477e-05, -1.32438385e-05, -1.70508525e-05,\n",
       "        3.30100027e-05,  3.32212216e-05, -8.80975348e-06, -2.49214785e-05,\n",
       "       -2.42879877e-06, -5.14963829e-05, -1.23861242e-05,  2.20570098e-05,\n",
       "       -1.18606862e-05,  3.56266892e-05, -1.17944671e-05,  6.38988205e-06,\n",
       "       -2.43132379e-05, -2.09937573e-06,  2.61376383e-05, -8.42815465e-06,\n",
       "        1.36523700e-05, -1.11500727e-05,  5.67832162e-05, -5.61800433e-05,\n",
       "        3.99648617e-05, -2.68002865e-05,  2.26660739e-05, -1.74783130e-05,\n",
       "       -5.09619019e-06,  3.03214949e-05,  9.59897000e-06,  3.55045364e-05,\n",
       "        9.20208162e-06, -2.95599917e-05, -2.50632371e-05,  5.31016332e-05,\n",
       "       -1.98603574e-06, -3.42814261e-05,  2.68337068e-05,  5.94492487e-06,\n",
       "       -2.18208527e-05,  4.83038462e-06,  1.19651009e-05,  2.34378512e-05,\n",
       "       -5.19062080e-05, -3.36771022e-06, -3.39940299e-05,  1.27340179e-05,\n",
       "        1.86845906e-05,  1.64117150e-05,  1.15134553e-05, -7.87487852e-06,\n",
       "        2.40561517e-05, -2.05751784e-06, -9.43673911e-06,  3.73607493e-05,\n",
       "        4.78640375e-06, -4.44397824e-05,  3.34580382e-05,  1.89338068e-05,\n",
       "        1.94322888e-05, -7.28904097e-06,  2.47838953e-05, -4.93349507e-05,\n",
       "       -3.39668058e-05,  4.19036657e-05, -5.32937332e-05,  6.23045358e-05,\n",
       "        5.47206751e-05, -3.15437097e-05,  4.16487724e-05, -4.82630145e-05,\n",
       "        9.02396207e-06,  1.34288255e-05, -3.81869343e-05, -1.45446696e-06,\n",
       "        5.58625700e-06,  1.47074536e-06, -7.64288895e-06,  1.37881544e-05,\n",
       "       -7.26196026e-06,  2.65252831e-05, -4.19797203e-05,  1.75226869e-05,\n",
       "        9.52505671e-06, -4.11344713e-05,  6.95598329e-05, -6.05021408e-05,\n",
       "        2.56396114e-05, -1.90982677e-05, -9.25789730e-06,  1.78342881e-05,\n",
       "        1.63670836e-05, -4.49502452e-05,  3.00525979e-05,  4.46704734e-06,\n",
       "       -1.98349254e-05,  1.13164327e-05,  1.00012810e-05, -5.94902371e-07,\n",
       "       -2.66648081e-05,  1.45601530e-05,  3.88772488e-05, -1.60322498e-05,\n",
       "       -2.35014452e-05, -8.75804778e-06, -1.73291660e-05,  5.61501599e-06,\n",
       "        3.99988154e-05, -3.44481031e-06, -2.43165914e-05,  3.23375672e-05,\n",
       "       -2.16759115e-06, -2.45106348e-05, -2.26903055e-06, -2.68003582e-05,\n",
       "        4.59585573e-06,  4.77627862e-06, -4.38594831e-05,  3.64210784e-05,\n",
       "        5.85349774e-06,  1.33755086e-05, -3.68231626e-05,  4.92841324e-05,\n",
       "       -1.80207525e-05, -4.69692744e-07,  3.10195940e-05, -5.10702465e-05,\n",
       "        8.67768802e-05, -5.36183998e-05, -2.55116283e-05,  3.65160881e-05,\n",
       "       -5.33186971e-05,  3.65415225e-05, -7.44124470e-06,  3.57838622e-06,\n",
       "        3.98904277e-05, -4.08498578e-05, -3.96715223e-06, -2.85558461e-05,\n",
       "        1.62292902e-07, -1.99064058e-05, -1.11598203e-05,  6.77004229e-06,\n",
       "        4.36829847e-05,  3.01338263e-05, -6.16220869e-05,  2.14647537e-05,\n",
       "       -4.55741921e-05,  2.58852656e-05,  5.99314874e-06,  6.16126205e-06,\n",
       "        4.86597202e-06,  1.02880384e-05, -2.43873896e-05,  1.32570523e-05,\n",
       "        1.31891686e-06,  2.66739197e-05, -2.63669419e-05, -3.62984242e-06,\n",
       "       -3.03540309e-05, -1.08219087e-05, -6.38603283e-06,  1.02548710e-05,\n",
       "       -5.88750835e-06,  2.39357369e-06, -1.29726726e-05,  1.59414895e-05,\n",
       "       -2.01565563e-05,  3.82341568e-05, -4.43647901e-05, -1.40303117e-05,\n",
       "       -9.13693845e-06,  5.44387892e-05, -9.05706338e-06, -1.01854849e-05,\n",
       "        2.38857138e-05,  1.67993930e-05, -3.19998585e-05,  6.51213768e-06,\n",
       "       -3.94699729e-05,  4.14447079e-05, -3.33814802e-05,  4.90257885e-05,\n",
       "       -9.07136466e-06, -6.78377972e-06,  1.57597412e-05,  3.60494585e-05,\n",
       "       -6.83570147e-05, -3.71795753e-05,  6.26261209e-05, -8.79166898e-06,\n",
       "        3.13823638e-05,  9.12449579e-06, -1.74278291e-05, -1.22937957e-05,\n",
       "       -5.59242925e-05,  3.04789695e-05,  4.63703556e-06,  4.82768320e-06,\n",
       "       -4.45121422e-06,  2.29103070e-05, -9.37523404e-06, -5.34954871e-05,\n",
       "        1.57409498e-05, -3.41943382e-07,  3.41414537e-05,  2.11058196e-05,\n",
       "       -8.97580705e-06,  6.10690722e-06, -1.20030425e-05,  1.99268217e-06,\n",
       "        9.50765110e-06,  5.12054745e-05, -4.70921549e-05,  1.37408616e-05,\n",
       "       -3.31272059e-05,  2.18333711e-05, -2.21615425e-05, -1.55267801e-05,\n",
       "        3.53216283e-05, -2.63172200e-05,  1.12962302e-05, -1.49914411e-05,\n",
       "       -5.73576850e-06,  1.43109049e-05,  4.41892763e-06, -2.24115329e-06,\n",
       "       -1.67798821e-05, -3.86869637e-05,  3.99624518e-05, -1.12114443e-05,\n",
       "        1.19834005e-05, -2.60888003e-06,  1.22261265e-05, -1.10897344e-05,\n",
       "       -7.66111422e-06,  1.68526214e-05,  5.71836317e-05, -3.85086191e-05,\n",
       "        1.84648454e-05,  3.02661418e-05, -5.22948986e-06,  4.17473134e-06,\n",
       "       -1.33901375e-05,  2.77572652e-05, -4.57591824e-05,  1.19089028e-05,\n",
       "        2.26491695e-05, -1.84052393e-06,  6.88211605e-06, -3.26030770e-05,\n",
       "       -1.56175404e-05,  7.73135232e-06,  7.56575206e-06, -1.15570448e-05,\n",
       "        4.76470022e-05, -1.23014638e-05, -2.31910515e-05,  6.31230779e-05,\n",
       "       -2.73827307e-05, -6.39222645e-05, -7.87577751e-06,  3.83229345e-05,\n",
       "       -5.42311774e-05,  1.41394196e-05, -7.90597121e-06,  3.48785321e-05,\n",
       "        1.20296187e-05, -2.03639083e-05, -9.81946159e-06, -1.03157225e-05,\n",
       "        3.19100474e-05, -2.11421514e-05,  1.41738187e-05,  3.96485116e-06,\n",
       "        2.48383005e-05,  3.96520628e-06, -2.20718248e-05,  5.70845480e-05,\n",
       "       -2.47366904e-05, -5.25881074e-05,  5.60976101e-05, -1.29403400e-05,\n",
       "        2.88185684e-06, -3.22496211e-05,  4.90255001e-05, -4.83675306e-05,\n",
       "        4.20402838e-05,  6.93571082e-05, -3.87679740e-05, -3.23170816e-05,\n",
       "       -1.80746081e-05, -3.01788442e-05,  4.43883157e-05,  2.87951265e-06,\n",
       "       -1.94048365e-05,  3.76630083e-05, -3.71925899e-05,  5.84495308e-06,\n",
       "        5.83719045e-06, -2.85737310e-05, -1.97674146e-05, -1.76950750e-05,\n",
       "        4.61162871e-05, -1.51649786e-05, -2.56393373e-05,  1.16385042e-05,\n",
       "        4.23057324e-05,  2.03282815e-06, -1.97362587e-05,  6.40033116e-05,\n",
       "       -3.39664460e-05,  1.79901766e-05, -3.73637457e-05, -1.33942395e-06,\n",
       "        1.81435169e-05,  2.19334199e-05, -9.05865973e-06,  3.85328299e-07,\n",
       "       -3.04203633e-05,  3.39102240e-06,  1.52511804e-05, -5.50951770e-05,\n",
       "        5.02830130e-05,  4.41740769e-05, -1.97474621e-05,  1.66885070e-05,\n",
       "       -4.84963894e-05,  1.48745234e-05, -3.18698118e-05,  4.62807902e-07,\n",
       "        2.84190070e-05, -4.12736517e-05,  2.49183028e-05,  2.01666118e-05,\n",
       "        3.02614068e-05, -3.15818636e-05, -1.40413896e-05,  1.37607679e-05,\n",
       "       -5.29747685e-05, -1.30461276e-05,  4.31672566e-05,  3.04622032e-05,\n",
       "       -7.20732337e-06,  1.82782203e-05,  3.66830563e-05, -2.35590773e-05,\n",
       "        3.13312160e-05, -4.13947073e-05, -5.85435431e-05,  4.86600374e-05,\n",
       "       -1.11186470e-05,  1.35581532e-05,  1.57033268e-05,  1.28039407e-05,\n",
       "       -2.68411495e-05, -2.59658884e-05,  1.67755423e-05, -9.09730485e-06,\n",
       "        3.16201357e-05,  1.33197889e-05, -3.57506743e-05,  2.29089419e-05,\n",
       "       -2.02702057e-05,  5.25629912e-07, -5.71043481e-06,  4.45053996e-05,\n",
       "       -3.54463726e-05,  1.57280326e-05, -6.59116635e-06,  5.06546155e-05,\n",
       "       -1.22148921e-05,  2.02723528e-05, -8.60154740e-06, -2.13018113e-05,\n",
       "        3.45608474e-06, -1.15193141e-05,  3.42792351e-05, -7.48067969e-06,\n",
       "       -3.46503435e-05,  2.64566971e-05, -3.88831373e-05,  2.84965406e-05,\n",
       "       -3.63027198e-05,  5.54774354e-06, -2.01397251e-05, -5.16234503e-06,\n",
       "        1.30136768e-05,  1.86837969e-05, -1.80746495e-05, -4.50680955e-05,\n",
       "        6.92083142e-05, -1.23323458e-05, -3.06583638e-05,  1.07239038e-05,\n",
       "        2.93372306e-06,  3.61057130e-05, -2.96077475e-05,  3.47354105e-05,\n",
       "       -2.42857562e-05,  2.24318059e-05,  2.59531306e-05, -2.70495265e-05,\n",
       "        3.46778980e-05, -3.96318254e-05,  1.09891498e-05, -3.22827147e-05,\n",
       "       -1.65613720e-05, -1.76121811e-05, -3.33852127e-05,  3.58016755e-05,\n",
       "       -3.07899038e-06,  4.25354122e-06,  2.76786694e-05, -4.18508519e-05,\n",
       "       -1.98561210e-05,  4.54825736e-06, -2.79147933e-05,  2.37924327e-05,\n",
       "       -2.36506890e-05,  1.66633058e-05, -2.04820270e-05,  3.78327254e-05,\n",
       "       -2.91209903e-05,  1.45209714e-05, -1.73821129e-05, -4.54518167e-05,\n",
       "        4.27466737e-05,  1.70154196e-05,  1.94817696e-05, -2.34068712e-05,\n",
       "       -3.12063431e-05,  2.21722128e-05, -2.84316627e-05, -1.86363393e-05,\n",
       "        1.22961617e-05,  3.37177165e-05,  7.12498876e-05, -6.75821382e-05,\n",
       "        2.46901131e-05, -3.00631566e-05, -2.64700870e-05,  6.65387267e-06,\n",
       "       -2.50570258e-05,  3.98073546e-05,  2.11501938e-05, -1.86076735e-05,\n",
       "       -3.53617872e-06,  1.08037287e-05,  2.48426041e-05,  2.98388831e-05,\n",
       "        1.17460729e-06, -7.23114277e-05,  3.40705350e-06,  1.74791924e-05,\n",
       "        4.05152870e-05,  5.27308794e-05,  2.59235264e-06,  6.35196560e-06,\n",
       "       -2.28018779e-05,  2.04182684e-05, -5.89017588e-05,  4.21936657e-05,\n",
       "       -7.39680919e-05,  9.41769713e-06, -1.07433492e-06,  4.83477931e-05,\n",
       "       -5.36729324e-07,  6.84516972e-05, -3.34619130e-05, -3.79655281e-05,\n",
       "        6.75626463e-06, -2.20020222e-06,  2.44390269e-05,  1.73811486e-05,\n",
       "       -2.68390965e-05,  3.37613436e-05, -1.30621958e-05, -2.50050266e-06,\n",
       "        4.95319704e-05, -2.11519970e-05, -2.38096221e-05, -3.20011806e-05,\n",
       "        1.09155091e-05, -1.85964515e-05,  2.81101584e-05, -1.75807847e-05,\n",
       "        3.94666125e-05, -2.66639047e-05,  9.33627452e-06, -9.88681667e-06,\n",
       "        1.09670056e-05, -3.04956954e-05, -1.15527309e-05,  2.90071065e-06,\n",
       "       -1.90804132e-05,  7.24201688e-06, -2.24468075e-05,  1.31899588e-05,\n",
       "       -1.23862145e-05,  2.29959974e-05, -3.56277477e-05,  5.43143946e-05,\n",
       "       -1.03212079e-05, -4.63565653e-05,  2.14403133e-05, -4.43240797e-05,\n",
       "        1.74114618e-05,  3.47091803e-06,  7.48723530e-06, -1.11525374e-05,\n",
       "        7.15715965e-06, -9.71583694e-06, -1.70794213e-05,  2.92674512e-06,\n",
       "       -4.02781090e-05,  4.68378152e-05, -2.85465351e-05,  2.18942606e-05,\n",
       "        2.52755063e-05, -1.52415322e-06, -9.39548392e-06,  2.58505904e-05,\n",
       "       -3.55194400e-05,  3.97241835e-06,  2.08507426e-06,  1.60161044e-05,\n",
       "       -1.22089352e-05, -7.89421778e-07, -1.83342886e-05,  1.39657774e-05,\n",
       "        2.88029340e-05, -1.55252412e-05,  5.13994605e-05, -3.39800431e-05,\n",
       "        2.43626412e-05, -4.29256350e-05,  4.81766498e-06, -3.77444067e-06,\n",
       "        2.63389787e-05, -3.25131893e-05, -6.10124636e-05,  4.81176042e-05,\n",
       "       -3.22248180e-06,  1.29065784e-05,  5.05075521e-06,  2.05760801e-05,\n",
       "       -1.80197052e-06, -2.81784559e-06, -1.12108102e-05,  1.40267145e-05,\n",
       "       -1.51900126e-05,  4.80057936e-05, -5.54071433e-08, -4.72628035e-05,\n",
       "       -5.43409528e-06,  1.49771555e-05,  2.05783441e-05,  3.28422265e-05,\n",
       "       -5.16386653e-05, -3.01955065e-05,  3.13884790e-05, -2.69406298e-05,\n",
       "        1.81844416e-05,  3.92407038e-06,  3.51885273e-05,  2.54410717e-05,\n",
       "       -1.03475258e-05, -9.20083681e-06,  5.72386464e-07,  2.42233576e-06,\n",
       "       -3.93582665e-06, -3.67782936e-05,  5.26588580e-05, -2.28991407e-05,\n",
       "       -1.20116901e-05,  2.49530826e-06,  3.05691930e-05, -7.23103333e-06,\n",
       "        7.58842800e-05, -5.28033459e-05, -3.33433700e-05, -1.55391290e-05,\n",
       "        4.21926148e-05, -1.43994162e-05,  6.30370171e-06,  2.42673395e-05,\n",
       "        1.60975476e-05, -2.27766326e-05, -1.84461593e-05, -1.84636878e-05,\n",
       "        4.75935594e-05, -5.13548359e-05,  2.68802263e-05, -1.89830384e-05,\n",
       "        3.52969158e-06, -2.27413857e-05,  6.13980054e-05,  2.04089700e-05,\n",
       "       -3.49988172e-05,  2.27016771e-05, -3.56158037e-05, -2.96293214e-05,\n",
       "        1.50559050e-05,  3.21115985e-05, -1.82416408e-05, -1.06714265e-05,\n",
       "        2.93804179e-05, -1.79105379e-06, -2.53388483e-05,  8.58718553e-06,\n",
       "        1.79899235e-05,  6.73261136e-06, -4.22348712e-05,  5.90408763e-05,\n",
       "       -9.18175941e-06, -1.30001535e-05,  4.64641472e-05, -2.79837515e-05,\n",
       "        3.38478856e-05, -7.13237271e-05, -1.00570353e-05,  2.98446888e-05,\n",
       "        7.19590286e-06, -1.37394842e-05, -8.99587966e-06,  2.75008323e-05,\n",
       "       -4.01998433e-05,  1.49257107e-06,  3.79951944e-05, -3.45530129e-05,\n",
       "       -9.36507591e-06,  1.14169173e-05,  1.87599798e-05, -7.62524176e-06,\n",
       "       -8.28373768e-06, -1.92109267e-05,  1.42177722e-05, -6.13659039e-06,\n",
       "       -5.14945036e-06, -7.43129976e-06,  5.58601217e-06,  1.37600424e-06,\n",
       "       -2.21616067e-05, -2.66856766e-05,  3.42734095e-05,  2.06843850e-05,\n",
       "       -2.18167854e-06, -2.24547536e-05, -2.62077070e-05,  2.75931047e-05,\n",
       "        2.34950473e-05, -1.82371689e-05,  2.48719068e-05, -1.44369469e-05,\n",
       "        1.65968450e-05,  6.90754097e-05, -8.34807420e-05, -2.60434094e-05,\n",
       "       -5.54053523e-05,  3.41869097e-05, -9.09227596e-06,  4.48292922e-05,\n",
       "        2.30911281e-05, -3.58728769e-05, -3.30241213e-06, -2.62969215e-06,\n",
       "        3.89389806e-05,  3.17391959e-06,  8.79138083e-08, -1.67933597e-05,\n",
       "        3.54810225e-05, -2.11829320e-05,  1.45165702e-05, -5.36275645e-05,\n",
       "       -3.64067611e-05,  7.85170606e-05, -3.76409498e-05, -1.52587653e-05,\n",
       "        3.93636139e-05, -1.09090265e-05, -2.85833746e-06, -1.27283255e-05,\n",
       "        2.94915950e-05, -4.03790505e-05, -1.08576861e-06, -1.69518893e-06,\n",
       "        2.73448448e-06, -2.51041608e-05,  5.19019947e-05, -4.23193388e-05,\n",
       "        7.57159791e-06,  1.73996245e-05,  1.93933690e-05, -2.30193738e-06,\n",
       "        2.55682625e-06, -1.87073304e-05,  1.77106242e-05,  1.62530231e-06,\n",
       "        1.56607049e-05, -1.72795689e-05,  9.31181524e-06, -1.00174435e-05,\n",
       "        5.82779678e-06,  1.83575958e-05, -2.61442576e-05,  2.93136291e-06,\n",
       "        3.59024825e-05, -6.01753332e-05,  2.39036179e-06, -1.68871317e-06,\n",
       "        9.40221210e-06,  5.05484940e-05, -4.90279658e-06, -2.48766011e-05,\n",
       "        5.91962576e-05, -2.48828171e-05, -5.77468815e-05,  3.91266101e-05,\n",
       "       -3.95823646e-05,  5.38070845e-05,  1.75743924e-05, -7.26321277e-05,\n",
       "        7.30088100e-05, -1.11661922e-05, -4.25934059e-05,  1.99045465e-05,\n",
       "        3.21419254e-05, -1.59873599e-05,  2.02276023e-05, -2.31934936e-05,\n",
       "       -2.93898105e-05,  2.57721602e-05, -2.96465651e-07,  3.59867751e-05,\n",
       "        4.06268548e-06, -1.08434719e-06, -1.52057385e-05, -1.66320072e-05,\n",
       "        3.57438172e-05, -1.31443536e-05,  1.25659944e-05, -4.07228396e-06,\n",
       "        1.18749728e-07,  5.73421760e-05, -4.97734323e-05,  1.81517025e-05,\n",
       "       -2.88079880e-06, -1.32241477e-05,  1.04963452e-05,  8.48213445e-06,\n",
       "       -2.51425737e-05,  1.52596456e-05, -1.11471988e-06, -8.44381225e-07,\n",
       "       -4.40570787e-05,  4.31051492e-05, -3.67820220e-05,  5.09466579e-05,\n",
       "       -6.56627192e-05,  6.34353166e-05,  3.67516394e-06, -1.54403106e-05,\n",
       "        2.90687287e-06,  1.37520190e-05,  1.71453645e-05, -1.74078630e-05,\n",
       "       -2.27907532e-06, -1.18022211e-05,  1.91882882e-05, -1.53749157e-05,\n",
       "        1.63420970e-05, -5.59574763e-06,  3.63088657e-05, -4.10298084e-05,\n",
       "        5.95361997e-06,  1.43041398e-05,  5.18847140e-06,  7.00799491e-06,\n",
       "       -1.68490465e-05,  1.41358915e-05, -5.93258544e-06, -2.17786110e-05,\n",
       "        1.40742989e-05,  1.54717779e-05, -1.38049719e-05, -1.52343932e-05,\n",
       "        1.70777698e-05, -3.64696801e-06,  6.19619727e-06, -2.66705633e-05,\n",
       "       -6.80487138e-06,  2.43520911e-05, -4.83065217e-05,  3.83003155e-05,\n",
       "        1.75329329e-05,  4.98398000e-06, -3.69400226e-05, -1.65374401e-06,\n",
       "        4.13008429e-05,  1.04495903e-05, -6.85357588e-06, -1.09323552e-05,\n",
       "        2.77120516e-05, -3.87289147e-05,  4.94464555e-05, -1.48124482e-05,\n",
       "        1.60560278e-05, -5.65287003e-08,  1.46561918e-05,  1.62192210e-05,\n",
       "       -3.64467964e-05,  5.22997288e-06,  3.38131501e-05, -3.24888928e-05,\n",
       "        6.67226266e-05, -5.78409957e-05,  5.28038800e-05,  8.57373478e-06,\n",
       "       -3.74227340e-05,  4.17765457e-05, -1.53867313e-05, -4.24499387e-06,\n",
       "       -1.12475227e-06,  1.88020129e-05, -2.72595559e-06, -1.83024937e-05])"
      ]
     },
     "execution_count": 42,
     "metadata": {},
     "output_type": "execute_result"
    }
   ],
   "source": [
    "np.dot(W[0,:], dv_mat.T).T"
   ]
  },
  {
   "cell_type": "code",
   "execution_count": 43,
   "metadata": {},
   "outputs": [
    {
     "data": {
      "text/plain": [
       "array([[-3.57798849e-05, -3.71471522e-05,  3.18894965e-05, ...,\n",
       "        -1.57877541e-05, -2.99180661e-05,  4.05376052e-05],\n",
       "       [ 7.55386255e-06,  1.70119001e-05, -1.77518263e-05, ...,\n",
       "         2.72729001e-05,  1.74399513e-05, -7.98319922e-06],\n",
       "       [-1.58522348e-05,  6.52453155e-06,  8.02914602e-06, ...,\n",
       "        -3.99520188e-06,  1.98178640e-05, -1.10569894e-06],\n",
       "       ...,\n",
       "       [ 1.88020129e-05,  2.59261545e-05, -3.31937245e-06, ...,\n",
       "        -2.98145131e-05,  5.30746397e-05,  2.95831119e-05],\n",
       "       [-2.72595559e-06, -8.36697792e-07, -7.43563463e-06, ...,\n",
       "         5.99920947e-05, -2.10922153e-05, -2.06389798e-05],\n",
       "       [-1.83024937e-05,  3.24977133e-05, -4.11729822e-05, ...,\n",
       "         3.57941899e-05,  4.33504374e-05, -3.89988234e-05]])"
      ]
     },
     "execution_count": 43,
     "metadata": {},
     "output_type": "execute_result"
    }
   ],
   "source": [
    "np.dot(dv_mat, W[0:10].T)"
   ]
  },
  {
   "cell_type": "code",
   "execution_count": null,
   "metadata": {},
   "outputs": [],
   "source": []
  },
  {
   "cell_type": "code",
   "execution_count": 78,
   "metadata": {},
   "outputs": [
    {
     "data": {
      "image/png": "[encoded data removed]",
      "text/plain": [
       "<Figure size 1152x864 with 6 Axes>"
      ]
     },
     "metadata": {
      "needs_background": "light"
     },
     "output_type": "display_data"
    }
   ],
   "source": [
    "dimx = 2\n",
    "dimy = int(np.ceil(r / dimx))\n",
    "\n",
    "\n",
    "fig, axes = plt.subplots(dimy, dimx, figsize=(16, dimy*4))\n",
    "\n",
    "#plt.gca().invert_yaxis()\n",
    "\n",
    "for k, ax in enumerate(axes.flat):\n",
    "    if k < r:\n",
    "        ax.hist(Y[:,k])"
   ]
  },
  {
   "cell_type": "code",
   "execution_count": null,
   "metadata": {},
   "outputs": [],
   "source": [
    "#plt.hist(Y2[:,1])"
   ]
  },
  {
   "cell_type": "code",
   "execution_count": null,
   "metadata": {},
   "outputs": [],
   "source": [
    "#pca.singular_values_"
   ]
  },
  {
   "cell_type": "code",
   "execution_count": null,
   "metadata": {},
   "outputs": [],
   "source": []
  },
  {
   "cell_type": "markdown",
   "metadata": {},
   "source": [
    "### Split data into train and test sets:\n",
    " (Arguably, this should be done before the unsupervised learning part/PCA)"
   ]
  },
  {
   "cell_type": "code",
   "execution_count": 59,
   "metadata": {},
   "outputs": [],
   "source": [
    "from sklearn.model_selection import train_test_split"
   ]
  },
  {
   "cell_type": "code",
   "execution_count": 72,
   "metadata": {},
   "outputs": [],
   "source": [
    "x_train, x_test, y_train, y_test = train_test_split(Y, c_D, test_size=0.2, random_state=3)\n"
   ]
  },
  {
   "cell_type": "code",
   "execution_count": null,
   "metadata": {},
   "outputs": [],
   "source": []
  },
  {
   "cell_type": "markdown",
   "metadata": {},
   "source": [
    "### Fit a GaussianProcessRegressor to the training data and evaluate for train and test data:"
   ]
  },
  {
   "cell_type": "code",
   "execution_count": 73,
   "metadata": {},
   "outputs": [],
   "source": [
    "from sklearn.gaussian_process import GaussianProcessRegressor\n",
    "from sklearn.gaussian_process.kernels import (RBF, Matern, RationalQuadratic,\n",
    "                                              ExpSineSquared, DotProduct,\n",
    "                                              ConstantKernel, WhiteKernel)\n"
   ]
  },
  {
   "cell_type": "code",
   "execution_count": 47,
   "metadata": {},
   "outputs": [
    {
     "data": {
      "text/plain": [
       "[1e-05, 1e-05, 1e-05, 1e-05, 1e-05]"
      ]
     },
     "execution_count": 47,
     "metadata": {},
     "output_type": "execute_result"
    }
   ],
   "source": [
    "ls = length_scale = [1.e-05]*r\n",
    "ls"
   ]
  },
  {
   "cell_type": "code",
   "execution_count": 74,
   "metadata": {},
   "outputs": [
    {
     "data": {
      "text/plain": [
       "array([0.00951256, 0.1197423 , 0.18490773, 0.72213545, 1.18658332])"
      ]
     },
     "execution_count": 74,
     "metadata": {},
     "output_type": "execute_result"
    }
   ],
   "source": [
    "ls = 1. / l\n",
    "ls = ls[:r]\n",
    "ls"
   ]
  },
  {
   "cell_type": "markdown",
   "metadata": {},
   "source": [
    "#### Unfortunately, the GPR is very sensitive to the choice of kernel"
   ]
  },
  {
   "cell_type": "code",
   "execution_count": 53,
   "metadata": {},
   "outputs": [],
   "source": [
    "kernel = Matern(length_scale=ls, nu=1.5) +  WhiteKernel(noise_level=1e-05, noise_level_bounds=(1e-09, 1e-04))"
   ]
  },
  {
   "cell_type": "code",
   "execution_count": null,
   "metadata": {},
   "outputs": [],
   "source": [
    "#kernel = RBF(length_scale=ls) + Matern(length_scale=ls, nu=1.5) #+ WhiteKernel() #+ RBF()"
   ]
  },
  {
   "cell_type": "code",
   "execution_count": 51,
   "metadata": {},
   "outputs": [],
   "source": [
    "kernel = RBF() + WhiteKernel(noise_level=1e-05, noise_level_bounds=(1e-09, 1e-04))# + ConstantKernel()"
   ]
  },
  {
   "cell_type": "code",
   "execution_count": 94,
   "metadata": {},
   "outputs": [],
   "source": [
    "kernel = RBF(length_scale=ls, length_scale_bounds=(1e-09, 1e04)) + WhiteKernel(noise_level=1e-05, noise_level_bounds=(1e-09, 1e-01))# + ConstantKernel()"
   ]
  },
  {
   "cell_type": "code",
   "execution_count": 95,
   "metadata": {},
   "outputs": [
    {
     "name": "stdout",
     "output_type": "stream",
     "text": [
      "RBF(length_scale=[0.00078, 0.000508, 0.00104, 0.00122, 0.000842]) + WhiteKernel(noise_level=1.05e-05)\n",
      "0.7457016943745134\n",
      "0.611496379728496\n",
      "3116.368694861562\n"
     ]
    }
   ],
   "source": [
    "gp = GaussianProcessRegressor(kernel=kernel, n_restarts_optimizer=25, normalize_y=False)\n",
    "gp.fit(x_train, y_train)\n",
    "print(gp.kernel_)\n",
    "print(gp.score(x_train, y_train))\n",
    "print(gp.score(x_test, y_test))\n",
    "print(gp.log_marginal_likelihood())"
   ]
  },
  {
   "cell_type": "code",
   "execution_count": null,
   "metadata": {},
   "outputs": [],
   "source": []
  },
  {
   "cell_type": "markdown",
   "metadata": {},
   "source": [
    "### Plot the prediction result of the GPR for training and test data:"
   ]
  },
  {
   "cell_type": "code",
   "execution_count": 96,
   "metadata": {},
   "outputs": [
    {
     "data": {
      "text/plain": [
       "Text(0.5, 1.0, 'Validation Data')"
      ]
     },
     "execution_count": 96,
     "metadata": {},
     "output_type": "execute_result"
    },
    {
     "data": {
      "image/png": "[encoded data removed]",
      "text/plain": [
       "<Figure size 864x360 with 2 Axes>"
      ]
     },
     "metadata": {
      "needs_background": "light"
     },
     "output_type": "display_data"
    }
   ],
   "source": [
    "plt.figure(figsize=(12,5))\n",
    "\n",
    "plt.subplot(1, 2, 1)\n",
    "\n",
    "y_pred = gp.predict(x_train)\n",
    "#plt.plot(y_pred)\n",
    "plt.plot(y_train, y_pred, '+')\n",
    "plt.plot([0.01, 0.05], [0.01, 0.05], \"--\")\n",
    "\n",
    "#plt.gca().set_xlim([0.008, 0.042])\n",
    "#plt.gca().set_ylim([0.008, 0.042])\n",
    "ax1 = plt.gca()\n",
    "ax1.set_ylabel(\"Predicted $C_D$\")\n",
    "ax1.set_xlabel(\"True $C_D$\")\n",
    "ax1.set_title(\"Training Data\")\n",
    "\n",
    "plt.subplot(1, 2, 2)\n",
    "\n",
    "y_pred = gp.predict(x_test)\n",
    "#plt.plot(y_pred)\n",
    "plt.plot(y_test, y_pred, '+', label=\"asd\")\n",
    "plt.plot([0.01, 0.05], [0.01, 0.05], \"--\")\n",
    "#plt.plot(y_pred, 'o', c=\"r\")\n",
    "ax1.set_xlim(plt.gca().get_xlim())\n",
    "ax1.set_ylim(plt.gca().get_ylim())\n",
    "ax2 = plt.gca()\n",
    "ax2.set_ylabel(\"Predicted $C_D$\")\n",
    "ax2.set_xlabel(\"True $C_D$\")\n",
    "ax2.set_title(\"Validation Data\")"
   ]
  },
  {
   "cell_type": "code",
   "execution_count": null,
   "metadata": {},
   "outputs": [],
   "source": []
  }
 ],
 "metadata": {
  "kernelspec": {
   "display_name": "Python 3",
   "language": "python",
   "name": "python3"
  },
  "language_info": {
   "codemirror_mode": {
    "name": "ipython",
    "version": 3
   },
   "file_extension": ".py",
   "mimetype": "text/x-python",
   "name": "python",
   "nbconvert_exporter": "python",
   "pygments_lexer": "ipython3",
   "version": "3.8.5"
  }
 },
 "nbformat": 4,
 "nbformat_minor": 4
}
