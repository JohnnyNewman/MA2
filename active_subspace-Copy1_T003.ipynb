{
 "cells": [
  {
   "cell_type": "code",
   "execution_count": 1,
   "metadata": {},
   "outputs": [],
   "source": [
    "import numpy as np\n",
    "import pandas as pd\n",
    "import matplotlib.pyplot as plt\n",
    "import json\n",
    "import os\n",
    "import re"
   ]
  },
  {
   "cell_type": "code",
   "execution_count": null,
   "metadata": {},
   "outputs": [],
   "source": []
  },
  {
   "cell_type": "code",
   "execution_count": 2,
   "metadata": {},
   "outputs": [],
   "source": [
    "collectedData = {}\n",
    "df_grad_cd_list = []\n",
    "for dir1 in os.listdir(\"CollectedData\"):\n",
    "    if os.path.isdir(os.path.join(\"CollectedData\", dir1)):\n",
    "        \n",
    "        collectedData[dir1] = {}\n",
    "        for dsn_dir in os.listdir(os.path.join(\"CollectedData\", dir1)):\n",
    "            if os.path.isdir(os.path.join(\"CollectedData\", dir1, dsn_dir)):\n",
    "                data = json.load(open(os.path.join(\"CollectedData\", dir1, dsn_dir, \"dsn_data.json\"), \"r\"))\n",
    "                collectedData[dir1][dsn_dir] = data"
   ]
  },
  {
   "cell_type": "code",
   "execution_count": null,
   "metadata": {},
   "outputs": [],
   "source": []
  },
  {
   "cell_type": "code",
   "execution_count": null,
   "metadata": {},
   "outputs": [],
   "source": []
  },
  {
   "cell_type": "code",
   "execution_count": null,
   "metadata": {},
   "outputs": [],
   "source": []
  },
  {
   "cell_type": "code",
   "execution_count": 3,
   "metadata": {
    "scrolled": true
   },
   "outputs": [
    {
     "name": "stdout",
     "output_type": "stream",
     "text": [
      "T003_turb DSN_002\n",
      "T003_turb DSN_003\n",
      "T003_turb DSN_004\n",
      "T003_turb DSN_005\n",
      "T003_turb DSN_006\n",
      "T003_turb DSN_007\n",
      "T003_turb DSN_008\n",
      "T003_turb DSN_009\n",
      "T003_turb DSN_010\n",
      "T003_turb DSN_011\n",
      "T003_turb DSN_012\n",
      "T003_turb DSN_013\n",
      "T003_turb DSN_014\n",
      "T003_turb DSN_015\n",
      "T003_turb DSN_016\n",
      "T003_turb DSN_017\n",
      "T003_turb DSN_018\n",
      "T003_turb DSN_019\n",
      "T003_turb DSN_020\n",
      "T003_turb DSN_021\n",
      "T003_turb DSN_022\n",
      "T003_turb DSN_023\n",
      "T003_turb DSN_024\n",
      "T003_turb DSN_025\n",
      "T003_turb DSN_026\n",
      "T003_turb DSN_027\n",
      "T003_turb DSN_028\n",
      "T003_turb DSN_029\n",
      "T003_turb DSN_030\n",
      "T003_turb DSN_031\n",
      "T003_turb DSN_032\n",
      "T003_turb DSN_033\n",
      "T003_turb DSN_034\n",
      "T003_turb DSN_035\n",
      "T003_turb DSN_036\n",
      "T003_turb DSN_037\n",
      "T003_turb DSN_038\n",
      "T003_turb DSN_039\n",
      "T003_turb DSN_040\n",
      "T003_turb DSN_041\n",
      "T003_turb DSN_042\n",
      "T003_turb DSN_043\n",
      "T003_turb DSN_044\n",
      "T003_turb DSN_045\n",
      "T003_turb DSN_046\n",
      "T003_turb DSN_047\n",
      "T003_turb DSN_048\n",
      "T003_turb DSN_049\n",
      "T003_turb DSN_050\n",
      "T003_turb DSN_051\n",
      "T003_turb DSN_052\n",
      "T003_turb DSN_053\n",
      "T003_turb DSN_054\n",
      "T003_turb DSN_055\n",
      "T003_turb DSN_056\n",
      "T003_turb DSN_057\n",
      "T003_turb DSN_058\n",
      "T003_turb DSN_059\n",
      "T003_turb DSN_060\n",
      "T003_turb DSN_061\n",
      "T003_turb DSN_062\n",
      "T003_turb DSN_063\n",
      "T003_turb DSN_064\n",
      "T003_turb DSN_065\n",
      "T003_turb DSN_066\n",
      "T003_turb DSN_067\n",
      "T003_turb DSN_068\n",
      "T003_turb DSN_069\n",
      "T003_turb DSN_070\n",
      "T003_turb DSN_071\n",
      "T003_turb DSN_072\n",
      "T003_turb DSN_073\n",
      "T003_turb DSN_074\n",
      "T003_turb DSN_075\n",
      "T003_turb DSN_076\n",
      "T003_turb DSN_077\n",
      "T003_turb DSN_078\n",
      "T003_turb DSN_079\n",
      "T003_turb DSN_080\n",
      "T003_turb DSN_081\n",
      "T003_turb DSN_082\n",
      "T003_turb DSN_083\n",
      "T003_turb DSN_084\n",
      "T003_turb DSN_085\n",
      "T003_turb DSN_086\n",
      "T003_turb DSN_087\n",
      "T003_turb DSN_088\n",
      "T003_turb DSN_089\n",
      "T003_turb DSN_090\n",
      "T003_turb DSN_091\n",
      "T003_turb DSN_092\n",
      "T003_turb DSN_093\n",
      "T003_turb DSN_094\n",
      "T003_turb DSN_095\n",
      "T003_turb DSN_096\n",
      "T003_turb DSN_097\n",
      "T003_turb DSN_098\n",
      "T003_turb DSN_099\n",
      "T003_turb DSN_100\n",
      "T003_turb DSN_101\n",
      "T003_turb DSN_102\n",
      "T003_turb DSN_103\n",
      "T003_turb DSN_104\n",
      "T003_turb DSN_105\n",
      "T003_turb DSN_106\n",
      "T003_turb DSN_107\n",
      "T003_turb DSN_108\n",
      "T003_turb DSN_109\n",
      "T003_turb DSN_110\n",
      "T003_turb DSN_111\n",
      "T003_turb DSN_112\n",
      "T003_turb DSN_113\n",
      "T003_turb DSN_114\n",
      "T003_turb DSN_115\n",
      "T003_turb DSN_116\n",
      "T003_turb DSN_117\n",
      "T003_turb DSN_118\n",
      "T003_turb DSN_119\n",
      "T003_turb DSN_120\n",
      "T003_turb DSN_121\n",
      "T003_turb DSN_122\n",
      "T003_turb DSN_123\n",
      "T003_turb DSN_124\n",
      "T003_turb DSN_125\n",
      "T003_turb DSN_126\n",
      "T003_turb DSN_127\n",
      "T003_turb DSN_128\n",
      "T003_turb DSN_129\n",
      "T003_turb DSN_130\n",
      "T003_turb DSN_131\n",
      "T003_turb DSN_132\n",
      "T003_turb DSN_133\n",
      "T003_turb DSN_134\n",
      "T003_turb DSN_135\n",
      "T003_turb DSN_136\n",
      "T003_turb DSN_137\n",
      "T003_turb DSN_138\n",
      "T003_turb DSN_139\n",
      "T003_turb DSN_140\n",
      "T003_turb DSN_141\n",
      "T003_turb DSN_142\n",
      "T003_turb DSN_143\n",
      "T003_turb DSN_144\n",
      "T003_turb DSN_145\n",
      "T003_turb DSN_146\n",
      "T003_turb DSN_147\n",
      "T003_turb DSN_148\n",
      "T003_turb DSN_149\n",
      "T003_turb DSN_150\n",
      "T003_turb DSN_151\n",
      "T003_turb DSN_152\n",
      "T003_turb DSN_153\n",
      "T003_turb DSN_154\n",
      "T003_turb DSN_155\n",
      "T003_turb DSN_156\n",
      "T003_turb DSN_157\n",
      "T003_turb DSN_158\n",
      "T003_turb DSN_159\n",
      "T003_turb DSN_160\n",
      "T003_turb DSN_161\n",
      "T003_turb DSN_162\n",
      "T003_turb DSN_163\n",
      "T003_turb DSN_164\n",
      "T003_turb DSN_165\n",
      "T003_turb DSN_166\n",
      "T003_turb DSN_167\n",
      "T003_turb DSN_168\n",
      "T003_turb DSN_169\n",
      "T003_turb DSN_170\n",
      "T003_turb DSN_171\n",
      "T003_turb DSN_172\n",
      "T003_turb DSN_173\n",
      "T003_turb DSN_174\n",
      "T003_turb DSN_175\n",
      "T003_turb DSN_176\n",
      "T003_turb DSN_177\n",
      "T003_turb DSN_178\n",
      "T003_turb DSN_179\n",
      "T003_turb DSN_180\n",
      "T003_turb DSN_181\n",
      "T003_turb DSN_182\n",
      "T003_turb DSN_183\n",
      "T003_turb DSN_184\n",
      "T003_turb DSN_185\n",
      "T003_turb DSN_186\n",
      "T003_turb DSN_187\n",
      "T003_turb DSN_188\n",
      "T003_turb DSN_189\n",
      "T003_turb DSN_190\n",
      "T003_turb DSN_191\n",
      "T003_turb DSN_192\n",
      "T003_turb DSN_193\n",
      "T003_turb DSN_194\n",
      "T003_turb DSN_195\n",
      "T003_turb DSN_196\n",
      "T003_turb DSN_197\n",
      "T003_turb DSN_198\n",
      "T003_turb DSN_199\n",
      "T003_turb DSN_200\n",
      "T003_turb DSN_201\n",
      "T003_turb DSN_202\n",
      "T003_turb DSN_203\n",
      "T003_turb DSN_204\n",
      "T003_turb DSN_205\n",
      "T003_turb DSN_206\n",
      "T003_turb DSN_207\n",
      "T003_turb DSN_208\n",
      "T003_turb DSN_209\n",
      "T003_turb DSN_210\n",
      "T003_turb DSN_211\n",
      "T003_turb DSN_212\n",
      "T003_turb DSN_213\n",
      "T003_turb DSN_214\n",
      "T003_turb DSN_215\n",
      "T003_turb DSN_216\n",
      "T003_turb DSN_217\n",
      "T003_turb DSN_218\n",
      "T003_turb DSN_219\n",
      "T003_turb DSN_220\n",
      "T003_turb DSN_221\n",
      "T003_turb DSN_222\n",
      "T003_turb DSN_223\n",
      "T003_turb DSN_224\n",
      "T003_turb DSN_225\n",
      "T003_turb DSN_226\n",
      "T003_turb DSN_227\n",
      "T003_turb DSN_228\n",
      "T003_turb DSN_229\n",
      "T003_turb DSN_230\n",
      "T003_turb DSN_231\n",
      "T003_turb DSN_232\n",
      "T003_turb DSN_233\n",
      "T003_turb DSN_234\n",
      "T003_turb DSN_235\n",
      "T003_turb DSN_236\n",
      "T003_turb DSN_237\n",
      "T003_turb DSN_238\n",
      "T003_turb DSN_239\n",
      "T003_turb DSN_240\n",
      "T003_turb DSN_241\n",
      "T003_turb DSN_242\n",
      "T003_turb DSN_243\n",
      "T003_turb DSN_244\n",
      "T003_turb DSN_245\n",
      "T003_turb DSN_246\n",
      "T003_turb DSN_247\n",
      "T003_turb DSN_248\n",
      "T003_turb DSN_249\n",
      "T003_turb DSN_250\n",
      "T003_turb DSN_251\n",
      "T003_turb DSN_252\n",
      "T003_turb DSN_253\n",
      "T003_turb DSN_254\n",
      "T003_turb DSN_255\n",
      "T003_turb DSN_256\n",
      "T003_turb DSN_257\n",
      "T003_turb DSN_258\n",
      "T003_turb DSN_259\n",
      "T003_turb DSN_260\n",
      "T003_turb DSN_261\n",
      "T003_turb DSN_262\n",
      "T003_turb DSN_263\n",
      "T003_turb DSN_264\n",
      "T003_turb DSN_265\n",
      "T003_turb DSN_266\n",
      "T003_turb DSN_267\n",
      "T003_turb DSN_268\n",
      "T003_turb DSN_269\n",
      "T003_turb DSN_270\n",
      "T003_turb DSN_271\n",
      "T003_turb DSN_272\n",
      "T003_turb DSN_273\n",
      "T003_turb DSN_274\n",
      "T003_turb DSN_275\n",
      "T003_turb DSN_276\n",
      "T003_turb DSN_277\n",
      "T003_turb DSN_278\n",
      "T003_turb DSN_279\n",
      "T003_turb DSN_280\n",
      "T003_turb DSN_281\n",
      "T003_turb DSN_282\n",
      "T003_turb DSN_283\n",
      "T003_turb DSN_284\n",
      "T003_turb DSN_285\n",
      "T003_turb DSN_286\n",
      "T003_turb DSN_287\n",
      "T003_turb DSN_288\n",
      "T003_turb DSN_289\n",
      "T003_turb DSN_290\n",
      "T003_turb DSN_291\n",
      "T003_turb DSN_292\n",
      "T003_turb DSN_293\n",
      "T003_turb DSN_294\n",
      "T003_turb DSN_295\n",
      "T003_turb DSN_296\n",
      "T003_turb DSN_297\n",
      "T003_turb DSN_298\n",
      "T003_turb DSN_299\n",
      "T003_turb DSN_300\n",
      "T003_turb DSN_301\n",
      "T003_turb DSN_302\n",
      "T003_turb DSN_303\n",
      "T003_turb DSN_304\n",
      "T003_turb DSN_305\n",
      "T003_turb DSN_306\n",
      "T003_turb DSN_307\n",
      "T003_turb DSN_308\n",
      "T003_turb DSN_309\n",
      "T003_turb DSN_310\n",
      "T003_turb DSN_311\n",
      "T003_turb DSN_312\n",
      "T003_turb DSN_313\n",
      "T003_turb DSN_314\n",
      "T003_turb DSN_315\n",
      "T003_turb DSN_316\n",
      "T003_turb DSN_317\n",
      "T003_turb DSN_318\n",
      "T003_turb DSN_319\n",
      "T003_turb DSN_320\n",
      "T003_turb DSN_321\n",
      "T003_turb DSN_322\n",
      "T003_turb DSN_323\n",
      "T003_turb DSN_324\n",
      "T003_turb DSN_325\n",
      "T003_turb DSN_326\n",
      "T003_turb DSN_327\n",
      "T003_turb DSN_328\n",
      "T003_turb DSN_329\n",
      "T003_turb DSN_330\n",
      "T003_turb DSN_331\n",
      "T003_turb DSN_332\n",
      "T003_turb DSN_333\n",
      "T003_turb DSN_334\n",
      "T003_turb DSN_335\n",
      "T003_turb DSN_336\n",
      "T003_turb DSN_337\n",
      "T003_turb DSN_338\n",
      "T003_turb DSN_339\n",
      "T003_turb DSN_340\n",
      "T003_turb DSN_341\n",
      "T003_turb DSN_342\n",
      "T003_turb DSN_343\n",
      "T003_turb DSN_344\n",
      "T003_turb DSN_345\n",
      "T003_turb DSN_346\n",
      "T003_turb DSN_347\n",
      "T003_turb DSN_348\n",
      "T003_turb DSN_349\n",
      "T003_turb DSN_350\n",
      "T003_turb DSN_351\n",
      "T003_turb DSN_352\n",
      "T003_turb DSN_353\n",
      "T003_turb DSN_354\n",
      "T003_turb DSN_355\n",
      "T003_turb DSN_356\n",
      "T003_turb DSN_357\n",
      "T003_turb DSN_358\n",
      "T003_turb DSN_359\n",
      "T003_turb DSN_360\n",
      "T003_turb DSN_361\n",
      "T003_turb DSN_362\n",
      "T003_turb DSN_363\n",
      "T003_turb DSN_364\n",
      "T003_turb DSN_365\n",
      "T003_turb DSN_366\n",
      "T003_turb DSN_367\n",
      "T003_turb DSN_368\n",
      "T003_turb DSN_369\n",
      "T003_turb DSN_370\n",
      "T003_turb DSN_371\n",
      "T003_turb DSN_372\n",
      "T003_turb DSN_373\n",
      "T003_turb DSN_374\n",
      "T003_turb DSN_375\n",
      "T003_turb DSN_376\n",
      "T003_turb DSN_377\n",
      "T003_turb DSN_378\n",
      "T003_turb DSN_379\n",
      "T003_turb DSN_380\n",
      "T003_turb DSN_381\n",
      "T003_turb DSN_382\n",
      "T003_turb DSN_383\n",
      "skipping T003_turb DSN_383\n"
     ]
    }
   ],
   "source": [
    "re_log_line = r\"\\|\\s+\\d+(\\|\\s+-?\\d+\\.\\d+){4}\\|\\n\"\n",
    "\n",
    "dir_list = []\n",
    "dfs = []\n",
    "dv_mat = []\n",
    "surf_dfs = []\n",
    "surf_cd_dfs = []\n",
    "\n",
    "#df_meta = pd.DataFrame(columns=[\"AOA\"])\n",
    "meta_rows = []\n",
    "\n",
    "result_rows = []\n",
    "for dir1 in sorted(collectedData.keys()):\n",
    "    if dir1.startswith(\"T003\"): # or dir1.startswith(\"T005\"):\n",
    "        for dsn_dir in sorted(collectedData[dir1].keys()):\n",
    "            dir_str = f\"{dir1} {dsn_dir}\"\n",
    "            print(dir_str)\n",
    "            field_names = [\"config_DSN.cfg\", \"grad_cd\", \"surface_adjoint_drag\", \"surface_flow\", \"log_direct\"]\n",
    "            if len(collectedData[dir1][dsn_dir].keys() & set(field_names)) < len(field_names):\n",
    "                print(\"skipping\", dir_str)\n",
    "                continue\n",
    "            if \"config_DSN.cfg\" in collectedData[dir1][dsn_dir]:\n",
    "                config_lines = collectedData[dir1][dsn_dir][\"config_DSN.cfg\"]\n",
    "                dv_line = [l for l in config_lines if l.startswith(\"DV_VALUE=\")][-1].strip()\n",
    "                #print(dv_line)\n",
    "                dvs = [float(x) for x in dv_line[10:].split(\", \")]\n",
    "                #if len(dvs) < 30:\n",
    "                #    print(dir1, dsn_dir)\n",
    "                #    continue\n",
    "                #print(dvs)\n",
    "                if len(dvs) == 38:\n",
    "                    dv_mat.append(dvs)\n",
    "            if \"grad_cd\" in collectedData[dir1][dsn_dir]:\n",
    "                df = pd.DataFrame.from_dict(collectedData[dir1][dsn_dir][\"grad_cd\"])\n",
    "                df[\"DIR\"] = dir_str\n",
    "                dfs.append(df)\n",
    "                dir_list.append(f\"{dir1} {dsn_dir}\")\n",
    "            if \"surface_adjoint_drag\" in collectedData[dir1][dsn_dir]:\n",
    "                surf_df = pd.DataFrame.from_dict(collectedData[dir1][dsn_dir][\"surface_adjoint_drag\"])\n",
    "                surf_df[\"DIR\"] = dir_str\n",
    "                surf_cd_dfs.append(surf_df)\n",
    "            if \"surface_flow\" in collectedData[dir1][dsn_dir]:\n",
    "                surf_df = pd.DataFrame.from_dict(collectedData[dir1][dsn_dir][\"surface_flow\"])\n",
    "                surf_df[\"DIR\"] = dir_str\n",
    "                surf_dfs.append(surf_df)\n",
    "            if \"log_direct\" in collectedData[dir1][dsn_dir]:\n",
    "                log_lines = collectedData[dir1][dsn_dir][\"log_direct\"]\n",
    "                log_lines_iter = [l for l in log_lines if re.match(re_log_line, l)]#[-100:]\n",
    "                lls = log_lines_iter[-1].split(\"|\")[1:-1]\n",
    "                iteration = int(lls[0])\n",
    "                rms_rho = float(lls[1])\n",
    "                rms_nu = float(lls[2])\n",
    "                c_L = float(lls[3])\n",
    "                c_D = float(lls[4])\n",
    "                #print(dir_str, c_L, c_D)\n",
    "                result_rows.append((dir_str, c_L, c_D, rms_rho, rms_nu))\n",
    "            if \"flow.meta\" in collectedData[dir1][dsn_dir]:\n",
    "                #print(collectedData[dir1][dsn_dir][\"flow.meta\"])\n",
    "                #break\n",
    "                for l in collectedData[dir1][dsn_dir][\"flow.meta\"]:\n",
    "                    if l.startswith(\"AOA=\"):\n",
    "                        meta_rows.append((dir_str, float(l.strip().split()[1])))\n",
    "\n",
    "#dv_mat = np.asarray(dv_mat)\n",
    "df_result = pd.DataFrame(columns=[\"DIR\", \"c_L\", \"c_D\", \"rms_rho\", \"rms_nu\"], data=result_rows)\n",
    "df_meta =  pd.DataFrame(columns=[\"DIR\", \"AOA\"], data=meta_rows)\n",
    "df_result = df_result.merge(df_meta, on=\"DIR\")"
   ]
  },
  {
   "cell_type": "code",
   "execution_count": 4,
   "metadata": {},
   "outputs": [],
   "source": [
    "import pickle\n",
    "dir1 = \"T005_turb\"\n",
    "dv_list = pickle.load(open(os.path.join(\"CollectedData\", dir1, \"dv_list.p\"), \"rb\"))\n",
    "dv_mat2 = np.asarray(dv_list) #[:len(dir_list),:]\n",
    "if len(dv_mat):\n",
    "    dv_mat = np.vstack((np.asarray(dv_mat), dv_mat2))[:len(dir_list),:]\n",
    "else:\n",
    "    dv_mat = dv_mat2[:len(dir_list),:]"
   ]
  },
  {
   "cell_type": "code",
   "execution_count": 5,
   "metadata": {},
   "outputs": [
    {
     "data": {
      "text/plain": [
       "((381, 38), (1000, 38))"
      ]
     },
     "execution_count": 5,
     "metadata": {},
     "output_type": "execute_result"
    }
   ],
   "source": [
    "np.asarray(dv_mat).shape, dv_mat2.shape"
   ]
  },
  {
   "cell_type": "code",
   "execution_count": 6,
   "metadata": {},
   "outputs": [
    {
     "data": {
      "text/html": [
       "<div>\n",
       "<style scoped>\n",
       "    .dataframe tbody tr th:only-of-type {\n",
       "        vertical-align: middle;\n",
       "    }\n",
       "\n",
       "    .dataframe tbody tr th {\n",
       "        vertical-align: top;\n",
       "    }\n",
       "\n",
       "    .dataframe thead th {\n",
       "        text-align: right;\n",
       "    }\n",
       "</style>\n",
       "<table border=\"1\" class=\"dataframe\">\n",
       "  <thead>\n",
       "    <tr style=\"text-align: right;\">\n",
       "      <th></th>\n",
       "      <th>DIR</th>\n",
       "      <th>c_L</th>\n",
       "      <th>c_D</th>\n",
       "      <th>rms_rho</th>\n",
       "      <th>rms_nu</th>\n",
       "      <th>AOA</th>\n",
       "    </tr>\n",
       "  </thead>\n",
       "  <tbody>\n",
       "    <tr>\n",
       "      <th>0</th>\n",
       "      <td>T003_turb DSN_002</td>\n",
       "      <td>0.724186</td>\n",
       "      <td>0.011605</td>\n",
       "      <td>-6.451430</td>\n",
       "      <td>-8.755026</td>\n",
       "      <td>2.285286</td>\n",
       "    </tr>\n",
       "    <tr>\n",
       "      <th>1</th>\n",
       "      <td>T003_turb DSN_003</td>\n",
       "      <td>0.724200</td>\n",
       "      <td>0.011163</td>\n",
       "      <td>-6.454355</td>\n",
       "      <td>-8.759274</td>\n",
       "      <td>2.409032</td>\n",
       "    </tr>\n",
       "    <tr>\n",
       "      <th>2</th>\n",
       "      <td>T003_turb DSN_004</td>\n",
       "      <td>0.724185</td>\n",
       "      <td>0.012970</td>\n",
       "      <td>-6.456526</td>\n",
       "      <td>-8.723936</td>\n",
       "      <td>2.223996</td>\n",
       "    </tr>\n",
       "    <tr>\n",
       "      <th>3</th>\n",
       "      <td>T003_turb DSN_005</td>\n",
       "      <td>0.724183</td>\n",
       "      <td>0.012497</td>\n",
       "      <td>-6.435272</td>\n",
       "      <td>-8.678649</td>\n",
       "      <td>2.367014</td>\n",
       "    </tr>\n",
       "    <tr>\n",
       "      <th>4</th>\n",
       "      <td>T003_turb DSN_006</td>\n",
       "      <td>0.724191</td>\n",
       "      <td>0.012171</td>\n",
       "      <td>-6.454220</td>\n",
       "      <td>-8.800678</td>\n",
       "      <td>2.390727</td>\n",
       "    </tr>\n",
       "    <tr>\n",
       "      <th>...</th>\n",
       "      <td>...</td>\n",
       "      <td>...</td>\n",
       "      <td>...</td>\n",
       "      <td>...</td>\n",
       "      <td>...</td>\n",
       "      <td>...</td>\n",
       "    </tr>\n",
       "    <tr>\n",
       "      <th>376</th>\n",
       "      <td>T003_turb DSN_378</td>\n",
       "      <td>0.724169</td>\n",
       "      <td>0.013263</td>\n",
       "      <td>-6.448357</td>\n",
       "      <td>-8.646667</td>\n",
       "      <td>2.416904</td>\n",
       "    </tr>\n",
       "    <tr>\n",
       "      <th>377</th>\n",
       "      <td>T003_turb DSN_379</td>\n",
       "      <td>0.724188</td>\n",
       "      <td>0.012968</td>\n",
       "      <td>-6.450032</td>\n",
       "      <td>-8.760846</td>\n",
       "      <td>2.261456</td>\n",
       "    </tr>\n",
       "    <tr>\n",
       "      <th>378</th>\n",
       "      <td>T003_turb DSN_380</td>\n",
       "      <td>0.724162</td>\n",
       "      <td>0.016124</td>\n",
       "      <td>-6.449873</td>\n",
       "      <td>-8.626946</td>\n",
       "      <td>2.497748</td>\n",
       "    </tr>\n",
       "    <tr>\n",
       "      <th>379</th>\n",
       "      <td>T003_turb DSN_381</td>\n",
       "      <td>0.724169</td>\n",
       "      <td>0.014061</td>\n",
       "      <td>-6.443158</td>\n",
       "      <td>-8.790737</td>\n",
       "      <td>2.203566</td>\n",
       "    </tr>\n",
       "    <tr>\n",
       "      <th>380</th>\n",
       "      <td>T003_turb DSN_382</td>\n",
       "      <td>0.724181</td>\n",
       "      <td>0.013078</td>\n",
       "      <td>-6.445483</td>\n",
       "      <td>-8.627848</td>\n",
       "      <td>2.326658</td>\n",
       "    </tr>\n",
       "  </tbody>\n",
       "</table>\n",
       "<p>381 rows × 6 columns</p>\n",
       "</div>"
      ],
      "text/plain": [
       "                   DIR       c_L       c_D   rms_rho    rms_nu       AOA\n",
       "0    T003_turb DSN_002  0.724186  0.011605 -6.451430 -8.755026  2.285286\n",
       "1    T003_turb DSN_003  0.724200  0.011163 -6.454355 -8.759274  2.409032\n",
       "2    T003_turb DSN_004  0.724185  0.012970 -6.456526 -8.723936  2.223996\n",
       "3    T003_turb DSN_005  0.724183  0.012497 -6.435272 -8.678649  2.367014\n",
       "4    T003_turb DSN_006  0.724191  0.012171 -6.454220 -8.800678  2.390727\n",
       "..                 ...       ...       ...       ...       ...       ...\n",
       "376  T003_turb DSN_378  0.724169  0.013263 -6.448357 -8.646667  2.416904\n",
       "377  T003_turb DSN_379  0.724188  0.012968 -6.450032 -8.760846  2.261456\n",
       "378  T003_turb DSN_380  0.724162  0.016124 -6.449873 -8.626946  2.497748\n",
       "379  T003_turb DSN_381  0.724169  0.014061 -6.443158 -8.790737  2.203566\n",
       "380  T003_turb DSN_382  0.724181  0.013078 -6.445483 -8.627848  2.326658\n",
       "\n",
       "[381 rows x 6 columns]"
      ]
     },
     "execution_count": 6,
     "metadata": {},
     "output_type": "execute_result"
    }
   ],
   "source": [
    "df_result"
   ]
  },
  {
   "cell_type": "code",
   "execution_count": null,
   "metadata": {},
   "outputs": [],
   "source": []
  },
  {
   "cell_type": "code",
   "execution_count": null,
   "metadata": {},
   "outputs": [],
   "source": []
  },
  {
   "cell_type": "code",
   "execution_count": 7,
   "metadata": {},
   "outputs": [],
   "source": [
    "df_cd_grad = pd.concat(dfs) #.set_index(\"DIR\") #.sort_values(\"DIR\")"
   ]
  },
  {
   "cell_type": "code",
   "execution_count": 8,
   "metadata": {},
   "outputs": [
    {
     "data": {
      "text/html": [
       "<div>\n",
       "<style scoped>\n",
       "    .dataframe tbody tr th:only-of-type {\n",
       "        vertical-align: middle;\n",
       "    }\n",
       "\n",
       "    .dataframe tbody tr th {\n",
       "        vertical-align: top;\n",
       "    }\n",
       "\n",
       "    .dataframe thead th {\n",
       "        text-align: right;\n",
       "    }\n",
       "</style>\n",
       "<table border=\"1\" class=\"dataframe\">\n",
       "  <thead>\n",
       "    <tr style=\"text-align: right;\">\n",
       "      <th></th>\n",
       "      <th>VAR</th>\n",
       "      <th>CD_GRAD</th>\n",
       "      <th>STEP</th>\n",
       "      <th>DIR</th>\n",
       "    </tr>\n",
       "  </thead>\n",
       "  <tbody>\n",
       "    <tr>\n",
       "      <th>0</th>\n",
       "      <td>0</td>\n",
       "      <td>0.932305</td>\n",
       "      <td>0.001</td>\n",
       "      <td>T003_turb DSN_002</td>\n",
       "    </tr>\n",
       "    <tr>\n",
       "      <th>1</th>\n",
       "      <td>1</td>\n",
       "      <td>0.902509</td>\n",
       "      <td>0.001</td>\n",
       "      <td>T003_turb DSN_002</td>\n",
       "    </tr>\n",
       "    <tr>\n",
       "      <th>2</th>\n",
       "      <td>2</td>\n",
       "      <td>0.756924</td>\n",
       "      <td>0.001</td>\n",
       "      <td>T003_turb DSN_002</td>\n",
       "    </tr>\n",
       "    <tr>\n",
       "      <th>3</th>\n",
       "      <td>3</td>\n",
       "      <td>0.575045</td>\n",
       "      <td>0.001</td>\n",
       "      <td>T003_turb DSN_002</td>\n",
       "    </tr>\n",
       "    <tr>\n",
       "      <th>4</th>\n",
       "      <td>4</td>\n",
       "      <td>0.394999</td>\n",
       "      <td>0.001</td>\n",
       "      <td>T003_turb DSN_002</td>\n",
       "    </tr>\n",
       "    <tr>\n",
       "      <th>...</th>\n",
       "      <td>...</td>\n",
       "      <td>...</td>\n",
       "      <td>...</td>\n",
       "      <td>...</td>\n",
       "    </tr>\n",
       "    <tr>\n",
       "      <th>33</th>\n",
       "      <td>33</td>\n",
       "      <td>-0.522271</td>\n",
       "      <td>0.001</td>\n",
       "      <td>T003_turb DSN_382</td>\n",
       "    </tr>\n",
       "    <tr>\n",
       "      <th>34</th>\n",
       "      <td>34</td>\n",
       "      <td>-0.384100</td>\n",
       "      <td>0.001</td>\n",
       "      <td>T003_turb DSN_382</td>\n",
       "    </tr>\n",
       "    <tr>\n",
       "      <th>35</th>\n",
       "      <td>35</td>\n",
       "      <td>-0.214672</td>\n",
       "      <td>0.001</td>\n",
       "      <td>T003_turb DSN_382</td>\n",
       "    </tr>\n",
       "    <tr>\n",
       "      <th>36</th>\n",
       "      <td>36</td>\n",
       "      <td>0.079292</td>\n",
       "      <td>0.001</td>\n",
       "      <td>T003_turb DSN_382</td>\n",
       "    </tr>\n",
       "    <tr>\n",
       "      <th>37</th>\n",
       "      <td>37</td>\n",
       "      <td>0.543118</td>\n",
       "      <td>0.001</td>\n",
       "      <td>T003_turb DSN_382</td>\n",
       "    </tr>\n",
       "  </tbody>\n",
       "</table>\n",
       "<p>14478 rows × 4 columns</p>\n",
       "</div>"
      ],
      "text/plain": [
       "    VAR   CD_GRAD   STEP                DIR\n",
       "0     0  0.932305  0.001  T003_turb DSN_002\n",
       "1     1  0.902509  0.001  T003_turb DSN_002\n",
       "2     2  0.756924  0.001  T003_turb DSN_002\n",
       "3     3  0.575045  0.001  T003_turb DSN_002\n",
       "4     4  0.394999  0.001  T003_turb DSN_002\n",
       "..  ...       ...    ...                ...\n",
       "33   33 -0.522271  0.001  T003_turb DSN_382\n",
       "34   34 -0.384100  0.001  T003_turb DSN_382\n",
       "35   35 -0.214672  0.001  T003_turb DSN_382\n",
       "36   36  0.079292  0.001  T003_turb DSN_382\n",
       "37   37  0.543118  0.001  T003_turb DSN_382\n",
       "\n",
       "[14478 rows x 4 columns]"
      ]
     },
     "execution_count": 8,
     "metadata": {},
     "output_type": "execute_result"
    }
   ],
   "source": [
    "df_cd_grad"
   ]
  },
  {
   "cell_type": "code",
   "execution_count": null,
   "metadata": {},
   "outputs": [],
   "source": []
  },
  {
   "cell_type": "code",
   "execution_count": 9,
   "metadata": {},
   "outputs": [],
   "source": [
    "d_CD = np.resize(df_cd_grad[\"CD_GRAD\"].values, ((len(dir_list), 38)))"
   ]
  },
  {
   "cell_type": "code",
   "execution_count": 10,
   "metadata": {},
   "outputs": [],
   "source": [
    "#d_CD[2] == df_cd_grad[df_cd_grad[\"DIR\"]==\"T003_turb DSN_004\"][\"CD_GRAD\"].values"
   ]
  },
  {
   "cell_type": "code",
   "execution_count": 11,
   "metadata": {},
   "outputs": [
    {
     "data": {
      "text/plain": [
       "(381, 38)"
      ]
     },
     "execution_count": 11,
     "metadata": {},
     "output_type": "execute_result"
    }
   ],
   "source": [
    "d_CD.shape"
   ]
  },
  {
   "cell_type": "code",
   "execution_count": 12,
   "metadata": {},
   "outputs": [],
   "source": [
    "C = np.dot(d_CD.T, d_CD) / d_CD.shape[0]"
   ]
  },
  {
   "cell_type": "code",
   "execution_count": 13,
   "metadata": {},
   "outputs": [
    {
     "data": {
      "text/plain": [
       "array([[ 0.94340596,  0.92199914,  0.78244046, ..., -0.13459403,\n",
       "         0.0632007 ,  0.35466213],\n",
       "       [ 0.92199914,  0.90109992,  0.76472987, ..., -0.13158833,\n",
       "         0.06180316,  0.34683609],\n",
       "       [ 0.78244046,  0.76472987,  0.64903004, ..., -0.11174788,\n",
       "         0.05249738,  0.29465241],\n",
       "       ...,\n",
       "       [-0.13459403, -0.13158833, -0.11174788, ...,  0.02085843,\n",
       "        -0.00915793, -0.05388723],\n",
       "       [ 0.0632007 ,  0.06180316,  0.05249738, ..., -0.00915793,\n",
       "         0.00449763,  0.02508269],\n",
       "       [ 0.35466213,  0.34683609,  0.29465241, ..., -0.05388723,\n",
       "         0.02508269,  0.14605513]])"
      ]
     },
     "execution_count": 13,
     "metadata": {},
     "output_type": "execute_result"
    }
   ],
   "source": [
    "np.dot(d_CD.T, d_CD) / d_CD.shape[0]"
   ]
  },
  {
   "cell_type": "code",
   "execution_count": 14,
   "metadata": {},
   "outputs": [
    {
     "data": {
      "image/png": "[encoded data removed]",
      "text/plain": [
       "<Figure size 432x288 with 1 Axes>"
      ]
     },
     "metadata": {
      "needs_background": "light"
     },
     "output_type": "display_data"
    }
   ],
   "source": [
    "for i in range(38):\n",
    "    plt.plot(C[i], 'o')"
   ]
  },
  {
   "cell_type": "code",
   "execution_count": 15,
   "metadata": {},
   "outputs": [
    {
     "data": {
      "text/plain": [
       "(38, 38)"
      ]
     },
     "execution_count": 15,
     "metadata": {},
     "output_type": "execute_result"
    }
   ],
   "source": [
    "C.shape"
   ]
  },
  {
   "cell_type": "code",
   "execution_count": 16,
   "metadata": {},
   "outputs": [
    {
     "data": {
      "text/plain": [
       "array([[ 0.94340596,  0.92199914,  0.78244046, ..., -0.13459403,\n",
       "         0.0632007 ,  0.35466213],\n",
       "       [ 0.92199914,  0.90109992,  0.76472987, ..., -0.13158833,\n",
       "         0.06180316,  0.34683609],\n",
       "       [ 0.78244046,  0.76472987,  0.64903004, ..., -0.11174788,\n",
       "         0.05249738,  0.29465241],\n",
       "       ...,\n",
       "       [-0.13459403, -0.13158833, -0.11174788, ...,  0.02085843,\n",
       "        -0.00915793, -0.05388723],\n",
       "       [ 0.0632007 ,  0.06180316,  0.05249738, ..., -0.00915793,\n",
       "         0.00449763,  0.02508269],\n",
       "       [ 0.35466213,  0.34683609,  0.29465241, ..., -0.05388723,\n",
       "         0.02508269,  0.14605513]])"
      ]
     },
     "execution_count": 16,
     "metadata": {},
     "output_type": "execute_result"
    }
   ],
   "source": [
    "C"
   ]
  },
  {
   "cell_type": "code",
   "execution_count": 17,
   "metadata": {},
   "outputs": [],
   "source": [
    "import scipy"
   ]
  },
  {
   "cell_type": "code",
   "execution_count": 18,
   "metadata": {},
   "outputs": [],
   "source": [
    "from scipy import linalg"
   ]
  },
  {
   "cell_type": "code",
   "execution_count": 19,
   "metadata": {},
   "outputs": [],
   "source": [
    "l, W = scipy.linalg.eig(C)"
   ]
  },
  {
   "cell_type": "code",
   "execution_count": 20,
   "metadata": {},
   "outputs": [],
   "source": [
    "np.outer(d_CD[0], d_CD[0]).shape\n",
    "\n",
    "C2 = np.zeros_like(C)\n",
    "for i in range(d_CD.shape[0]):\n",
    "    C2 += np.outer(d_CD[i], d_CD[i].T)\n",
    "\n",
    "C2 = C2 / d_CD.shape[0]"
   ]
  },
  {
   "cell_type": "code",
   "execution_count": 21,
   "metadata": {},
   "outputs": [
    {
     "data": {
      "text/plain": [
       "array([ 9.32305e-01,  9.02509e-01,  7.56924e-01,  5.75045e-01,\n",
       "        3.94999e-01,  2.38223e-01,  1.15757e-01,  3.09355e-02,\n",
       "       -1.86796e-02, -3.93433e-02, -3.91279e-02, -2.61724e-02,\n",
       "       -7.66966e-03,  9.85289e-03,  1.82074e-02,  1.28256e-03,\n",
       "       -8.18707e-02, -3.49449e-01, -1.17100e+00,  3.75622e+00,\n",
       "        3.49613e+00,  2.88665e+00,  2.17368e+00,  1.46664e+00,\n",
       "        8.27131e-01,  2.90078e-01, -1.27991e-01, -4.23715e-01,\n",
       "       -6.02687e-01, -6.76632e-01, -6.62975e-01, -5.86550e-01,\n",
       "       -4.79741e-01, -3.73426e-01, -2.74779e-01, -1.48658e-01,\n",
       "        6.07028e-02,  3.38619e-01])"
      ]
     },
     "execution_count": 21,
     "metadata": {},
     "output_type": "execute_result"
    }
   ],
   "source": [
    "d_CD[0]"
   ]
  },
  {
   "cell_type": "code",
   "execution_count": 22,
   "metadata": {},
   "outputs": [
    {
     "data": {
      "text/plain": [
       "array([[ 0.86919261,  0.84141365,  0.70568403, ..., -0.1385946 ,\n",
       "         0.05659352,  0.31569619],\n",
       "       [ 0.84141365,  0.8145225 ,  0.68313072, ..., -0.13416518,\n",
       "         0.05478482,  0.3056067 ],\n",
       "       [ 0.70568403,  0.68313072,  0.57293394, ..., -0.11252281,\n",
       "         0.04594741,  0.25630885],\n",
       "       ...,\n",
       "       [-0.1385946 , -0.13416518, -0.11252281, ...,  0.0220992 ,\n",
       "        -0.00902396, -0.05033842],\n",
       "       [ 0.05659352,  0.05478482,  0.04594741, ..., -0.00902396,\n",
       "         0.00368483,  0.02055512],\n",
       "       [ 0.31569619,  0.3056067 ,  0.25630885, ..., -0.05033842,\n",
       "         0.02055512,  0.11466283]])"
      ]
     },
     "execution_count": 22,
     "metadata": {},
     "output_type": "execute_result"
    }
   ],
   "source": [
    "i = 0\n",
    "np.outer(d_CD[i], d_CD[i].T)#.shape"
   ]
  },
  {
   "cell_type": "code",
   "execution_count": 23,
   "metadata": {},
   "outputs": [
    {
     "data": {
      "text/plain": [
       "(array([[0.94340596, 0.92199914, 0.78244046],\n",
       "        [0.92199914, 0.90109992, 0.76472987],\n",
       "        [0.78244046, 0.76472987, 0.64903004]]),\n",
       " array([[0.94340596, 0.92199914, 0.78244046],\n",
       "        [0.92199914, 0.90109992, 0.76472987],\n",
       "        [0.78244046, 0.76472987, 0.64903004]]))"
      ]
     },
     "execution_count": 23,
     "metadata": {},
     "output_type": "execute_result"
    }
   ],
   "source": [
    "C[:3,:3], C2[:3,:3]"
   ]
  },
  {
   "cell_type": "code",
   "execution_count": 24,
   "metadata": {
    "scrolled": true
   },
   "outputs": [
    {
     "data": {
      "text/plain": [
       "(0.9434059612518765,\n",
       " array([0.00228135, 0.00200547, 0.0025872 , 0.00226736, 0.00226774,\n",
       "        0.0023771 , 0.00262444, 0.00215269, 0.00254902, 0.00242838,\n",
       "        0.00253413, 0.00251691, 0.00275029, 0.00267817, 0.00264856,\n",
       "        0.00252987, 0.00257859, 0.0025538 , 0.002486  , 0.00238094,\n",
       "        0.00238153, 0.00237115, 0.00234164, 0.00251697, 0.00230126,\n",
       "        0.00203915, 0.00231104, 0.00250331, 0.00266218, 0.0023986 ,\n",
       "        0.00284425, 0.00247303, 0.00247851, 0.00242432, 0.00267049,\n",
       "        0.00255316, 0.00276288, 0.00239366, 0.00259622, 0.00238529,\n",
       "        0.00224343, 0.00248637, 0.00266461, 0.00261671, 0.00231277,\n",
       "        0.00233241, 0.00266599, 0.00274513, 0.00247909, 0.00248007,\n",
       "        0.00276438, 0.00233054, 0.00238915, 0.00256076, 0.00210109,\n",
       "        0.00226584, 0.00262264, 0.00273199, 0.00252863, 0.0026493 ,\n",
       "        0.00213843, 0.00243656, 0.00238453, 0.00279122, 0.00255037,\n",
       "        0.00265267, 0.00252265, 0.00245446, 0.00249219, 0.00235156,\n",
       "        0.00248133, 0.00224498, 0.00219135, 0.00245989, 0.00268592,\n",
       "        0.00246467, 0.00238024, 0.00256761, 0.00270677, 0.00261628,\n",
       "        0.00256695, 0.00232552, 0.0022946 , 0.00244376, 0.002243  ,\n",
       "        0.00227264, 0.00245874, 0.0021131 , 0.00276557, 0.00263618,\n",
       "        0.00269187, 0.00236506, 0.00244308, 0.00272129, 0.00285382,\n",
       "        0.00262061, 0.00242976, 0.0021417 , 0.0024716 , 0.00229923,\n",
       "        0.00282314, 0.00214112, 0.00218694, 0.00257061, 0.00224282,\n",
       "        0.00287625, 0.00252007, 0.00246258, 0.00269251, 0.00253809,\n",
       "        0.00245853, 0.00250494, 0.00212156, 0.00269884, 0.00240316,\n",
       "        0.00255106, 0.00225441, 0.00267828, 0.00222343, 0.00243446,\n",
       "        0.00265104, 0.00240433, 0.00232557, 0.00235749, 0.00274143,\n",
       "        0.00251718, 0.00243516, 0.00251725, 0.0026435 , 0.00255485,\n",
       "        0.00238479, 0.00268411, 0.00267658, 0.00269857, 0.00245169,\n",
       "        0.00214132, 0.00252242, 0.00254763, 0.00233608, 0.00277414,\n",
       "        0.0024898 , 0.00227782, 0.00272193, 0.00263865, 0.00263671,\n",
       "        0.00221156, 0.00253124, 0.00218993, 0.002486  , 0.00252759,\n",
       "        0.0029086 , 0.00245203, 0.00293053, 0.00252406, 0.00282314,\n",
       "        0.00225379, 0.00253829, 0.00269623, 0.00265975, 0.00236121,\n",
       "        0.00264692, 0.00274787, 0.0020837 , 0.002716  , 0.00253739,\n",
       "        0.00254192, 0.00275383, 0.00239138, 0.00251803, 0.0024875 ,\n",
       "        0.00277074, 0.0023737 , 0.00277247, 0.00194287, 0.00258303,\n",
       "        0.00247804, 0.00252021, 0.00270113, 0.00239221, 0.0024724 ,\n",
       "        0.00261166, 0.00250819, 0.00227858, 0.00223815, 0.00267769,\n",
       "        0.00270528, 0.00252759, 0.00214064, 0.00230055, 0.00216117,\n",
       "        0.00264624, 0.00255302, 0.00225582, 0.00250159, 0.00268974,\n",
       "        0.00230011, 0.00240892, 0.00252431, 0.00267213, 0.00238591,\n",
       "        0.0022285 , 0.00248996, 0.00233598, 0.00267663, 0.0022761 ,\n",
       "        0.00269442, 0.00254672, 0.00242559, 0.00274626, 0.00263061,\n",
       "        0.00271141, 0.0021435 , 0.00238862, 0.00267653, 0.0021621 ,\n",
       "        0.0023531 , 0.0022797 , 0.00249795, 0.00250141, 0.00241464,\n",
       "        0.00259358, 0.00274309, 0.00231586, 0.00251591, 0.00281444,\n",
       "        0.00276153, 0.00264113, 0.00267594, 0.00242581, 0.00242971,\n",
       "        0.00249887, 0.00210781, 0.00224871, 0.00222461, 0.00270677,\n",
       "        0.00253979, 0.00206237, 0.00214151, 0.00274594, 0.002473  ,\n",
       "        0.00253738, 0.0024651 , 0.00237671, 0.00271814, 0.00209761,\n",
       "        0.0026681 , 0.00263087, 0.00217339, 0.00235955, 0.00248084,\n",
       "        0.00268868, 0.00221154, 0.00246628, 0.00228764, 0.00246412,\n",
       "        0.00258185, 0.00241946, 0.00238871, 0.00256571, 0.00245603,\n",
       "        0.00222697, 0.00283442, 0.00250271, 0.00257104, 0.00239098,\n",
       "        0.00216762, 0.00242599, 0.00266266, 0.0023781 , 0.00227342,\n",
       "        0.00217163, 0.00255444, 0.00226743, 0.0032807 , 0.00250136,\n",
       "        0.00237891, 0.00271707, 0.00254512, 0.00289695, 0.00226731,\n",
       "        0.00228195, 0.00226985, 0.00236525, 0.00248223, 0.00283208,\n",
       "        0.00252372, 0.00244465, 0.00244997, 0.00237076, 0.00269431,\n",
       "        0.00263881, 0.00225361, 0.00244667, 0.00225119, 0.002211  ,\n",
       "        0.00224688, 0.00248416, 0.00271809, 0.00251048, 0.00230458,\n",
       "        0.00248169, 0.00251611, 0.00268602, 0.00243823, 0.00243577,\n",
       "        0.00212798, 0.00231979, 0.00226083, 0.00241061, 0.00257506,\n",
       "        0.00217325, 0.00278657, 0.00237747, 0.0024496 , 0.00256907,\n",
       "        0.00222373, 0.00225334, 0.00258698, 0.00228481, 0.00248808,\n",
       "        0.00224082, 0.00244437, 0.00213394, 0.00238946, 0.00235363,\n",
       "        0.00257916, 0.00244076, 0.0027533 , 0.00228031, 0.00243704,\n",
       "        0.00227375, 0.00254229, 0.00260298, 0.00253397, 0.00215152,\n",
       "        0.00261267, 0.0025505 , 0.00245951, 0.00251629, 0.00246951,\n",
       "        0.00258772, 0.0025997 , 0.00241934, 0.0024657 , 0.002587  ,\n",
       "        0.00220663, 0.00246971, 0.00240275, 0.00255557, 0.00247967,\n",
       "        0.00248416, 0.00269612, 0.00260608, 0.00295766, 0.00263623,\n",
       "        0.00252432, 0.00229389, 0.00268964, 0.00269203, 0.00205044,\n",
       "        0.00248257, 0.00250442, 0.0025973 , 0.00233215, 0.00264134,\n",
       "        0.00260309, 0.00240754, 0.00231338, 0.0025539 , 0.00267049,\n",
       "        0.00249116, 0.00216264, 0.0023735 , 0.0024616 , 0.00261554,\n",
       "        0.00263876, 0.00219615, 0.00228972, 0.00227997, 0.00273017,\n",
       "        0.00233182]),\n",
       " array([8.69192613e-01, 8.14522495e-01, 5.72933942e-01, 3.30676752e-01,\n",
       "        1.56024210e-01, 5.67501977e-02, 1.33996830e-02, 9.57005160e-04,\n",
       "        3.48927456e-04, 1.54789525e-03, 1.53099256e-03, 6.84994522e-04,\n",
       "        5.88236845e-05, 9.70794414e-05, 3.31509415e-04, 1.64496015e-06,\n",
       "        6.70281152e-03, 1.22114604e-01, 1.37124100e+00, 1.41091887e+01,\n",
       "        1.22229250e+01, 8.33274822e+00, 4.72488474e+00, 2.15103289e+00,\n",
       "        6.84145691e-01, 8.41452461e-02, 1.63816961e-02, 1.79534401e-01,\n",
       "        3.63231620e-01, 4.57830863e-01, 4.39535851e-01, 3.44040903e-01,\n",
       "        2.30151427e-01, 1.39446977e-01, 7.55034988e-02, 2.20992010e-02,\n",
       "        3.68482993e-03, 1.14662827e-01]))"
      ]
     },
     "execution_count": 24,
     "metadata": {},
     "output_type": "execute_result"
    }
   ],
   "source": [
    "i = 0\n",
    "C2[0,0], d_CD[:,0]*d_CD[:,0].T / d_CD.shape[0], np.multiply(d_CD[i].T, d_CD[i])"
   ]
  },
  {
   "cell_type": "code",
   "execution_count": 25,
   "metadata": {},
   "outputs": [
    {
     "data": {
      "text/plain": [
       "array([6.75565946e+01+0.j, 5.35083183e-01+0.j, 7.38663389e-02+0.j,\n",
       "       4.48149773e-02+0.j, 7.09691478e-03+0.j, 4.02772040e-03+0.j,\n",
       "       1.46688559e-03+0.j, 1.07016246e-03+0.j, 3.69589719e-04+0.j,\n",
       "       1.15605727e-04+0.j, 6.03121339e-05+0.j, 2.45008298e-05+0.j,\n",
       "       1.70721863e-05+0.j, 1.02117162e-05+0.j, 5.55325421e-06+0.j,\n",
       "       2.68991685e-06+0.j, 1.89245268e-06+0.j, 4.26975577e-07+0.j,\n",
       "       2.13484457e-07+0.j, 4.98533088e-08+0.j, 2.39350894e-08+0.j,\n",
       "       5.54902044e-09+0.j, 1.09675722e-09+0.j, 2.17393260e-10+0.j,\n",
       "       7.67912958e-11+0.j, 2.95338782e-11+0.j, 7.34234983e-12+0.j,\n",
       "       5.61698004e-12+0.j, 1.73214419e-12+0.j, 6.15558419e-13+0.j,\n",
       "       2.91569340e-13+0.j, 1.11325146e-13+0.j, 1.01225469e-13+0.j,\n",
       "       7.58412611e-14+0.j, 4.76527221e-14+0.j, 7.81346992e-15+0.j,\n",
       "       2.05585267e-15+0.j, 1.57950608e-15+0.j])"
      ]
     },
     "execution_count": 25,
     "metadata": {},
     "output_type": "execute_result"
    }
   ],
   "source": [
    "l"
   ]
  },
  {
   "cell_type": "code",
   "execution_count": 26,
   "metadata": {},
   "outputs": [],
   "source": [
    "import matplotlib.pyplot as plt"
   ]
  },
  {
   "cell_type": "code",
   "execution_count": 27,
   "metadata": {
    "scrolled": true
   },
   "outputs": [
    {
     "name": "stderr",
     "output_type": "stream",
     "text": [
      "C:\\Users\\Nils\\Anaconda3\\envs\\MA\\lib\\site-packages\\numpy\\core\\_asarray.py:83: ComplexWarning: Casting complex values to real discards the imaginary part\n",
      "  return array(a, dtype, copy=False, order=order)\n"
     ]
    },
    {
     "data": {
      "text/plain": [
       "Text(0.5, 0, 'Eigenmodes')"
      ]
     },
     "execution_count": 27,
     "metadata": {},
     "output_type": "execute_result"
    },
    {
     "data": {
      "image/png": "[encoded data removed]",
      "text/plain": [
       "<Figure size 432x288 with 1 Axes>"
      ]
     },
     "metadata": {
      "needs_background": "light"
     },
     "output_type": "display_data"
    }
   ],
   "source": [
    "plt.semilogy(range(1,39), l, \"-s\")\n",
    "plt.gca().set_ylabel(\"Eigenvalue\")\n",
    "plt.gca().set_xlabel(\"Eigenmodes\")"
   ]
  },
  {
   "cell_type": "code",
   "execution_count": 28,
   "metadata": {},
   "outputs": [
    {
     "name": "stderr",
     "output_type": "stream",
     "text": [
      "C:\\Users\\Nils\\Anaconda3\\envs\\MA\\lib\\site-packages\\numpy\\core\\_asarray.py:83: ComplexWarning: Casting complex values to real discards the imaginary part\n",
      "  return array(a, dtype, copy=False, order=order)\n"
     ]
    },
    {
     "data": {
      "text/plain": [
       "Text(0, 0.5, 'Cum. Fraction of Total EV')"
      ]
     },
     "execution_count": 28,
     "metadata": {},
     "output_type": "execute_result"
    },
    {
     "data": {
      "image/png": "[encoded data removed]",
      "text/plain": [
       "<Figure size 432x288 with 1 Axes>"
      ]
     },
     "metadata": {
      "needs_background": "light"
     },
     "output_type": "display_data"
    }
   ],
   "source": [
    "plt.plot(range(1,39), l.cumsum() / l.sum(), \"-s\")\n",
    "plt.gca().set_xlabel(\"Eigenmodes\")\n",
    "plt.gca().set_ylabel(\"Cum. Fraction of Total EV\")"
   ]
  },
  {
   "cell_type": "code",
   "execution_count": 384,
   "metadata": {},
   "outputs": [
    {
     "data": {
      "text/plain": [
       "(array([6.75565946e+01+0.j, 5.35083183e-01+0.j, 7.38663389e-02+0.j,\n",
       "        4.48149773e-02+0.j, 7.09691478e-03+0.j, 4.02772040e-03+0.j,\n",
       "        1.46688559e-03+0.j, 1.07016246e-03+0.j, 3.69589719e-04+0.j,\n",
       "        1.15605727e-04+0.j, 6.03121339e-05+0.j, 2.45008298e-05+0.j,\n",
       "        1.70721863e-05+0.j, 1.02117162e-05+0.j, 5.55325421e-06+0.j,\n",
       "        2.68991685e-06+0.j, 1.89245268e-06+0.j, 4.26975577e-07+0.j,\n",
       "        2.13484457e-07+0.j, 4.98533088e-08+0.j, 2.39350894e-08+0.j,\n",
       "        5.54902044e-09+0.j, 1.09675722e-09+0.j, 2.17393260e-10+0.j,\n",
       "        7.67912958e-11+0.j, 2.95338782e-11+0.j, 7.34234983e-12+0.j,\n",
       "        5.61698004e-12+0.j, 1.73214419e-12+0.j, 6.15558419e-13+0.j,\n",
       "        2.91569340e-13+0.j, 1.11325146e-13+0.j, 1.01225469e-13+0.j,\n",
       "        7.58412611e-14+0.j, 4.76527221e-14+0.j, 7.81346992e-15+0.j,\n",
       "        2.05585267e-15+0.j, 1.57950608e-15+0.j]),\n",
       " array([0.99020831+0.j, 0.99805127+0.j, 0.99913397+0.j, 0.99979084+0.j,\n",
       "        0.99989486+0.j, 0.9999539 +0.j, 0.9999754 +0.j, 0.99999109+0.j,\n",
       "        0.9999965 +0.j, 0.9999982 +0.j, 0.99999908+0.j, 0.99999944+0.j,\n",
       "        0.99999969+0.j, 0.99999984+0.j, 0.99999992+0.j, 0.99999996+0.j,\n",
       "        0.99999999+0.j, 1.        +0.j, 1.        +0.j, 1.        +0.j,\n",
       "        1.        +0.j, 1.        +0.j, 1.        +0.j, 1.        +0.j,\n",
       "        1.        +0.j, 1.        +0.j, 1.        +0.j, 1.        +0.j,\n",
       "        1.        +0.j, 1.        +0.j, 1.        +0.j, 1.        +0.j,\n",
       "        1.        +0.j, 1.        +0.j, 1.        +0.j, 1.        +0.j,\n",
       "        1.        +0.j, 1.        +0.j]))"
      ]
     },
     "execution_count": 384,
     "metadata": {},
     "output_type": "execute_result"
    }
   ],
   "source": [
    "l, l.cumsum() / l.sum()"
   ]
  },
  {
   "cell_type": "code",
   "execution_count": 382,
   "metadata": {},
   "outputs": [
    {
     "name": "stdout",
     "output_type": "stream",
     "text": [
      "0.9902\n",
      "0.9981\n",
      "0.9991\n",
      "0.9998\n",
      "0.9999\n",
      "1.0000\n",
      "1.0000\n",
      "1.0000\n",
      "1.0000\n",
      "1.0000\n",
      "1.0000\n",
      "1.0000\n",
      "1.0000\n",
      "1.0000\n",
      "1.0000\n",
      "1.0000\n",
      "1.0000\n",
      "1.0000\n",
      "1.0000\n",
      "1.0000\n",
      "1.0000\n",
      "1.0000\n",
      "1.0000\n",
      "1.0000\n",
      "1.0000\n",
      "1.0000\n",
      "1.0000\n",
      "1.0000\n",
      "1.0000\n",
      "1.0000\n",
      "1.0000\n",
      "1.0000\n",
      "1.0000\n",
      "1.0000\n",
      "1.0000\n",
      "1.0000\n",
      "1.0000\n",
      "1.0000\n"
     ]
    },
    {
     "name": "stderr",
     "output_type": "stream",
     "text": [
      "<ipython-input-382-368f35145ae8>:1: ComplexWarning: Casting complex values to real discards the imaginary part\n",
      "  for x in l.cumsum() / float(l.sum()):\n",
      "<ipython-input-382-368f35145ae8>:2: ComplexWarning: Casting complex values to real discards the imaginary part\n",
      "  print(\"{:.4f}\".format(float(x)))\n"
     ]
    }
   ],
   "source": [
    "for x in l.cumsum() / float(l.sum()):\n",
    "    print(\"{:.4f}\".format(float(x)))"
   ]
  },
  {
   "cell_type": "code",
   "execution_count": 386,
   "metadata": {},
   "outputs": [],
   "source": [
    "r = 5"
   ]
  },
  {
   "cell_type": "code",
   "execution_count": 387,
   "metadata": {},
   "outputs": [],
   "source": [
    "#U = np.zeros_like(W)\n",
    "U = W[:r,:].copy()\n",
    "l1 = l[:r]\n",
    "\n",
    "#V = np.zeros_like(W)\n",
    "V = W[r:,:].copy()\n",
    "l2 = l[r:]"
   ]
  },
  {
   "cell_type": "code",
   "execution_count": 388,
   "metadata": {},
   "outputs": [],
   "source": [
    "#U = np.zeros_like(W)\n",
    "U2 = W[:,:r].copy()\n",
    "l1 = l[:r]\n",
    "\n",
    "#V = np.zeros_like(W)\n",
    "V2 = W[:,r:].copy()\n",
    "l2 = l[r:]"
   ]
  },
  {
   "cell_type": "code",
   "execution_count": 389,
   "metadata": {},
   "outputs": [
    {
     "data": {
      "text/plain": [
       "array([[ 0.00000000e+00,  3.52289699e-02, -1.32985635e-01,\n",
       "        -2.72566895e-01, -8.39377105e-02, -1.14538701e-01,\n",
       "         2.52574633e-01, -8.70088079e-02,  6.59355560e-02,\n",
       "         4.05264402e-04,  2.35437485e-01, -3.11037500e-01,\n",
       "         2.90032214e-01, -3.14155035e-01, -3.63445110e-01,\n",
       "        -1.89264311e-02, -2.43289058e-01, -2.28824862e-01,\n",
       "         7.18088357e-02,  6.01153189e-01,  4.82672382e-01,\n",
       "         2.60986724e-01,  3.52257999e-01,  4.21773922e-01,\n",
       "         2.01141889e-01,  2.58792824e-02,  5.04534722e-02,\n",
       "         1.47774641e-03, -4.15689731e-02, -2.03909468e-02,\n",
       "        -8.82741485e-02, -1.11235979e-01, -7.31192387e-02,\n",
       "        -5.81091426e-02, -2.66142185e-02, -1.96175529e-02,\n",
       "         8.55199105e-03,  4.48422825e-02],\n",
       "       [-3.52289699e-02,  0.00000000e+00, -1.49932415e-01,\n",
       "        -2.94610188e-01, -1.02359448e-01, -1.24155118e-01,\n",
       "         2.06450776e-01, -1.16505398e-01,  7.01071260e-02,\n",
       "        -3.87343548e-02,  9.60731925e-02, -1.16130150e-01,\n",
       "         5.76375764e-02,  2.49057781e-03,  3.50463070e-02,\n",
       "        -3.85334294e-02,  2.52485068e-01,  2.27902965e-01,\n",
       "        -3.69114605e-02, -4.53627070e-01, -2.04862868e-01,\n",
       "         2.85783879e-01,  8.41083537e-02, -1.43961718e-01,\n",
       "         3.17088146e-01,  7.54941509e-01,  4.37150095e-01,\n",
       "         3.80542701e-01,  3.06435746e-01, -6.47911679e-02,\n",
       "         9.63951695e-02,  1.81167437e-01, -5.05076142e-02,\n",
       "        -1.10887287e-02, -2.65328749e-02,  4.08918868e-02,\n",
       "        -9.71041162e-03, -8.50264387e-02],\n",
       "       [ 1.32985635e-01,  1.49932415e-01,  0.00000000e+00,\n",
       "        -1.85236817e-01, -5.98473495e-02, -1.10831365e-01,\n",
       "         1.13849626e-01, -1.80699992e-01,  2.80159388e-02,\n",
       "        -1.28365538e-01, -1.05079041e-01, -4.10277433e-02,\n",
       "        -1.95909680e-01,  7.84631481e-02,  1.37911608e-01,\n",
       "        -6.83494756e-02,  2.12964583e-01,  2.70366463e-01,\n",
       "         4.31686963e-01,  2.97613406e-01,  1.84159674e-01,\n",
       "         1.01369974e-02, -8.15411753e-02, -3.54278282e-02,\n",
       "        -1.50471539e-01, -4.65742005e-01, -7.39508227e-02,\n",
       "         3.49498921e-02,  1.00343007e-01,  6.20352669e-01,\n",
       "         1.88923313e-01, -3.20033775e-01,  1.91029461e-01,\n",
       "         1.04013001e-01,  5.76433958e-02,  5.79722912e-05,\n",
       "         3.86415463e-03, -1.43930602e-02],\n",
       "       [ 2.72566895e-01,  2.94610188e-01,  1.85236817e-01,\n",
       "         0.00000000e+00,  8.44305835e-02,  3.50101706e-02,\n",
       "         1.68491910e-01, -7.14030212e-02,  1.74228566e-01,\n",
       "        -1.93647733e-02, -8.38086221e-02,  1.65155103e-01,\n",
       "        -1.77942894e-01,  2.03793697e-01,  2.43471594e-01,\n",
       "         4.10651010e-02,  9.57824571e-03, -1.38439335e-01,\n",
       "        -4.24587401e-01,  2.89773192e-01, -7.64810238e-02,\n",
       "        -4.79735770e-01, -2.38128769e-01,  9.82054034e-02,\n",
       "        -7.43343279e-02, -1.59909334e-01,  8.91527968e-02,\n",
       "         1.30152035e-01,  1.43478300e-01, -5.94173996e-02,\n",
       "        -2.73988668e-02,  5.02489110e-01, -2.84945169e-01,\n",
       "        -4.45269457e-01,  1.64558942e-02, -9.06075821e-02,\n",
       "         2.35935277e-02,  4.54209497e-02],\n",
       "       [ 8.39377105e-02,  1.02359448e-01,  5.98473495e-02,\n",
       "        -8.44305835e-02,  0.00000000e+00, -1.05934654e-02,\n",
       "         6.37290234e-02, -1.04500028e-01,  1.86226262e-01,\n",
       "        -3.75152512e-02, -1.66167452e-01,  1.75195716e-01,\n",
       "        -2.33637770e-01,  9.41612526e-02,  1.13730748e-01,\n",
       "         4.49057038e-02, -1.31147411e-01, -1.27508900e-02,\n",
       "         5.10209822e-01,  4.79131181e-02, -8.52855010e-02,\n",
       "        -2.28558352e-01,  4.83225443e-04,  1.17826417e-01,\n",
       "         4.52890839e-02,  2.33575435e-01, -5.31467525e-02,\n",
       "        -1.54267094e-01, -2.60140289e-01, -6.31601188e-01,\n",
       "        -3.38922250e-01, -4.86364978e-01, -2.03973323e-01,\n",
       "         3.83798248e-01, -4.73975443e-01, -7.15456545e-02,\n",
       "        -9.48974749e-02, -5.03389496e-01]])"
      ]
     },
     "execution_count": 389,
     "metadata": {},
     "output_type": "execute_result"
    }
   ],
   "source": [
    "U - U2.T"
   ]
  },
  {
   "cell_type": "code",
   "execution_count": 390,
   "metadata": {},
   "outputs": [
    {
     "data": {
      "text/plain": [
       "array([0., 0., 0., 0., 0., 0., 0., 0., 0., 0., 0., 0., 0., 0., 0., 0., 0.,\n",
       "       0., 0., 0., 0., 0., 0., 0., 0., 0., 0., 0., 0., 0., 0., 0., 0., 0.,\n",
       "       0., 0., 0., 0.])"
      ]
     },
     "execution_count": 390,
     "metadata": {},
     "output_type": "execute_result"
    }
   ],
   "source": [
    "x = np.zeros(38)\n",
    "x"
   ]
  },
  {
   "cell_type": "code",
   "execution_count": 391,
   "metadata": {},
   "outputs": [
    {
     "data": {
      "text/plain": [
       "(array([0., 0., 0., 0., 0.]), (5,))"
      ]
     },
     "execution_count": 391,
     "metadata": {},
     "output_type": "execute_result"
    }
   ],
   "source": [
    "y = np.dot(U, x)\n",
    "y, y.shape"
   ]
  },
  {
   "cell_type": "code",
   "execution_count": 392,
   "metadata": {},
   "outputs": [
    {
     "data": {
      "text/plain": [
       "((5, 38), (33, 38), (381, 38), (68.22462894917724+0j))"
      ]
     },
     "execution_count": 392,
     "metadata": {},
     "output_type": "execute_result"
    }
   ],
   "source": [
    "U.shape, V.shape, dv_mat.shape, np.sum(l)"
   ]
  },
  {
   "cell_type": "code",
   "execution_count": 393,
   "metadata": {
    "scrolled": true
   },
   "outputs": [
    {
     "data": {
      "text/plain": [
       "((381, 5), (381,))"
      ]
     },
     "execution_count": 393,
     "metadata": {},
     "output_type": "execute_result"
    }
   ],
   "source": [
    "Y = np.dot(dv_mat, U2) #* np.sum(l).astype(\"double\")\n",
    "Y.shape, df_result[\"c_D\"].shape"
   ]
  },
  {
   "cell_type": "code",
   "execution_count": 394,
   "metadata": {},
   "outputs": [
    {
     "data": {
      "text/plain": [
       "[<matplotlib.lines.Line2D at 0x2356592e9a0>]"
      ]
     },
     "execution_count": 394,
     "metadata": {},
     "output_type": "execute_result"
    },
    {
     "data": {
      "image/png": "[encoded data removed]",
      "text/plain": [
       "<Figure size 432x288 with 1 Axes>"
      ]
     },
     "metadata": {
      "needs_background": "light"
     },
     "output_type": "display_data"
    }
   ],
   "source": [
    "plt.plot(df_result[\"rms_nu\"], df_result[\"c_D\"], \"o\")\n",
    "plt.plot(df_result[\"rms_rho\"], df_result[\"c_D\"], \"o\")"
   ]
  },
  {
   "cell_type": "code",
   "execution_count": 395,
   "metadata": {},
   "outputs": [
    {
     "data": {
      "text/plain": [
       "[<matplotlib.lines.Line2D at 0x23565988940>]"
      ]
     },
     "execution_count": 395,
     "metadata": {},
     "output_type": "execute_result"
    },
    {
     "data": {
      "image/png": "[encoded data removed]",
      "text/plain": [
       "<Figure size 432x288 with 1 Axes>"
      ]
     },
     "metadata": {
      "needs_background": "light"
     },
     "output_type": "display_data"
    }
   ],
   "source": [
    "plt.plot(df_result[\"rms_nu\"], df_result[\"AOA\"], \"o\")\n",
    "plt.plot(df_result[\"rms_rho\"], df_result[\"AOA\"], \"o\")"
   ]
  },
  {
   "cell_type": "code",
   "execution_count": 396,
   "metadata": {},
   "outputs": [],
   "source": [
    "a = df_result[\"rms_rho\"] < -6"
   ]
  },
  {
   "cell_type": "code",
   "execution_count": 397,
   "metadata": {},
   "outputs": [
    {
     "data": {
      "text/plain": [
       "(381, 5)"
      ]
     },
     "execution_count": 397,
     "metadata": {},
     "output_type": "execute_result"
    }
   ],
   "source": [
    "Y[a].shape"
   ]
  },
  {
   "cell_type": "code",
   "execution_count": null,
   "metadata": {},
   "outputs": [],
   "source": []
  },
  {
   "cell_type": "code",
   "execution_count": null,
   "metadata": {},
   "outputs": [],
   "source": []
  },
  {
   "cell_type": "code",
   "execution_count": 398,
   "metadata": {},
   "outputs": [
    {
     "name": "stderr",
     "output_type": "stream",
     "text": [
      "C:\\Users\\Nils\\Anaconda3\\envs\\MA\\lib\\site-packages\\numpy\\core\\_asarray.py:83: ComplexWarning: Casting complex values to real discards the imaginary part\n",
      "  return array(a, dtype, copy=False, order=order)\n"
     ]
    },
    {
     "data": {
      "text/plain": [
       "[<matplotlib.lines.Line2D at 0x235659e3400>,\n",
       " <matplotlib.lines.Line2D at 0x235659e34c0>,\n",
       " <matplotlib.lines.Line2D at 0x235659e3580>,\n",
       " <matplotlib.lines.Line2D at 0x235659e3640>,\n",
       " <matplotlib.lines.Line2D at 0x235659e3700>]"
      ]
     },
     "execution_count": 398,
     "metadata": {},
     "output_type": "execute_result"
    },
    {
     "data": {
      "image/png": "[encoded data removed]",
      "text/plain": [
       "<Figure size 432x288 with 1 Axes>"
      ]
     },
     "metadata": {
      "needs_background": "light"
     },
     "output_type": "display_data"
    }
   ],
   "source": [
    "#fig, axes = plt.subplots(1, 1, figsize=(16,40))\n",
    "\n",
    "plt.plot(U[:r].T * l[:r])"
   ]
  },
  {
   "cell_type": "code",
   "execution_count": 399,
   "metadata": {},
   "outputs": [
    {
     "data": {
      "text/plain": [
       "array([ 7.70160482e-06,  4.14127147e-06,  1.69501522e-07,  4.73673571e-06,\n",
       "       -7.92285388e-06])"
      ]
     },
     "execution_count": 399,
     "metadata": {},
     "output_type": "execute_result"
    }
   ],
   "source": [
    "np.dot(dv_mat[0], U.T)"
   ]
  },
  {
   "cell_type": "code",
   "execution_count": 400,
   "metadata": {},
   "outputs": [
    {
     "data": {
      "text/plain": [
       "(7.701604823971359e-06, 5.884943789679209e-06)"
      ]
     },
     "execution_count": 400,
     "metadata": {},
     "output_type": "execute_result"
    }
   ],
   "source": [
    "np.dot(dv_mat[0], U[0]), Y[0,0]"
   ]
  },
  {
   "cell_type": "code",
   "execution_count": 401,
   "metadata": {},
   "outputs": [],
   "source": [
    "c_D = df_result[\"c_D\"].values"
   ]
  },
  {
   "cell_type": "code",
   "execution_count": 402,
   "metadata": {},
   "outputs": [
    {
     "data": {
      "text/plain": [
       "array([0.011605, 0.011163, 0.01297 , 0.012497, 0.012171, 0.013483,\n",
       "       0.013398, 0.011187, 0.014597, 0.013292, 0.015821, 0.012012,\n",
       "       0.015211, 0.015144, 0.014759, 0.014414, 0.013169, 0.014733,\n",
       "       0.013084, 0.013204, 0.012854, 0.013758, 0.012906, 0.014814,\n",
       "       0.01226 , 0.01257 , 0.013522, 0.013278, 0.013418, 0.013091,\n",
       "       0.015245, 0.013158, 0.013844, 0.014127, 0.014943, 0.014222,\n",
       "       0.016025, 0.012907, 0.014612, 0.013244, 0.012788, 0.013447,\n",
       "       0.013178, 0.01389 , 0.013864, 0.012806, 0.015713, 0.015477,\n",
       "       0.013691, 0.014239, 0.016649, 0.012795, 0.013323, 0.013553,\n",
       "       0.012898, 0.01325 , 0.013491, 0.015912, 0.014468, 0.014782,\n",
       "       0.013342, 0.01306 , 0.013984, 0.013916, 0.012621, 0.016156,\n",
       "       0.013227, 0.013739, 0.012296, 0.012539, 0.015094, 0.012114,\n",
       "       0.013787, 0.013271, 0.016361, 0.013673, 0.013397, 0.014163,\n",
       "       0.014892, 0.014254, 0.013398, 0.011986, 0.012265, 0.011958,\n",
       "       0.011514, 0.011513, 0.012073, 0.012941, 0.01467 , 0.013012,\n",
       "       0.015289, 0.013809, 0.011829, 0.0163  , 0.016281, 0.012986,\n",
       "       0.012228, 0.012631, 0.012599, 0.012357, 0.014435, 0.012165,\n",
       "       0.013252, 0.012276, 0.012973, 0.016777, 0.014002, 0.01453 ,\n",
       "       0.013121, 0.012632, 0.013918, 0.013007, 0.011766, 0.012938,\n",
       "       0.014363, 0.014017, 0.012377, 0.014991, 0.015435, 0.012845,\n",
       "       0.014516, 0.01335 , 0.011577, 0.012052, 0.014761, 0.014027,\n",
       "       0.013358, 0.012348, 0.013891, 0.01532 , 0.012224, 0.014475,\n",
       "       0.014015, 0.015133, 0.014598, 0.013021, 0.013876, 0.015026,\n",
       "       0.011978, 0.012901, 0.013369, 0.011958, 0.015577, 0.016798,\n",
       "       0.015362, 0.011795, 0.013156, 0.013719, 0.014087, 0.013442,\n",
       "       0.014545, 0.013752, 0.013997, 0.015958, 0.014013, 0.012991,\n",
       "       0.012428, 0.014762, 0.01388 , 0.012681, 0.01312 , 0.014531,\n",
       "       0.013447, 0.013303, 0.01189 , 0.013117, 0.015183, 0.012808,\n",
       "       0.015087, 0.013638, 0.015504, 0.01256 , 0.016756, 0.012553,\n",
       "       0.013945, 0.015191, 0.015438, 0.014836, 0.012972, 0.015521,\n",
       "       0.015484, 0.012826, 0.01207 , 0.012025, 0.015981, 0.015523,\n",
       "       0.014155, 0.012132, 0.012449, 0.011617, 0.016003, 0.01609 ,\n",
       "       0.0124  , 0.014945, 0.013563, 0.013195, 0.012314, 0.014866,\n",
       "       0.013682, 0.013943, 0.01283 , 0.013281, 0.013679, 0.015026,\n",
       "       0.013273, 0.014929, 0.016624, 0.013672, 0.016391, 0.014006,\n",
       "       0.012867, 0.012487, 0.013308, 0.014754, 0.012385, 0.012993,\n",
       "       0.013238, 0.013082, 0.01541 , 0.014293, 0.014587, 0.013741,\n",
       "       0.015892, 0.014007, 0.016152, 0.014554, 0.015066, 0.015342,\n",
       "       0.015472, 0.013038, 0.014648, 0.012749, 0.013928, 0.012783,\n",
       "       0.013744, 0.01379 , 0.011984, 0.01344 , 0.014918, 0.013939,\n",
       "       0.013648, 0.012647, 0.01159 , 0.014639, 0.01199 , 0.014329,\n",
       "       0.015221, 0.012435, 0.01337 , 0.012556, 0.015055, 0.012473,\n",
       "       0.012979, 0.014795, 0.012345, 0.015932, 0.013062, 0.011911,\n",
       "       0.012251, 0.012738, 0.013837, 0.014817, 0.014156, 0.015274,\n",
       "       0.01234 , 0.011927, 0.012474, 0.014089, 0.011684, 0.012307,\n",
       "       0.0118  , 0.015443, 0.012474, 0.016153, 0.012396, 0.016447,\n",
       "       0.017179, 0.013114, 0.01542 , 0.013295, 0.012168, 0.012863,\n",
       "       0.013003, 0.013076, 0.01804 , 0.013392, 0.014492, 0.014761,\n",
       "       0.015033, 0.013448, 0.01515 , 0.013405, 0.014324, 0.014163,\n",
       "       0.014132, 0.012382, 0.013747, 0.015811, 0.012908, 0.013058,\n",
       "       0.017243, 0.01367 , 0.016529, 0.013032, 0.012198, 0.014165,\n",
       "       0.014855, 0.012877, 0.013537, 0.01614 , 0.011372, 0.016922,\n",
       "       0.016453, 0.015   , 0.012928, 0.013725, 0.0131  , 0.012798,\n",
       "       0.012542, 0.012664, 0.011996, 0.012082, 0.014143, 0.013781,\n",
       "       0.012848, 0.015631, 0.014236, 0.014732, 0.012571, 0.013488,\n",
       "       0.014172, 0.014937, 0.01401 , 0.013716, 0.013717, 0.014599,\n",
       "       0.013507, 0.013544, 0.011564, 0.013769, 0.012616, 0.01478 ,\n",
       "       0.013034, 0.013541, 0.013408, 0.012443, 0.014237, 0.014309,\n",
       "       0.01373 , 0.014361, 0.015212, 0.013951, 0.0141  , 0.016227,\n",
       "       0.015029, 0.015161, 0.012279, 0.014118, 0.015158, 0.012378,\n",
       "       0.013459, 0.015854, 0.017051, 0.014606, 0.015215, 0.014312,\n",
       "       0.013348, 0.014127, 0.015136, 0.014977, 0.015145, 0.013498,\n",
       "       0.015075, 0.012725, 0.014415, 0.016259, 0.013263, 0.012968,\n",
       "       0.016124, 0.014061, 0.013078])"
      ]
     },
     "execution_count": 402,
     "metadata": {},
     "output_type": "execute_result"
    }
   ],
   "source": [
    "c_D"
   ]
  },
  {
   "cell_type": "code",
   "execution_count": 403,
   "metadata": {},
   "outputs": [
    {
     "data": {
      "text/plain": [
       "<matplotlib.collections.PathCollection at 0x23565a3f6d0>"
      ]
     },
     "execution_count": 403,
     "metadata": {},
     "output_type": "execute_result"
    },
    {
     "data": {
      "image/png": "[encoded data removed]",
      "text/plain": [
       "<Figure size 432x288 with 1 Axes>"
      ]
     },
     "metadata": {
      "needs_background": "light"
     },
     "output_type": "display_data"
    }
   ],
   "source": [
    "plt.scatter(Y[:,0], Y[:,1]) #, c=df_result[\"c_D\"])\n",
    "#plt.scatter(Y[:,0], df_result[\"c_D\"]), plt.scatter(Y[:,1], df_result[\"c_D\"]), plt.scatter(Y[:,2], df_result[\"c_D\"])\n",
    "#plt.scatter(Y[:,:], df_result[\"c_D\"])"
   ]
  },
  {
   "cell_type": "code",
   "execution_count": null,
   "metadata": {},
   "outputs": [],
   "source": []
  },
  {
   "cell_type": "code",
   "execution_count": 404,
   "metadata": {},
   "outputs": [],
   "source": [
    "from sklearn.manifold import LocallyLinearEmbedding"
   ]
  },
  {
   "cell_type": "code",
   "execution_count": 405,
   "metadata": {},
   "outputs": [
    {
     "data": {
      "text/plain": [
       "(381, 2)"
      ]
     },
     "execution_count": 405,
     "metadata": {},
     "output_type": "execute_result"
    }
   ],
   "source": [
    "embedding = LocallyLinearEmbedding(n_components=2)\n",
    "X_transformed = embedding.fit_transform(dv_mat)\n",
    "#Y = X_transformed\n",
    "\n",
    "X_transformed.shape"
   ]
  },
  {
   "cell_type": "code",
   "execution_count": null,
   "metadata": {},
   "outputs": [],
   "source": []
  },
  {
   "cell_type": "code",
   "execution_count": null,
   "metadata": {},
   "outputs": [],
   "source": []
  },
  {
   "cell_type": "code",
   "execution_count": 406,
   "metadata": {},
   "outputs": [],
   "source": [
    "from sklearn.model_selection import train_test_split"
   ]
  },
  {
   "cell_type": "code",
   "execution_count": 407,
   "metadata": {},
   "outputs": [],
   "source": [
    "x_train, x_test, y_train, y_test = train_test_split(Y[a], df_result[\"c_D\"][a], test_size=0.2, random_state=21)\n",
    "#x_train, x_test, y_train, y_test = train_test_split(Y[a], df_meta[\"AOA\"][a], test_size=0.2, random_state=21)\n",
    "#df_meta"
   ]
  },
  {
   "cell_type": "code",
   "execution_count": 408,
   "metadata": {},
   "outputs": [
    {
     "data": {
      "text/plain": [
       "((304, 5), (77,))"
      ]
     },
     "execution_count": 408,
     "metadata": {},
     "output_type": "execute_result"
    }
   ],
   "source": [
    "x_train.shape, y_test.shape"
   ]
  },
  {
   "cell_type": "code",
   "execution_count": null,
   "metadata": {},
   "outputs": [],
   "source": []
  },
  {
   "cell_type": "code",
   "execution_count": 409,
   "metadata": {},
   "outputs": [],
   "source": [
    "from sklearn.gaussian_process import GaussianProcessRegressor\n",
    "from sklearn.gaussian_process.kernels import (RBF, Matern, RationalQuadratic,\n",
    "                                              ExpSineSquared, DotProduct,\n",
    "                                              ConstantKernel, WhiteKernel)\n"
   ]
  },
  {
   "cell_type": "code",
   "execution_count": 410,
   "metadata": {},
   "outputs": [],
   "source": [
    "#kernel = 1.0 * Matern(length_scale=1.0, length_scale_bounds=(1e-2, 10.0), nu=1.5)"
   ]
  },
  {
   "cell_type": "code",
   "execution_count": 411,
   "metadata": {},
   "outputs": [],
   "source": [
    "kernel = RBF() + Matern(nu=1.5) #+ WhiteKernel() #+ RBF()"
   ]
  },
  {
   "cell_type": "code",
   "execution_count": 412,
   "metadata": {},
   "outputs": [],
   "source": [
    "#kernel = ConstantKernel(0.1, (0.01, 10.0)) * (DotProduct(sigma_0=1.0, sigma_0_bounds=(0.1, 10.0)) ** 2) + Matern(length_scale=1.0, length_scale_bounds=(1e-2, 10.0), nu=1.5) #+ WhiteKernel(noise_level=0.1)"
   ]
  },
  {
   "cell_type": "code",
   "execution_count": 413,
   "metadata": {},
   "outputs": [],
   "source": [
    "kernel = ConstantKernel()*Matern(nu=2.5) + ConstantKernel()*Matern(nu=1.5) + WhiteKernel() # + DotProduct()"
   ]
  },
  {
   "cell_type": "code",
   "execution_count": 414,
   "metadata": {},
   "outputs": [],
   "source": [
    "kernel = 1.0 * RBF(length_scale=0.1e-05, length_scale_bounds=(1e-7, 10.0)) + WhiteKernel(noise_level=0.05, noise_level_bounds=(1e-07, 1e-02))# + ConstantKernel()"
   ]
  },
  {
   "cell_type": "code",
   "execution_count": 415,
   "metadata": {},
   "outputs": [
    {
     "name": "stdout",
     "output_type": "stream",
     "text": [
      "0.0174**2 * RBF(length_scale=7.63e-05) + WhiteKernel(noise_level=1.1e-07)\n",
      "0.941952925689732\n",
      "0.9437235339292275\n",
      "1950.4897870587145\n"
     ]
    }
   ],
   "source": [
    "gp = GaussianProcessRegressor(kernel=kernel, n_restarts_optimizer=3, normalize_y=False)\n",
    "gp.fit(x_train, y_train)\n",
    "print(gp.kernel_)\n",
    "print(gp.score(x_train, y_train))\n",
    "print(gp.score(x_test, y_test))\n",
    "print(gp.log_marginal_likelihood())"
   ]
  },
  {
   "cell_type": "code",
   "execution_count": 416,
   "metadata": {},
   "outputs": [
    {
     "data": {
      "text/plain": [
       "5"
      ]
     },
     "execution_count": 416,
     "metadata": {},
     "output_type": "execute_result"
    }
   ],
   "source": [
    "r"
   ]
  },
  {
   "cell_type": "code",
   "execution_count": 417,
   "metadata": {
    "scrolled": false
   },
   "outputs": [
    {
     "data": {
      "text/plain": [
       "Text(0.5, 1.0, 'Validation Data')"
      ]
     },
     "execution_count": 417,
     "metadata": {},
     "output_type": "execute_result"
    },
    {
     "data": {
      "image/png": "[encoded data removed]",
      "text/plain": [
       "<Figure size 864x360 with 2 Axes>"
      ]
     },
     "metadata": {
      "needs_background": "light"
     },
     "output_type": "display_data"
    }
   ],
   "source": [
    "plt.figure(figsize=(12,5))\n",
    "\n",
    "plt.subplot(1, 2, 1)\n",
    "\n",
    "y_pred = gp.predict(x_train)\n",
    "y_train.values\n",
    "#plt.plot(y_pred)\n",
    "plt.plot(y_train.values, y_pred, '+')\n",
    "\n",
    "#plt.gca().set_xlim([0.008, 0.042])\n",
    "#plt.gca().set_ylim([0.008, 0.042])\n",
    "ax1 = plt.gca()\n",
    "ax1.set_ylabel(\"Predicted $C_D$\")\n",
    "ax1.set_xlabel(\"True $C_D$\")\n",
    "ax1.set_title(\"Training Data\")\n",
    "\n",
    "plt.subplot(1, 2, 2)\n",
    "\n",
    "y_pred = gp.predict(x_test)\n",
    "y_test.values\n",
    "#plt.plot(y_pred)\n",
    "plt.plot(y_test.values, y_pred, '+', label=\"asd\")\n",
    "#plt.plot(y_pred, 'o', c=\"r\")\n",
    "ax1.set_xlim(plt.gca().get_xlim())\n",
    "ax1.set_ylim(plt.gca().get_ylim())\n",
    "ax2 = plt.gca()\n",
    "ax2.set_ylabel(\"Predicted $C_D$\")\n",
    "ax2.set_xlabel(\"True $C_D$\")\n",
    "ax2.set_title(\"Validation Data\")"
   ]
  },
  {
   "cell_type": "code",
   "execution_count": null,
   "metadata": {},
   "outputs": [],
   "source": []
  },
  {
   "cell_type": "code",
   "execution_count": 418,
   "metadata": {},
   "outputs": [],
   "source": [
    "#plt.plot(Y[:,4][a], df_result[\"c_D\"][a], \"o\")"
   ]
  },
  {
   "cell_type": "code",
   "execution_count": null,
   "metadata": {},
   "outputs": [],
   "source": []
  },
  {
   "cell_type": "code",
   "execution_count": 419,
   "metadata": {},
   "outputs": [
    {
     "data": {
      "text/plain": [
       "381"
      ]
     },
     "execution_count": 419,
     "metadata": {},
     "output_type": "execute_result"
    }
   ],
   "source": [
    "np.sum(df_result[\"rms_rho\"] < -6)"
   ]
  },
  {
   "cell_type": "code",
   "execution_count": 420,
   "metadata": {},
   "outputs": [
    {
     "data": {
      "text/plain": [
       "(-2.1032296051045117e-05, 1.8874483680758046e-05)"
      ]
     },
     "execution_count": 420,
     "metadata": {},
     "output_type": "execute_result"
    }
   ],
   "source": [
    "y_lb = np.min(Y[a])\n",
    "y_ub = np.max(Y[a])\n",
    "y_lb, y_ub"
   ]
  },
  {
   "cell_type": "code",
   "execution_count": 421,
   "metadata": {},
   "outputs": [],
   "source": [
    "X_ = np.linspace(y_lb, y_ub, 100)\n",
    "#y_mean, y_std = gp.predict(X_[:, np.newaxis], return_std=True)"
   ]
  },
  {
   "cell_type": "code",
   "execution_count": 422,
   "metadata": {},
   "outputs": [],
   "source": [
    "#np.dot(U[0, :, np.newaxis], X_[np.newaxis, :])\n",
    "X_ = np.zeros((r, 100))\n",
    "X_[0] = np.linspace(y_lb, y_ub, 100)"
   ]
  },
  {
   "cell_type": "code",
   "execution_count": 423,
   "metadata": {
    "scrolled": true
   },
   "outputs": [],
   "source": [
    "y_mean, y_std = gp.predict(X_.T, return_std=True)"
   ]
  },
  {
   "cell_type": "code",
   "execution_count": 424,
   "metadata": {},
   "outputs": [
    {
     "data": {
      "text/plain": [
       "<matplotlib.collections.PathCollection at 0x23565cb7af0>"
      ]
     },
     "execution_count": 424,
     "metadata": {},
     "output_type": "execute_result"
    },
    {
     "data": {
      "image/png": "[encoded data removed]",
      "text/plain": [
       "<Figure size 576x576 with 1 Axes>"
      ]
     },
     "metadata": {
      "needs_background": "light"
     },
     "output_type": "display_data"
    }
   ],
   "source": [
    "plt.figure(figsize=(8, 8))\n",
    "plt.plot(X_[0], y_mean, 'k', lw=3, zorder=9)\n",
    "plt.fill_between(X_[0], y_mean - y_std, y_mean + y_std, alpha=0.2, color='k')\n",
    "y_samples = gp.sample_y(X_.T, 5)\n",
    "plt.plot(X_[0], y_samples, lw=1)\n",
    "plt.scatter(x_train[:, 0], y_train, c='r', s=50, zorder=10, edgecolors=(0, 0, 0), )\n",
    "plt.scatter(x_test[:, 0], y_test, c='b', s=50, zorder=10, edgecolors=(0, 0, 0))"
   ]
  },
  {
   "cell_type": "code",
   "execution_count": null,
   "metadata": {},
   "outputs": [],
   "source": []
  },
  {
   "cell_type": "code",
   "execution_count": null,
   "metadata": {},
   "outputs": [],
   "source": []
  },
  {
   "cell_type": "code",
   "execution_count": null,
   "metadata": {},
   "outputs": [],
   "source": []
  },
  {
   "cell_type": "code",
   "execution_count": 425,
   "metadata": {},
   "outputs": [
    {
     "ename": "ValueError",
     "evalue": "shapes (5,100) and (20,1) not aligned: 100 (dim 1) != 20 (dim 0)",
     "output_type": "error",
     "traceback": [
      "\u001b[1;31m---------------------------------------------------------------------------\u001b[0m",
      "\u001b[1;31mValueError\u001b[0m                                Traceback (most recent call last)",
      "\u001b[1;32m<ipython-input-425-37f9e43a23c0>\u001b[0m in \u001b[0;36m<module>\u001b[1;34m\u001b[0m\n\u001b[1;32m----> 1\u001b[1;33m \u001b[0mnp\u001b[0m\u001b[1;33m.\u001b[0m\u001b[0mdot\u001b[0m\u001b[1;33m(\u001b[0m\u001b[0mX_\u001b[0m\u001b[1;33m,\u001b[0m \u001b[0mnp\u001b[0m\u001b[1;33m.\u001b[0m\u001b[0mones\u001b[0m\u001b[1;33m(\u001b[0m\u001b[1;33m(\u001b[0m\u001b[1;36m20\u001b[0m\u001b[1;33m,\u001b[0m\u001b[1;36m1\u001b[0m\u001b[1;33m)\u001b[0m\u001b[1;33m)\u001b[0m\u001b[1;33m)\u001b[0m\u001b[1;33m\u001b[0m\u001b[1;33m\u001b[0m\u001b[0m\n\u001b[0m",
      "\u001b[1;32m<__array_function__ internals>\u001b[0m in \u001b[0;36mdot\u001b[1;34m(*args, **kwargs)\u001b[0m\n",
      "\u001b[1;31mValueError\u001b[0m: shapes (5,100) and (20,1) not aligned: 100 (dim 1) != 20 (dim 0)"
     ]
    }
   ],
   "source": [
    "np.dot(X_, np.ones((20,1)))"
   ]
  },
  {
   "cell_type": "code",
   "execution_count": null,
   "metadata": {},
   "outputs": [],
   "source": []
  },
  {
   "cell_type": "code",
   "execution_count": null,
   "metadata": {},
   "outputs": [],
   "source": []
  },
  {
   "cell_type": "code",
   "execution_count": null,
   "metadata": {
    "scrolled": false
   },
   "outputs": [],
   "source": [
    "from sklearn.gaussian_process import GaussianProcessRegressor\n",
    "from sklearn.gaussian_process.kernels import (RBF, Matern, RationalQuadratic,\n",
    "                                              ExpSineSquared, DotProduct,\n",
    "                                              ConstantKernel, WhiteKernel)\n",
    "\n",
    "\n",
    "kernels = [1.0 * RBF(length_scale=1.0, length_scale_bounds=(1e-1, 10.0)),\n",
    "           1.0 * RationalQuadratic(length_scale=1.0, alpha=0.1),\n",
    "           1.0 * ExpSineSquared(length_scale=1.0, periodicity=3.0,\n",
    "                                length_scale_bounds=(0.1, 10.0),\n",
    "                                periodicity_bounds=(1.0, 10.0)),\n",
    "           ConstantKernel(0.1, (0.01, 10.0))\n",
    "               * (DotProduct(sigma_0=1.0, sigma_0_bounds=(0.1, 10.0)) ** 2)  + WhiteKernel(),\n",
    "           1.0 * Matern(length_scale=1.0, length_scale_bounds=(1e-1, 10.0),\n",
    "                        nu=1.5)]\n",
    "\n",
    "for kernel in kernels:\n",
    "    # Specify Gaussian Process\n",
    "    gp = GaussianProcessRegressor(kernel=kernel)\n",
    "\n",
    "    # Plot prior\n",
    "    plt.figure(figsize=(8, 8))\n",
    "    plt.subplot(2, 1, 1)\n",
    "    X_ = np.linspace(0, 5, 100)\n",
    "    y_mean, y_std = gp.predict(X_[:, np.newaxis], return_std=True)\n",
    "    plt.plot(X_, y_mean, 'k', lw=3, zorder=9)\n",
    "    plt.fill_between(X_, y_mean - y_std, y_mean + y_std,\n",
    "                     alpha=0.2, color='k')\n",
    "    y_samples = gp.sample_y(X_[:, np.newaxis], 10)\n",
    "    plt.plot(X_, y_samples, lw=1)\n",
    "    plt.xlim(0, 5)\n",
    "    plt.ylim(-3, 3)\n",
    "    plt.title(\"Prior (kernel:  %s)\" % kernel, fontsize=12)\n",
    "\n",
    "    # Generate data and fit GP\n",
    "    rng = np.random.RandomState(4)\n",
    "    X = rng.uniform(0, 5, 10)[:, np.newaxis]\n",
    "    y = np.sin((X[:, 0] - 2.5) ** 2)\n",
    "    gp.fit(X, y)\n",
    "\n",
    "    # Plot posterior\n",
    "    plt.subplot(2, 1, 2)\n",
    "    X_ = np.linspace(0, 5, 100)\n",
    "    y_mean, y_std = gp.predict(X_[:, np.newaxis], return_std=True)\n",
    "    plt.plot(X_, y_mean, 'k', lw=3, zorder=9)\n",
    "    plt.fill_between(X_, y_mean - y_std, y_mean + y_std,\n",
    "                     alpha=0.2, color='k')\n",
    "\n",
    "    y_samples = gp.sample_y(X_[:, np.newaxis], 10)\n",
    "    plt.plot(X_, y_samples, lw=1)\n",
    "    plt.scatter(X[:, 0], y, c='r', s=50, zorder=10, edgecolors=(0, 0, 0))\n",
    "    plt.xlim(0, 5)\n",
    "    plt.ylim(-3, 3)\n",
    "    plt.title(\"Posterior (kernel: %s)\\n Log-Likelihood: %.3f\"\n",
    "              % (gp.kernel_, gp.log_marginal_likelihood(gp.kernel_.theta)),\n",
    "              fontsize=12)\n",
    "    plt.tight_layout()\n",
    "\n",
    "plt.show()"
   ]
  },
  {
   "cell_type": "code",
   "execution_count": null,
   "metadata": {},
   "outputs": [],
   "source": []
  },
  {
   "cell_type": "code",
   "execution_count": null,
   "metadata": {},
   "outputs": [],
   "source": []
  },
  {
   "cell_type": "code",
   "execution_count": null,
   "metadata": {},
   "outputs": [],
   "source": [
    "df_result[\"c_D\"].argmin()"
   ]
  },
  {
   "cell_type": "markdown",
   "metadata": {},
   "source": [
    "#### "
   ]
  },
  {
   "cell_type": "code",
   "execution_count": null,
   "metadata": {},
   "outputs": [],
   "source": [
    "df_result.loc[706]"
   ]
  },
  {
   "cell_type": "code",
   "execution_count": null,
   "metadata": {},
   "outputs": [],
   "source": []
  }
 ],
 "metadata": {
  "kernelspec": {
   "display_name": "Python 3",
   "language": "python",
   "name": "python3"
  },
  "language_info": {
   "codemirror_mode": {
    "name": "ipython",
    "version": 3
   },
   "file_extension": ".py",
   "mimetype": "text/x-python",
   "name": "python",
   "nbconvert_exporter": "python",
   "pygments_lexer": "ipython3",
   "version": "3.8.5"
  }
 },
 "nbformat": 4,
 "nbformat_minor": 4
}
