{
 "cells": [
  {
   "cell_type": "code",
   "execution_count": 1,
   "metadata": {},
   "outputs": [],
   "source": [
    "import numpy as np\n",
    "import pandas as pd\n",
    "import matplotlib.pyplot as plt\n",
    "import json\n",
    "import os\n",
    "import re"
   ]
  },
  {
   "cell_type": "code",
   "execution_count": null,
   "metadata": {},
   "outputs": [],
   "source": []
  },
  {
   "cell_type": "code",
   "execution_count": 2,
   "metadata": {},
   "outputs": [],
   "source": [
    "collectedData = {}\n",
    "df_grad_cd_list = []\n",
    "for dir1 in os.listdir(\"CollectedData\"):\n",
    "    if os.path.isdir(os.path.join(\"CollectedData\", dir1)):\n",
    "        \n",
    "        collectedData[dir1] = {}\n",
    "        for dsn_dir in os.listdir(os.path.join(\"CollectedData\", dir1)):\n",
    "            if os.path.isdir(os.path.join(\"CollectedData\", dir1, dsn_dir)):\n",
    "                data = json.load(open(os.path.join(\"CollectedData\", dir1, dsn_dir, \"dsn_data.json\"), \"r\"))\n",
    "                collectedData[dir1][dsn_dir] = data"
   ]
  },
  {
   "cell_type": "code",
   "execution_count": null,
   "metadata": {},
   "outputs": [],
   "source": []
  },
  {
   "cell_type": "code",
   "execution_count": null,
   "metadata": {},
   "outputs": [],
   "source": []
  },
  {
   "cell_type": "code",
   "execution_count": null,
   "metadata": {},
   "outputs": [],
   "source": []
  },
  {
   "cell_type": "code",
   "execution_count": 3,
   "metadata": {
    "scrolled": true
   },
   "outputs": [
    {
     "name": "stdout",
     "output_type": "stream",
     "text": [
      "T003_turb DSN_002\n",
      "T003_turb DSN_003\n",
      "T003_turb DSN_004\n",
      "T003_turb DSN_005\n",
      "T003_turb DSN_006\n",
      "T003_turb DSN_007\n",
      "T003_turb DSN_008\n",
      "T003_turb DSN_009\n",
      "T003_turb DSN_010\n",
      "T003_turb DSN_011\n",
      "T003_turb DSN_012\n",
      "T003_turb DSN_013\n",
      "T003_turb DSN_014\n",
      "T003_turb DSN_015\n",
      "T003_turb DSN_016\n",
      "T003_turb DSN_017\n",
      "T003_turb DSN_018\n",
      "T003_turb DSN_019\n",
      "T003_turb DSN_020\n",
      "T003_turb DSN_021\n",
      "T003_turb DSN_022\n",
      "T003_turb DSN_023\n",
      "T003_turb DSN_024\n",
      "T003_turb DSN_025\n",
      "T003_turb DSN_026\n",
      "T003_turb DSN_027\n",
      "T003_turb DSN_028\n",
      "T003_turb DSN_029\n",
      "T003_turb DSN_030\n",
      "T003_turb DSN_031\n",
      "T003_turb DSN_032\n",
      "T003_turb DSN_033\n",
      "T003_turb DSN_034\n",
      "T003_turb DSN_035\n",
      "T003_turb DSN_036\n",
      "T003_turb DSN_037\n",
      "T003_turb DSN_038\n",
      "T003_turb DSN_039\n",
      "T003_turb DSN_040\n",
      "T003_turb DSN_041\n",
      "T003_turb DSN_042\n",
      "T003_turb DSN_043\n",
      "T003_turb DSN_044\n",
      "T003_turb DSN_045\n",
      "T003_turb DSN_046\n",
      "T003_turb DSN_047\n",
      "T003_turb DSN_048\n",
      "T003_turb DSN_049\n",
      "T003_turb DSN_050\n",
      "T003_turb DSN_051\n",
      "T003_turb DSN_052\n",
      "T003_turb DSN_053\n",
      "T003_turb DSN_054\n",
      "T003_turb DSN_055\n",
      "T003_turb DSN_056\n",
      "T003_turb DSN_057\n",
      "T003_turb DSN_058\n",
      "T003_turb DSN_059\n",
      "T003_turb DSN_060\n",
      "T003_turb DSN_061\n",
      "T003_turb DSN_062\n",
      "T003_turb DSN_063\n",
      "T003_turb DSN_064\n",
      "T003_turb DSN_065\n",
      "T003_turb DSN_066\n",
      "T003_turb DSN_067\n",
      "T003_turb DSN_068\n",
      "T003_turb DSN_069\n",
      "T003_turb DSN_070\n",
      "T003_turb DSN_071\n",
      "T003_turb DSN_072\n",
      "T003_turb DSN_073\n",
      "T003_turb DSN_074\n",
      "T003_turb DSN_075\n",
      "T003_turb DSN_076\n",
      "T003_turb DSN_077\n",
      "T003_turb DSN_078\n",
      "T003_turb DSN_079\n",
      "T003_turb DSN_080\n",
      "T003_turb DSN_081\n",
      "T003_turb DSN_082\n",
      "T003_turb DSN_083\n",
      "T003_turb DSN_084\n",
      "T003_turb DSN_085\n",
      "T003_turb DSN_086\n",
      "T003_turb DSN_087\n",
      "T003_turb DSN_088\n",
      "T003_turb DSN_089\n",
      "T003_turb DSN_090\n",
      "T003_turb DSN_091\n",
      "T003_turb DSN_092\n",
      "T003_turb DSN_093\n",
      "T003_turb DSN_094\n",
      "T003_turb DSN_095\n",
      "T003_turb DSN_096\n",
      "T003_turb DSN_097\n",
      "T003_turb DSN_098\n",
      "T003_turb DSN_099\n",
      "T003_turb DSN_100\n",
      "T003_turb DSN_101\n",
      "T003_turb DSN_102\n",
      "T003_turb DSN_103\n",
      "T003_turb DSN_104\n",
      "T003_turb DSN_105\n",
      "T003_turb DSN_106\n",
      "T003_turb DSN_107\n",
      "T003_turb DSN_108\n",
      "T003_turb DSN_109\n",
      "T003_turb DSN_110\n",
      "T003_turb DSN_111\n",
      "T003_turb DSN_112\n",
      "T003_turb DSN_113\n",
      "T003_turb DSN_114\n",
      "T003_turb DSN_115\n",
      "T003_turb DSN_116\n",
      "T003_turb DSN_117\n",
      "T003_turb DSN_118\n",
      "T003_turb DSN_119\n",
      "T003_turb DSN_120\n",
      "T003_turb DSN_121\n",
      "T003_turb DSN_122\n",
      "T003_turb DSN_123\n",
      "T003_turb DSN_124\n",
      "T003_turb DSN_125\n",
      "T003_turb DSN_126\n",
      "T003_turb DSN_127\n",
      "T003_turb DSN_128\n",
      "T003_turb DSN_129\n",
      "T003_turb DSN_130\n",
      "T003_turb DSN_131\n",
      "T003_turb DSN_132\n",
      "T003_turb DSN_133\n",
      "T003_turb DSN_134\n",
      "T003_turb DSN_135\n",
      "T003_turb DSN_136\n",
      "T003_turb DSN_137\n",
      "T003_turb DSN_138\n",
      "T003_turb DSN_139\n",
      "T003_turb DSN_140\n",
      "T003_turb DSN_141\n",
      "T003_turb DSN_142\n",
      "T003_turb DSN_143\n",
      "T003_turb DSN_144\n",
      "T003_turb DSN_145\n",
      "T003_turb DSN_146\n",
      "T003_turb DSN_147\n",
      "T003_turb DSN_148\n",
      "T003_turb DSN_149\n",
      "T003_turb DSN_150\n",
      "T003_turb DSN_151\n",
      "T003_turb DSN_152\n",
      "T003_turb DSN_153\n",
      "T003_turb DSN_154\n",
      "T003_turb DSN_155\n",
      "T003_turb DSN_156\n",
      "T003_turb DSN_157\n",
      "T003_turb DSN_158\n",
      "T003_turb DSN_159\n",
      "T003_turb DSN_160\n",
      "T003_turb DSN_161\n",
      "T003_turb DSN_162\n",
      "T003_turb DSN_163\n",
      "T003_turb DSN_164\n",
      "T003_turb DSN_165\n",
      "T003_turb DSN_166\n",
      "T003_turb DSN_167\n",
      "T003_turb DSN_168\n",
      "T003_turb DSN_169\n",
      "T003_turb DSN_170\n",
      "T003_turb DSN_171\n",
      "T003_turb DSN_172\n",
      "T003_turb DSN_173\n",
      "T003_turb DSN_174\n",
      "T003_turb DSN_175\n",
      "T003_turb DSN_176\n",
      "T003_turb DSN_177\n",
      "T003_turb DSN_178\n",
      "T003_turb DSN_179\n",
      "T003_turb DSN_180\n",
      "T003_turb DSN_181\n",
      "T003_turb DSN_182\n",
      "T003_turb DSN_183\n",
      "T003_turb DSN_184\n",
      "T003_turb DSN_185\n",
      "T003_turb DSN_186\n",
      "T003_turb DSN_187\n",
      "T003_turb DSN_188\n",
      "T003_turb DSN_189\n",
      "T003_turb DSN_190\n",
      "T003_turb DSN_191\n",
      "T003_turb DSN_192\n",
      "T003_turb DSN_193\n",
      "T003_turb DSN_194\n",
      "T003_turb DSN_195\n",
      "T003_turb DSN_196\n",
      "T003_turb DSN_197\n",
      "T003_turb DSN_198\n",
      "T003_turb DSN_199\n",
      "T003_turb DSN_200\n",
      "T003_turb DSN_201\n",
      "T003_turb DSN_202\n",
      "T003_turb DSN_203\n",
      "T003_turb DSN_204\n",
      "T003_turb DSN_205\n",
      "T003_turb DSN_206\n",
      "T003_turb DSN_207\n",
      "T003_turb DSN_208\n",
      "T003_turb DSN_209\n",
      "T003_turb DSN_210\n",
      "T003_turb DSN_211\n",
      "T003_turb DSN_212\n",
      "T003_turb DSN_213\n",
      "T003_turb DSN_214\n",
      "T003_turb DSN_215\n",
      "T003_turb DSN_216\n",
      "T003_turb DSN_217\n",
      "T003_turb DSN_218\n",
      "T003_turb DSN_219\n",
      "T003_turb DSN_220\n",
      "T003_turb DSN_221\n",
      "T003_turb DSN_222\n",
      "T003_turb DSN_223\n",
      "T003_turb DSN_224\n",
      "T003_turb DSN_225\n",
      "T003_turb DSN_226\n",
      "T003_turb DSN_227\n",
      "T003_turb DSN_228\n",
      "T003_turb DSN_229\n",
      "T003_turb DSN_230\n",
      "T003_turb DSN_231\n",
      "T003_turb DSN_232\n",
      "T003_turb DSN_233\n",
      "T003_turb DSN_234\n",
      "T003_turb DSN_235\n",
      "T003_turb DSN_236\n",
      "T003_turb DSN_237\n",
      "T003_turb DSN_238\n",
      "T003_turb DSN_239\n",
      "T003_turb DSN_240\n",
      "T003_turb DSN_241\n",
      "T003_turb DSN_242\n",
      "T003_turb DSN_243\n",
      "T003_turb DSN_244\n",
      "T003_turb DSN_245\n",
      "T003_turb DSN_246\n",
      "T003_turb DSN_247\n",
      "T003_turb DSN_248\n",
      "T003_turb DSN_249\n",
      "T003_turb DSN_250\n",
      "T003_turb DSN_251\n",
      "T003_turb DSN_252\n",
      "T003_turb DSN_253\n",
      "T003_turb DSN_254\n",
      "T003_turb DSN_255\n",
      "T003_turb DSN_256\n",
      "T003_turb DSN_257\n",
      "T003_turb DSN_258\n",
      "T003_turb DSN_259\n",
      "T003_turb DSN_260\n",
      "T003_turb DSN_261\n",
      "T003_turb DSN_262\n",
      "T003_turb DSN_263\n",
      "T003_turb DSN_264\n",
      "T003_turb DSN_265\n",
      "T003_turb DSN_266\n",
      "T003_turb DSN_267\n",
      "T003_turb DSN_268\n",
      "T003_turb DSN_269\n",
      "T003_turb DSN_270\n",
      "T003_turb DSN_271\n",
      "T003_turb DSN_272\n",
      "T003_turb DSN_273\n",
      "T003_turb DSN_274\n",
      "T003_turb DSN_275\n",
      "T003_turb DSN_276\n",
      "T003_turb DSN_277\n",
      "T003_turb DSN_278\n",
      "T003_turb DSN_279\n",
      "T003_turb DSN_280\n",
      "T003_turb DSN_281\n",
      "T003_turb DSN_282\n",
      "T003_turb DSN_283\n",
      "T003_turb DSN_284\n",
      "T003_turb DSN_285\n",
      "T003_turb DSN_286\n",
      "T003_turb DSN_287\n",
      "T003_turb DSN_288\n",
      "T003_turb DSN_289\n",
      "T003_turb DSN_290\n",
      "T003_turb DSN_291\n",
      "T003_turb DSN_292\n",
      "T003_turb DSN_293\n",
      "T003_turb DSN_294\n",
      "T003_turb DSN_295\n",
      "T003_turb DSN_296\n",
      "T003_turb DSN_297\n",
      "T003_turb DSN_298\n",
      "T003_turb DSN_299\n",
      "T003_turb DSN_300\n",
      "T003_turb DSN_301\n",
      "T003_turb DSN_302\n",
      "T003_turb DSN_303\n",
      "T003_turb DSN_304\n",
      "T003_turb DSN_305\n",
      "T003_turb DSN_306\n",
      "T003_turb DSN_307\n",
      "T003_turb DSN_308\n",
      "T003_turb DSN_309\n",
      "T003_turb DSN_310\n",
      "T003_turb DSN_311\n",
      "T003_turb DSN_312\n",
      "T003_turb DSN_313\n",
      "T003_turb DSN_314\n",
      "T003_turb DSN_315\n",
      "T003_turb DSN_316\n",
      "T003_turb DSN_317\n",
      "T003_turb DSN_318\n",
      "T003_turb DSN_319\n",
      "T003_turb DSN_320\n",
      "T003_turb DSN_321\n",
      "T003_turb DSN_322\n",
      "T003_turb DSN_323\n",
      "T003_turb DSN_324\n",
      "T003_turb DSN_325\n",
      "T003_turb DSN_326\n",
      "T003_turb DSN_327\n",
      "T003_turb DSN_328\n",
      "T003_turb DSN_329\n",
      "T003_turb DSN_330\n",
      "T003_turb DSN_331\n",
      "T003_turb DSN_332\n",
      "T003_turb DSN_333\n",
      "T003_turb DSN_334\n",
      "T003_turb DSN_335\n",
      "T003_turb DSN_336\n",
      "T003_turb DSN_337\n",
      "T003_turb DSN_338\n",
      "T003_turb DSN_339\n",
      "T003_turb DSN_340\n",
      "T003_turb DSN_341\n",
      "T003_turb DSN_342\n",
      "T003_turb DSN_343\n",
      "T003_turb DSN_344\n",
      "T003_turb DSN_345\n",
      "T003_turb DSN_346\n",
      "T003_turb DSN_347\n",
      "T003_turb DSN_348\n",
      "T003_turb DSN_349\n",
      "T003_turb DSN_350\n",
      "T003_turb DSN_351\n",
      "T003_turb DSN_352\n",
      "T003_turb DSN_353\n",
      "T003_turb DSN_354\n",
      "T003_turb DSN_355\n",
      "T003_turb DSN_356\n",
      "T003_turb DSN_357\n",
      "T003_turb DSN_358\n",
      "T003_turb DSN_359\n",
      "T003_turb DSN_360\n",
      "T003_turb DSN_361\n",
      "T003_turb DSN_362\n",
      "T003_turb DSN_363\n",
      "T003_turb DSN_364\n",
      "T003_turb DSN_365\n",
      "T003_turb DSN_366\n",
      "T003_turb DSN_367\n",
      "T003_turb DSN_368\n",
      "T003_turb DSN_369\n",
      "T003_turb DSN_370\n",
      "T003_turb DSN_371\n",
      "T003_turb DSN_372\n",
      "T003_turb DSN_373\n",
      "T003_turb DSN_374\n",
      "T003_turb DSN_375\n",
      "T003_turb DSN_376\n",
      "T003_turb DSN_377\n",
      "T003_turb DSN_378\n",
      "T003_turb DSN_379\n",
      "T003_turb DSN_380\n",
      "T003_turb DSN_381\n",
      "T003_turb DSN_382\n",
      "T003_turb DSN_383\n",
      "skipping T003_turb DSN_383\n",
      "T005_turb DSN_000\n",
      "T005_turb DSN_001\n",
      "T005_turb DSN_002\n",
      "T005_turb DSN_003\n",
      "T005_turb DSN_004\n",
      "T005_turb DSN_005\n",
      "T005_turb DSN_006\n",
      "T005_turb DSN_007\n",
      "T005_turb DSN_008\n",
      "T005_turb DSN_009\n",
      "T005_turb DSN_010\n",
      "T005_turb DSN_011\n",
      "T005_turb DSN_012\n",
      "T005_turb DSN_013\n",
      "T005_turb DSN_014\n",
      "T005_turb DSN_015\n",
      "T005_turb DSN_016\n",
      "T005_turb DSN_017\n",
      "T005_turb DSN_018\n",
      "T005_turb DSN_019\n",
      "T005_turb DSN_020\n",
      "T005_turb DSN_021\n",
      "T005_turb DSN_022\n",
      "T005_turb DSN_023\n",
      "T005_turb DSN_024\n",
      "T005_turb DSN_025\n",
      "T005_turb DSN_026\n",
      "T005_turb DSN_027\n",
      "T005_turb DSN_028\n",
      "T005_turb DSN_029\n",
      "T005_turb DSN_030\n",
      "T005_turb DSN_031\n",
      "T005_turb DSN_032\n",
      "T005_turb DSN_033\n",
      "T005_turb DSN_034\n",
      "T005_turb DSN_035\n",
      "T005_turb DSN_036\n",
      "T005_turb DSN_037\n",
      "T005_turb DSN_038\n",
      "T005_turb DSN_039\n",
      "T005_turb DSN_040\n",
      "T005_turb DSN_041\n",
      "T005_turb DSN_042\n",
      "T005_turb DSN_043\n",
      "T005_turb DSN_044\n",
      "T005_turb DSN_045\n",
      "T005_turb DSN_046\n",
      "T005_turb DSN_047\n",
      "T005_turb DSN_048\n",
      "T005_turb DSN_049\n",
      "T005_turb DSN_050\n",
      "T005_turb DSN_051\n",
      "T005_turb DSN_052\n",
      "T005_turb DSN_053\n",
      "T005_turb DSN_054\n",
      "T005_turb DSN_055\n",
      "T005_turb DSN_056\n",
      "T005_turb DSN_057\n",
      "T005_turb DSN_058\n",
      "T005_turb DSN_059\n",
      "T005_turb DSN_060\n",
      "T005_turb DSN_061\n",
      "T005_turb DSN_062\n",
      "T005_turb DSN_063\n",
      "T005_turb DSN_064\n",
      "T005_turb DSN_065\n",
      "T005_turb DSN_066\n",
      "T005_turb DSN_067\n",
      "T005_turb DSN_068\n",
      "T005_turb DSN_069\n",
      "T005_turb DSN_070\n",
      "T005_turb DSN_071\n",
      "T005_turb DSN_072\n",
      "T005_turb DSN_073\n"
     ]
    },
    {
     "name": "stdout",
     "output_type": "stream",
     "text": [
      "T005_turb DSN_074\n",
      "T005_turb DSN_075\n",
      "T005_turb DSN_076\n",
      "T005_turb DSN_077\n",
      "T005_turb DSN_078\n",
      "T005_turb DSN_079\n",
      "T005_turb DSN_080\n",
      "T005_turb DSN_081\n",
      "T005_turb DSN_082\n",
      "T005_turb DSN_083\n",
      "T005_turb DSN_084\n",
      "T005_turb DSN_085\n",
      "T005_turb DSN_086\n",
      "T005_turb DSN_087\n",
      "T005_turb DSN_088\n",
      "T005_turb DSN_089\n",
      "T005_turb DSN_090\n",
      "T005_turb DSN_091\n",
      "T005_turb DSN_092\n",
      "T005_turb DSN_093\n",
      "T005_turb DSN_094\n",
      "T005_turb DSN_095\n",
      "T005_turb DSN_096\n",
      "T005_turb DSN_097\n",
      "T005_turb DSN_098\n",
      "T005_turb DSN_099\n",
      "T005_turb DSN_100\n",
      "T005_turb DSN_101\n",
      "T005_turb DSN_102\n",
      "T005_turb DSN_103\n",
      "T005_turb DSN_104\n",
      "T005_turb DSN_105\n",
      "T005_turb DSN_106\n",
      "T005_turb DSN_107\n",
      "T005_turb DSN_108\n",
      "T005_turb DSN_109\n",
      "T005_turb DSN_110\n",
      "T005_turb DSN_111\n",
      "T005_turb DSN_112\n",
      "T005_turb DSN_113\n",
      "T005_turb DSN_114\n",
      "T005_turb DSN_115\n",
      "T005_turb DSN_116\n",
      "T005_turb DSN_117\n",
      "T005_turb DSN_118\n",
      "T005_turb DSN_119\n",
      "T005_turb DSN_120\n",
      "T005_turb DSN_121\n",
      "T005_turb DSN_122\n",
      "T005_turb DSN_123\n",
      "T005_turb DSN_124\n",
      "T005_turb DSN_125\n",
      "T005_turb DSN_126\n",
      "T005_turb DSN_127\n",
      "T005_turb DSN_128\n",
      "T005_turb DSN_129\n",
      "T005_turb DSN_130\n",
      "T005_turb DSN_131\n",
      "T005_turb DSN_132\n",
      "T005_turb DSN_133\n",
      "T005_turb DSN_134\n",
      "T005_turb DSN_135\n",
      "T005_turb DSN_136\n",
      "T005_turb DSN_137\n",
      "T005_turb DSN_138\n",
      "T005_turb DSN_139\n",
      "T005_turb DSN_140\n",
      "T005_turb DSN_141\n",
      "T005_turb DSN_142\n",
      "T005_turb DSN_143\n",
      "T005_turb DSN_144\n",
      "T005_turb DSN_145\n",
      "T005_turb DSN_146\n",
      "T005_turb DSN_147\n",
      "T005_turb DSN_148\n",
      "T005_turb DSN_149\n",
      "T005_turb DSN_150\n",
      "T005_turb DSN_151\n",
      "T005_turb DSN_152\n",
      "T005_turb DSN_153\n",
      "T005_turb DSN_154\n",
      "T005_turb DSN_155\n",
      "T005_turb DSN_156\n",
      "T005_turb DSN_157\n",
      "T005_turb DSN_158\n",
      "T005_turb DSN_159\n",
      "T005_turb DSN_160\n",
      "T005_turb DSN_161\n",
      "T005_turb DSN_162\n",
      "T005_turb DSN_163\n",
      "T005_turb DSN_164\n",
      "T005_turb DSN_165\n",
      "T005_turb DSN_166\n",
      "T005_turb DSN_167\n",
      "T005_turb DSN_168\n",
      "T005_turb DSN_169\n",
      "T005_turb DSN_170\n",
      "T005_turb DSN_171\n",
      "T005_turb DSN_172\n",
      "T005_turb DSN_173\n",
      "T005_turb DSN_174\n",
      "T005_turb DSN_175\n",
      "T005_turb DSN_176\n",
      "T005_turb DSN_177\n",
      "T005_turb DSN_178\n",
      "T005_turb DSN_179\n",
      "T005_turb DSN_180\n",
      "T005_turb DSN_181\n",
      "T005_turb DSN_182\n",
      "T005_turb DSN_183\n",
      "T005_turb DSN_184\n",
      "T005_turb DSN_185\n",
      "T005_turb DSN_186\n",
      "T005_turb DSN_187\n",
      "T005_turb DSN_188\n",
      "T005_turb DSN_189\n",
      "T005_turb DSN_190\n",
      "T005_turb DSN_191\n",
      "T005_turb DSN_192\n",
      "T005_turb DSN_193\n",
      "T005_turb DSN_194\n",
      "T005_turb DSN_195\n",
      "T005_turb DSN_196\n",
      "T005_turb DSN_197\n",
      "T005_turb DSN_198\n",
      "T005_turb DSN_199\n",
      "T005_turb DSN_200\n",
      "T005_turb DSN_201\n",
      "T005_turb DSN_202\n",
      "T005_turb DSN_203\n",
      "T005_turb DSN_204\n",
      "T005_turb DSN_205\n",
      "T005_turb DSN_206\n",
      "T005_turb DSN_207\n",
      "T005_turb DSN_208\n",
      "T005_turb DSN_209\n",
      "T005_turb DSN_210\n",
      "T005_turb DSN_211\n",
      "T005_turb DSN_212\n",
      "T005_turb DSN_213\n",
      "T005_turb DSN_214\n",
      "T005_turb DSN_215\n",
      "T005_turb DSN_216\n",
      "T005_turb DSN_217\n",
      "skipping T005_turb DSN_217\n",
      "T005_turb DSN_218\n",
      "skipping T005_turb DSN_218\n",
      "T005_turb DSN_219\n",
      "skipping T005_turb DSN_219\n",
      "T005_turb DSN_220\n",
      "skipping T005_turb DSN_220\n",
      "T005_turb DSN_221\n",
      "skipping T005_turb DSN_221\n",
      "T005_turb DSN_222\n",
      "skipping T005_turb DSN_222\n",
      "T005_turb DSN_223\n",
      "skipping T005_turb DSN_223\n"
     ]
    }
   ],
   "source": [
    "re_log_line = r\"\\|\\s+\\d+(\\|\\s+-?\\d+\\.\\d+){4}\\|\\n\"\n",
    "\n",
    "dir_list = []\n",
    "dfs = []\n",
    "dv_mat = []\n",
    "surf_dfs = []\n",
    "surf_cd_dfs = []\n",
    "\n",
    "#df_meta = pd.DataFrame(columns=[\"AOA\"])\n",
    "meta_rows = []\n",
    "\n",
    "result_rows = []\n",
    "for dir1 in sorted(collectedData.keys()):\n",
    "    if dir1.startswith(\"T003\") or dir1.startswith(\"T005\"):\n",
    "        for dsn_dir in sorted(collectedData[dir1].keys()):\n",
    "            dir_str = f\"{dir1} {dsn_dir}\"\n",
    "            print(dir_str)\n",
    "            field_names = [\"config_DSN.cfg\", \"grad_cd\", \"surface_adjoint_drag\", \"surface_flow\", \"log_direct\"]\n",
    "            if len(collectedData[dir1][dsn_dir].keys() & set(field_names)) < len(field_names):\n",
    "                print(\"skipping\", dir_str)\n",
    "                continue\n",
    "            if \"config_DSN.cfg\" in collectedData[dir1][dsn_dir]:\n",
    "                config_lines = collectedData[dir1][dsn_dir][\"config_DSN.cfg\"]\n",
    "                dv_line = [l for l in config_lines if l.startswith(\"DV_VALUE=\")][-1].strip()\n",
    "                #print(dv_line)\n",
    "                dvs = [float(x) for x in dv_line[10:].split(\", \")]\n",
    "                #if len(dvs) < 30:\n",
    "                #    print(dir1, dsn_dir)\n",
    "                #    continue\n",
    "                #print(dvs)\n",
    "                if len(dvs) == 38:\n",
    "                    dv_mat.append(dvs)\n",
    "            if \"grad_cd\" in collectedData[dir1][dsn_dir]:\n",
    "                df = pd.DataFrame.from_dict(collectedData[dir1][dsn_dir][\"grad_cd\"])\n",
    "                df[\"DIR\"] = dir_str\n",
    "                dfs.append(df)\n",
    "                dir_list.append(f\"{dir1} {dsn_dir}\")\n",
    "            if \"surface_adjoint_drag\" in collectedData[dir1][dsn_dir]:\n",
    "                surf_df = pd.DataFrame.from_dict(collectedData[dir1][dsn_dir][\"surface_adjoint_drag\"])\n",
    "                surf_df[\"DIR\"] = dir_str\n",
    "                surf_cd_dfs.append(surf_df)\n",
    "            if \"surface_flow\" in collectedData[dir1][dsn_dir]:\n",
    "                surf_df = pd.DataFrame.from_dict(collectedData[dir1][dsn_dir][\"surface_flow\"])\n",
    "                surf_df[\"DIR\"] = dir_str\n",
    "                surf_dfs.append(surf_df)\n",
    "            if \"log_direct\" in collectedData[dir1][dsn_dir]:\n",
    "                log_lines = collectedData[dir1][dsn_dir][\"log_direct\"]\n",
    "                log_lines_iter = [l for l in log_lines if re.match(re_log_line, l)]#[-100:]\n",
    "                lls = log_lines_iter[-1].split(\"|\")[1:-1]\n",
    "                iteration = int(lls[0])\n",
    "                rms_rho = float(lls[1])\n",
    "                rms_nu = float(lls[2])\n",
    "                c_L = float(lls[3])\n",
    "                c_D = float(lls[4])\n",
    "                #print(dir_str, c_L, c_D)\n",
    "                result_rows.append((dir_str, c_L, c_D, rms_rho, rms_nu))\n",
    "            if \"flow.meta\" in collectedData[dir1][dsn_dir]:\n",
    "                #print(collectedData[dir1][dsn_dir][\"flow.meta\"])\n",
    "                #break\n",
    "                for l in collectedData[dir1][dsn_dir][\"flow.meta\"]:\n",
    "                    if l.startswith(\"AOA=\"):\n",
    "                        meta_rows.append((dir_str, float(l.strip().split()[1])))\n",
    "\n",
    "#dv_mat = np.asarray(dv_mat)\n",
    "df_result = pd.DataFrame(columns=[\"DIR\", \"c_L\", \"c_D\", \"rms_rho\", \"rms_nu\"], data=result_rows)\n",
    "df_meta =  pd.DataFrame(columns=[\"DIR\", \"AOA\"], data=meta_rows)\n",
    "df_result = df_result.merge(df_meta, on=\"DIR\")"
   ]
  },
  {
   "cell_type": "code",
   "execution_count": 4,
   "metadata": {},
   "outputs": [],
   "source": [
    "import pickle\n",
    "dir1 = \"T005_turb\"\n",
    "dv_list = pickle.load(open(os.path.join(\"CollectedData\", dir1, \"dv_list.p\"), \"rb\"))\n",
    "dv_mat2 = np.asarray(dv_list) #[:len(dir_list),:]\n",
    "if len(dv_mat):\n",
    "    dv_mat = np.vstack((np.asarray(dv_mat), dv_mat2))[:len(dir_list),:]\n",
    "else:\n",
    "    dv_mat = dv_mat2[:len(dir_list),:]"
   ]
  },
  {
   "cell_type": "code",
   "execution_count": 5,
   "metadata": {},
   "outputs": [
    {
     "data": {
      "text/plain": [
       "((598, 38), (1000, 38))"
      ]
     },
     "execution_count": 5,
     "metadata": {},
     "output_type": "execute_result"
    }
   ],
   "source": [
    "np.asarray(dv_mat).shape, dv_mat2.shape"
   ]
  },
  {
   "cell_type": "code",
   "execution_count": 6,
   "metadata": {},
   "outputs": [
    {
     "data": {
      "text/html": [
       "<div>\n",
       "<style scoped>\n",
       "    .dataframe tbody tr th:only-of-type {\n",
       "        vertical-align: middle;\n",
       "    }\n",
       "\n",
       "    .dataframe tbody tr th {\n",
       "        vertical-align: top;\n",
       "    }\n",
       "\n",
       "    .dataframe thead th {\n",
       "        text-align: right;\n",
       "    }\n",
       "</style>\n",
       "<table border=\"1\" class=\"dataframe\">\n",
       "  <thead>\n",
       "    <tr style=\"text-align: right;\">\n",
       "      <th></th>\n",
       "      <th>DIR</th>\n",
       "      <th>c_L</th>\n",
       "      <th>c_D</th>\n",
       "      <th>rms_rho</th>\n",
       "      <th>rms_nu</th>\n",
       "      <th>AOA</th>\n",
       "    </tr>\n",
       "  </thead>\n",
       "  <tbody>\n",
       "    <tr>\n",
       "      <th>0</th>\n",
       "      <td>T003_turb DSN_002</td>\n",
       "      <td>0.724186</td>\n",
       "      <td>0.011605</td>\n",
       "      <td>-6.451430</td>\n",
       "      <td>-8.755026</td>\n",
       "      <td>2.285286</td>\n",
       "    </tr>\n",
       "    <tr>\n",
       "      <th>1</th>\n",
       "      <td>T003_turb DSN_003</td>\n",
       "      <td>0.724200</td>\n",
       "      <td>0.011163</td>\n",
       "      <td>-6.454355</td>\n",
       "      <td>-8.759274</td>\n",
       "      <td>2.409032</td>\n",
       "    </tr>\n",
       "    <tr>\n",
       "      <th>2</th>\n",
       "      <td>T003_turb DSN_004</td>\n",
       "      <td>0.724185</td>\n",
       "      <td>0.012970</td>\n",
       "      <td>-6.456526</td>\n",
       "      <td>-8.723936</td>\n",
       "      <td>2.223996</td>\n",
       "    </tr>\n",
       "    <tr>\n",
       "      <th>3</th>\n",
       "      <td>T003_turb DSN_005</td>\n",
       "      <td>0.724183</td>\n",
       "      <td>0.012497</td>\n",
       "      <td>-6.435272</td>\n",
       "      <td>-8.678649</td>\n",
       "      <td>2.367014</td>\n",
       "    </tr>\n",
       "    <tr>\n",
       "      <th>4</th>\n",
       "      <td>T003_turb DSN_006</td>\n",
       "      <td>0.724191</td>\n",
       "      <td>0.012171</td>\n",
       "      <td>-6.454220</td>\n",
       "      <td>-8.800678</td>\n",
       "      <td>2.390727</td>\n",
       "    </tr>\n",
       "    <tr>\n",
       "      <th>...</th>\n",
       "      <td>...</td>\n",
       "      <td>...</td>\n",
       "      <td>...</td>\n",
       "      <td>...</td>\n",
       "      <td>...</td>\n",
       "      <td>...</td>\n",
       "    </tr>\n",
       "    <tr>\n",
       "      <th>593</th>\n",
       "      <td>T005_turb DSN_212</td>\n",
       "      <td>0.724223</td>\n",
       "      <td>0.014990</td>\n",
       "      <td>-6.461757</td>\n",
       "      <td>-8.612306</td>\n",
       "      <td>1.510643</td>\n",
       "    </tr>\n",
       "    <tr>\n",
       "      <th>594</th>\n",
       "      <td>T005_turb DSN_213</td>\n",
       "      <td>0.724109</td>\n",
       "      <td>0.022425</td>\n",
       "      <td>-6.645409</td>\n",
       "      <td>-7.945297</td>\n",
       "      <td>2.402818</td>\n",
       "    </tr>\n",
       "    <tr>\n",
       "      <th>595</th>\n",
       "      <td>T005_turb DSN_214</td>\n",
       "      <td>0.724182</td>\n",
       "      <td>0.015348</td>\n",
       "      <td>-6.438945</td>\n",
       "      <td>-8.566054</td>\n",
       "      <td>2.584580</td>\n",
       "    </tr>\n",
       "    <tr>\n",
       "      <th>596</th>\n",
       "      <td>T005_turb DSN_215</td>\n",
       "      <td>0.723088</td>\n",
       "      <td>0.028505</td>\n",
       "      <td>-6.387756</td>\n",
       "      <td>-7.493037</td>\n",
       "      <td>3.886795</td>\n",
       "    </tr>\n",
       "    <tr>\n",
       "      <th>597</th>\n",
       "      <td>T005_turb DSN_216</td>\n",
       "      <td>0.724220</td>\n",
       "      <td>0.013817</td>\n",
       "      <td>-6.395526</td>\n",
       "      <td>-8.419417</td>\n",
       "      <td>1.951786</td>\n",
       "    </tr>\n",
       "  </tbody>\n",
       "</table>\n",
       "<p>598 rows × 6 columns</p>\n",
       "</div>"
      ],
      "text/plain": [
       "                   DIR       c_L       c_D   rms_rho    rms_nu       AOA\n",
       "0    T003_turb DSN_002  0.724186  0.011605 -6.451430 -8.755026  2.285286\n",
       "1    T003_turb DSN_003  0.724200  0.011163 -6.454355 -8.759274  2.409032\n",
       "2    T003_turb DSN_004  0.724185  0.012970 -6.456526 -8.723936  2.223996\n",
       "3    T003_turb DSN_005  0.724183  0.012497 -6.435272 -8.678649  2.367014\n",
       "4    T003_turb DSN_006  0.724191  0.012171 -6.454220 -8.800678  2.390727\n",
       "..                 ...       ...       ...       ...       ...       ...\n",
       "593  T005_turb DSN_212  0.724223  0.014990 -6.461757 -8.612306  1.510643\n",
       "594  T005_turb DSN_213  0.724109  0.022425 -6.645409 -7.945297  2.402818\n",
       "595  T005_turb DSN_214  0.724182  0.015348 -6.438945 -8.566054  2.584580\n",
       "596  T005_turb DSN_215  0.723088  0.028505 -6.387756 -7.493037  3.886795\n",
       "597  T005_turb DSN_216  0.724220  0.013817 -6.395526 -8.419417  1.951786\n",
       "\n",
       "[598 rows x 6 columns]"
      ]
     },
     "execution_count": 6,
     "metadata": {},
     "output_type": "execute_result"
    }
   ],
   "source": [
    "df_result"
   ]
  },
  {
   "cell_type": "code",
   "execution_count": null,
   "metadata": {},
   "outputs": [],
   "source": []
  },
  {
   "cell_type": "code",
   "execution_count": null,
   "metadata": {},
   "outputs": [],
   "source": []
  },
  {
   "cell_type": "code",
   "execution_count": 7,
   "metadata": {},
   "outputs": [],
   "source": [
    "df_cd_grad = pd.concat(dfs) #.set_index(\"DIR\") #.sort_values(\"DIR\")"
   ]
  },
  {
   "cell_type": "code",
   "execution_count": 8,
   "metadata": {},
   "outputs": [
    {
     "data": {
      "text/html": [
       "<div>\n",
       "<style scoped>\n",
       "    .dataframe tbody tr th:only-of-type {\n",
       "        vertical-align: middle;\n",
       "    }\n",
       "\n",
       "    .dataframe tbody tr th {\n",
       "        vertical-align: top;\n",
       "    }\n",
       "\n",
       "    .dataframe thead th {\n",
       "        text-align: right;\n",
       "    }\n",
       "</style>\n",
       "<table border=\"1\" class=\"dataframe\">\n",
       "  <thead>\n",
       "    <tr style=\"text-align: right;\">\n",
       "      <th></th>\n",
       "      <th>VAR</th>\n",
       "      <th>CD_GRAD</th>\n",
       "      <th>STEP</th>\n",
       "      <th>DIR</th>\n",
       "    </tr>\n",
       "  </thead>\n",
       "  <tbody>\n",
       "    <tr>\n",
       "      <th>0</th>\n",
       "      <td>0</td>\n",
       "      <td>0.932305</td>\n",
       "      <td>0.001</td>\n",
       "      <td>T003_turb DSN_002</td>\n",
       "    </tr>\n",
       "    <tr>\n",
       "      <th>1</th>\n",
       "      <td>1</td>\n",
       "      <td>0.902509</td>\n",
       "      <td>0.001</td>\n",
       "      <td>T003_turb DSN_002</td>\n",
       "    </tr>\n",
       "    <tr>\n",
       "      <th>2</th>\n",
       "      <td>2</td>\n",
       "      <td>0.756924</td>\n",
       "      <td>0.001</td>\n",
       "      <td>T003_turb DSN_002</td>\n",
       "    </tr>\n",
       "    <tr>\n",
       "      <th>3</th>\n",
       "      <td>3</td>\n",
       "      <td>0.575045</td>\n",
       "      <td>0.001</td>\n",
       "      <td>T003_turb DSN_002</td>\n",
       "    </tr>\n",
       "    <tr>\n",
       "      <th>4</th>\n",
       "      <td>4</td>\n",
       "      <td>0.394999</td>\n",
       "      <td>0.001</td>\n",
       "      <td>T003_turb DSN_002</td>\n",
       "    </tr>\n",
       "    <tr>\n",
       "      <th>...</th>\n",
       "      <td>...</td>\n",
       "      <td>...</td>\n",
       "      <td>...</td>\n",
       "      <td>...</td>\n",
       "    </tr>\n",
       "    <tr>\n",
       "      <th>33</th>\n",
       "      <td>33</td>\n",
       "      <td>-0.419057</td>\n",
       "      <td>0.001</td>\n",
       "      <td>T005_turb DSN_216</td>\n",
       "    </tr>\n",
       "    <tr>\n",
       "      <th>34</th>\n",
       "      <td>34</td>\n",
       "      <td>-0.293344</td>\n",
       "      <td>0.001</td>\n",
       "      <td>T005_turb DSN_216</td>\n",
       "    </tr>\n",
       "    <tr>\n",
       "      <th>35</th>\n",
       "      <td>35</td>\n",
       "      <td>-0.062856</td>\n",
       "      <td>0.001</td>\n",
       "      <td>T005_turb DSN_216</td>\n",
       "    </tr>\n",
       "    <tr>\n",
       "      <th>36</th>\n",
       "      <td>36</td>\n",
       "      <td>0.233226</td>\n",
       "      <td>0.001</td>\n",
       "      <td>T005_turb DSN_216</td>\n",
       "    </tr>\n",
       "    <tr>\n",
       "      <th>37</th>\n",
       "      <td>37</td>\n",
       "      <td>0.139966</td>\n",
       "      <td>0.001</td>\n",
       "      <td>T005_turb DSN_216</td>\n",
       "    </tr>\n",
       "  </tbody>\n",
       "</table>\n",
       "<p>22724 rows × 4 columns</p>\n",
       "</div>"
      ],
      "text/plain": [
       "    VAR   CD_GRAD   STEP                DIR\n",
       "0     0  0.932305  0.001  T003_turb DSN_002\n",
       "1     1  0.902509  0.001  T003_turb DSN_002\n",
       "2     2  0.756924  0.001  T003_turb DSN_002\n",
       "3     3  0.575045  0.001  T003_turb DSN_002\n",
       "4     4  0.394999  0.001  T003_turb DSN_002\n",
       "..  ...       ...    ...                ...\n",
       "33   33 -0.419057  0.001  T005_turb DSN_216\n",
       "34   34 -0.293344  0.001  T005_turb DSN_216\n",
       "35   35 -0.062856  0.001  T005_turb DSN_216\n",
       "36   36  0.233226  0.001  T005_turb DSN_216\n",
       "37   37  0.139966  0.001  T005_turb DSN_216\n",
       "\n",
       "[22724 rows x 4 columns]"
      ]
     },
     "execution_count": 8,
     "metadata": {},
     "output_type": "execute_result"
    }
   ],
   "source": [
    "df_cd_grad"
   ]
  },
  {
   "cell_type": "code",
   "execution_count": null,
   "metadata": {},
   "outputs": [],
   "source": []
  },
  {
   "cell_type": "code",
   "execution_count": 9,
   "metadata": {},
   "outputs": [],
   "source": [
    "d_CD = np.resize(df_cd_grad[\"CD_GRAD\"].values, ((len(dir_list), 38)))"
   ]
  },
  {
   "cell_type": "code",
   "execution_count": 10,
   "metadata": {},
   "outputs": [],
   "source": [
    "#d_CD[2] == df_cd_grad[df_cd_grad[\"DIR\"]==\"T003_turb DSN_004\"][\"CD_GRAD\"].values"
   ]
  },
  {
   "cell_type": "code",
   "execution_count": 11,
   "metadata": {},
   "outputs": [
    {
     "data": {
      "text/plain": [
       "(598, 38)"
      ]
     },
     "execution_count": 11,
     "metadata": {},
     "output_type": "execute_result"
    }
   ],
   "source": [
    "d_CD.shape"
   ]
  },
  {
   "cell_type": "code",
   "execution_count": 12,
   "metadata": {},
   "outputs": [],
   "source": [
    "C = np.dot(d_CD.T, d_CD) / d_CD.shape[0]"
   ]
  },
  {
   "cell_type": "code",
   "execution_count": 13,
   "metadata": {},
   "outputs": [
    {
     "data": {
      "text/plain": [
       "array([[ 9.77935514e-01,  9.59145023e-01,  8.18145804e-01, ...,\n",
       "        -1.10568505e-01,  9.46708894e-02,  3.68720405e-01],\n",
       "       [ 9.59145023e-01,  9.41209122e-01,  8.03375821e-01, ...,\n",
       "        -1.08070191e-01,  9.32353636e-02,  3.62280455e-01],\n",
       "       [ 8.18145804e-01,  8.03375821e-01,  6.86321936e-01, ...,\n",
       "        -9.18737191e-02,  7.99986248e-02,  3.09991406e-01],\n",
       "       ...,\n",
       "       [-1.10568505e-01, -1.08070191e-01, -9.18737191e-02, ...,\n",
       "         3.66887997e-02,  7.95328625e-04, -6.06916004e-02],\n",
       "       [ 9.46708894e-02,  9.32353636e-02,  7.99986248e-02, ...,\n",
       "         7.95328625e-04,  3.18935419e-02,  5.76076762e-02],\n",
       "       [ 3.68720405e-01,  3.62280455e-01,  3.09991406e-01, ...,\n",
       "        -6.06916004e-02,  5.76076762e-02,  2.57012785e-01]])"
      ]
     },
     "execution_count": 13,
     "metadata": {},
     "output_type": "execute_result"
    }
   ],
   "source": [
    "np.dot(d_CD.T, d_CD) / d_CD.shape[0]"
   ]
  },
  {
   "cell_type": "code",
   "execution_count": 14,
   "metadata": {},
   "outputs": [
    {
     "data": {
      "image/png": "[encoded data removed]",
      "text/plain": [
       "<Figure size 432x288 with 1 Axes>"
      ]
     },
     "metadata": {
      "needs_background": "light"
     },
     "output_type": "display_data"
    }
   ],
   "source": [
    "for i in range(38):\n",
    "    plt.plot(C[i], 'o')"
   ]
  },
  {
   "cell_type": "code",
   "execution_count": 15,
   "metadata": {},
   "outputs": [
    {
     "data": {
      "text/plain": [
       "(38, 38)"
      ]
     },
     "execution_count": 15,
     "metadata": {},
     "output_type": "execute_result"
    }
   ],
   "source": [
    "C.shape"
   ]
  },
  {
   "cell_type": "code",
   "execution_count": 16,
   "metadata": {},
   "outputs": [
    {
     "data": {
      "text/plain": [
       "array([[ 9.77935514e-01,  9.59145023e-01,  8.18145804e-01, ...,\n",
       "        -1.10568505e-01,  9.46708894e-02,  3.68720405e-01],\n",
       "       [ 9.59145023e-01,  9.41209122e-01,  8.03375821e-01, ...,\n",
       "        -1.08070191e-01,  9.32353636e-02,  3.62280455e-01],\n",
       "       [ 8.18145804e-01,  8.03375821e-01,  6.86321936e-01, ...,\n",
       "        -9.18737191e-02,  7.99986248e-02,  3.09991406e-01],\n",
       "       ...,\n",
       "       [-1.10568505e-01, -1.08070191e-01, -9.18737191e-02, ...,\n",
       "         3.66887997e-02,  7.95328625e-04, -6.06916004e-02],\n",
       "       [ 9.46708894e-02,  9.32353636e-02,  7.99986248e-02, ...,\n",
       "         7.95328625e-04,  3.18935419e-02,  5.76076762e-02],\n",
       "       [ 3.68720405e-01,  3.62280455e-01,  3.09991406e-01, ...,\n",
       "        -6.06916004e-02,  5.76076762e-02,  2.57012785e-01]])"
      ]
     },
     "execution_count": 16,
     "metadata": {},
     "output_type": "execute_result"
    }
   ],
   "source": [
    "C"
   ]
  },
  {
   "cell_type": "code",
   "execution_count": 17,
   "metadata": {},
   "outputs": [],
   "source": [
    "import scipy"
   ]
  },
  {
   "cell_type": "code",
   "execution_count": 18,
   "metadata": {},
   "outputs": [],
   "source": [
    "from scipy import linalg"
   ]
  },
  {
   "cell_type": "code",
   "execution_count": 19,
   "metadata": {},
   "outputs": [],
   "source": [
    "l, W = scipy.linalg.eig(C)"
   ]
  },
  {
   "cell_type": "code",
   "execution_count": 20,
   "metadata": {},
   "outputs": [],
   "source": [
    "np.outer(d_CD[0], d_CD[0]).shape\n",
    "\n",
    "C2 = np.zeros_like(C)\n",
    "for i in range(d_CD.shape[0]):\n",
    "    C2 += np.outer(d_CD[i], d_CD[i].T)\n",
    "\n",
    "C2 = C2 / d_CD.shape[0]"
   ]
  },
  {
   "cell_type": "code",
   "execution_count": 21,
   "metadata": {},
   "outputs": [
    {
     "data": {
      "text/plain": [
       "array([ 9.32305e-01,  9.02509e-01,  7.56924e-01,  5.75045e-01,\n",
       "        3.94999e-01,  2.38223e-01,  1.15757e-01,  3.09355e-02,\n",
       "       -1.86796e-02, -3.93433e-02, -3.91279e-02, -2.61724e-02,\n",
       "       -7.66966e-03,  9.85289e-03,  1.82074e-02,  1.28256e-03,\n",
       "       -8.18707e-02, -3.49449e-01, -1.17100e+00,  3.75622e+00,\n",
       "        3.49613e+00,  2.88665e+00,  2.17368e+00,  1.46664e+00,\n",
       "        8.27131e-01,  2.90078e-01, -1.27991e-01, -4.23715e-01,\n",
       "       -6.02687e-01, -6.76632e-01, -6.62975e-01, -5.86550e-01,\n",
       "       -4.79741e-01, -3.73426e-01, -2.74779e-01, -1.48658e-01,\n",
       "        6.07028e-02,  3.38619e-01])"
      ]
     },
     "execution_count": 21,
     "metadata": {},
     "output_type": "execute_result"
    }
   ],
   "source": [
    "d_CD[0]"
   ]
  },
  {
   "cell_type": "code",
   "execution_count": 22,
   "metadata": {},
   "outputs": [
    {
     "data": {
      "text/plain": [
       "array([[ 0.86919261,  0.84141365,  0.70568403, ..., -0.1385946 ,\n",
       "         0.05659352,  0.31569619],\n",
       "       [ 0.84141365,  0.8145225 ,  0.68313072, ..., -0.13416518,\n",
       "         0.05478482,  0.3056067 ],\n",
       "       [ 0.70568403,  0.68313072,  0.57293394, ..., -0.11252281,\n",
       "         0.04594741,  0.25630885],\n",
       "       ...,\n",
       "       [-0.1385946 , -0.13416518, -0.11252281, ...,  0.0220992 ,\n",
       "        -0.00902396, -0.05033842],\n",
       "       [ 0.05659352,  0.05478482,  0.04594741, ..., -0.00902396,\n",
       "         0.00368483,  0.02055512],\n",
       "       [ 0.31569619,  0.3056067 ,  0.25630885, ..., -0.05033842,\n",
       "         0.02055512,  0.11466283]])"
      ]
     },
     "execution_count": 22,
     "metadata": {},
     "output_type": "execute_result"
    }
   ],
   "source": [
    "i = 0\n",
    "np.outer(d_CD[i], d_CD[i].T)#.shape"
   ]
  },
  {
   "cell_type": "code",
   "execution_count": 23,
   "metadata": {},
   "outputs": [
    {
     "data": {
      "text/plain": [
       "(array([[0.97793551, 0.95914502, 0.8181458 ],\n",
       "        [0.95914502, 0.94120912, 0.80337582],\n",
       "        [0.8181458 , 0.80337582, 0.68632194]]),\n",
       " array([[0.97793551, 0.95914502, 0.8181458 ],\n",
       "        [0.95914502, 0.94120912, 0.80337582],\n",
       "        [0.8181458 , 0.80337582, 0.68632194]]))"
      ]
     },
     "execution_count": 23,
     "metadata": {},
     "output_type": "execute_result"
    }
   ],
   "source": [
    "C[:3,:3], C2[:3,:3]"
   ]
  },
  {
   "cell_type": "code",
   "execution_count": 24,
   "metadata": {
    "scrolled": true
   },
   "outputs": [
    {
     "data": {
      "text/plain": [
       "(0.9779355143826018,\n",
       " array([1.45349935e-03, 1.27773541e-03, 1.64836676e-03, 1.44458911e-03,\n",
       "        1.44482848e-03, 1.51450801e-03, 1.67209030e-03, 1.37153272e-03,\n",
       "        1.62404138e-03, 1.54717594e-03, 1.61455311e-03, 1.60358246e-03,\n",
       "        1.75227311e-03, 1.70632579e-03, 1.68745922e-03, 1.61183978e-03,\n",
       "        1.64288251e-03, 1.62708494e-03, 1.58389114e-03, 1.51695342e-03,\n",
       "        1.51732613e-03, 1.51071326e-03, 1.49191199e-03, 1.60361849e-03,\n",
       "        1.46618944e-03, 1.29918950e-03, 1.47241551e-03, 1.59491518e-03,\n",
       "        1.69613828e-03, 1.52820277e-03, 1.81214077e-03, 1.57562790e-03,\n",
       "        1.57911975e-03, 1.54459056e-03, 1.70143063e-03, 1.62667589e-03,\n",
       "        1.76029344e-03, 1.52505835e-03, 1.65411294e-03, 1.51972280e-03,\n",
       "        1.42934502e-03, 1.58412550e-03, 1.69768805e-03, 1.66717107e-03,\n",
       "        1.47352040e-03, 1.48603571e-03, 1.69856432e-03, 1.74898802e-03,\n",
       "        1.57948702e-03, 1.58011441e-03, 1.76125437e-03, 1.48484104e-03,\n",
       "        1.52218199e-03, 1.63151854e-03, 1.33865373e-03, 1.44362253e-03,\n",
       "        1.67094674e-03, 1.74061816e-03, 1.61104855e-03, 1.68792960e-03,\n",
       "        1.36244300e-03, 1.55239184e-03, 1.51924141e-03, 1.77835441e-03,\n",
       "        1.62490173e-03, 1.69008077e-03, 1.60724284e-03, 1.56379424e-03,\n",
       "        1.58783531e-03, 1.49823670e-03, 1.58091427e-03, 1.43033156e-03,\n",
       "        1.39616110e-03, 1.56725677e-03, 1.71126181e-03, 1.57030177e-03,\n",
       "        1.51650749e-03, 1.63588539e-03, 1.72454995e-03, 1.66689725e-03,\n",
       "        1.63546201e-03, 1.48164713e-03, 1.46194599e-03, 1.55697749e-03,\n",
       "        1.42906984e-03, 1.44795447e-03, 1.56651864e-03, 1.34630412e-03,\n",
       "        1.76200957e-03, 1.67957324e-03, 1.71505317e-03, 1.50683755e-03,\n",
       "        1.55654185e-03, 1.73380050e-03, 1.81823864e-03, 1.66964983e-03,\n",
       "        1.54805752e-03, 1.36452679e-03, 1.57471579e-03, 1.46489635e-03,\n",
       "        1.79869213e-03, 1.36415522e-03, 1.39335104e-03, 1.63779462e-03,\n",
       "        1.42895236e-03, 1.83253018e-03, 1.60559729e-03, 1.56897003e-03,\n",
       "        1.71545964e-03, 1.61707797e-03, 1.56638916e-03, 1.59595728e-03,\n",
       "        1.35169311e-03, 1.71949304e-03, 1.53110721e-03, 1.62534353e-03,\n",
       "        1.43633852e-03, 1.70639335e-03, 1.41660026e-03, 1.55105483e-03,\n",
       "        1.68903863e-03, 1.53185295e-03, 1.48167546e-03, 1.50201575e-03,\n",
       "        1.74662876e-03, 1.60375605e-03, 1.55149615e-03, 1.60379863e-03,\n",
       "        1.68423548e-03, 1.62775471e-03, 1.51940718e-03, 1.71011168e-03,\n",
       "        1.70531242e-03, 1.71932348e-03, 1.56202885e-03, 1.36428511e-03,\n",
       "        1.60709530e-03, 1.62315819e-03, 1.48837284e-03, 1.76747239e-03,\n",
       "        1.58631373e-03, 1.45125209e-03, 1.73420918e-03, 1.68114896e-03,\n",
       "        1.67990843e-03, 1.40903790e-03, 1.61271003e-03, 1.39525669e-03,\n",
       "        1.58388788e-03, 1.61038879e-03, 1.85313928e-03, 1.56224543e-03,\n",
       "        1.86710762e-03, 1.60814137e-03, 1.79869213e-03, 1.43594180e-03,\n",
       "        1.61720623e-03, 1.71783166e-03, 1.69458922e-03, 1.50438127e-03,\n",
       "        1.68641788e-03, 1.75073284e-03, 1.32757212e-03, 1.73043071e-03,\n",
       "        1.61663071e-03, 1.61951922e-03, 1.75453340e-03, 1.52360227e-03,\n",
       "        1.60429979e-03, 1.58484823e-03, 1.76530686e-03, 1.51234127e-03,\n",
       "        1.76640664e-03, 1.23785086e-03, 1.64571141e-03, 1.57882076e-03,\n",
       "        1.60568249e-03, 1.72095166e-03, 1.52413225e-03, 1.57522537e-03,\n",
       "        1.66395344e-03, 1.59802943e-03, 1.45173506e-03, 1.42597667e-03,\n",
       "        1.70602174e-03, 1.72359909e-03, 1.61038550e-03, 1.36385014e-03,\n",
       "        1.46573539e-03, 1.37693246e-03, 1.68598129e-03, 1.62658683e-03,\n",
       "        1.43723445e-03, 1.59382444e-03, 1.71369863e-03, 1.46545359e-03,\n",
       "        1.53478008e-03, 1.60829552e-03, 1.70247659e-03, 1.52012137e-03,\n",
       "        1.41983118e-03, 1.58641472e-03, 1.48830658e-03, 1.70534619e-03,\n",
       "        1.45015558e-03, 1.71667933e-03, 1.62257502e-03, 1.54540389e-03,\n",
       "        1.74970637e-03, 1.67602220e-03, 1.72750607e-03, 1.36567507e-03,\n",
       "        1.52184377e-03, 1.70527864e-03, 1.37752432e-03, 1.49921822e-03,\n",
       "        1.45245187e-03, 1.59150052e-03, 1.59371017e-03, 1.53842207e-03,\n",
       "        1.65243026e-03, 1.74768852e-03, 1.47548951e-03, 1.60294388e-03,\n",
       "        1.79314661e-03, 1.75943570e-03, 1.68272541e-03, 1.70490715e-03,\n",
       "        1.54553892e-03, 1.54802856e-03, 1.59209114e-03, 1.34293323e-03,\n",
       "        1.43270497e-03, 1.41735453e-03, 1.72454995e-03, 1.61816018e-03,\n",
       "        1.31398276e-03, 1.36440595e-03, 1.74950111e-03, 1.57560518e-03,\n",
       "        1.61662414e-03, 1.57057402e-03, 1.51425657e-03, 1.73179184e-03,\n",
       "        1.33643432e-03, 1.69991287e-03, 1.67618962e-03, 1.38471565e-03,\n",
       "        1.50332512e-03, 1.58060211e-03, 1.71302156e-03, 1.40902562e-03,\n",
       "        1.57132608e-03, 1.45751197e-03, 1.56995177e-03, 1.64495503e-03,\n",
       "        1.54149353e-03, 1.52190439e-03, 1.63467161e-03, 1.56479377e-03,\n",
       "        1.41885751e-03, 1.80587936e-03, 1.59453632e-03, 1.63806935e-03,\n",
       "        1.52335008e-03, 1.38104166e-03, 1.54565468e-03, 1.69644144e-03,\n",
       "        1.51514146e-03, 1.44844934e-03, 1.38359591e-03, 1.62749735e-03,\n",
       "        1.44463574e-03, 2.09021130e-03, 1.59367425e-03, 1.51566042e-03,\n",
       "        1.73111121e-03, 1.62155720e-03, 1.84571797e-03, 1.44455492e-03,\n",
       "        1.45388290e-03, 1.44617489e-03, 1.50695501e-03, 1.58148666e-03,\n",
       "        1.80438518e-03, 1.60792491e-03, 1.55754229e-03, 1.56093650e-03,\n",
       "        1.51046849e-03, 1.71661156e-03, 1.68124956e-03, 1.43582713e-03,\n",
       "        1.55883043e-03, 1.43428421e-03, 1.40868180e-03, 1.43154123e-03,\n",
       "        1.58271958e-03, 1.73175781e-03, 1.59948466e-03, 1.46830094e-03,\n",
       "        1.58114517e-03, 1.60307486e-03, 1.71132947e-03, 1.55345542e-03,\n",
       "        1.55188919e-03, 1.35578558e-03, 1.47799441e-03, 1.44042982e-03,\n",
       "        1.53585684e-03, 1.64062909e-03, 1.38463044e-03, 1.77538954e-03,\n",
       "        1.51474355e-03, 1.56070062e-03, 1.63681505e-03, 1.41679420e-03,\n",
       "        1.43565359e-03, 1.64822730e-03, 1.45570779e-03, 1.58521617e-03,\n",
       "        1.42767889e-03, 1.55736800e-03, 1.35958266e-03, 1.52237983e-03,\n",
       "        1.49955075e-03, 1.64324718e-03, 1.55506437e-03, 1.75419084e-03,\n",
       "        1.45283840e-03, 1.55269799e-03, 1.44866101e-03, 1.61975291e-03,\n",
       "        1.65841998e-03, 1.61445452e-03, 1.37078468e-03, 1.66459405e-03,\n",
       "        1.62498415e-03, 1.56701394e-03, 1.60318620e-03, 1.57338542e-03,\n",
       "        1.64869883e-03, 1.65633233e-03, 1.54141968e-03, 1.57095327e-03,\n",
       "        1.64824058e-03, 1.40589902e-03, 1.57350870e-03, 1.53084800e-03,\n",
       "        1.62821670e-03, 1.57985434e-03, 1.58271958e-03, 1.71776386e-03,\n",
       "        1.66039230e-03, 1.88439326e-03, 1.67960676e-03, 1.60830536e-03,\n",
       "        1.46149259e-03, 1.71363092e-03, 1.71515479e-03, 1.30638646e-03,\n",
       "        1.58170133e-03, 1.59562404e-03, 1.65480156e-03, 1.48586546e-03,\n",
       "        1.68285961e-03, 1.65849325e-03, 1.53390229e-03, 1.47390972e-03,\n",
       "        1.62714763e-03, 1.70143063e-03, 1.58718033e-03, 1.37787039e-03,\n",
       "        1.51221405e-03, 1.56834485e-03, 1.66642313e-03, 1.68121602e-03,\n",
       "        1.39921873e-03, 1.45883615e-03, 1.45262019e-03, 1.73945821e-03,\n",
       "        1.48566055e-03, 1.31510957e-03, 1.71376635e-03, 1.93597231e-03,\n",
       "        2.70055625e-03, 1.38973573e-03, 2.30214017e-03, 9.17415166e-04,\n",
       "        2.04221741e-03, 1.87620099e-03, 2.04439862e-03, 1.43992081e-03,\n",
       "        2.12912852e-03, 1.08495193e-03, 2.49892902e-03, 8.87361733e-04,\n",
       "        1.21513469e-03, 1.77600989e-03, 2.08210519e-03, 2.39052023e-03,\n",
       "        1.89758790e-03, 3.33208416e-03, 1.30261133e-03, 1.25787217e-03,\n",
       "        1.10944162e-03, 1.50784729e-03, 2.44315057e-03, 1.01377366e-03,\n",
       "        2.46592247e-03, 9.51573420e-04, 3.47353301e-03, 2.11428566e-03,\n",
       "        2.05387636e-03, 3.58396014e-03, 1.29772185e-03, 2.10785986e-03,\n",
       "        3.73270154e-03, 8.11112689e-04, 1.34754077e-03, 1.17607901e-03,\n",
       "        2.30108077e-03, 6.85401546e-04, 1.03473415e-03, 2.33462820e-03,\n",
       "        1.64808121e-03, 1.41607701e-03, 1.54326655e-03, 1.32697322e-03,\n",
       "        1.71505317e-03, 6.93629179e-05, 1.77883730e-03, 1.16873918e-03,\n",
       "        1.91726919e-03, 1.46338795e-03, 7.75567897e-04, 2.63722200e-03,\n",
       "        1.00660180e-03, 1.18187237e-03, 1.08932316e-03, 5.45853014e-05,\n",
       "        6.95547299e-04, 1.80386410e-03, 9.63513700e-04, 1.99978842e-03,\n",
       "        2.81227778e-03, 1.06402242e-03, 9.06141563e-04, 2.69936634e-03,\n",
       "        1.67277596e-03, 2.10219375e-03, 9.42040658e-04, 1.48706369e-03,\n",
       "        2.46677542e-03, 9.90917970e-04, 1.19258934e-03, 2.23405703e-03,\n",
       "        5.78186890e-04, 1.65943265e-03, 1.72862802e-03, 1.30074941e-03,\n",
       "        1.36368101e-03, 1.35643011e-03, 2.13853568e-03, 1.49299888e-03,\n",
       "        1.44751881e-03, 1.05213868e-03, 1.27136434e-03, 2.00289841e-03,\n",
       "        2.64083527e-03, 1.01531845e-03, 1.65178202e-03, 2.06374754e-03,\n",
       "        2.14141108e-03, 1.75145155e-03, 1.59877495e-03, 9.73741122e-04,\n",
       "        1.59231631e-03, 1.17041459e-03, 1.39139178e-03, 1.32043880e-03,\n",
       "        9.96427381e-04, 2.63302364e-03, 1.01956290e-03, 2.25735020e-03,\n",
       "        1.47987212e-03, 1.39218203e-03, 2.13381062e-03, 9.10719151e-04,\n",
       "        1.89890633e-03, 1.10668649e-03, 2.64575496e-03, 4.35721144e-04,\n",
       "        1.08573600e-03, 1.55157990e-03, 1.56506231e-03, 1.46434860e-03,\n",
       "        1.83249517e-03, 1.05708944e-03, 2.60535659e-03, 1.18234196e-03,\n",
       "        1.11858357e-03, 2.18921049e-03, 2.21577125e-03, 1.27653999e-03,\n",
       "        3.01281255e-03, 9.53421081e-04, 4.35021475e-04, 1.16602025e-03,\n",
       "        9.48515599e-04, 1.73083899e-03, 6.82204229e-04, 1.75583544e-03,\n",
       "        2.37104609e-03, 1.31856121e-03, 1.13317747e-03, 1.99850854e-03,\n",
       "        2.47359542e-02, 1.45785857e-03, 1.09792669e-03, 2.23904655e-03,\n",
       "        2.39928554e-03, 1.33766045e-03, 1.22256994e-03, 1.32185084e-03,\n",
       "        3.47182441e-04, 1.71298771e-03, 2.19825079e-03, 1.66555519e-03,\n",
       "        2.85310776e-03, 7.63613320e-04, 1.22716688e-03, 1.66087223e-03,\n",
       "        2.50060556e-03, 1.01220402e-03, 1.68034424e-03, 1.77690614e-03,\n",
       "        1.86308105e-03, 1.17209960e-03, 1.54580259e-03, 1.96309182e-03,\n",
       "        1.26481722e-03, 1.24265228e-03, 1.75929848e-03, 2.22733580e-03,\n",
       "        1.67930510e-03, 3.15891361e-03, 1.66748499e-03, 1.54690572e-03,\n",
       "        1.56106898e-03, 1.92942847e-03, 1.53389268e-03, 9.51081517e-04,\n",
       "        1.31602917e-03, 2.44258464e-03, 1.25717030e-03, 1.48775132e-03,\n",
       "        1.08571983e-03, 1.68792960e-03, 2.91102002e-03, 1.21803585e-03,\n",
       "        1.37807683e-03, 2.10883625e-03, 1.92052941e-03, 1.97594060e-03,\n",
       "        1.66494443e-03, 6.43686788e-04, 3.03980774e-03, 7.94892039e-04,\n",
       "        1.55961519e-03, 1.02576411e-03, 1.74587687e-03, 1.52514458e-03,\n",
       "        2.40317302e-03, 1.07581730e-03, 9.68979596e-04, 1.20490993e-03,\n",
       "        2.06906401e-03, 1.80105157e-03, 1.95773244e-03, 1.52024573e-03,\n",
       "        2.48219457e-03, 1.41493234e-03, 7.38463963e-04, 1.77184184e-03,\n",
       "        2.96082976e-03, 1.52227772e-03, 9.42743655e-04, 1.64039389e-03,\n",
       "        1.24685357e-03, 1.13196366e-03, 2.35502401e-03, 1.44187977e-03,\n",
       "        2.31514742e-03, 2.36213381e-03, 1.96178752e-03, 1.45292257e-03,\n",
       "        1.00750241e-03, 1.88535197e-03]),\n",
       " array([8.69192613e-01, 8.14522495e-01, 5.72933942e-01, 3.30676752e-01,\n",
       "        1.56024210e-01, 5.67501977e-02, 1.33996830e-02, 9.57005160e-04,\n",
       "        3.48927456e-04, 1.54789525e-03, 1.53099256e-03, 6.84994522e-04,\n",
       "        5.88236845e-05, 9.70794414e-05, 3.31509415e-04, 1.64496015e-06,\n",
       "        6.70281152e-03, 1.22114604e-01, 1.37124100e+00, 1.41091887e+01,\n",
       "        1.22229250e+01, 8.33274822e+00, 4.72488474e+00, 2.15103289e+00,\n",
       "        6.84145691e-01, 8.41452461e-02, 1.63816961e-02, 1.79534401e-01,\n",
       "        3.63231620e-01, 4.57830863e-01, 4.39535851e-01, 3.44040903e-01,\n",
       "        2.30151427e-01, 1.39446977e-01, 7.55034988e-02, 2.20992010e-02,\n",
       "        3.68482993e-03, 1.14662827e-01]))"
      ]
     },
     "execution_count": 24,
     "metadata": {},
     "output_type": "execute_result"
    }
   ],
   "source": [
    "i = 0\n",
    "C2[0,0], d_CD[:,0]*d_CD[:,0].T / d_CD.shape[0], np.multiply(d_CD[i].T, d_CD[i])"
   ]
  },
  {
   "cell_type": "code",
   "execution_count": 25,
   "metadata": {},
   "outputs": [
    {
     "data": {
      "text/plain": [
       "array([6.60659957e+02+0.j, 1.67242876e+01+0.j, 1.71725270e+00+0.j,\n",
       "       7.06829176e-01+0.j, 4.79312772e-01+0.j, 9.67697606e-02+0.j,\n",
       "       7.29003917e-02+0.j, 6.30247961e-02+0.j, 2.13127560e-02+0.j,\n",
       "       1.73263890e-02+0.j, 5.51555565e-03+0.j, 3.39599019e-03+0.j,\n",
       "       9.61501946e-04+0.j, 4.82102524e-04+0.j, 1.70123461e-04+0.j,\n",
       "       1.25654588e-04+0.j, 2.97359759e-05+0.j, 2.16025265e-05+0.j,\n",
       "       6.30368818e-06+0.j, 1.49967544e-06+0.j, 1.28139878e-06+0.j,\n",
       "       1.75216343e-07+0.j, 1.04722152e-07+0.j, 2.08391953e-08+0.j,\n",
       "       6.11422772e-09+0.j, 4.39136071e-10+0.j, 5.62735481e-10+0.j,\n",
       "       1.98180930e-11+0.j, 1.58295405e-11+0.j, 6.31293270e-12+0.j,\n",
       "       2.08292232e-12+0.j, 1.16517672e-12+0.j, 8.80244162e-13+0.j,\n",
       "       1.34585515e-13+0.j, 7.89985137e-14+0.j, 3.44175365e-14+0.j,\n",
       "       1.58755644e-14+0.j, 9.64679100e-15+0.j])"
      ]
     },
     "execution_count": 25,
     "metadata": {},
     "output_type": "execute_result"
    }
   ],
   "source": [
    "l"
   ]
  },
  {
   "cell_type": "code",
   "execution_count": 26,
   "metadata": {},
   "outputs": [],
   "source": [
    "import matplotlib.pyplot as plt"
   ]
  },
  {
   "cell_type": "code",
   "execution_count": 27,
   "metadata": {
    "scrolled": true
   },
   "outputs": [
    {
     "name": "stderr",
     "output_type": "stream",
     "text": [
      "C:\\Users\\Nils\\Anaconda3\\envs\\MA\\lib\\site-packages\\numpy\\core\\_asarray.py:83: ComplexWarning: Casting complex values to real discards the imaginary part\n",
      "  return array(a, dtype, copy=False, order=order)\n"
     ]
    },
    {
     "data": {
      "text/plain": [
       "Text(0.5, 0, 'Eigenmodes')"
      ]
     },
     "execution_count": 27,
     "metadata": {},
     "output_type": "execute_result"
    },
    {
     "data": {
      "image/png": "[encoded data removed]",
      "text/plain": [
       "<Figure size 432x288 with 1 Axes>"
      ]
     },
     "metadata": {
      "needs_background": "light"
     },
     "output_type": "display_data"
    }
   ],
   "source": [
    "plt.semilogy(range(1,39), l, \"-s\")\n",
    "plt.gca().set_ylabel(\"Eigenvalue\")\n",
    "plt.gca().set_xlabel(\"Eigenmodes\")"
   ]
  },
  {
   "cell_type": "code",
   "execution_count": 28,
   "metadata": {},
   "outputs": [
    {
     "name": "stderr",
     "output_type": "stream",
     "text": [
      "C:\\Users\\Nils\\Anaconda3\\envs\\MA\\lib\\site-packages\\numpy\\core\\_asarray.py:83: ComplexWarning: Casting complex values to real discards the imaginary part\n",
      "  return array(a, dtype, copy=False, order=order)\n"
     ]
    },
    {
     "data": {
      "text/plain": [
       "Text(0, 0.5, 'Cum. Fraction of Total EV')"
      ]
     },
     "execution_count": 28,
     "metadata": {},
     "output_type": "execute_result"
    },
    {
     "data": {
      "image/png": "[encoded data removed]",
      "text/plain": [
       "<Figure size 432x288 with 1 Axes>"
      ]
     },
     "metadata": {
      "needs_background": "light"
     },
     "output_type": "display_data"
    }
   ],
   "source": [
    "plt.plot(range(1,39), l.cumsum() / l.sum(), \"-s\")\n",
    "plt.gca().set_xlabel(\"Eigenmodes\")\n",
    "plt.gca().set_ylabel(\"Cum. Fraction of Total EV\")"
   ]
  },
  {
   "cell_type": "code",
   "execution_count": 29,
   "metadata": {
    "scrolled": true
   },
   "outputs": [
    {
     "name": "stderr",
     "output_type": "stream",
     "text": [
      "<ipython-input-29-ddf29ef2c2f3>:1: ComplexWarning: Casting complex values to real discards the imaginary part\n",
      "  l.cumsum() / float(l.sum())\n"
     ]
    },
    {
     "data": {
      "text/plain": [
       "array([0.9707455 +0.j, 0.99531945+0.j, 0.99784271+0.j, 0.99888129+0.j,\n",
       "       0.99958557+0.j, 0.99972776+0.j, 0.99983488+0.j, 0.99992749+0.j,\n",
       "       0.9999588 +0.j, 0.99998426+0.j, 0.99999237+0.j, 0.99999735+0.j,\n",
       "       0.99999877+0.j, 0.99999948+0.j, 0.99999973+0.j, 0.99999991+0.j,\n",
       "       0.99999995+0.j, 0.99999999+0.j, 1.        +0.j, 1.        +0.j,\n",
       "       1.        +0.j, 1.        +0.j, 1.        +0.j, 1.        +0.j,\n",
       "       1.        +0.j, 1.        +0.j, 1.        +0.j, 1.        +0.j,\n",
       "       1.        +0.j, 1.        +0.j, 1.        +0.j, 1.        +0.j,\n",
       "       1.        +0.j, 1.        +0.j, 1.        +0.j, 1.        +0.j,\n",
       "       1.        +0.j, 1.        +0.j])"
      ]
     },
     "execution_count": 29,
     "metadata": {},
     "output_type": "execute_result"
    }
   ],
   "source": [
    "l.cumsum() / float(l.sum())"
   ]
  },
  {
   "cell_type": "code",
   "execution_count": 88,
   "metadata": {},
   "outputs": [
    {
     "data": {
      "text/plain": [
       "array([6.60659957e+02+0.j, 1.67242876e+01+0.j, 1.71725270e+00+0.j,\n",
       "       7.06829176e-01+0.j, 4.79312772e-01+0.j, 9.67697606e-02+0.j,\n",
       "       7.29003917e-02+0.j, 6.30247961e-02+0.j, 2.13127560e-02+0.j,\n",
       "       1.73263890e-02+0.j, 5.51555565e-03+0.j, 3.39599019e-03+0.j,\n",
       "       9.61501946e-04+0.j, 4.82102524e-04+0.j, 1.70123461e-04+0.j,\n",
       "       1.25654588e-04+0.j, 2.97359759e-05+0.j, 2.16025265e-05+0.j,\n",
       "       6.30368818e-06+0.j, 1.49967544e-06+0.j, 1.28139878e-06+0.j,\n",
       "       1.75216343e-07+0.j, 1.04722152e-07+0.j, 2.08391953e-08+0.j,\n",
       "       6.11422772e-09+0.j, 4.39136071e-10+0.j, 5.62735481e-10+0.j,\n",
       "       1.98180930e-11+0.j, 1.58295405e-11+0.j, 6.31293270e-12+0.j,\n",
       "       2.08292232e-12+0.j, 1.16517672e-12+0.j, 8.80244162e-13+0.j,\n",
       "       1.34585515e-13+0.j, 7.89985137e-14+0.j, 3.44175365e-14+0.j,\n",
       "       1.58755644e-14+0.j, 9.64679100e-15+0.j])"
      ]
     },
     "execution_count": 88,
     "metadata": {},
     "output_type": "execute_result"
    }
   ],
   "source": [
    "l"
   ]
  },
  {
   "cell_type": "code",
   "execution_count": 199,
   "metadata": {},
   "outputs": [],
   "source": [
    "r = 3"
   ]
  },
  {
   "cell_type": "code",
   "execution_count": 200,
   "metadata": {},
   "outputs": [],
   "source": [
    "#U = np.zeros_like(W)\n",
    "U = W[:r,:].copy()\n",
    "l1 = l[:r]\n",
    "\n",
    "#V = np.zeros_like(W)\n",
    "V = W[r:,:].copy()\n",
    "l2 = l[r:]"
   ]
  },
  {
   "cell_type": "code",
   "execution_count": 201,
   "metadata": {},
   "outputs": [],
   "source": [
    "#U = np.zeros_like(W)\n",
    "U2 = W[:,:r].copy()\n",
    "l1 = l[:r]\n",
    "\n",
    "#V = np.zeros_like(W)\n",
    "V2 = W[:,r:].copy()\n",
    "l2 = l[r:]"
   ]
  },
  {
   "cell_type": "code",
   "execution_count": 202,
   "metadata": {},
   "outputs": [
    {
     "data": {
      "text/plain": [
       "array([[ 0.        , -0.17758614,  0.25442295,  0.26991005,  0.27496764,\n",
       "         0.26816555, -0.0841484 ,  0.00672795,  0.05536383,  0.00144052,\n",
       "         0.04395747, -0.14902998, -0.00904663,  0.22728172,  0.41548116,\n",
       "        -0.43868889, -0.24821504,  0.00517124, -0.28276972,  0.44488233,\n",
       "         0.19907758,  0.45340737,  0.58463418,  0.40610271,  0.47152346,\n",
       "         0.33482386,  0.15794949,  0.07591995,  0.06517413, -0.01417001,\n",
       "        -0.02605274, -0.00961402,  0.0055718 , -0.00122471, -0.00543497,\n",
       "         0.0016857 ,  0.00204239,  0.004302  ],\n",
       "       [ 0.17758614,  0.        ,  0.3950491 ,  0.36841533,  0.33915861,\n",
       "         0.29527866, -0.06070028, -0.00130663,  0.08314616,  0.01800141,\n",
       "         0.0479635 , -0.07433881,  0.01993991,  0.10445369,  0.03043048,\n",
       "        -0.01295442,  0.15399063, -0.03838057, -0.07849088,  0.25170852,\n",
       "         0.58930356,  0.03958673, -0.3901457 , -0.2294563 , -0.65315214,\n",
       "        -0.60123315, -0.23372398, -0.17523474, -0.40793103, -0.16773028,\n",
       "        -0.17616476, -0.26915959, -0.29946728, -0.19000031, -0.06598798,\n",
       "        -0.04700461,  0.01746726,  0.09721783],\n",
       "       [-0.25442295, -0.3950491 ,  0.        ,  0.04689085,  0.09653407,\n",
       "         0.12155319, -0.11976921, -0.05002827,  0.09557161,  0.03221892,\n",
       "         0.04081003,  0.0021739 , -0.00850998, -0.06145981, -0.22071832,\n",
       "         0.17621892,  0.22477552,  0.09490935,  0.65460351, -0.17298898,\n",
       "         0.14414705,  0.05131294,  0.04802243,  0.05281609,  0.19801927,\n",
       "         0.31831238, -0.09475466, -0.23153032,  0.10208309, -0.37076715,\n",
       "        -0.39334176, -0.12341168,  0.11444567,  0.17685101, -0.00619905,\n",
       "         0.02385351,  0.00383729, -0.0711078 ]])"
      ]
     },
     "execution_count": 202,
     "metadata": {},
     "output_type": "execute_result"
    }
   ],
   "source": [
    "U - U2.T"
   ]
  },
  {
   "cell_type": "code",
   "execution_count": 203,
   "metadata": {},
   "outputs": [
    {
     "data": {
      "text/plain": [
       "array([0., 0., 0., 0., 0., 0., 0., 0., 0., 0., 0., 0., 0., 0., 0., 0., 0.,\n",
       "       0., 0., 0., 0., 0., 0., 0., 0., 0., 0., 0., 0., 0., 0., 0., 0., 0.,\n",
       "       0., 0., 0., 0.])"
      ]
     },
     "execution_count": 203,
     "metadata": {},
     "output_type": "execute_result"
    }
   ],
   "source": [
    "x = np.zeros(38)\n",
    "x"
   ]
  },
  {
   "cell_type": "code",
   "execution_count": 204,
   "metadata": {},
   "outputs": [
    {
     "data": {
      "text/plain": [
       "(array([0., 0., 0.]), (3,))"
      ]
     },
     "execution_count": 204,
     "metadata": {},
     "output_type": "execute_result"
    }
   ],
   "source": [
    "y = np.dot(U, x)\n",
    "y, y.shape"
   ]
  },
  {
   "cell_type": "code",
   "execution_count": 205,
   "metadata": {},
   "outputs": [
    {
     "data": {
      "text/plain": [
       "((3, 38), (35, 38), (598, 38), (680.5696850835012+0j))"
      ]
     },
     "execution_count": 205,
     "metadata": {},
     "output_type": "execute_result"
    }
   ],
   "source": [
    "U.shape, V.shape, dv_mat.shape, np.sum(l)"
   ]
  },
  {
   "cell_type": "code",
   "execution_count": 206,
   "metadata": {
    "scrolled": true
   },
   "outputs": [
    {
     "data": {
      "text/plain": [
       "((598, 3), (598,))"
      ]
     },
     "execution_count": 206,
     "metadata": {},
     "output_type": "execute_result"
    }
   ],
   "source": [
    "Y = np.dot(dv_mat, U2) #* np.sum(l).astype(\"double\")\n",
    "Y.shape, df_result[\"c_D\"].shape"
   ]
  },
  {
   "cell_type": "code",
   "execution_count": 207,
   "metadata": {},
   "outputs": [
    {
     "data": {
      "text/plain": [
       "[<matplotlib.lines.Line2D at 0x217415051c0>]"
      ]
     },
     "execution_count": 207,
     "metadata": {},
     "output_type": "execute_result"
    },
    {
     "data": {
      "image/png": "[encoded data removed]",
      "text/plain": [
       "<Figure size 432x288 with 1 Axes>"
      ]
     },
     "metadata": {
      "needs_background": "light"
     },
     "output_type": "display_data"
    }
   ],
   "source": [
    "plt.plot(df_result[\"rms_nu\"], df_result[\"c_D\"], \"o\")\n",
    "plt.plot(df_result[\"rms_rho\"], df_result[\"c_D\"], \"o\")"
   ]
  },
  {
   "cell_type": "code",
   "execution_count": 208,
   "metadata": {},
   "outputs": [
    {
     "data": {
      "text/plain": [
       "[<matplotlib.lines.Line2D at 0x21741513430>]"
      ]
     },
     "execution_count": 208,
     "metadata": {},
     "output_type": "execute_result"
    },
    {
     "data": {
      "image/png": "[encoded data removed]",
      "text/plain": [
       "<Figure size 432x288 with 1 Axes>"
      ]
     },
     "metadata": {
      "needs_background": "light"
     },
     "output_type": "display_data"
    }
   ],
   "source": [
    "plt.plot(df_result[\"rms_nu\"], df_result[\"AOA\"], \"o\")\n",
    "plt.plot(df_result[\"rms_rho\"], df_result[\"AOA\"], \"o\")"
   ]
  },
  {
   "cell_type": "code",
   "execution_count": 209,
   "metadata": {},
   "outputs": [],
   "source": [
    "a = df_result[\"rms_rho\"] < -6"
   ]
  },
  {
   "cell_type": "code",
   "execution_count": 210,
   "metadata": {},
   "outputs": [
    {
     "data": {
      "text/plain": [
       "(580, 3)"
      ]
     },
     "execution_count": 210,
     "metadata": {},
     "output_type": "execute_result"
    }
   ],
   "source": [
    "Y[a].shape"
   ]
  },
  {
   "cell_type": "code",
   "execution_count": null,
   "metadata": {},
   "outputs": [],
   "source": []
  },
  {
   "cell_type": "code",
   "execution_count": null,
   "metadata": {},
   "outputs": [],
   "source": []
  },
  {
   "cell_type": "code",
   "execution_count": 211,
   "metadata": {},
   "outputs": [
    {
     "name": "stderr",
     "output_type": "stream",
     "text": [
      "C:\\Users\\Nils\\Anaconda3\\envs\\MA\\lib\\site-packages\\numpy\\core\\_asarray.py:83: ComplexWarning: Casting complex values to real discards the imaginary part\n",
      "  return array(a, dtype, copy=False, order=order)\n"
     ]
    },
    {
     "data": {
      "text/plain": [
       "[<matplotlib.lines.Line2D at 0x21740e79280>,\n",
       " <matplotlib.lines.Line2D at 0x21740e79340>,\n",
       " <matplotlib.lines.Line2D at 0x21740e79400>]"
      ]
     },
     "execution_count": 211,
     "metadata": {},
     "output_type": "execute_result"
    },
    {
     "data": {
      "image/png": "[encoded data removed]",
      "text/plain": [
       "<Figure size 432x288 with 1 Axes>"
      ]
     },
     "metadata": {
      "needs_background": "light"
     },
     "output_type": "display_data"
    }
   ],
   "source": [
    "#fig, axes = plt.subplots(1, 1, figsize=(16,40))\n",
    "\n",
    "plt.plot(U[:r].T * l[:r])"
   ]
  },
  {
   "cell_type": "code",
   "execution_count": 212,
   "metadata": {},
   "outputs": [
    {
     "data": {
      "text/plain": [
       "array([ 3.46078043e-07,  3.21613886e-07, -2.93350324e-06])"
      ]
     },
     "execution_count": 212,
     "metadata": {},
     "output_type": "execute_result"
    }
   ],
   "source": [
    "np.dot(dv_mat[0], U.T)"
   ]
  },
  {
   "cell_type": "code",
   "execution_count": 213,
   "metadata": {},
   "outputs": [
    {
     "data": {
      "text/plain": [
       "(3.4607804316002955e-07, 7.66641666160992e-06)"
      ]
     },
     "execution_count": 213,
     "metadata": {},
     "output_type": "execute_result"
    }
   ],
   "source": [
    "np.dot(dv_mat[0], U[0]), Y[0,0]"
   ]
  },
  {
   "cell_type": "code",
   "execution_count": 214,
   "metadata": {},
   "outputs": [],
   "source": [
    "c_D = df_result[\"c_D\"].values"
   ]
  },
  {
   "cell_type": "code",
   "execution_count": 215,
   "metadata": {},
   "outputs": [
    {
     "data": {
      "text/plain": [
       "array([0.011605, 0.011163, 0.01297 , 0.012497, 0.012171, 0.013483,\n",
       "       0.013398, 0.011187, 0.014597, 0.013292, 0.015821, 0.012012,\n",
       "       0.015211, 0.015144, 0.014759, 0.014414, 0.013169, 0.014733,\n",
       "       0.013084, 0.013204, 0.012854, 0.013758, 0.012906, 0.014814,\n",
       "       0.01226 , 0.01257 , 0.013522, 0.013278, 0.013418, 0.013091,\n",
       "       0.015245, 0.013158, 0.013844, 0.014127, 0.014943, 0.014222,\n",
       "       0.016025, 0.012907, 0.014612, 0.013244, 0.012788, 0.013447,\n",
       "       0.013178, 0.01389 , 0.013864, 0.012806, 0.015713, 0.015477,\n",
       "       0.013691, 0.014239, 0.016649, 0.012795, 0.013323, 0.013553,\n",
       "       0.012898, 0.01325 , 0.013491, 0.015912, 0.014468, 0.014782,\n",
       "       0.013342, 0.01306 , 0.013984, 0.013916, 0.012621, 0.016156,\n",
       "       0.013227, 0.013739, 0.012296, 0.012539, 0.015094, 0.012114,\n",
       "       0.013787, 0.013271, 0.016361, 0.013673, 0.013397, 0.014163,\n",
       "       0.014892, 0.014254, 0.013398, 0.011986, 0.012265, 0.011958,\n",
       "       0.011514, 0.011513, 0.012073, 0.012941, 0.01467 , 0.013012,\n",
       "       0.015289, 0.013809, 0.011829, 0.0163  , 0.016281, 0.012986,\n",
       "       0.012228, 0.012631, 0.012599, 0.012357, 0.014435, 0.012165,\n",
       "       0.013252, 0.012276, 0.012973, 0.016777, 0.014002, 0.01453 ,\n",
       "       0.013121, 0.012632, 0.013918, 0.013007, 0.011766, 0.012938,\n",
       "       0.014363, 0.014017, 0.012377, 0.014991, 0.015435, 0.012845,\n",
       "       0.014516, 0.01335 , 0.011577, 0.012052, 0.014761, 0.014027,\n",
       "       0.013358, 0.012348, 0.013891, 0.01532 , 0.012224, 0.014475,\n",
       "       0.014015, 0.015133, 0.014598, 0.013021, 0.013876, 0.015026,\n",
       "       0.011978, 0.012901, 0.013369, 0.011958, 0.015577, 0.016798,\n",
       "       0.015362, 0.011795, 0.013156, 0.013719, 0.014087, 0.013442,\n",
       "       0.014545, 0.013752, 0.013997, 0.015958, 0.014013, 0.012991,\n",
       "       0.012428, 0.014762, 0.01388 , 0.012681, 0.01312 , 0.014531,\n",
       "       0.013447, 0.013303, 0.01189 , 0.013117, 0.015183, 0.012808,\n",
       "       0.015087, 0.013638, 0.015504, 0.01256 , 0.016756, 0.012553,\n",
       "       0.013945, 0.015191, 0.015438, 0.014836, 0.012972, 0.015521,\n",
       "       0.015484, 0.012826, 0.01207 , 0.012025, 0.015981, 0.015523,\n",
       "       0.014155, 0.012132, 0.012449, 0.011617, 0.016003, 0.01609 ,\n",
       "       0.0124  , 0.014945, 0.013563, 0.013195, 0.012314, 0.014866,\n",
       "       0.013682, 0.013943, 0.01283 , 0.013281, 0.013679, 0.015026,\n",
       "       0.013273, 0.014929, 0.016624, 0.013672, 0.016391, 0.014006,\n",
       "       0.012867, 0.012487, 0.013308, 0.014754, 0.012385, 0.012993,\n",
       "       0.013238, 0.013082, 0.01541 , 0.014293, 0.014587, 0.013741,\n",
       "       0.015892, 0.014007, 0.016152, 0.014554, 0.015066, 0.015342,\n",
       "       0.015472, 0.013038, 0.014648, 0.012749, 0.013928, 0.012783,\n",
       "       0.013744, 0.01379 , 0.011984, 0.01344 , 0.014918, 0.013939,\n",
       "       0.013648, 0.012647, 0.01159 , 0.014639, 0.01199 , 0.014329,\n",
       "       0.015221, 0.012435, 0.01337 , 0.012556, 0.015055, 0.012473,\n",
       "       0.012979, 0.014795, 0.012345, 0.015932, 0.013062, 0.011911,\n",
       "       0.012251, 0.012738, 0.013837, 0.014817, 0.014156, 0.015274,\n",
       "       0.01234 , 0.011927, 0.012474, 0.014089, 0.011684, 0.012307,\n",
       "       0.0118  , 0.015443, 0.012474, 0.016153, 0.012396, 0.016447,\n",
       "       0.017179, 0.013114, 0.01542 , 0.013295, 0.012168, 0.012863,\n",
       "       0.013003, 0.013076, 0.01804 , 0.013392, 0.014492, 0.014761,\n",
       "       0.015033, 0.013448, 0.01515 , 0.013405, 0.014324, 0.014163,\n",
       "       0.014132, 0.012382, 0.013747, 0.015811, 0.012908, 0.013058,\n",
       "       0.017243, 0.01367 , 0.016529, 0.013032, 0.012198, 0.014165,\n",
       "       0.014855, 0.012877, 0.013537, 0.01614 , 0.011372, 0.016922,\n",
       "       0.016453, 0.015   , 0.012928, 0.013725, 0.0131  , 0.012798,\n",
       "       0.012542, 0.012664, 0.011996, 0.012082, 0.014143, 0.013781,\n",
       "       0.012848, 0.015631, 0.014236, 0.014732, 0.012571, 0.013488,\n",
       "       0.014172, 0.014937, 0.01401 , 0.013716, 0.013717, 0.014599,\n",
       "       0.013507, 0.013544, 0.011564, 0.013769, 0.012616, 0.01478 ,\n",
       "       0.013034, 0.013541, 0.013408, 0.012443, 0.014237, 0.014309,\n",
       "       0.01373 , 0.014361, 0.015212, 0.013951, 0.0141  , 0.016227,\n",
       "       0.015029, 0.015161, 0.012279, 0.014118, 0.015158, 0.012378,\n",
       "       0.013459, 0.015854, 0.017051, 0.014606, 0.015215, 0.014312,\n",
       "       0.013348, 0.014127, 0.015136, 0.014977, 0.015145, 0.013498,\n",
       "       0.015075, 0.012725, 0.014415, 0.016259, 0.013263, 0.012968,\n",
       "       0.016124, 0.014061, 0.013078, 0.012726, 0.020375, 0.030241,\n",
       "       0.020431, 0.02136 , 0.01725 , 0.028671, 0.021222, 0.016431,\n",
       "       0.016977, 0.01262 , 0.017615, 0.015676, 0.016964, 0.012712,\n",
       "       0.024719, 0.02932 , 0.019387, 0.026893, 0.01902 , 0.032333,\n",
       "       0.026886, 0.020419, 0.012544, 0.012412, 0.019019, 0.052809,\n",
       "       0.017883, 0.018788, 0.024229, 0.01601 , 0.013537, 0.052799,\n",
       "       0.024867, 0.014055, 0.016251, 0.012856, 0.013129, 0.01965 ,\n",
       "       0.017298, 0.06305 , 0.012757, 0.01359 , 0.031228, 0.013102,\n",
       "       0.022689, 0.015363, 0.029422, 0.044647, 0.016638, 0.031893,\n",
       "       0.018307, 0.015621, 0.015147, 0.018328, 0.019781, 0.014272,\n",
       "       0.017756, 0.027415, 0.023876, 0.015976, 0.017692, 0.016866,\n",
       "       0.012429, 0.01592 , 0.016407, 0.01863 , 0.023511, 0.020085,\n",
       "       0.012199, 0.016725, 0.014071, 0.016832, 0.037962, 0.018231,\n",
       "       0.020778, 0.014272, 0.020052, 0.010784, 0.03359 , 0.021485,\n",
       "       0.023234, 0.026565, 0.018361, 0.021544, 0.028234, 0.023463,\n",
       "       0.037911, 0.022414, 0.013812, 0.013771, 0.014886, 0.083432,\n",
       "       0.013461, 0.015603, 0.016415, 0.029165, 0.031925, 0.014698,\n",
       "       0.012903, 0.01476 , 0.012098, 0.016217, 0.012974, 0.017987,\n",
       "       0.020775, 0.023836, 0.01423 , 0.012779, 0.021747, 0.100875,\n",
       "       0.026285, 0.012114, 0.014481, 0.049155, 0.012294, 0.021405,\n",
       "       0.023535, 0.033235, 0.014974, 0.020376, 0.018299, 0.011455,\n",
       "       0.029349, 0.036436, 0.029309, 0.01656 , 0.040807, 0.021029,\n",
       "       0.048559, 0.014053, 0.017359, 0.018536, 0.030721, 0.013555,\n",
       "       0.08484 , 0.014125, 0.012334, 0.015913, 0.016241, 0.022961,\n",
       "       0.023019, 0.020343, 0.032428, 0.02204 , 0.021941, 0.014015,\n",
       "       0.01566 , 0.012801, 0.016858, 0.018901, 0.02059 , 0.018883,\n",
       "       0.041282, 0.01927 , 0.013484, 0.016852, 0.02927 , 0.01286 ,\n",
       "       0.019814, 0.019168, 0.01892 , 0.021809, 0.016445, 0.026165,\n",
       "       0.014819, 0.015373, 0.033366, 0.030622, 0.015438, 0.011826,\n",
       "       0.020751, 0.015394, 0.021923, 0.015905, 0.025819, 0.0169  ,\n",
       "       0.017376, 0.015711, 0.023241, 0.015341, 0.017664, 0.024087,\n",
       "       0.018501, 0.0273  , 0.014485, 0.012935, 0.015266, 0.0161  ,\n",
       "       0.012582, 0.046953, 0.018401, 0.013099, 0.013267, 0.02291 ,\n",
       "       0.021402, 0.018104, 0.034147, 0.032671, 0.023132, 0.014743,\n",
       "       0.029516, 0.027835, 0.022972, 0.030476, 0.036472, 0.024842,\n",
       "       0.046463, 0.011435, 0.020029, 0.017001, 0.026374, 0.01499 ,\n",
       "       0.022425, 0.015348, 0.028505, 0.013817])"
      ]
     },
     "execution_count": 215,
     "metadata": {},
     "output_type": "execute_result"
    }
   ],
   "source": [
    "c_D"
   ]
  },
  {
   "cell_type": "code",
   "execution_count": 216,
   "metadata": {},
   "outputs": [
    {
     "data": {
      "text/plain": [
       "<matplotlib.collections.PathCollection at 0x21740eed730>"
      ]
     },
     "execution_count": 216,
     "metadata": {},
     "output_type": "execute_result"
    },
    {
     "data": {
      "image/png": "[encoded data removed]",
      "text/plain": [
       "<Figure size 432x288 with 1 Axes>"
      ]
     },
     "metadata": {
      "needs_background": "light"
     },
     "output_type": "display_data"
    }
   ],
   "source": [
    "plt.scatter(Y[:,0], Y[:,1]) #, c=df_result[\"c_D\"])\n",
    "#plt.scatter(Y[:,0], df_result[\"c_D\"]), plt.scatter(Y[:,1], df_result[\"c_D\"]), plt.scatter(Y[:,2], df_result[\"c_D\"])\n",
    "#plt.scatter(Y[:,:], df_result[\"c_D\"])"
   ]
  },
  {
   "cell_type": "code",
   "execution_count": null,
   "metadata": {},
   "outputs": [],
   "source": []
  },
  {
   "cell_type": "code",
   "execution_count": 217,
   "metadata": {},
   "outputs": [],
   "source": [
    "from sklearn.manifold import LocallyLinearEmbedding"
   ]
  },
  {
   "cell_type": "code",
   "execution_count": 218,
   "metadata": {},
   "outputs": [
    {
     "data": {
      "text/plain": [
       "(598, 2)"
      ]
     },
     "execution_count": 218,
     "metadata": {},
     "output_type": "execute_result"
    }
   ],
   "source": [
    "embedding = LocallyLinearEmbedding(n_components=2)\n",
    "X_transformed = embedding.fit_transform(dv_mat)\n",
    "#Y = X_transformed\n",
    "\n",
    "X_transformed.shape"
   ]
  },
  {
   "cell_type": "code",
   "execution_count": null,
   "metadata": {},
   "outputs": [],
   "source": []
  },
  {
   "cell_type": "code",
   "execution_count": null,
   "metadata": {},
   "outputs": [],
   "source": []
  },
  {
   "cell_type": "code",
   "execution_count": 219,
   "metadata": {},
   "outputs": [],
   "source": [
    "from sklearn.model_selection import train_test_split"
   ]
  },
  {
   "cell_type": "code",
   "execution_count": 220,
   "metadata": {},
   "outputs": [],
   "source": [
    "x_train, x_test, y_train, y_test = train_test_split(Y[a], df_result[\"c_D\"][a], test_size=0.2, random_state=21)\n",
    "#x_train, x_test, y_train, y_test = train_test_split(Y[a], df_meta[\"AOA\"][a], test_size=0.2, random_state=21)\n",
    "#df_meta"
   ]
  },
  {
   "cell_type": "code",
   "execution_count": 221,
   "metadata": {},
   "outputs": [
    {
     "data": {
      "text/plain": [
       "((464, 3), (116,))"
      ]
     },
     "execution_count": 221,
     "metadata": {},
     "output_type": "execute_result"
    }
   ],
   "source": [
    "x_train.shape, y_test.shape"
   ]
  },
  {
   "cell_type": "code",
   "execution_count": null,
   "metadata": {},
   "outputs": [],
   "source": []
  },
  {
   "cell_type": "code",
   "execution_count": 222,
   "metadata": {},
   "outputs": [],
   "source": [
    "from sklearn.gaussian_process import GaussianProcessRegressor\n",
    "from sklearn.gaussian_process.kernels import (RBF, Matern, RationalQuadratic,\n",
    "                                              ExpSineSquared, DotProduct,\n",
    "                                              ConstantKernel, WhiteKernel)\n"
   ]
  },
  {
   "cell_type": "code",
   "execution_count": 223,
   "metadata": {},
   "outputs": [],
   "source": [
    "#kernel = 1.0 * Matern(length_scale=1.0, length_scale_bounds=(1e-2, 10.0), nu=1.5)"
   ]
  },
  {
   "cell_type": "code",
   "execution_count": 224,
   "metadata": {},
   "outputs": [],
   "source": [
    "kernel = RBF() + Matern(nu=1.5) #+ WhiteKernel() #+ RBF()"
   ]
  },
  {
   "cell_type": "code",
   "execution_count": 225,
   "metadata": {},
   "outputs": [],
   "source": [
    "#kernel = ConstantKernel(0.1, (0.01, 10.0)) * (DotProduct(sigma_0=1.0, sigma_0_bounds=(0.1, 10.0)) ** 2) + Matern(length_scale=1.0, length_scale_bounds=(1e-2, 10.0), nu=1.5) #+ WhiteKernel(noise_level=0.1)"
   ]
  },
  {
   "cell_type": "code",
   "execution_count": 226,
   "metadata": {},
   "outputs": [],
   "source": [
    "kernel = ConstantKernel()*Matern(nu=2.5) + ConstantKernel()*Matern(nu=1.5) + WhiteKernel() # + DotProduct()"
   ]
  },
  {
   "cell_type": "code",
   "execution_count": 227,
   "metadata": {},
   "outputs": [],
   "source": [
    "kernel = 1.0 * RBF(length_scale=0.1e-05, length_scale_bounds=(1e-7, 10.0)) + WhiteKernel(noise_level=0.05)# + ConstantKernel()"
   ]
  },
  {
   "cell_type": "code",
   "execution_count": 228,
   "metadata": {},
   "outputs": [
    {
     "name": "stdout",
     "output_type": "stream",
     "text": [
      "0.0159**2 * RBF(length_scale=5.52e-05) + WhiteKernel(noise_level=1e-05)\n",
      "0.680302228468957\n",
      "0.43329514273641456\n",
      "2022.2393346956399\n"
     ]
    }
   ],
   "source": [
    "gp = GaussianProcessRegressor(kernel=kernel, n_restarts_optimizer=3, normalize_y=False)\n",
    "gp.fit(x_train, y_train)\n",
    "print(gp.kernel_)\n",
    "print(gp.score(x_train, y_train))\n",
    "print(gp.score(x_test, y_test))\n",
    "print(gp.log_marginal_likelihood())"
   ]
  },
  {
   "cell_type": "code",
   "execution_count": 229,
   "metadata": {},
   "outputs": [],
   "source": [
    "#kernel.bounds"
   ]
  },
  {
   "cell_type": "code",
   "execution_count": 230,
   "metadata": {
    "scrolled": false
   },
   "outputs": [
    {
     "data": {
      "text/plain": [
       "Text(0.5, 1.0, 'Validation Data')"
      ]
     },
     "execution_count": 230,
     "metadata": {},
     "output_type": "execute_result"
    },
    {
     "data": {
      "image/png": "[encoded data removed]",
      "text/plain": [
       "<Figure size 864x360 with 2 Axes>"
      ]
     },
     "metadata": {
      "needs_background": "light"
     },
     "output_type": "display_data"
    }
   ],
   "source": [
    "plt.figure(figsize=(12,5))\n",
    "\n",
    "plt.subplot(1, 2, 1)\n",
    "\n",
    "y_pred = gp.predict(x_train)\n",
    "y_train.values\n",
    "#plt.plot(y_pred)\n",
    "plt.plot(y_train.values, y_pred, '+')\n",
    "\n",
    "#plt.gca().set_xlim([0.008, 0.042])\n",
    "#plt.gca().set_ylim([0.008, 0.042])\n",
    "ax1 = plt.gca()\n",
    "ax1.set_ylabel(\"Predicted $C_D$\")\n",
    "ax1.set_xlabel(\"True $C_D$\")\n",
    "ax1.set_title(\"Training Data\")\n",
    "\n",
    "plt.subplot(1, 2, 2)\n",
    "\n",
    "y_pred = gp.predict(x_test)\n",
    "y_test.values\n",
    "#plt.plot(y_pred)\n",
    "plt.plot(y_test.values, y_pred, '+', label=\"asd\")\n",
    "#plt.plot(y_pred, 'o', c=\"r\")\n",
    "ax1.set_xlim(plt.gca().get_xlim())\n",
    "ax1.set_ylim(plt.gca().get_ylim())\n",
    "ax2 = plt.gca()\n",
    "ax2.set_ylabel(\"Predicted $C_D$\")\n",
    "ax2.set_xlabel(\"True $C_D$\")\n",
    "ax2.set_title(\"Validation Data\")"
   ]
  },
  {
   "cell_type": "code",
   "execution_count": 231,
   "metadata": {},
   "outputs": [
    {
     "data": {
      "text/plain": [
       "3"
      ]
     },
     "execution_count": 231,
     "metadata": {},
     "output_type": "execute_result"
    }
   ],
   "source": [
    "r"
   ]
  },
  {
   "cell_type": "code",
   "execution_count": 232,
   "metadata": {},
   "outputs": [
    {
     "ename": "IndexError",
     "evalue": "index 4 is out of bounds for axis 1 with size 3",
     "output_type": "error",
     "traceback": [
      "\u001b[1;31m---------------------------------------------------------------------------\u001b[0m",
      "\u001b[1;31mIndexError\u001b[0m                                Traceback (most recent call last)",
      "\u001b[1;32m<ipython-input-232-943702a55a04>\u001b[0m in \u001b[0;36m<module>\u001b[1;34m\u001b[0m\n\u001b[1;32m----> 1\u001b[1;33m \u001b[0mplt\u001b[0m\u001b[1;33m.\u001b[0m\u001b[0mplot\u001b[0m\u001b[1;33m(\u001b[0m\u001b[0mY\u001b[0m\u001b[1;33m[\u001b[0m\u001b[1;33m:\u001b[0m\u001b[1;33m,\u001b[0m\u001b[1;36m4\u001b[0m\u001b[1;33m]\u001b[0m\u001b[1;33m[\u001b[0m\u001b[0ma\u001b[0m\u001b[1;33m]\u001b[0m\u001b[1;33m,\u001b[0m \u001b[0mdf_result\u001b[0m\u001b[1;33m[\u001b[0m\u001b[1;34m\"c_D\"\u001b[0m\u001b[1;33m]\u001b[0m\u001b[1;33m[\u001b[0m\u001b[0ma\u001b[0m\u001b[1;33m]\u001b[0m\u001b[1;33m,\u001b[0m \u001b[1;34m\"o\"\u001b[0m\u001b[1;33m)\u001b[0m\u001b[1;33m\u001b[0m\u001b[1;33m\u001b[0m\u001b[0m\n\u001b[0m",
      "\u001b[1;31mIndexError\u001b[0m: index 4 is out of bounds for axis 1 with size 3"
     ]
    }
   ],
   "source": [
    "plt.plot(Y[:,4][a], df_result[\"c_D\"][a], \"o\")"
   ]
  },
  {
   "cell_type": "code",
   "execution_count": null,
   "metadata": {},
   "outputs": [],
   "source": []
  },
  {
   "cell_type": "code",
   "execution_count": null,
   "metadata": {},
   "outputs": [],
   "source": [
    "np.sum(df_result[\"rms_rho\"] < -6)"
   ]
  },
  {
   "cell_type": "code",
   "execution_count": null,
   "metadata": {},
   "outputs": [],
   "source": [
    "y_lb = np.min(Y[a])\n",
    "y_ub = np.max(Y[a])\n",
    "y_lb, y_ub"
   ]
  },
  {
   "cell_type": "code",
   "execution_count": null,
   "metadata": {},
   "outputs": [],
   "source": [
    "X_ = np.linspace(y_lb, y_ub, 100)\n",
    "#y_mean, y_std = gp.predict(X_[:, np.newaxis], return_std=True)"
   ]
  },
  {
   "cell_type": "code",
   "execution_count": null,
   "metadata": {},
   "outputs": [],
   "source": [
    "#np.dot(U[0, :, np.newaxis], X_[np.newaxis, :])\n",
    "X_ = np.zeros((r, 100))\n",
    "X_[0] = np.linspace(y_lb, y_ub, 100)"
   ]
  },
  {
   "cell_type": "code",
   "execution_count": null,
   "metadata": {
    "scrolled": true
   },
   "outputs": [],
   "source": [
    "y_mean, y_std = gp.predict(X_.T, return_std=True)"
   ]
  },
  {
   "cell_type": "code",
   "execution_count": null,
   "metadata": {},
   "outputs": [],
   "source": [
    "plt.figure(figsize=(8, 8))\n",
    "plt.plot(X_[0], y_mean, 'k', lw=3, zorder=9)\n",
    "plt.fill_between(X_[0], y_mean - y_std, y_mean + y_std, alpha=0.2, color='k')\n",
    "y_samples = gp.sample_y(X_.T, 5)\n",
    "plt.plot(X_[0], y_samples, lw=1)\n",
    "plt.scatter(x_train[:, 0], y_train, c='r', s=50, zorder=10, edgecolors=(0, 0, 0), )\n",
    "plt.scatter(x_test[:, 0], y_test, c='b', s=50, zorder=10, edgecolors=(0, 0, 0))"
   ]
  },
  {
   "cell_type": "code",
   "execution_count": null,
   "metadata": {},
   "outputs": [],
   "source": []
  },
  {
   "cell_type": "code",
   "execution_count": null,
   "metadata": {},
   "outputs": [],
   "source": []
  },
  {
   "cell_type": "code",
   "execution_count": null,
   "metadata": {},
   "outputs": [],
   "source": []
  },
  {
   "cell_type": "code",
   "execution_count": null,
   "metadata": {},
   "outputs": [],
   "source": [
    "np.dot(X_, np.ones((20,1)))"
   ]
  },
  {
   "cell_type": "code",
   "execution_count": null,
   "metadata": {},
   "outputs": [],
   "source": []
  },
  {
   "cell_type": "code",
   "execution_count": null,
   "metadata": {},
   "outputs": [],
   "source": []
  },
  {
   "cell_type": "code",
   "execution_count": null,
   "metadata": {
    "scrolled": false
   },
   "outputs": [],
   "source": [
    "from sklearn.gaussian_process import GaussianProcessRegressor\n",
    "from sklearn.gaussian_process.kernels import (RBF, Matern, RationalQuadratic,\n",
    "                                              ExpSineSquared, DotProduct,\n",
    "                                              ConstantKernel, WhiteKernel)\n",
    "\n",
    "\n",
    "kernels = [1.0 * RBF(length_scale=1.0, length_scale_bounds=(1e-1, 10.0)),\n",
    "           1.0 * RationalQuadratic(length_scale=1.0, alpha=0.1),\n",
    "           1.0 * ExpSineSquared(length_scale=1.0, periodicity=3.0,\n",
    "                                length_scale_bounds=(0.1, 10.0),\n",
    "                                periodicity_bounds=(1.0, 10.0)),\n",
    "           ConstantKernel(0.1, (0.01, 10.0))\n",
    "               * (DotProduct(sigma_0=1.0, sigma_0_bounds=(0.1, 10.0)) ** 2)  + WhiteKernel(),\n",
    "           1.0 * Matern(length_scale=1.0, length_scale_bounds=(1e-1, 10.0),\n",
    "                        nu=1.5)]\n",
    "\n",
    "for kernel in kernels:\n",
    "    # Specify Gaussian Process\n",
    "    gp = GaussianProcessRegressor(kernel=kernel)\n",
    "\n",
    "    # Plot prior\n",
    "    plt.figure(figsize=(8, 8))\n",
    "    plt.subplot(2, 1, 1)\n",
    "    X_ = np.linspace(0, 5, 100)\n",
    "    y_mean, y_std = gp.predict(X_[:, np.newaxis], return_std=True)\n",
    "    plt.plot(X_, y_mean, 'k', lw=3, zorder=9)\n",
    "    plt.fill_between(X_, y_mean - y_std, y_mean + y_std,\n",
    "                     alpha=0.2, color='k')\n",
    "    y_samples = gp.sample_y(X_[:, np.newaxis], 10)\n",
    "    plt.plot(X_, y_samples, lw=1)\n",
    "    plt.xlim(0, 5)\n",
    "    plt.ylim(-3, 3)\n",
    "    plt.title(\"Prior (kernel:  %s)\" % kernel, fontsize=12)\n",
    "\n",
    "    # Generate data and fit GP\n",
    "    rng = np.random.RandomState(4)\n",
    "    X = rng.uniform(0, 5, 10)[:, np.newaxis]\n",
    "    y = np.sin((X[:, 0] - 2.5) ** 2)\n",
    "    gp.fit(X, y)\n",
    "\n",
    "    # Plot posterior\n",
    "    plt.subplot(2, 1, 2)\n",
    "    X_ = np.linspace(0, 5, 100)\n",
    "    y_mean, y_std = gp.predict(X_[:, np.newaxis], return_std=True)\n",
    "    plt.plot(X_, y_mean, 'k', lw=3, zorder=9)\n",
    "    plt.fill_between(X_, y_mean - y_std, y_mean + y_std,\n",
    "                     alpha=0.2, color='k')\n",
    "\n",
    "    y_samples = gp.sample_y(X_[:, np.newaxis], 10)\n",
    "    plt.plot(X_, y_samples, lw=1)\n",
    "    plt.scatter(X[:, 0], y, c='r', s=50, zorder=10, edgecolors=(0, 0, 0))\n",
    "    plt.xlim(0, 5)\n",
    "    plt.ylim(-3, 3)\n",
    "    plt.title(\"Posterior (kernel: %s)\\n Log-Likelihood: %.3f\"\n",
    "              % (gp.kernel_, gp.log_marginal_likelihood(gp.kernel_.theta)),\n",
    "              fontsize=12)\n",
    "    plt.tight_layout()\n",
    "\n",
    "plt.show()"
   ]
  },
  {
   "cell_type": "code",
   "execution_count": null,
   "metadata": {},
   "outputs": [],
   "source": []
  },
  {
   "cell_type": "code",
   "execution_count": null,
   "metadata": {},
   "outputs": [],
   "source": []
  },
  {
   "cell_type": "code",
   "execution_count": null,
   "metadata": {},
   "outputs": [],
   "source": [
    "df_result[\"c_D\"].argmin()"
   ]
  },
  {
   "cell_type": "markdown",
   "metadata": {},
   "source": [
    "#### "
   ]
  },
  {
   "cell_type": "code",
   "execution_count": null,
   "metadata": {},
   "outputs": [],
   "source": [
    "df_result.loc[706]"
   ]
  },
  {
   "cell_type": "code",
   "execution_count": null,
   "metadata": {},
   "outputs": [],
   "source": []
  }
 ],
 "metadata": {
  "kernelspec": {
   "display_name": "Python 3",
   "language": "python",
   "name": "python3"
  },
  "language_info": {
   "codemirror_mode": {
    "name": "ipython",
    "version": 3
   },
   "file_extension": ".py",
   "mimetype": "text/x-python",
   "name": "python",
   "nbconvert_exporter": "python",
   "pygments_lexer": "ipython3",
   "version": "3.8.5"
  }
 },
 "nbformat": 4,
 "nbformat_minor": 4
}
