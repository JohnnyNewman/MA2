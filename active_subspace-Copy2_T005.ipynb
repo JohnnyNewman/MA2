{
 "cells": [
  {
   "cell_type": "code",
   "execution_count": 8,
   "metadata": {},
   "outputs": [],
   "source": [
    "\n"
   ]
  },
  {
   "cell_type": "code",
   "execution_count": 9,
   "metadata": {},
   "outputs": [],
   "source": [
    "cwd = os.getcwd()"
   ]
  },
  {
   "cell_type": "code",
   "execution_count": 10,
   "metadata": {},
   "outputs": [],
   "source": [
    "collectedData = {}\n",
    "df_grad_cd_list = []\n",
    "for dir1 in os.listdir(os.path.join(\"CollectedData\")):\n",
    "    if os.path.isdir(os.path.join(\"CollectedData\", dir1)):\n",
    "        \n",
    "        collectedData[dir1] = {}\n",
    "        for dsn_dir in os.listdir(os.path.join(\"CollectedData\", dir1)):\n",
    "            if os.path.isdir(os.path.join(\"CollectedData\", dir1, dsn_dir)):\n",
    "                data = json.load(open(os.path.join(\"CollectedData\", dir1, dsn_dir, \"dsn_data.json\"), \"r\"))\n",
    "                collectedData[dir1][dsn_dir] = data"
   ]
  },
  {
   "cell_type": "code",
   "execution_count": null,
   "metadata": {},
   "outputs": [],
   "source": []
  },
  {
   "cell_type": "code",
   "execution_count": null,
   "metadata": {},
   "outputs": [],
   "source": []
  },
  {
   "cell_type": "code",
   "execution_count": null,
   "metadata": {},
   "outputs": [],
   "source": []
  },
  {
   "cell_type": "code",
   "execution_count": 11,
   "metadata": {
    "scrolled": true
   },
   "outputs": [
    {
     "name": "stdout",
     "output_type": "stream",
     "text": [
      "T006 DSN_000\n",
      "T006 DSN_001\n",
      "T006 DSN_002\n",
      "T006 DSN_003\n",
      "T006 DSN_004\n",
      "T006 DSN_005\n",
      "T006 DSN_006\n",
      "T006 DSN_007\n",
      "T006 DSN_008\n",
      "T006 DSN_009\n",
      "T006 DSN_010\n",
      "T006 DSN_011\n",
      "T006 DSN_012\n",
      "T006 DSN_013\n",
      "T006 DSN_014\n",
      "T006 DSN_015\n",
      "T006 DSN_016\n",
      "T006 DSN_017\n",
      "T006 DSN_018\n",
      "T006 DSN_019\n",
      "T006 DSN_020\n",
      "T006 DSN_021\n",
      "T006 DSN_022\n",
      "T006 DSN_023\n",
      "T006 DSN_024\n",
      "T006 DSN_025\n",
      "T006 DSN_026\n",
      "T006 DSN_027\n",
      "T006 DSN_028\n",
      "T006 DSN_029\n",
      "T006 DSN_030\n",
      "T006 DSN_031\n",
      "T006 DSN_032\n",
      "T006 DSN_033\n",
      "T006 DSN_034\n",
      "T006 DSN_035\n",
      "T006 DSN_036\n",
      "T006 DSN_037\n",
      "T006 DSN_038\n",
      "T006 DSN_039\n",
      "T006 DSN_040\n",
      "T006 DSN_041\n",
      "T006 DSN_042\n",
      "T006 DSN_043\n",
      "T006 DSN_044\n",
      "T006 DSN_045\n",
      "T006 DSN_046\n",
      "T006 DSN_047\n",
      "T006 DSN_048\n",
      "T006 DSN_049\n",
      "T006 DSN_050\n",
      "T006 DSN_051\n",
      "T006 DSN_052\n",
      "T006 DSN_053\n",
      "T006 DSN_054\n",
      "T006 DSN_055\n",
      "T006 DSN_056\n",
      "T006 DSN_057\n",
      "T006 DSN_058\n",
      "T006 DSN_059\n",
      "T006 DSN_060\n",
      "T006 DSN_061\n",
      "T006 DSN_062\n",
      "T006 DSN_063\n",
      "T006 DSN_064\n",
      "T006 DSN_065\n",
      "T006 DSN_066\n",
      "T006 DSN_067\n",
      "T006 DSN_068\n",
      "T006 DSN_069\n",
      "T006 DSN_070\n",
      "T006 DSN_071\n",
      "T006 DSN_072\n",
      "T006 DSN_073\n",
      "T006 DSN_074\n",
      "T006 DSN_075\n",
      "T006 DSN_076\n",
      "T006 DSN_077\n",
      "T006 DSN_078\n",
      "T006 DSN_079\n",
      "T006 DSN_080\n",
      "T006 DSN_081\n",
      "T006 DSN_082\n",
      "T006 DSN_083\n",
      "T006 DSN_084\n",
      "T006 DSN_085\n",
      "T006 DSN_086\n",
      "T006 DSN_087\n",
      "T006 DSN_088\n",
      "T006 DSN_089\n",
      "T006 DSN_090\n",
      "T006 DSN_091\n",
      "T006 DSN_092\n",
      "T006 DSN_093\n",
      "T006 DSN_094\n",
      "T006 DSN_095\n",
      "T006 DSN_096\n",
      "T006 DSN_097\n",
      "T006 DSN_098\n",
      "T006 DSN_099\n",
      "T006 DSN_100\n",
      "T006 DSN_101\n",
      "T006 DSN_102\n",
      "T006 DSN_103\n",
      "T006 DSN_104\n",
      "T006 DSN_105\n",
      "T006 DSN_106\n",
      "T006 DSN_107\n",
      "T006 DSN_108\n",
      "T006 DSN_109\n",
      "T006 DSN_110\n",
      "T006 DSN_111\n",
      "T006 DSN_112\n",
      "T006 DSN_113\n",
      "T006 DSN_114\n",
      "T006 DSN_115\n",
      "T006 DSN_116\n",
      "T006 DSN_117\n",
      "T006 DSN_118\n",
      "T006 DSN_119\n",
      "T006 DSN_120\n",
      "T006 DSN_121\n",
      "T006 DSN_122\n",
      "T006 DSN_123\n",
      "T006 DSN_124\n",
      "T006 DSN_125\n",
      "T006 DSN_126\n",
      "T006 DSN_127\n",
      "T006 DSN_128\n",
      "T006 DSN_129\n",
      "T006 DSN_130\n",
      "T006 DSN_131\n",
      "T006 DSN_132\n",
      "T006 DSN_133\n",
      "T006 DSN_134\n",
      "T006 DSN_135\n",
      "T006 DSN_136\n",
      "T006 DSN_137\n",
      "T006 DSN_138\n",
      "T006 DSN_139\n",
      "T006 DSN_140\n",
      "T006 DSN_141\n",
      "T006 DSN_142\n",
      "T006 DSN_143\n",
      "T006 DSN_144\n",
      "T006 DSN_145\n",
      "T006 DSN_146\n",
      "T006 DSN_147\n",
      "T006 DSN_148\n",
      "T006 DSN_149\n",
      "T006 DSN_150\n",
      "T006 DSN_151\n",
      "T006 DSN_152\n",
      "T006 DSN_153\n",
      "T006 DSN_154\n",
      "T006 DSN_155\n",
      "T006 DSN_156\n",
      "T006 DSN_157\n",
      "T006 DSN_158\n",
      "T006 DSN_159\n",
      "T006 DSN_160\n",
      "T006 DSN_161\n",
      "T006 DSN_162\n",
      "T006 DSN_163\n",
      "T006 DSN_164\n",
      "T006 DSN_165\n",
      "T006 DSN_166\n",
      "T006 DSN_167\n",
      "T006 DSN_168\n",
      "T006 DSN_169\n",
      "T006 DSN_170\n",
      "T006 DSN_171\n",
      "T006 DSN_172\n",
      "T006 DSN_173\n",
      "T006 DSN_174\n",
      "T006 DSN_175\n",
      "T006 DSN_176\n",
      "T006 DSN_177\n",
      "T006 DSN_178\n",
      "T006 DSN_179\n",
      "T006 DSN_180\n",
      "T006 DSN_181\n",
      "T006 DSN_182\n",
      "T006 DSN_183\n",
      "T006 DSN_184\n",
      "T006 DSN_185\n",
      "T006 DSN_186\n",
      "T006 DSN_187\n",
      "T006 DSN_188\n",
      "T006 DSN_189\n",
      "T006 DSN_190\n",
      "T006 DSN_191\n",
      "T006 DSN_192\n",
      "T006 DSN_193\n",
      "T006 DSN_194\n",
      "T006 DSN_195\n",
      "T006 DSN_196\n",
      "T006 DSN_197\n",
      "T006 DSN_198\n",
      "T006 DSN_199\n",
      "T006 DSN_200\n",
      "T006 DSN_201\n",
      "T006 DSN_202\n",
      "T006 DSN_203\n",
      "T006 DSN_204\n",
      "T006 DSN_205\n",
      "T006 DSN_206\n",
      "T006 DSN_207\n",
      "T006 DSN_208\n",
      "T006 DSN_209\n",
      "T006 DSN_210\n",
      "T006 DSN_211\n",
      "T006 DSN_212\n",
      "T006 DSN_213\n",
      "T006 DSN_214\n",
      "T006 DSN_215\n",
      "T006 DSN_216\n",
      "T006 DSN_217\n",
      "T006 DSN_218\n",
      "T006 DSN_219\n",
      "T006 DSN_220\n",
      "T006 DSN_221\n",
      "T006 DSN_222\n",
      "T006 DSN_223\n",
      "T006 DSN_224\n",
      "T006 DSN_225\n",
      "T006 DSN_226\n",
      "T006 DSN_227\n",
      "T006 DSN_228\n",
      "T006 DSN_229\n",
      "T006 DSN_230\n",
      "T006 DSN_231\n",
      "T006 DSN_232\n",
      "T006 DSN_233\n",
      "T006 DSN_234\n",
      "T006 DSN_235\n",
      "T006 DSN_236\n",
      "T006 DSN_237\n",
      "T006 DSN_238\n",
      "T006 DSN_239\n",
      "T006 DSN_240\n",
      "T006 DSN_241\n",
      "T006 DSN_242\n",
      "T006 DSN_243\n",
      "T006 DSN_244\n",
      "T006 DSN_245\n",
      "T006 DSN_246\n",
      "T006 DSN_247\n",
      "T006 DSN_248\n",
      "T006 DSN_249\n",
      "T006 DSN_250\n",
      "T006 DSN_251\n",
      "T006 DSN_252\n",
      "T006 DSN_253\n",
      "T006 DSN_254\n",
      "T006 DSN_255\n",
      "T006 DSN_256\n",
      "T006 DSN_257\n",
      "T006 DSN_258\n",
      "T006 DSN_259\n",
      "T006 DSN_260\n",
      "T006 DSN_261\n",
      "T006 DSN_262\n",
      "T006 DSN_263\n",
      "T006 DSN_264\n",
      "T006 DSN_265\n",
      "T006 DSN_266\n",
      "T006 DSN_267\n",
      "T006 DSN_268\n",
      "T006 DSN_269\n",
      "T006 DSN_270\n",
      "T006 DSN_271\n",
      "T006 DSN_272\n",
      "T006 DSN_273\n",
      "T006 DSN_274\n",
      "T006 DSN_275\n",
      "T006 DSN_276\n",
      "T006 DSN_277\n",
      "T006 DSN_278\n",
      "T006 DSN_279\n",
      "T006 DSN_280\n",
      "T006 DSN_281\n",
      "T006 DSN_282\n",
      "T006 DSN_283\n",
      "T006 DSN_284\n",
      "T006 DSN_285\n",
      "T006 DSN_286\n",
      "T006 DSN_287\n",
      "T006 DSN_288\n",
      "T006 DSN_289\n",
      "T006 DSN_290\n",
      "T006 DSN_291\n",
      "T006 DSN_292\n",
      "T006 DSN_293\n",
      "T006 DSN_294\n",
      "T006 DSN_295\n",
      "T006 DSN_296\n",
      "T006 DSN_297\n",
      "T006 DSN_298\n",
      "T006 DSN_299\n",
      "T006 DSN_300\n",
      "T006 DSN_301\n",
      "T006 DSN_302\n",
      "T006 DSN_303\n",
      "T006 DSN_304\n",
      "T006 DSN_305\n",
      "T006 DSN_306\n",
      "T006 DSN_307\n",
      "T006 DSN_308\n",
      "T006 DSN_309\n",
      "T006 DSN_310\n",
      "T006 DSN_311\n",
      "T006 DSN_312\n",
      "T006 DSN_313\n",
      "T006 DSN_314\n",
      "T006 DSN_315\n",
      "T006 DSN_316\n",
      "T006 DSN_317\n",
      "T006 DSN_318\n",
      "T006 DSN_319\n",
      "T006 DSN_320\n",
      "T006 DSN_321\n",
      "T006 DSN_322\n",
      "T006 DSN_323\n",
      "T006 DSN_324\n",
      "T006 DSN_325\n",
      "T006 DSN_326\n",
      "T006 DSN_327\n",
      "T006 DSN_328\n",
      "T006 DSN_329\n",
      "T006 DSN_330\n",
      "T006 DSN_331\n",
      "T006 DSN_332\n",
      "T006 DSN_333\n",
      "T006 DSN_334\n",
      "T006 DSN_335\n",
      "T006 DSN_336\n",
      "T006 DSN_337\n",
      "T006 DSN_338\n",
      "T006 DSN_339\n",
      "T006 DSN_340\n",
      "T006 DSN_341\n",
      "T006 DSN_342\n",
      "T006 DSN_343\n",
      "T006 DSN_344\n",
      "T006 DSN_345\n",
      "T006 DSN_346\n",
      "T006 DSN_347\n",
      "T006 DSN_348\n",
      "T006 DSN_349\n",
      "T006 DSN_350\n",
      "T006 DSN_351\n",
      "T006 DSN_352\n",
      "T006 DSN_353\n",
      "T006 DSN_354\n",
      "T006 DSN_355\n",
      "T006 DSN_356\n",
      "T006 DSN_357\n",
      "T006 DSN_358\n",
      "T006 DSN_359\n",
      "T006 DSN_360\n",
      "T006 DSN_361\n",
      "T006 DSN_362\n",
      "T006 DSN_363\n",
      "T006 DSN_364\n",
      "T006 DSN_365\n",
      "T006 DSN_366\n",
      "T006 DSN_367\n",
      "T006 DSN_368\n",
      "T006 DSN_369\n",
      "T006 DSN_370\n",
      "T006 DSN_371\n",
      "T006 DSN_372\n",
      "T006 DSN_373\n",
      "T006 DSN_374\n",
      "T006 DSN_375\n",
      "T006 DSN_376\n",
      "T006 DSN_377\n",
      "T006 DSN_378\n",
      "T006 DSN_379\n",
      "T006 DSN_380\n",
      "T006 DSN_381\n",
      "T006 DSN_382\n",
      "T006 DSN_383\n",
      "T006 DSN_384\n",
      "T006 DSN_385\n",
      "T006 DSN_386\n",
      "T006 DSN_387\n",
      "T006 DSN_388\n",
      "T006 DSN_389\n",
      "T006 DSN_390\n",
      "T006 DSN_391\n",
      "T006 DSN_392\n",
      "T006 DSN_393\n",
      "T006 DSN_394\n",
      "T006 DSN_395\n",
      "T006 DSN_396\n",
      "T006 DSN_397\n",
      "T006 DSN_398\n",
      "T006 DSN_399\n",
      "T006 DSN_400\n",
      "T006 DSN_401\n",
      "T006 DSN_402\n",
      "T006 DSN_403\n",
      "T006 DSN_404\n",
      "T006 DSN_405\n",
      "T006 DSN_406\n",
      "T006 DSN_407\n",
      "T006 DSN_408\n",
      "T006 DSN_409\n",
      "T006 DSN_410\n",
      "T006 DSN_411\n",
      "T006 DSN_412\n",
      "T006 DSN_413\n",
      "T006 DSN_414\n",
      "T006 DSN_415\n",
      "T006 DSN_416\n",
      "T006 DSN_417\n",
      "T006 DSN_418\n",
      "T006 DSN_419\n",
      "T006 DSN_420\n",
      "T006 DSN_421\n",
      "T006 DSN_422\n",
      "T006 DSN_423\n",
      "T006 DSN_424\n",
      "T006 DSN_425\n",
      "T006 DSN_426\n",
      "T006 DSN_427\n",
      "T006 DSN_428\n",
      "T006 DSN_429\n",
      "T006 DSN_430\n",
      "T006 DSN_431\n",
      "T006 DSN_432\n",
      "T006 DSN_433\n",
      "T006 DSN_434\n",
      "T006 DSN_435\n",
      "T006 DSN_436\n",
      "T006 DSN_437\n",
      "T006 DSN_438\n",
      "T006 DSN_439\n",
      "T006 DSN_440\n",
      "T006 DSN_441\n",
      "T006 DSN_442\n",
      "T006 DSN_443\n",
      "T006 DSN_444\n",
      "T006 DSN_445\n",
      "T006 DSN_446\n",
      "T006 DSN_447\n",
      "T006 DSN_448\n",
      "T006 DSN_449\n",
      "T006 DSN_450\n",
      "T006 DSN_451\n",
      "T006 DSN_452\n",
      "T006 DSN_453\n",
      "T006 DSN_454\n",
      "T006 DSN_455\n",
      "T006 DSN_456\n",
      "T006 DSN_457\n",
      "T006 DSN_458\n",
      "T006 DSN_459\n",
      "T006 DSN_460\n",
      "T006 DSN_461\n",
      "T006 DSN_462\n",
      "T006 DSN_463\n",
      "T006 DSN_464\n",
      "T006 DSN_465\n",
      "T006 DSN_466\n",
      "T006 DSN_467\n",
      "T006 DSN_468\n",
      "T006 DSN_469\n",
      "T006 DSN_470\n",
      "T006 DSN_471\n",
      "T006 DSN_472\n",
      "T006 DSN_473\n",
      "T006 DSN_474\n",
      "T006 DSN_475\n",
      "T006 DSN_476\n",
      "T006 DSN_477\n",
      "T006 DSN_478\n",
      "T006 DSN_479\n",
      "T006 DSN_480\n",
      "T006 DSN_481\n",
      "T006 DSN_482\n",
      "T006 DSN_483\n",
      "T006 DSN_484\n",
      "T006 DSN_485\n",
      "T006 DSN_486\n",
      "T006 DSN_487\n",
      "T006 DSN_488\n",
      "T006 DSN_489\n",
      "T006 DSN_490\n",
      "T006 DSN_491\n",
      "T006 DSN_492\n",
      "T006 DSN_493\n",
      "T006 DSN_494\n",
      "T006 DSN_495\n",
      "T006 DSN_496\n",
      "T006 DSN_497\n",
      "T006 DSN_498\n",
      "T006 DSN_499\n",
      "T006 DSN_500\n",
      "T006 DSN_501\n",
      "T006 DSN_502\n",
      "T006 DSN_503\n",
      "T006 DSN_504\n",
      "T006 DSN_505\n",
      "T006 DSN_506\n",
      "T006 DSN_507\n",
      "T006 DSN_508\n",
      "T006 DSN_509\n",
      "T006 DSN_510\n",
      "T006 DSN_511\n",
      "T006 DSN_512\n",
      "T006 DSN_513\n",
      "T006 DSN_514\n",
      "T006 DSN_515\n",
      "T006 DSN_516\n",
      "T006 DSN_517\n",
      "T006 DSN_518\n",
      "T006 DSN_519\n",
      "T006 DSN_520\n",
      "T006 DSN_521\n",
      "T006 DSN_522\n",
      "T006 DSN_523\n",
      "T006 DSN_524\n",
      "T006 DSN_525\n",
      "T006 DSN_526\n",
      "T006 DSN_527\n",
      "T006 DSN_528\n",
      "T006 DSN_529\n",
      "T006 DSN_530\n",
      "T006 DSN_531\n",
      "T006 DSN_532\n",
      "T006 DSN_533\n",
      "T006 DSN_534\n",
      "T006 DSN_535\n",
      "T006 DSN_536\n",
      "T006 DSN_537\n",
      "T006 DSN_538\n",
      "T006 DSN_539\n",
      "T006 DSN_540\n",
      "T006 DSN_541\n",
      "T006 DSN_542\n",
      "T006 DSN_543\n",
      "T006 DSN_544\n",
      "T006 DSN_545\n",
      "T006 DSN_546\n",
      "T006 DSN_547\n",
      "T006 DSN_548\n",
      "T006 DSN_549\n",
      "T006 DSN_550\n",
      "T006 DSN_551\n",
      "T006 DSN_552\n",
      "T006 DSN_553\n",
      "T006 DSN_554\n",
      "T006 DSN_555\n",
      "T006 DSN_556\n",
      "T006 DSN_557\n",
      "T006 DSN_558\n",
      "T006 DSN_559\n",
      "T006 DSN_560\n",
      "T006 DSN_561\n",
      "T006 DSN_562\n",
      "T006 DSN_563\n",
      "T006 DSN_564\n",
      "T006 DSN_565\n",
      "T006 DSN_566\n",
      "T006 DSN_567\n",
      "T006 DSN_568\n",
      "T006 DSN_569\n",
      "T006 DSN_570\n",
      "T006 DSN_571\n",
      "T006 DSN_572\n",
      "T006 DSN_573\n",
      "T006 DSN_574\n",
      "T006 DSN_575\n",
      "T006 DSN_576\n",
      "T006 DSN_577\n",
      "T006 DSN_578\n",
      "T006 DSN_579\n",
      "T006 DSN_580\n",
      "T006 DSN_581\n",
      "T006 DSN_582\n",
      "T006 DSN_583\n",
      "T006 DSN_584\n",
      "T006 DSN_585\n",
      "T006 DSN_586\n",
      "T006 DSN_587\n",
      "T006 DSN_588\n",
      "T006 DSN_589\n",
      "T006 DSN_590\n",
      "T006 DSN_591\n",
      "T006 DSN_592\n",
      "T006 DSN_593\n",
      "T006 DSN_594\n",
      "T006 DSN_595\n",
      "T006 DSN_596\n",
      "T006 DSN_597\n",
      "T006 DSN_598\n",
      "T006 DSN_599\n",
      "T006 DSN_600\n",
      "T006 DSN_601\n",
      "T006 DSN_602\n",
      "T006 DSN_603\n",
      "T006 DSN_604\n",
      "T006 DSN_605\n",
      "T006 DSN_606\n",
      "T006 DSN_607\n",
      "T006 DSN_608\n",
      "T006 DSN_609\n",
      "T006 DSN_610\n",
      "T006 DSN_611\n",
      "T006 DSN_612\n",
      "T006 DSN_613\n",
      "T006 DSN_614\n",
      "T006 DSN_615\n",
      "T006 DSN_616\n",
      "T006 DSN_617\n",
      "T006 DSN_618\n",
      "T006 DSN_619\n",
      "T006 DSN_620\n",
      "T006 DSN_621\n",
      "T006 DSN_622\n",
      "T006 DSN_623\n",
      "T006 DSN_624\n",
      "T006 DSN_625\n",
      "T006 DSN_626\n",
      "T006 DSN_627\n",
      "T006 DSN_628\n",
      "T006 DSN_629\n",
      "T006 DSN_630\n"
     ]
    },
    {
     "name": "stdout",
     "output_type": "stream",
     "text": [
      "T006 DSN_631\n",
      "T006 DSN_632\n",
      "T006 DSN_633\n",
      "T006 DSN_634\n",
      "T006 DSN_635\n",
      "T006 DSN_636\n",
      "T006 DSN_637\n",
      "T006 DSN_638\n",
      "T006 DSN_639\n",
      "T006 DSN_640\n",
      "T006 DSN_641\n",
      "T006 DSN_642\n",
      "T006 DSN_643\n",
      "T006 DSN_644\n",
      "T006 DSN_645\n",
      "T006 DSN_646\n",
      "T006 DSN_647\n",
      "T006 DSN_648\n",
      "T006 DSN_649\n",
      "T006 DSN_650\n",
      "T006 DSN_651\n",
      "T006 DSN_652\n",
      "T006 DSN_653\n",
      "T006 DSN_654\n",
      "T006 DSN_655\n",
      "T006 DSN_656\n",
      "T006 DSN_657\n",
      "T006 DSN_658\n",
      "T006 DSN_659\n",
      "T006 DSN_660\n",
      "T006 DSN_661\n",
      "T006 DSN_662\n",
      "T006 DSN_663\n",
      "T006 DSN_664\n",
      "T006 DSN_665\n",
      "T006 DSN_666\n",
      "T006 DSN_667\n",
      "T006 DSN_668\n",
      "T006 DSN_669\n",
      "T006 DSN_670\n",
      "T006 DSN_671\n",
      "T006 DSN_672\n",
      "T006 DSN_673\n",
      "T006 DSN_674\n",
      "T006 DSN_675\n",
      "T006 DSN_676\n",
      "T006 DSN_677\n",
      "T006 DSN_678\n",
      "T006 DSN_679\n",
      "T006 DSN_680\n",
      "T006 DSN_681\n",
      "T006 DSN_682\n",
      "T006 DSN_683\n",
      "T006 DSN_684\n",
      "T006 DSN_685\n",
      "T006 DSN_686\n",
      "T006 DSN_687\n",
      "T006 DSN_688\n",
      "T006 DSN_689\n",
      "T006 DSN_690\n",
      "T006 DSN_691\n",
      "T006 DSN_692\n",
      "T006 DSN_693\n",
      "T006 DSN_694\n",
      "T006 DSN_695\n",
      "T006 DSN_696\n",
      "T006 DSN_697\n",
      "T006 DSN_698\n",
      "T006 DSN_699\n",
      "T006 DSN_700\n",
      "T006 DSN_701\n",
      "T006 DSN_702\n",
      "T006 DSN_703\n",
      "T006 DSN_704\n",
      "T006 DSN_705\n",
      "T006 DSN_706\n",
      "T006 DSN_707\n",
      "T006 DSN_708\n",
      "T006 DSN_709\n",
      "T006 DSN_710\n",
      "T006 DSN_711\n",
      "T006 DSN_712\n",
      "T006 DSN_713\n",
      "T006 DSN_714\n",
      "T006 DSN_715\n",
      "T006 DSN_716\n",
      "T006 DSN_717\n",
      "T006 DSN_718\n",
      "T006 DSN_719\n",
      "T006 DSN_720\n",
      "T006 DSN_721\n",
      "T006 DSN_722\n",
      "T006 DSN_723\n",
      "T006 DSN_724\n",
      "T006 DSN_725\n",
      "T006 DSN_726\n",
      "T006 DSN_727\n",
      "T006 DSN_728\n",
      "T006 DSN_729\n",
      "T006 DSN_730\n",
      "T006 DSN_731\n",
      "T006 DSN_732\n",
      "T006 DSN_733\n",
      "T006 DSN_734\n",
      "T006 DSN_735\n",
      "T006 DSN_736\n",
      "T006 DSN_737\n",
      "T006 DSN_738\n",
      "T006 DSN_739\n",
      "T006 DSN_740\n",
      "T006 DSN_741\n",
      "T006 DSN_742\n",
      "T006 DSN_743\n",
      "T006 DSN_744\n",
      "T006 DSN_745\n",
      "T006 DSN_746\n",
      "T006 DSN_747\n",
      "T006 DSN_748\n",
      "T006 DSN_749\n",
      "T006 DSN_750\n",
      "T006 DSN_751\n",
      "T006 DSN_752\n",
      "T006 DSN_753\n",
      "T006 DSN_754\n",
      "T006 DSN_755\n",
      "T006 DSN_756\n",
      "T006 DSN_757\n",
      "T006 DSN_758\n",
      "T006 DSN_759\n",
      "T006 DSN_760\n",
      "T006 DSN_761\n",
      "T006 DSN_762\n",
      "T006 DSN_763\n",
      "T006 DSN_764\n",
      "T006 DSN_765\n",
      "T006 DSN_766\n",
      "T006 DSN_767\n",
      "T006 DSN_768\n",
      "T006 DSN_769\n",
      "T006 DSN_770\n",
      "T006 DSN_771\n",
      "T006 DSN_772\n",
      "T006 DSN_773\n",
      "T006 DSN_774\n",
      "T006 DSN_775\n",
      "T006 DSN_776\n",
      "T006 DSN_777\n",
      "T006 DSN_778\n",
      "T006 DSN_779\n",
      "T006 DSN_780\n",
      "T006 DSN_781\n",
      "T006 DSN_782\n",
      "T006 DSN_783\n",
      "T006 DSN_784\n",
      "T006 DSN_785\n",
      "T006 DSN_786\n",
      "T006 DSN_787\n",
      "T006 DSN_788\n",
      "T006 DSN_789\n",
      "T006 DSN_790\n",
      "T006 DSN_791\n",
      "T006 DSN_792\n",
      "T006 DSN_793\n",
      "T006 DSN_794\n",
      "T006 DSN_795\n",
      "T006 DSN_796\n",
      "T006 DSN_797\n",
      "T006 DSN_798\n",
      "T006 DSN_799\n",
      "T006 DSN_800\n",
      "T006 DSN_801\n",
      "T006 DSN_802\n",
      "T006 DSN_803\n",
      "T006 DSN_804\n",
      "T006 DSN_805\n",
      "T006 DSN_806\n",
      "T006 DSN_807\n",
      "T006 DSN_808\n",
      "T006 DSN_809\n",
      "T006 DSN_810\n",
      "T006 DSN_811\n",
      "T006 DSN_812\n",
      "T006 DSN_813\n",
      "T006 DSN_814\n",
      "T006 DSN_815\n",
      "T006 DSN_816\n",
      "T006 DSN_817\n",
      "T006 DSN_818\n",
      "T006 DSN_819\n",
      "T006 DSN_820\n",
      "T006 DSN_821\n",
      "T006 DSN_822\n",
      "T006 DSN_823\n",
      "T006 DSN_824\n",
      "T006 DSN_825\n",
      "T006 DSN_826\n",
      "T006 DSN_827\n",
      "T006 DSN_828\n",
      "T006 DSN_829\n",
      "T006 DSN_830\n",
      "T006 DSN_831\n",
      "T006 DSN_832\n",
      "T006 DSN_833\n",
      "T006 DSN_834\n",
      "T006 DSN_835\n",
      "T006 DSN_836\n",
      "T006 DSN_837\n",
      "T006 DSN_838\n",
      "T006 DSN_839\n",
      "T006 DSN_840\n",
      "T006 DSN_841\n",
      "T006 DSN_842\n",
      "T006 DSN_843\n",
      "T006 DSN_844\n",
      "T006 DSN_845\n",
      "T006 DSN_846\n",
      "T006 DSN_847\n",
      "T006 DSN_848\n",
      "T006 DSN_849\n",
      "T006 DSN_850\n",
      "T006 DSN_851\n",
      "T006 DSN_852\n",
      "T006 DSN_853\n",
      "T006 DSN_854\n",
      "T006 DSN_855\n",
      "T006 DSN_856\n",
      "T006 DSN_857\n",
      "T006 DSN_858\n",
      "T006 DSN_859\n",
      "T006 DSN_860\n",
      "T006 DSN_861\n",
      "T006 DSN_862\n",
      "T006 DSN_863\n",
      "T006 DSN_864\n",
      "T006 DSN_865\n",
      "T006 DSN_866\n",
      "T006 DSN_867\n",
      "T006 DSN_868\n",
      "T006 DSN_869\n",
      "T006 DSN_870\n",
      "T006 DSN_871\n",
      "T006 DSN_872\n",
      "T006 DSN_873\n",
      "T006 DSN_874\n",
      "T006 DSN_875\n",
      "T006 DSN_876\n",
      "T006 DSN_877\n",
      "T006 DSN_878\n",
      "T006 DSN_879\n",
      "T006 DSN_880\n",
      "T006 DSN_881\n",
      "T006 DSN_882\n",
      "T006 DSN_883\n",
      "T006 DSN_884\n",
      "T006 DSN_885\n",
      "T006 DSN_886\n",
      "T006 DSN_887\n",
      "T006 DSN_888\n",
      "T006 DSN_889\n",
      "T006 DSN_890\n",
      "T006 DSN_891\n",
      "T006 DSN_892\n",
      "T006 DSN_893\n",
      "T006 DSN_894\n",
      "T006 DSN_895\n",
      "T006 DSN_896\n",
      "T006 DSN_897\n",
      "T006 DSN_898\n",
      "T006 DSN_899\n",
      "T006 DSN_900\n",
      "T006 DSN_901\n",
      "T006 DSN_902\n",
      "T006 DSN_903\n",
      "T006 DSN_904\n",
      "T006 DSN_905\n",
      "T006 DSN_906\n",
      "T006 DSN_907\n",
      "T006 DSN_908\n",
      "T006 DSN_909\n",
      "T006 DSN_910\n",
      "T006 DSN_911\n",
      "T006 DSN_912\n",
      "T006 DSN_913\n",
      "T006 DSN_914\n",
      "T006 DSN_915\n",
      "T006 DSN_916\n",
      "T006 DSN_917\n",
      "T006 DSN_918\n",
      "T006 DSN_919\n",
      "T006 DSN_920\n",
      "T006 DSN_921\n",
      "T006 DSN_922\n",
      "T006 DSN_923\n",
      "T006 DSN_924\n",
      "T006 DSN_925\n",
      "T006 DSN_926\n",
      "T006 DSN_927\n",
      "T006 DSN_928\n",
      "T006 DSN_929\n",
      "T006 DSN_930\n",
      "T006 DSN_931\n",
      "T006 DSN_932\n",
      "T006 DSN_933\n",
      "T006 DSN_934\n",
      "T006 DSN_935\n",
      "T006 DSN_936\n",
      "T006 DSN_937\n",
      "T006 DSN_938\n",
      "T006 DSN_939\n",
      "T006 DSN_940\n",
      "T006 DSN_941\n",
      "T006 DSN_942\n",
      "T006 DSN_943\n",
      "T006 DSN_944\n",
      "T006 DSN_945\n",
      "T006 DSN_946\n",
      "T006 DSN_947\n",
      "T006 DSN_948\n",
      "T006 DSN_949\n",
      "T006 DSN_950\n",
      "T006 DSN_951\n",
      "T006 DSN_952\n",
      "T006 DSN_953\n",
      "T006 DSN_954\n",
      "T006 DSN_955\n",
      "T006 DSN_956\n",
      "T006 DSN_957\n",
      "T006 DSN_958\n",
      "T006 DSN_959\n",
      "T006 DSN_960\n",
      "T006 DSN_961\n",
      "T006 DSN_962\n",
      "T006 DSN_963\n",
      "T006 DSN_964\n",
      "T006 DSN_965\n",
      "T006 DSN_966\n",
      "T006 DSN_967\n",
      "T006 DSN_968\n",
      "T006 DSN_969\n",
      "T006 DSN_970\n",
      "T006 DSN_971\n",
      "T006 DSN_972\n",
      "T006 DSN_973\n",
      "T006 DSN_974\n",
      "T006 DSN_975\n",
      "T006 DSN_976\n",
      "T006 DSN_977\n",
      "T006 DSN_978\n",
      "T006 DSN_979\n",
      "T006 DSN_980\n",
      "T006 DSN_981\n",
      "T006 DSN_982\n",
      "T006 DSN_983\n",
      "T006 DSN_984\n",
      "T006 DSN_985\n",
      "T006 DSN_986\n",
      "T006 DSN_987\n",
      "T006 DSN_988\n",
      "T006 DSN_989\n",
      "T006 DSN_990\n",
      "T006 DSN_991\n",
      "T006 DSN_992\n",
      "T006 DSN_993\n",
      "T006 DSN_994\n",
      "T006 DSN_995\n",
      "T006 DSN_996\n",
      "T006 DSN_997\n",
      "T006 DSN_998\n",
      "T006 DSN_999\n"
     ]
    }
   ],
   "source": [
    "re_log_line = r\"\\|\\s+\\d+(\\|\\s+-?\\d+\\.\\d+){4}\\|\\n\"\n",
    "\n",
    "dir_list = []\n",
    "dfs = []\n",
    "dv_mat = []\n",
    "surf_dfs = []\n",
    "surf_cd_dfs = []\n",
    "\n",
    "#df_meta = pd.DataFrame(columns=[\"AOA\"])\n",
    "meta_rows = []\n",
    "\n",
    "result_rows = []\n",
    "for dir1 in sorted(collectedData.keys()):\n",
    "    if dir1.startswith(\"T006\"): # or dir1.startswith(\"T005\"):\n",
    "        for dsn_dir in sorted(collectedData[dir1].keys()):\n",
    "            dir_str = f\"{dir1} {dsn_dir}\"\n",
    "            print(dir_str)\n",
    "            field_names = [\"config_DSN.cfg\", \"grad_cd\", \"surface_adjoint_drag\", \"surface_flow\", \"log_direct\", \"flow.meta\"]\n",
    "            if len(collectedData[dir1][dsn_dir].keys() & set(field_names)) < len(field_names):\n",
    "                print(\"skipping\", dir_str)\n",
    "                continue\n",
    "            if \"config_DSN.cfg\" in collectedData[dir1][dsn_dir]:\n",
    "                config_lines = collectedData[dir1][dsn_dir][\"config_DSN.cfg\"]\n",
    "                dv_line = [l for l in config_lines if l.startswith(\"DV_VALUE=\")][-1].strip()\n",
    "                #print(dv_line)\n",
    "                dvs = [float(x) for x in dv_line[10:].split(\", \")]\n",
    "                #if len(dvs) < 30:\n",
    "                #    print(dir1, dsn_dir)\n",
    "                #    continue\n",
    "                #print(dvs)\n",
    "                if len(dvs) == 38:\n",
    "                    dv_mat.append(dvs)\n",
    "            if \"grad_cd\" in collectedData[dir1][dsn_dir]:\n",
    "                df = pd.DataFrame.from_dict(collectedData[dir1][dsn_dir][\"grad_cd\"])\n",
    "                df[\"DIR\"] = dir_str\n",
    "                dfs.append(df)\n",
    "                dir_list.append(f\"{dir1} {dsn_dir}\")\n",
    "            if \"surface_adjoint_drag\" in collectedData[dir1][dsn_dir]:\n",
    "                surf_df = pd.DataFrame.from_dict(collectedData[dir1][dsn_dir][\"surface_adjoint_drag\"])\n",
    "                surf_df[\"DIR\"] = dir_str\n",
    "                surf_cd_dfs.append(surf_df)\n",
    "            if \"surface_flow\" in collectedData[dir1][dsn_dir]:\n",
    "                surf_df = pd.DataFrame.from_dict(collectedData[dir1][dsn_dir][\"surface_flow\"])\n",
    "                surf_df[\"DIR\"] = dir_str\n",
    "                surf_dfs.append(surf_df)\n",
    "            if \"log_direct\" in collectedData[dir1][dsn_dir]:\n",
    "                log_lines = collectedData[dir1][dsn_dir][\"log_direct\"]\n",
    "                log_lines_iter = [l for l in log_lines if re.match(re_log_line, l)]#[-100:]\n",
    "                lls = log_lines_iter[-1].split(\"|\")[1:-1]\n",
    "                iteration = int(lls[0])\n",
    "                rms_rho = float(lls[1])\n",
    "                rms_nu = float(lls[2])\n",
    "                c_L = float(lls[3])\n",
    "                c_D = float(lls[4])\n",
    "                #print(dir_str, c_L, c_D)\n",
    "                result_rows.append((dir_str, c_L, c_D, rms_rho, rms_nu))\n",
    "            if \"flow.meta\" in collectedData[dir1][dsn_dir]:\n",
    "                #print(collectedData[dir1][dsn_dir][\"flow.meta\"])\n",
    "                #break\n",
    "                for l in collectedData[dir1][dsn_dir][\"flow.meta\"]:\n",
    "                    if l.startswith(\"AOA=\"):\n",
    "                        meta_rows.append((dir_str, float(l.strip().split()[1])))\n",
    "\n",
    "#dv_mat = np.asarray(dv_mat)\n",
    "df_result = pd.DataFrame(columns=[\"DIR\", \"c_L\", \"c_D\", \"rms_rho\", \"rms_nu\"], data=result_rows)\n",
    "df_meta =  pd.DataFrame(columns=[\"DIR\", \"AOA\"], data=meta_rows)\n",
    "df_result = df_result.merge(df_meta, on=\"DIR\")"
   ]
  },
  {
   "cell_type": "code",
   "execution_count": 36,
   "metadata": {},
   "outputs": [
    {
     "name": "stdout",
     "output_type": "stream",
     "text": [
      "^C\n"
     ]
    }
   ],
   "source": [
    "!conda install openpyxl"
   ]
  },
  {
   "cell_type": "code",
   "execution_count": 37,
   "metadata": {},
   "outputs": [],
   "source": [
    "df_result.to_excel(\"save/df_result.xlsx\")"
   ]
  },
  {
   "cell_type": "code",
   "execution_count": 12,
   "metadata": {},
   "outputs": [],
   "source": [
    "import pickle\n",
    "dir1 = \"T006\"\n",
    "dv_list = pickle.load(open(os.path.join(\"CollectedData\", dir1, \"dv_list.p\"), \"rb\"))\n",
    "dv_mat2 = np.asarray(dv_list) #[:len(dir_list),:]\n",
    "if len(dv_mat):\n",
    "    dv_mat = np.vstack((np.asarray(dv_mat), dv_mat2))[:len(dir_list),:]\n",
    "else:\n",
    "    dv_mat = dv_mat2[:len(dir_list),:]"
   ]
  },
  {
   "cell_type": "code",
   "execution_count": 13,
   "metadata": {},
   "outputs": [
    {
     "data": {
      "text/plain": [
       "((1000, 38), (1000, 38))"
      ]
     },
     "execution_count": 13,
     "metadata": {},
     "output_type": "execute_result"
    }
   ],
   "source": [
    "np.asarray(dv_mat).shape, dv_mat2.shape"
   ]
  },
  {
   "cell_type": "code",
   "execution_count": 14,
   "metadata": {},
   "outputs": [
    {
     "data": {
      "text/html": [
       "<div>\n",
       "<style scoped>\n",
       "    .dataframe tbody tr th:only-of-type {\n",
       "        vertical-align: middle;\n",
       "    }\n",
       "\n",
       "    .dataframe tbody tr th {\n",
       "        vertical-align: top;\n",
       "    }\n",
       "\n",
       "    .dataframe thead th {\n",
       "        text-align: right;\n",
       "    }\n",
       "</style>\n",
       "<table border=\"1\" class=\"dataframe\">\n",
       "  <thead>\n",
       "    <tr style=\"text-align: right;\">\n",
       "      <th></th>\n",
       "      <th>DIR</th>\n",
       "      <th>c_L</th>\n",
       "      <th>c_D</th>\n",
       "      <th>rms_rho</th>\n",
       "      <th>rms_nu</th>\n",
       "      <th>AOA</th>\n",
       "    </tr>\n",
       "  </thead>\n",
       "  <tbody>\n",
       "    <tr>\n",
       "      <th>0</th>\n",
       "      <td>T006 DSN_000</td>\n",
       "      <td>0.712967</td>\n",
       "      <td>0.060632</td>\n",
       "      <td>-4.977940</td>\n",
       "      <td>-5.366283</td>\n",
       "      <td>5.622905</td>\n",
       "    </tr>\n",
       "    <tr>\n",
       "      <th>1</th>\n",
       "      <td>T006 DSN_001</td>\n",
       "      <td>0.724184</td>\n",
       "      <td>0.018179</td>\n",
       "      <td>-6.424451</td>\n",
       "      <td>-8.215098</td>\n",
       "      <td>3.673885</td>\n",
       "    </tr>\n",
       "    <tr>\n",
       "      <th>2</th>\n",
       "      <td>T006 DSN_002</td>\n",
       "      <td>0.724241</td>\n",
       "      <td>0.012951</td>\n",
       "      <td>-6.452422</td>\n",
       "      <td>-8.123596</td>\n",
       "      <td>1.245573</td>\n",
       "    </tr>\n",
       "    <tr>\n",
       "      <th>3</th>\n",
       "      <td>T006 DSN_003</td>\n",
       "      <td>0.724184</td>\n",
       "      <td>0.018523</td>\n",
       "      <td>-6.395492</td>\n",
       "      <td>-8.374623</td>\n",
       "      <td>2.102441</td>\n",
       "    </tr>\n",
       "    <tr>\n",
       "      <th>4</th>\n",
       "      <td>T006 DSN_004</td>\n",
       "      <td>0.724207</td>\n",
       "      <td>0.013087</td>\n",
       "      <td>-6.535674</td>\n",
       "      <td>-8.658059</td>\n",
       "      <td>2.780464</td>\n",
       "    </tr>\n",
       "    <tr>\n",
       "      <th>...</th>\n",
       "      <td>...</td>\n",
       "      <td>...</td>\n",
       "      <td>...</td>\n",
       "      <td>...</td>\n",
       "      <td>...</td>\n",
       "      <td>...</td>\n",
       "    </tr>\n",
       "    <tr>\n",
       "      <th>995</th>\n",
       "      <td>T006 DSN_995</td>\n",
       "      <td>0.723134</td>\n",
       "      <td>0.030137</td>\n",
       "      <td>-6.175512</td>\n",
       "      <td>-6.857003</td>\n",
       "      <td>2.950256</td>\n",
       "    </tr>\n",
       "    <tr>\n",
       "      <th>996</th>\n",
       "      <td>T006 DSN_996</td>\n",
       "      <td>0.724201</td>\n",
       "      <td>0.018668</td>\n",
       "      <td>-6.426329</td>\n",
       "      <td>-8.284552</td>\n",
       "      <td>2.422116</td>\n",
       "    </tr>\n",
       "    <tr>\n",
       "      <th>997</th>\n",
       "      <td>T006 DSN_997</td>\n",
       "      <td>0.724063</td>\n",
       "      <td>0.027954</td>\n",
       "      <td>-6.543067</td>\n",
       "      <td>-7.889432</td>\n",
       "      <td>2.725608</td>\n",
       "    </tr>\n",
       "    <tr>\n",
       "      <th>998</th>\n",
       "      <td>T006 DSN_998</td>\n",
       "      <td>0.724212</td>\n",
       "      <td>0.022010</td>\n",
       "      <td>-6.407270</td>\n",
       "      <td>-8.054449</td>\n",
       "      <td>2.908295</td>\n",
       "    </tr>\n",
       "    <tr>\n",
       "      <th>999</th>\n",
       "      <td>T006 DSN_999</td>\n",
       "      <td>0.724164</td>\n",
       "      <td>0.014425</td>\n",
       "      <td>-6.388792</td>\n",
       "      <td>-8.610080</td>\n",
       "      <td>1.884998</td>\n",
       "    </tr>\n",
       "  </tbody>\n",
       "</table>\n",
       "<p>1000 rows × 6 columns</p>\n",
       "</div>"
      ],
      "text/plain": [
       "              DIR       c_L       c_D   rms_rho    rms_nu       AOA\n",
       "0    T006 DSN_000  0.712967  0.060632 -4.977940 -5.366283  5.622905\n",
       "1    T006 DSN_001  0.724184  0.018179 -6.424451 -8.215098  3.673885\n",
       "2    T006 DSN_002  0.724241  0.012951 -6.452422 -8.123596  1.245573\n",
       "3    T006 DSN_003  0.724184  0.018523 -6.395492 -8.374623  2.102441\n",
       "4    T006 DSN_004  0.724207  0.013087 -6.535674 -8.658059  2.780464\n",
       "..            ...       ...       ...       ...       ...       ...\n",
       "995  T006 DSN_995  0.723134  0.030137 -6.175512 -6.857003  2.950256\n",
       "996  T006 DSN_996  0.724201  0.018668 -6.426329 -8.284552  2.422116\n",
       "997  T006 DSN_997  0.724063  0.027954 -6.543067 -7.889432  2.725608\n",
       "998  T006 DSN_998  0.724212  0.022010 -6.407270 -8.054449  2.908295\n",
       "999  T006 DSN_999  0.724164  0.014425 -6.388792 -8.610080  1.884998\n",
       "\n",
       "[1000 rows x 6 columns]"
      ]
     },
     "execution_count": 14,
     "metadata": {},
     "output_type": "execute_result"
    }
   ],
   "source": [
    "df_result"
   ]
  },
  {
   "cell_type": "code",
   "execution_count": 15,
   "metadata": {},
   "outputs": [
    {
     "data": {
      "text/plain": [
       "[<matplotlib.lines.Line2D at 0x1beb997ee20>]"
      ]
     },
     "execution_count": 15,
     "metadata": {},
     "output_type": "execute_result"
    },
    {
     "data": {
      "image/png": "[encoded data removed]",
      "text/plain": [
       "<Figure size 432x288 with 1 Axes>"
      ]
     },
     "metadata": {
      "needs_background": "light"
     },
     "output_type": "display_data"
    }
   ],
   "source": [
    "plt.plot(df_result[\"rms_nu\"], df_result[\"c_D\"], \"o\")\n",
    "plt.plot(df_result[\"rms_rho\"], df_result[\"c_D\"], \"o\")"
   ]
  },
  {
   "cell_type": "code",
   "execution_count": 16,
   "metadata": {},
   "outputs": [
    {
     "data": {
      "text/plain": [
       "[<matplotlib.lines.Line2D at 0x1bebb0c0940>]"
      ]
     },
     "execution_count": 16,
     "metadata": {},
     "output_type": "execute_result"
    },
    {
     "data": {
      "image/png": "[encoded data removed]",
      "text/plain": [
       "<Figure size 432x288 with 1 Axes>"
      ]
     },
     "metadata": {
      "needs_background": "light"
     },
     "output_type": "display_data"
    }
   ],
   "source": [
    "plt.plot(df_result[\"rms_nu\"], df_result[\"AOA\"], \"o\")\n",
    "plt.plot(df_result[\"rms_rho\"], df_result[\"AOA\"], \"o\")"
   ]
  },
  {
   "cell_type": "code",
   "execution_count": 17,
   "metadata": {},
   "outputs": [
    {
     "data": {
      "text/plain": [
       "[<matplotlib.lines.Line2D at 0x1bebb124a30>]"
      ]
     },
     "execution_count": 17,
     "metadata": {},
     "output_type": "execute_result"
    },
    {
     "data": {
      "image/png": "[encoded data removed]",
      "text/plain": [
       "<Figure size 432x288 with 1 Axes>"
      ]
     },
     "metadata": {
      "needs_background": "light"
     },
     "output_type": "display_data"
    }
   ],
   "source": [
    "plt.plot(df_result[\"c_D\"], df_result[\"AOA\"], \"o\")"
   ]
  },
  {
   "cell_type": "code",
   "execution_count": 18,
   "metadata": {},
   "outputs": [
    {
     "data": {
      "text/plain": [
       "924"
      ]
     },
     "execution_count": 18,
     "metadata": {},
     "output_type": "execute_result"
    }
   ],
   "source": [
    "a = df_result[\"rms_rho\"] < -6\n",
    "a.sum()"
   ]
  },
  {
   "cell_type": "code",
   "execution_count": 23,
   "metadata": {},
   "outputs": [
    {
     "data": {
      "text/plain": [
       "(924,)"
      ]
     },
     "execution_count": 23,
     "metadata": {},
     "output_type": "execute_result"
    }
   ],
   "source": [
    "c_D = df_result[\"c_D\"].values[a]\n",
    "c_D.shape"
   ]
  },
  {
   "cell_type": "code",
   "execution_count": 24,
   "metadata": {},
   "outputs": [],
   "source": [
    "df_cd_grad = pd.concat(dfs) #.set_index(\"DIR\") #.sort_values(\"DIR\")\n",
    "d_CD = np.resize(df_cd_grad[\"CD_GRAD\"].values, ((len(dir_list), 38)))[a]"
   ]
  },
  {
   "cell_type": "code",
   "execution_count": 38,
   "metadata": {},
   "outputs": [],
   "source": [
    "df_cd_grad.to_excel(\"save/df_cd_grad.xlsx\")"
   ]
  },
  {
   "cell_type": "code",
   "execution_count": 25,
   "metadata": {},
   "outputs": [
    {
     "data": {
      "text/plain": [
       "(924, 38)"
      ]
     },
     "execution_count": 25,
     "metadata": {},
     "output_type": "execute_result"
    }
   ],
   "source": [
    "d_CD.shape"
   ]
  },
  {
   "cell_type": "code",
   "execution_count": 26,
   "metadata": {},
   "outputs": [],
   "source": [
    "#np.outer(d_CD[0], d_CD[0])[0] - d_CD[0,0]*d_CD[0]"
   ]
  },
  {
   "cell_type": "code",
   "execution_count": 31,
   "metadata": {},
   "outputs": [],
   "source": [
    "C = np.inner(d_CD, d_CD) / d_CD.shape[0]"
   ]
  },
  {
   "cell_type": "code",
   "execution_count": 32,
   "metadata": {},
   "outputs": [
    {
     "data": {
      "text/plain": [
       "array([[ 0.14834611, -0.01224976,  0.12482549, ...,  0.1656571 ,\n",
       "         0.00937228,  0.05670241],\n",
       "       [-0.01224976,  0.01317003, -0.01260379, ..., -0.02044706,\n",
       "         0.00648371, -0.00522   ],\n",
       "       [ 0.12482549, -0.01260379,  0.11103691, ...,  0.14430737,\n",
       "         0.00840743,  0.05216137],\n",
       "       ...,\n",
       "       [ 0.1656571 , -0.02044706,  0.14430737, ...,  0.21108282,\n",
       "         0.01368002,  0.07442195],\n",
       "       [ 0.00937228,  0.00648371,  0.00840743, ...,  0.01368002,\n",
       "         0.00914758,  0.00769828],\n",
       "       [ 0.05670241, -0.00522   ,  0.05216137, ...,  0.07442195,\n",
       "         0.00769828,  0.03008502]])"
      ]
     },
     "execution_count": 32,
     "metadata": {},
     "output_type": "execute_result"
    }
   ],
   "source": [
    "C"
   ]
  },
  {
   "cell_type": "code",
   "execution_count": 33,
   "metadata": {},
   "outputs": [],
   "source": [
    "C = np.zeros((38,38))\n",
    "for i in range(d_CD.shape[0]):\n",
    "    C += np.outer(d_CD[i], d_CD[i])\n",
    "C = C / d_CD.shape[0]"
   ]
  },
  {
   "cell_type": "code",
   "execution_count": 34,
   "metadata": {},
   "outputs": [
    {
     "data": {
      "text/plain": [
       "array([[ 1.25540449,  1.25374495,  1.09315073, ..., -0.11854677,\n",
       "         0.09605246,  0.37736634],\n",
       "       [ 1.25374495,  1.25457819,  1.09641929, ..., -0.12103148,\n",
       "         0.09132245,  0.37158639],\n",
       "       [ 1.09315073,  1.09641929,  0.96086483, ..., -0.10774825,\n",
       "         0.07546255,  0.31959476],\n",
       "       ...,\n",
       "       [-0.11854677, -0.12103148, -0.10774825, ...,  0.17528397,\n",
       "         0.10314771, -0.04006673],\n",
       "       [ 0.09605246,  0.09132245,  0.07546255, ...,  0.10314771,\n",
       "         0.14555167,  0.14966804],\n",
       "       [ 0.37736634,  0.37158639,  0.31959476, ..., -0.04006673,\n",
       "         0.14966804,  0.51999562]])"
      ]
     },
     "execution_count": 34,
     "metadata": {},
     "output_type": "execute_result"
    }
   ],
   "source": [
    "C"
   ]
  },
  {
   "cell_type": "code",
   "execution_count": null,
   "metadata": {},
   "outputs": [],
   "source": [
    "d_CD.shape[0]"
   ]
  },
  {
   "cell_type": "code",
   "execution_count": null,
   "metadata": {},
   "outputs": [],
   "source": [
    "C.shape"
   ]
  },
  {
   "cell_type": "code",
   "execution_count": null,
   "metadata": {},
   "outputs": [],
   "source": [
    "for i in range(38):\n",
    "    plt.plot(C[i], 'o')"
   ]
  },
  {
   "cell_type": "code",
   "execution_count": null,
   "metadata": {},
   "outputs": [],
   "source": [
    "l, W = linalg.eig(C)\n",
    "l = l.astype(\"double\")"
   ]
  },
  {
   "cell_type": "code",
   "execution_count": null,
   "metadata": {},
   "outputs": [],
   "source": [
    "l, l**2, np.sqrt(l)"
   ]
  },
  {
   "cell_type": "code",
   "execution_count": null,
   "metadata": {},
   "outputs": [],
   "source": [
    "W[0], W[:,0]"
   ]
  },
  {
   "cell_type": "code",
   "execution_count": null,
   "metadata": {},
   "outputs": [],
   "source": []
  },
  {
   "cell_type": "code",
   "execution_count": null,
   "metadata": {},
   "outputs": [],
   "source": [
    "pca = PCA(whiten=False)"
   ]
  },
  {
   "cell_type": "code",
   "execution_count": null,
   "metadata": {},
   "outputs": [],
   "source": [
    "pca.fit(d_CD/np.sqrt(d_CD.shape[1]))"
   ]
  },
  {
   "cell_type": "code",
   "execution_count": null,
   "metadata": {},
   "outputs": [],
   "source": [
    "pca.score(d_CD/d_CD.shape[0])"
   ]
  },
  {
   "cell_type": "code",
   "execution_count": null,
   "metadata": {},
   "outputs": [],
   "source": [
    "np.dot(pca.components_[0], W[:,1])"
   ]
  },
  {
   "cell_type": "code",
   "execution_count": null,
   "metadata": {},
   "outputs": [],
   "source": [
    "np.dot(pca.components_[0], pca.components_[0])"
   ]
  },
  {
   "cell_type": "code",
   "execution_count": null,
   "metadata": {},
   "outputs": [],
   "source": [
    "np.dot(W[0], W[1])"
   ]
  },
  {
   "cell_type": "code",
   "execution_count": null,
   "metadata": {},
   "outputs": [],
   "source": [
    "np.dot(W[:,0], W[:,0])"
   ]
  },
  {
   "cell_type": "code",
   "execution_count": null,
   "metadata": {},
   "outputs": [],
   "source": [
    "np.dot(pca.components_[0], W[:,1])"
   ]
  },
  {
   "cell_type": "code",
   "execution_count": null,
   "metadata": {},
   "outputs": [],
   "source": [
    "W.shape"
   ]
  },
  {
   "cell_type": "code",
   "execution_count": null,
   "metadata": {},
   "outputs": [],
   "source": [
    "r = 5"
   ]
  },
  {
   "cell_type": "code",
   "execution_count": null,
   "metadata": {},
   "outputs": [],
   "source": [
    "Y = pca.transform(dv_mat[a])[:,:r]\n",
    "Y.shape"
   ]
  },
  {
   "cell_type": "code",
   "execution_count": null,
   "metadata": {},
   "outputs": [],
   "source": [
    "fig = plt.figure()\n",
    "ax = fig.add_subplot(111, projection='3d')\n",
    "\n",
    "ax.scatter(Y[:,0], Y[:,1], c_D)"
   ]
  },
  {
   "cell_type": "code",
   "execution_count": null,
   "metadata": {},
   "outputs": [],
   "source": [
    "Y[:,0].mean(), Y[:,0].var()"
   ]
  },
  {
   "cell_type": "code",
   "execution_count": null,
   "metadata": {},
   "outputs": [],
   "source": [
    "Y2 = np.dot(W[:r,:], dv_mat[a].T).T\n",
    "Y2.shape"
   ]
  },
  {
   "cell_type": "code",
   "execution_count": null,
   "metadata": {},
   "outputs": [],
   "source": [
    "Y[0], Y2[0]"
   ]
  },
  {
   "cell_type": "code",
   "execution_count": null,
   "metadata": {},
   "outputs": [],
   "source": [
    "import scipy"
   ]
  },
  {
   "cell_type": "code",
   "execution_count": null,
   "metadata": {},
   "outputs": [],
   "source": [
    "from scipy import linalg"
   ]
  },
  {
   "cell_type": "code",
   "execution_count": null,
   "metadata": {},
   "outputs": [],
   "source": [
    "l, W = scipy.linalg.eig(C)"
   ]
  },
  {
   "cell_type": "code",
   "execution_count": null,
   "metadata": {},
   "outputs": [],
   "source": [
    "np.outer(d_CD[0], d_CD[0]).shape\n",
    "\n",
    "C2 = np.zeros_like(C)\n",
    "for i in range(d_CD.shape[0]):\n",
    "    C2 += np.outer(d_CD[i], d_CD[i].T)\n",
    "\n",
    "C2 = C2 / d_CD.shape[0]"
   ]
  },
  {
   "cell_type": "code",
   "execution_count": null,
   "metadata": {},
   "outputs": [],
   "source": [
    "d_CD[0]"
   ]
  },
  {
   "cell_type": "code",
   "execution_count": null,
   "metadata": {},
   "outputs": [],
   "source": [
    "i = 0\n",
    "np.outer(d_CD[i], d_CD[i].T)#.shape"
   ]
  },
  {
   "cell_type": "code",
   "execution_count": null,
   "metadata": {},
   "outputs": [],
   "source": [
    "C[:3,:3], C2[:3,:3]"
   ]
  },
  {
   "cell_type": "code",
   "execution_count": null,
   "metadata": {
    "scrolled": true
   },
   "outputs": [],
   "source": [
    "i = 0\n",
    "C2[0,0], d_CD[:,0]*d_CD[:,0].T / d_CD.shape[0], np.multiply(d_CD[i].T, d_CD[i])"
   ]
  },
  {
   "cell_type": "code",
   "execution_count": null,
   "metadata": {},
   "outputs": [],
   "source": [
    "l"
   ]
  },
  {
   "cell_type": "code",
   "execution_count": null,
   "metadata": {},
   "outputs": [],
   "source": [
    "import matplotlib.pyplot as plt"
   ]
  },
  {
   "cell_type": "code",
   "execution_count": null,
   "metadata": {
    "scrolled": true
   },
   "outputs": [],
   "source": [
    "plt.semilogy(range(1,39), l, \"-s\")\n",
    "plt.gca().set_ylabel(\"Eigenvalue\")\n",
    "plt.gca().set_xlabel(\"Eigenmodes\")"
   ]
  },
  {
   "cell_type": "code",
   "execution_count": null,
   "metadata": {},
   "outputs": [],
   "source": [
    "plt.plot(range(1,39), l.cumsum() / l.sum(), \"-s\")\n",
    "plt.gca().set_xlabel(\"Eigenmodes\")\n",
    "plt.gca().set_ylabel(\"Cum. Fraction of Total EV\")"
   ]
  },
  {
   "cell_type": "code",
   "execution_count": null,
   "metadata": {},
   "outputs": [],
   "source": [
    "l.cumsum() / float(l.sum())"
   ]
  },
  {
   "cell_type": "code",
   "execution_count": null,
   "metadata": {},
   "outputs": [],
   "source": [
    "l"
   ]
  },
  {
   "cell_type": "code",
   "execution_count": null,
   "metadata": {},
   "outputs": [],
   "source": [
    "r = 5"
   ]
  },
  {
   "cell_type": "code",
   "execution_count": null,
   "metadata": {},
   "outputs": [],
   "source": [
    "#U = np.zeros_like(W)\n",
    "U = W[:r,:].copy()\n",
    "l1 = l[:r]\n",
    "\n",
    "#V = np.zeros_like(W)\n",
    "V = W[r:,:].copy()\n",
    "l2 = l[r:]"
   ]
  },
  {
   "cell_type": "code",
   "execution_count": null,
   "metadata": {},
   "outputs": [],
   "source": [
    "#U = np.zeros_like(W)\n",
    "U2 = W[:,:r].copy()\n",
    "l1 = l[:r]\n",
    "\n",
    "#V = np.zeros_like(W)\n",
    "V2 = W[:,r:].copy()\n",
    "l2 = l[r:]"
   ]
  },
  {
   "cell_type": "code",
   "execution_count": null,
   "metadata": {
    "scrolled": true
   },
   "outputs": [],
   "source": [
    "U - U2.T"
   ]
  },
  {
   "cell_type": "code",
   "execution_count": null,
   "metadata": {},
   "outputs": [],
   "source": [
    "from sklearn.decomposition import PCA"
   ]
  },
  {
   "cell_type": "code",
   "execution_count": null,
   "metadata": {},
   "outputs": [],
   "source": [
    "d_CD.shape"
   ]
  },
  {
   "cell_type": "code",
   "execution_count": null,
   "metadata": {},
   "outputs": [],
   "source": [
    "pca = PCA(n_components=10, svd_solver=\"full\")\n",
    "pca.fit(d_CD/ np.sqrt(d_CD.shape[0]))"
   ]
  },
  {
   "cell_type": "code",
   "execution_count": null,
   "metadata": {},
   "outputs": [],
   "source": [
    "pca.fit(d_CD)"
   ]
  },
  {
   "cell_type": "code",
   "execution_count": null,
   "metadata": {},
   "outputs": [],
   "source": [
    "d_CD.shape"
   ]
  },
  {
   "cell_type": "code",
   "execution_count": null,
   "metadata": {},
   "outputs": [],
   "source": [
    "print(pca.explained_variance_ratio_)"
   ]
  },
  {
   "cell_type": "code",
   "execution_count": null,
   "metadata": {},
   "outputs": [],
   "source": [
    "l"
   ]
  },
  {
   "cell_type": "code",
   "execution_count": null,
   "metadata": {},
   "outputs": [],
   "source": [
    "pca.singular_values_"
   ]
  },
  {
   "cell_type": "code",
   "execution_count": null,
   "metadata": {},
   "outputs": [],
   "source": [
    "np.cumsum(pca.singular_values_**2) / np. sum(pca.singular_values_**2)"
   ]
  },
  {
   "cell_type": "code",
   "execution_count": null,
   "metadata": {},
   "outputs": [],
   "source": [
    "pca.explained_variance_ratio_.cumsum()"
   ]
  },
  {
   "cell_type": "code",
   "execution_count": null,
   "metadata": {},
   "outputs": [],
   "source": []
  },
  {
   "cell_type": "code",
   "execution_count": null,
   "metadata": {},
   "outputs": [],
   "source": [
    "x = dv_mat[0]\n",
    "#x = d_CD[0]\n",
    "x.shape\n",
    "\n",
    "y = pca.transform(x.reshape(1,-1))\n",
    "y"
   ]
  },
  {
   "cell_type": "code",
   "execution_count": null,
   "metadata": {},
   "outputs": [],
   "source": [
    "z = pca.inverse_transform(y) #/ np.sqrt(400)\n",
    "z, x, np.linalg.norm(z-x)"
   ]
  },
  {
   "cell_type": "code",
   "execution_count": null,
   "metadata": {},
   "outputs": [],
   "source": []
  },
  {
   "cell_type": "code",
   "execution_count": null,
   "metadata": {},
   "outputs": [],
   "source": [
    "fig, axes = plt.subplots(3, 3, figsize=(16,18))\n",
    "\n",
    "#for k, ax in enumerate(axes.flat):\n",
    "\n",
    "for i,n in enumerate([1,2,3,5,7,10,15,24,38]):\n",
    "    pca = PCA(n_components=n)\n",
    "    pca.fit(d_CD/ np.sqrt(d_CD.shape[0]))\n",
    "    x = dv_mat[0]\n",
    "    y = pca.transform(x.reshape(1,-1))\n",
    "    z = pca.inverse_transform(y) #/ np.sqrt(400)\n",
    "    print(n, np.linalg.norm(z-x))\n",
    "    \n",
    "    Y = pca.transform(d_CD)\n",
    "    Z = \n",
    "    \n",
    "    axes[i].scatter()"
   ]
  },
  {
   "cell_type": "code",
   "execution_count": null,
   "metadata": {},
   "outputs": [],
   "source": [
    "d_CD.shape"
   ]
  },
  {
   "cell_type": "code",
   "execution_count": null,
   "metadata": {},
   "outputs": [],
   "source": [
    "d_CD.var(axis=0)"
   ]
  },
  {
   "cell_type": "code",
   "execution_count": null,
   "metadata": {},
   "outputs": [],
   "source": [
    "C3 = np.cov(d_CD.T)"
   ]
  },
  {
   "cell_type": "code",
   "execution_count": null,
   "metadata": {},
   "outputs": [],
   "source": [
    "C3, C, pca.components_#, C2"
   ]
  },
  {
   "cell_type": "code",
   "execution_count": null,
   "metadata": {},
   "outputs": [],
   "source": [
    "pca.components_[0]"
   ]
  },
  {
   "cell_type": "code",
   "execution_count": null,
   "metadata": {},
   "outputs": [],
   "source": [
    "d_CD.mean()"
   ]
  },
  {
   "cell_type": "code",
   "execution_count": null,
   "metadata": {},
   "outputs": [],
   "source": [
    "x = np.array([[0, 2], [1, 1], [2, 0]])"
   ]
  },
  {
   "cell_type": "code",
   "execution_count": null,
   "metadata": {},
   "outputs": [],
   "source": [
    "x.shape"
   ]
  },
  {
   "cell_type": "code",
   "execution_count": null,
   "metadata": {},
   "outputs": [],
   "source": [
    "np.cov(x)"
   ]
  },
  {
   "cell_type": "code",
   "execution_count": null,
   "metadata": {},
   "outputs": [],
   "source": [
    "np.outer(x.T, x)"
   ]
  },
  {
   "cell_type": "code",
   "execution_count": null,
   "metadata": {},
   "outputs": [],
   "source": [
    "C2 = np.zeros((2,2))\n",
    "for i in range(x.shape[0]):\n",
    "    C2 += np.outer(x[i].T, x[i])\n",
    "\n",
    "C2 = C2 / x.shape[0]\n",
    "C2"
   ]
  },
  {
   "cell_type": "code",
   "execution_count": null,
   "metadata": {},
   "outputs": [],
   "source": [
    "np.outer(x[0], x[0]), np.outer(x[1], x[1]), np.outer(x[2], x[2]), "
   ]
  },
  {
   "cell_type": "code",
   "execution_count": null,
   "metadata": {},
   "outputs": [],
   "source": [
    "l,W = np.linalg.eig(C)"
   ]
  },
  {
   "cell_type": "code",
   "execution_count": null,
   "metadata": {},
   "outputs": [],
   "source": [
    "l2, W2 = linalg.eig(C)\n"
   ]
  },
  {
   "cell_type": "code",
   "execution_count": null,
   "metadata": {},
   "outputs": [],
   "source": [
    "W- W2"
   ]
  },
  {
   "cell_type": "code",
   "execution_count": null,
   "metadata": {},
   "outputs": [],
   "source": [
    "W.T * W * d_CD.T"
   ]
  },
  {
   "cell_type": "code",
   "execution_count": null,
   "metadata": {},
   "outputs": [],
   "source": [
    "np.dot(W, d_CD.T).shape"
   ]
  },
  {
   "cell_type": "code",
   "execution_count": null,
   "metadata": {},
   "outputs": [],
   "source": [
    "d_CD.T"
   ]
  },
  {
   "cell_type": "code",
   "execution_count": null,
   "metadata": {},
   "outputs": [],
   "source": [
    "np.dot(W[:10].T, np.dot(W[:10], d_CD.T))"
   ]
  },
  {
   "cell_type": "code",
   "execution_count": null,
   "metadata": {},
   "outputs": [],
   "source": [
    "W.T @ W - np.eye(38,38)"
   ]
  },
  {
   "cell_type": "code",
   "execution_count": null,
   "metadata": {},
   "outputs": [],
   "source": [
    "r = 1\n",
    "W2[:r].T @ W2[:r], np.linalg.norm(W2[:r].T @ W2[:r] - np.eye(38,38))"
   ]
  },
  {
   "cell_type": "code",
   "execution_count": null,
   "metadata": {},
   "outputs": [],
   "source": [
    "U = pca.components_[:3]"
   ]
  },
  {
   "cell_type": "code",
   "execution_count": null,
   "metadata": {},
   "outputs": [],
   "source": [
    "W"
   ]
  },
  {
   "cell_type": "code",
   "execution_count": null,
   "metadata": {},
   "outputs": [],
   "source": [
    "pca.components_"
   ]
  },
  {
   "cell_type": "code",
   "execution_count": null,
   "metadata": {},
   "outputs": [],
   "source": [
    "pca.singular_values_ **2"
   ]
  },
  {
   "cell_type": "code",
   "execution_count": null,
   "metadata": {},
   "outputs": [],
   "source": [
    "l"
   ]
  },
  {
   "cell_type": "code",
   "execution_count": null,
   "metadata": {},
   "outputs": [],
   "source": [
    "pca = PCA(n_components=38, svd_solver=\"full\")\n",
    "pca.fit(d_CD/ np.sqrt(d_CD.shape[0]))"
   ]
  },
  {
   "cell_type": "code",
   "execution_count": null,
   "metadata": {},
   "outputs": [],
   "source": [
    "plt.semilogy(l, \"o\")\n",
    "#plt.semilogy(pca.singular_values_)\n",
    "plt.semilogy(pca.singular_values_**2)\n"
   ]
  },
  {
   "cell_type": "code",
   "execution_count": null,
   "metadata": {},
   "outputs": [],
   "source": [
    "l, pca.singular_values_**2"
   ]
  },
  {
   "cell_type": "code",
   "execution_count": null,
   "metadata": {},
   "outputs": [],
   "source": [
    "pca.transform(dv_mat[:1])"
   ]
  },
  {
   "cell_type": "code",
   "execution_count": null,
   "metadata": {},
   "outputs": [],
   "source": [
    "W[:,:3].T @ dv_mat[:1].T, W[:3] @ dv_mat[1]"
   ]
  },
  {
   "cell_type": "code",
   "execution_count": null,
   "metadata": {},
   "outputs": [],
   "source": [
    "W[:,:3].T.shape, dv_mat[:1].shape"
   ]
  },
  {
   "cell_type": "code",
   "execution_count": null,
   "metadata": {},
   "outputs": [],
   "source": [
    "l*C, "
   ]
  },
  {
   "cell_type": "code",
   "execution_count": null,
   "metadata": {},
   "outputs": [],
   "source": []
  },
  {
   "cell_type": "code",
   "execution_count": null,
   "metadata": {},
   "outputs": [],
   "source": []
  },
  {
   "cell_type": "code",
   "execution_count": null,
   "metadata": {
    "scrolled": true
   },
   "outputs": [],
   "source": [
    "for i in range(10):\n",
    "    for j in range(10):\n",
    "        #print(i,j, W[:,i] @ pca.components_[j])\n",
    "        print(i,j, W[:,i] @ W[:,j])"
   ]
  },
  {
   "cell_type": "code",
   "execution_count": null,
   "metadata": {},
   "outputs": [],
   "source": [
    "(pca.components_ * pca.singular_values_).shape"
   ]
  },
  {
   "cell_type": "code",
   "execution_count": null,
   "metadata": {},
   "outputs": [],
   "source": [
    "U[0]"
   ]
  },
  {
   "cell_type": "code",
   "execution_count": null,
   "metadata": {},
   "outputs": [],
   "source": [
    "l"
   ]
  },
  {
   "cell_type": "code",
   "execution_count": null,
   "metadata": {},
   "outputs": [],
   "source": [
    "pca.n_samples_"
   ]
  },
  {
   "cell_type": "code",
   "execution_count": null,
   "metadata": {},
   "outputs": [],
   "source": [
    "x = np.zeros(38)\n",
    "x"
   ]
  },
  {
   "cell_type": "code",
   "execution_count": null,
   "metadata": {},
   "outputs": [],
   "source": [
    "y = np.dot(U, x)\n",
    "y, y.shape"
   ]
  },
  {
   "cell_type": "code",
   "execution_count": null,
   "metadata": {},
   "outputs": [],
   "source": [
    "U.shape, V.shape, dv_mat.shape, np.sum(l)"
   ]
  },
  {
   "cell_type": "code",
   "execution_count": null,
   "metadata": {},
   "outputs": [],
   "source": [
    "np.dot(U,dv_mat.T).shape\n",
    "Y = np.dot(dv_mat, U.T)"
   ]
  },
  {
   "cell_type": "code",
   "execution_count": null,
   "metadata": {},
   "outputs": [],
   "source": [
    "Y = pca.transform(dv_mat[a])"
   ]
  },
  {
   "cell_type": "code",
   "execution_count": null,
   "metadata": {},
   "outputs": [],
   "source": [
    "Y.shape"
   ]
  },
  {
   "cell_type": "code",
   "execution_count": null,
   "metadata": {
    "scrolled": true
   },
   "outputs": [],
   "source": [
    "Y = np.dot(dv_mat, U2) #* np.sum(l).astype(\"double\")\n",
    "#Y = np.dot(dv_mat, U.T) #* np.sum(l).astype(\"double\")\n",
    "U\n",
    "Y.shape, df_result[\"c_D\"].shape"
   ]
  },
  {
   "cell_type": "code",
   "execution_count": null,
   "metadata": {},
   "outputs": [],
   "source": [
    "plt.plot(df_result[\"rms_nu\"], df_result[\"c_D\"], \"o\")\n",
    "plt.plot(df_result[\"rms_rho\"], df_result[\"c_D\"], \"o\")"
   ]
  },
  {
   "cell_type": "code",
   "execution_count": null,
   "metadata": {},
   "outputs": [],
   "source": [
    "plt.plot(df_result[\"rms_nu\"], df_result[\"AOA\"], \"o\")\n",
    "plt.plot(df_result[\"rms_rho\"], df_result[\"AOA\"], \"o\")"
   ]
  },
  {
   "cell_type": "code",
   "execution_count": null,
   "metadata": {},
   "outputs": [],
   "source": [
    "a = df_result[\"rms_rho\"] < -6"
   ]
  },
  {
   "cell_type": "code",
   "execution_count": null,
   "metadata": {},
   "outputs": [],
   "source": [
    "Y[a].shape"
   ]
  },
  {
   "cell_type": "code",
   "execution_count": null,
   "metadata": {},
   "outputs": [],
   "source": []
  },
  {
   "cell_type": "code",
   "execution_count": null,
   "metadata": {},
   "outputs": [],
   "source": []
  },
  {
   "cell_type": "code",
   "execution_count": null,
   "metadata": {},
   "outputs": [],
   "source": [
    "#fig, axes = plt.subplots(1, 1, figsize=(16,40))\n",
    "\n",
    "plt.plot(U[:r].T * l[:r])"
   ]
  },
  {
   "cell_type": "code",
   "execution_count": null,
   "metadata": {},
   "outputs": [],
   "source": [
    "np.dot(dv_mat[0], U.T)"
   ]
  },
  {
   "cell_type": "code",
   "execution_count": null,
   "metadata": {},
   "outputs": [],
   "source": [
    "np.dot(dv_mat[0], U[0]), Y[0,0]"
   ]
  },
  {
   "cell_type": "code",
   "execution_count": null,
   "metadata": {},
   "outputs": [],
   "source": [
    "c_D = df_result[\"c_D\"].values"
   ]
  },
  {
   "cell_type": "code",
   "execution_count": null,
   "metadata": {},
   "outputs": [],
   "source": [
    "c_D"
   ]
  },
  {
   "cell_type": "code",
   "execution_count": null,
   "metadata": {},
   "outputs": [],
   "source": [
    "#plt.scatter(Y[:,0], Y[:,1], c=df_result[\"c_D\"][a])\n",
    "#plt.scatter(Y[:,0], df_result[\"c_D\"]), plt.scatter(Y[:,1], df_result[\"c_D\"]), plt.scatter(Y[:,2], df_result[\"c_D\"])\n",
    "#plt.scatter(Y[:,:], df_result[\"c_D\"])\n",
    "plt.scatter(Y[:,0], c_D)"
   ]
  },
  {
   "cell_type": "code",
   "execution_count": null,
   "metadata": {},
   "outputs": [],
   "source": []
  },
  {
   "cell_type": "code",
   "execution_count": null,
   "metadata": {},
   "outputs": [],
   "source": [
    "from sklearn.manifold import LocallyLinearEmbedding"
   ]
  },
  {
   "cell_type": "code",
   "execution_count": null,
   "metadata": {},
   "outputs": [],
   "source": [
    "embedding = LocallyLinearEmbedding(n_components=2)\n",
    "X_transformed = embedding.fit_transform(dv_mat)\n",
    "#Y = X_transformed\n",
    "\n",
    "X_transformed.shape"
   ]
  },
  {
   "cell_type": "code",
   "execution_count": null,
   "metadata": {},
   "outputs": [],
   "source": []
  },
  {
   "cell_type": "code",
   "execution_count": null,
   "metadata": {},
   "outputs": [],
   "source": []
  },
  {
   "cell_type": "code",
   "execution_count": null,
   "metadata": {},
   "outputs": [],
   "source": [
    "from sklearn.model_selection import train_test_split"
   ]
  },
  {
   "cell_type": "code",
   "execution_count": null,
   "metadata": {},
   "outputs": [],
   "source": [
    "x_train, x_test, y_train, y_test = train_test_split(Y, df_result[\"c_D\"][a], test_size=0.2, random_state=3)\n",
    "#x_train, x_test, y_train, y_test = train_test_split(Y[a], df_meta[\"AOA\"][a], test_size=0.2, random_state=21)\n",
    "#df_meta"
   ]
  },
  {
   "cell_type": "code",
   "execution_count": null,
   "metadata": {},
   "outputs": [],
   "source": [
    "x_train.shape, y_test.shape"
   ]
  },
  {
   "cell_type": "code",
   "execution_count": null,
   "metadata": {},
   "outputs": [],
   "source": []
  },
  {
   "cell_type": "code",
   "execution_count": null,
   "metadata": {},
   "outputs": [],
   "source": [
    "from sklearn.gaussian_process import GaussianProcessRegressor\n",
    "from sklearn.gaussian_process.kernels import (RBF, Matern, RationalQuadratic,\n",
    "                                              ExpSineSquared, DotProduct,\n",
    "                                              ConstantKernel, WhiteKernel)\n"
   ]
  },
  {
   "cell_type": "code",
   "execution_count": null,
   "metadata": {},
   "outputs": [],
   "source": [
    "kernel = 1.0 * Matern(length_scale=1.0, length_scale_bounds=(1e-2, 10.0), nu=1.5)"
   ]
  },
  {
   "cell_type": "code",
   "execution_count": null,
   "metadata": {},
   "outputs": [],
   "source": [
    "kernel = Matern(nu=2.5) "
   ]
  },
  {
   "cell_type": "code",
   "execution_count": null,
   "metadata": {},
   "outputs": [],
   "source": [
    "kernel = RBF() + Matern(nu=1.5) #+ WhiteKernel() #+ RBF()"
   ]
  },
  {
   "cell_type": "code",
   "execution_count": null,
   "metadata": {},
   "outputs": [],
   "source": [
    "#kernel = ConstantKernel(0.1, (0.01, 10.0)) * (DotProduct(sigma_0=1.0, sigma_0_bounds=(0.1, 10.0)) ** 2) + Matern(length_scale=1.0, length_scale_bounds=(1e-2, 10.0), nu=1.5) #+ WhiteKernel(noise_level=0.1)"
   ]
  },
  {
   "cell_type": "code",
   "execution_count": null,
   "metadata": {},
   "outputs": [],
   "source": [
    "kernel = ConstantKernel()*Matern(nu=2.5) + ConstantKernel()*Matern(nu=1.5) + WhiteKernel(noise_level_bounds=(1e-07, 1e-04)) # + DotProduct()"
   ]
  },
  {
   "cell_type": "code",
   "execution_count": null,
   "metadata": {},
   "outputs": [],
   "source": [
    "kernel = RationalQuadratic(length_scale_bounds=(1e-7, 10.0)) #* ExpSineSquared()"
   ]
  },
  {
   "cell_type": "code",
   "execution_count": null,
   "metadata": {},
   "outputs": [],
   "source": [
    "kernel = 1.0 * RBF(length_scale=[0.1e-05]*r, length_scale_bounds=(1e-7, 10.0)) + WhiteKernel(noise_level=1e-05, noise_level_bounds=(1e-09, 1e-04))# + ConstantKernel()"
   ]
  },
  {
   "cell_type": "code",
   "execution_count": null,
   "metadata": {},
   "outputs": [],
   "source": [
    "ls = sigma**2 / (l1.astype(\"double\") ** 2)"
   ]
  },
  {
   "cell_type": "code",
   "execution_count": null,
   "metadata": {},
   "outputs": [],
   "source": [
    "sigma = 1\n",
    "ls = sigma**2 / (pca.singular_values_[:r] ** 2)\n",
    "ls"
   ]
  },
  {
   "cell_type": "code",
   "execution_count": null,
   "metadata": {},
   "outputs": [],
   "source": [
    "kernel = RBF(length_scale=ls) + WhiteKernel(noise_level=1e-05, noise_level_bounds=(1e-09, 1e-04))# + ConstantKernel()"
   ]
  },
  {
   "cell_type": "code",
   "execution_count": null,
   "metadata": {},
   "outputs": [],
   "source": [
    "gp = GaussianProcessRegressor(kernel=kernel, n_restarts_optimizer=3, normalize_y=False)\n",
    "gp.fit(x_train, y_train)\n",
    "print(gp.kernel_)\n",
    "print(gp.score(x_train, y_train))\n",
    "print(gp.score(x_test, y_test))\n",
    "print(gp.log_marginal_likelihood())"
   ]
  },
  {
   "cell_type": "code",
   "execution_count": null,
   "metadata": {},
   "outputs": [],
   "source": []
  },
  {
   "cell_type": "code",
   "execution_count": null,
   "metadata": {
    "scrolled": false
   },
   "outputs": [],
   "source": [
    "plt.figure(figsize=(12,5))\n",
    "\n",
    "plt.subplot(1, 2, 1)\n",
    "\n",
    "y_pred = gp.predict(x_train)\n",
    "y_train.values\n",
    "#plt.plot(y_pred)\n",
    "plt.plot(y_train.values, y_pred, '+')\n",
    "plt.plot([0.01, 0.05], [0.01, 0.05], \"--\")\n",
    "\n",
    "#plt.gca().set_xlim([0.008, 0.042])\n",
    "#plt.gca().set_ylim([0.008, 0.042])\n",
    "ax1 = plt.gca()\n",
    "ax1.set_ylabel(\"Predicted $C_D$\")\n",
    "ax1.set_xlabel(\"True $C_D$\")\n",
    "ax1.set_title(\"Training Data\")\n",
    "\n",
    "plt.subplot(1, 2, 2)\n",
    "\n",
    "y_pred = gp.predict(x_test)\n",
    "y_test.values\n",
    "#plt.plot(y_pred)\n",
    "plt.plot(y_test.values, y_pred, '+', label=\"asd\")\n",
    "plt.plot([0.01, 0.05], [0.01, 0.05], \"--\")\n",
    "#plt.plot(y_pred, 'o', c=\"r\")\n",
    "ax1.set_xlim(plt.gca().get_xlim())\n",
    "ax1.set_ylim(plt.gca().get_ylim())\n",
    "ax2 = plt.gca()\n",
    "ax2.set_ylabel(\"Predicted $C_D$\")\n",
    "ax2.set_xlabel(\"True $C_D$\")\n",
    "ax2.set_title(\"Validation Data\")"
   ]
  },
  {
   "cell_type": "code",
   "execution_count": null,
   "metadata": {},
   "outputs": [],
   "source": []
  },
  {
   "cell_type": "code",
   "execution_count": null,
   "metadata": {},
   "outputs": [],
   "source": [
    "plt.plot(Y[:,4][a], df_result[\"c_D\"][a], \"o\")"
   ]
  },
  {
   "cell_type": "code",
   "execution_count": null,
   "metadata": {},
   "outputs": [],
   "source": []
  },
  {
   "cell_type": "code",
   "execution_count": null,
   "metadata": {},
   "outputs": [],
   "source": [
    "np.sum(df_result[\"rms_rho\"] < -6)"
   ]
  },
  {
   "cell_type": "code",
   "execution_count": null,
   "metadata": {},
   "outputs": [],
   "source": [
    "y_lb = np.min(Y[a])\n",
    "y_ub = np.max(Y[a])\n",
    "y_lb, y_ub"
   ]
  },
  {
   "cell_type": "code",
   "execution_count": null,
   "metadata": {},
   "outputs": [],
   "source": [
    "X_ = np.linspace(y_lb, y_ub, 100)\n",
    "#y_mean, y_std = gp.predict(X_[:, np.newaxis], return_std=True)"
   ]
  },
  {
   "cell_type": "code",
   "execution_count": null,
   "metadata": {},
   "outputs": [],
   "source": [
    "#np.dot(U[0, :, np.newaxis], X_[np.newaxis, :])\n",
    "X_ = np.zeros((r, 100))\n",
    "X_[0] = np.linspace(y_lb, y_ub, 100)"
   ]
  },
  {
   "cell_type": "code",
   "execution_count": null,
   "metadata": {
    "scrolled": true
   },
   "outputs": [],
   "source": [
    "y_mean, y_std = gp.predict(X_.T, return_std=True)"
   ]
  },
  {
   "cell_type": "code",
   "execution_count": null,
   "metadata": {},
   "outputs": [],
   "source": [
    "plt.figure(figsize=(8, 8))\n",
    "plt.plot(X_[0], y_mean, 'k', lw=3, zorder=9)\n",
    "plt.fill_between(X_[0], y_mean - y_std, y_mean + y_std, alpha=0.2, color='k')\n",
    "y_samples = gp.sample_y(X_.T, 5)\n",
    "plt.plot(X_[0], y_samples, lw=1)\n",
    "plt.scatter(x_train[:, 0], y_train, c='r', s=50, zorder=10, edgecolors=(0, 0, 0), )\n",
    "plt.scatter(x_test[:, 0], y_test, c='b', s=50, zorder=10, edgecolors=(0, 0, 0))"
   ]
  },
  {
   "cell_type": "code",
   "execution_count": null,
   "metadata": {},
   "outputs": [],
   "source": []
  },
  {
   "cell_type": "code",
   "execution_count": null,
   "metadata": {},
   "outputs": [],
   "source": []
  },
  {
   "cell_type": "code",
   "execution_count": null,
   "metadata": {},
   "outputs": [],
   "source": []
  },
  {
   "cell_type": "code",
   "execution_count": null,
   "metadata": {},
   "outputs": [],
   "source": [
    "np.dot(X_, np.ones((20,1)))"
   ]
  },
  {
   "cell_type": "code",
   "execution_count": null,
   "metadata": {},
   "outputs": [],
   "source": []
  },
  {
   "cell_type": "code",
   "execution_count": null,
   "metadata": {},
   "outputs": [],
   "source": []
  },
  {
   "cell_type": "code",
   "execution_count": null,
   "metadata": {
    "scrolled": false
   },
   "outputs": [],
   "source": [
    "from sklearn.gaussian_process import GaussianProcessRegressor\n",
    "from sklearn.gaussian_process.kernels import (RBF, Matern, RationalQuadratic,\n",
    "                                              ExpSineSquared, DotProduct,\n",
    "                                              ConstantKernel, WhiteKernel)\n",
    "\n",
    "\n",
    "kernels = [1.0 * RBF(length_scale=1.0, length_scale_bounds=(1e-1, 10.0)),\n",
    "           1.0 * RationalQuadratic(length_scale=1.0, alpha=0.1),\n",
    "           1.0 * ExpSineSquared(length_scale=1.0, periodicity=3.0,\n",
    "                                length_scale_bounds=(0.1, 10.0),\n",
    "                                periodicity_bounds=(1.0, 10.0)),\n",
    "           ConstantKernel(0.1, (0.01, 10.0))\n",
    "               * (DotProduct(sigma_0=1.0, sigma_0_bounds=(0.1, 10.0)) ** 2)  + WhiteKernel(),\n",
    "           1.0 * Matern(length_scale=1.0, length_scale_bounds=(1e-1, 10.0),\n",
    "                        nu=1.5)]\n",
    "\n",
    "for kernel in kernels:\n",
    "    # Specify Gaussian Process\n",
    "    gp = GaussianProcessRegressor(kernel=kernel)\n",
    "\n",
    "    # Plot prior\n",
    "    plt.figure(figsize=(8, 8))\n",
    "    plt.subplot(2, 1, 1)\n",
    "    X_ = np.linspace(0, 5, 100)\n",
    "    y_mean, y_std = gp.predict(X_[:, np.newaxis], return_std=True)\n",
    "    plt.plot(X_, y_mean, 'k', lw=3, zorder=9)\n",
    "    plt.fill_between(X_, y_mean - y_std, y_mean + y_std,\n",
    "                     alpha=0.2, color='k')\n",
    "    y_samples = gp.sample_y(X_[:, np.newaxis], 10)\n",
    "    plt.plot(X_, y_samples, lw=1)\n",
    "    plt.xlim(0, 5)\n",
    "    plt.ylim(-3, 3)\n",
    "    plt.title(\"Prior (kernel:  %s)\" % kernel, fontsize=12)\n",
    "\n",
    "    # Generate data and fit GP\n",
    "    rng = np.random.RandomState(4)\n",
    "    X = rng.uniform(0, 5, 10)[:, np.newaxis]\n",
    "    y = np.sin((X[:, 0] - 2.5) ** 2)\n",
    "    gp.fit(X, y)\n",
    "\n",
    "    # Plot posterior\n",
    "    plt.subplot(2, 1, 2)\n",
    "    X_ = np.linspace(0, 5, 100)\n",
    "    y_mean, y_std = gp.predict(X_[:, np.newaxis], return_std=True)\n",
    "    plt.plot(X_, y_mean, 'k', lw=3, zorder=9)\n",
    "    plt.fill_between(X_, y_mean - y_std, y_mean + y_std,\n",
    "                     alpha=0.2, color='k')\n",
    "\n",
    "    y_samples = gp.sample_y(X_[:, np.newaxis], 10)\n",
    "    plt.plot(X_, y_samples, lw=1)\n",
    "    plt.scatter(X[:, 0], y, c='r', s=50, zorder=10, edgecolors=(0, 0, 0))\n",
    "    plt.xlim(0, 5)\n",
    "    plt.ylim(-3, 3)\n",
    "    plt.title(\"Posterior (kernel: %s)\\n Log-Likelihood: %.3f\"\n",
    "              % (gp.kernel_, gp.log_marginal_likelihood(gp.kernel_.theta)),\n",
    "              fontsize=12)\n",
    "    plt.tight_layout()\n",
    "\n",
    "plt.show()"
   ]
  },
  {
   "cell_type": "code",
   "execution_count": null,
   "metadata": {},
   "outputs": [],
   "source": []
  },
  {
   "cell_type": "code",
   "execution_count": null,
   "metadata": {},
   "outputs": [],
   "source": []
  },
  {
   "cell_type": "code",
   "execution_count": null,
   "metadata": {},
   "outputs": [],
   "source": [
    "df_result[\"c_D\"].argmin()"
   ]
  },
  {
   "cell_type": "markdown",
   "metadata": {},
   "source": [
    "#### "
   ]
  },
  {
   "cell_type": "code",
   "execution_count": null,
   "metadata": {},
   "outputs": [],
   "source": [
    "df_result.loc[706]"
   ]
  },
  {
   "cell_type": "code",
   "execution_count": null,
   "metadata": {},
   "outputs": [],
   "source": []
  }
 ],
 "metadata": {
  "kernelspec": {
   "display_name": "Python 3",
   "language": "python",
   "name": "python3"
  },
  "language_info": {
   "codemirror_mode": {
    "name": "ipython",
    "version": 3
   },
   "file_extension": ".py",
   "mimetype": "text/x-python",
   "name": "python",
   "nbconvert_exporter": "python",
   "pygments_lexer": "ipython3",
   "version": "3.8.5"
  }
 },
 "nbformat": 4,
 "nbformat_minor": 4
}
